{
 "cells": [
  {
   "cell_type": "markdown",
   "metadata": {},
   "source": [
    "# First attempt on a classifier discriminating ttbar and ttW\n",
    "\n",
    "We can't train on just SS because the rate is too low."
   ]
  },
  {
   "cell_type": "code",
   "execution_count": 1,
   "metadata": {},
   "outputs": [
    {
     "name": "stderr",
     "output_type": "stream",
     "text": [
      "/cvmfs/cms.cern.ch/slc6_amd64_gcc700/external/py2-tensorflow/1.6.0-gnimlf4/lib/python3.6/site-packages/tensorflow/python/framework/dtypes.py:517: FutureWarning: Passing (type, 1) or '1type' as a synonym of type is deprecated; in a future version of numpy, it will be understood as (type, (1,)) / '(1,)type'.\n",
      "  _np_qint8 = np.dtype([(\"qint8\", np.int8, 1)])\n",
      "/cvmfs/cms.cern.ch/slc6_amd64_gcc700/external/py2-tensorflow/1.6.0-gnimlf4/lib/python3.6/site-packages/tensorflow/python/framework/dtypes.py:518: FutureWarning: Passing (type, 1) or '1type' as a synonym of type is deprecated; in a future version of numpy, it will be understood as (type, (1,)) / '(1,)type'.\n",
      "  _np_quint8 = np.dtype([(\"quint8\", np.uint8, 1)])\n",
      "/cvmfs/cms.cern.ch/slc6_amd64_gcc700/external/py2-tensorflow/1.6.0-gnimlf4/lib/python3.6/site-packages/tensorflow/python/framework/dtypes.py:519: FutureWarning: Passing (type, 1) or '1type' as a synonym of type is deprecated; in a future version of numpy, it will be understood as (type, (1,)) / '(1,)type'.\n",
      "  _np_qint16 = np.dtype([(\"qint16\", np.int16, 1)])\n",
      "/cvmfs/cms.cern.ch/slc6_amd64_gcc700/external/py2-tensorflow/1.6.0-gnimlf4/lib/python3.6/site-packages/tensorflow/python/framework/dtypes.py:520: FutureWarning: Passing (type, 1) or '1type' as a synonym of type is deprecated; in a future version of numpy, it will be understood as (type, (1,)) / '(1,)type'.\n",
      "  _np_quint16 = np.dtype([(\"quint16\", np.uint16, 1)])\n",
      "/cvmfs/cms.cern.ch/slc6_amd64_gcc700/external/py2-tensorflow/1.6.0-gnimlf4/lib/python3.6/site-packages/tensorflow/python/framework/dtypes.py:521: FutureWarning: Passing (type, 1) or '1type' as a synonym of type is deprecated; in a future version of numpy, it will be understood as (type, (1,)) / '(1,)type'.\n",
      "  _np_qint32 = np.dtype([(\"qint32\", np.int32, 1)])\n",
      "/cvmfs/cms.cern.ch/slc6_amd64_gcc700/external/py2-tensorflow/1.6.0-gnimlf4/lib/python3.6/site-packages/tensorflow/python/framework/dtypes.py:526: FutureWarning: Passing (type, 1) or '1type' as a synonym of type is deprecated; in a future version of numpy, it will be understood as (type, (1,)) / '(1,)type'.\n",
      "  np_resource = np.dtype([(\"resource\", np.ubyte, 1)])\n"
     ]
    }
   ],
   "source": [
    "import uproot\n",
    "import awkward\n",
    "import numpy as np\n",
    "import pandas as pd\n",
    "from uproot_methods import TLorentzVectorArray\n",
    "\n",
    "from coffea.processor import LazyDataFrame\n",
    "from coffea.analysis_objects import JaggedCandidateArray\n",
    "\n",
    "%matplotlib inline\n",
    "import matplotlib\n",
    "import matplotlib.pyplot as plt\n",
    "from matplotlib.colors import LogNorm\n",
    "\n",
    "import tensorflow as tf"
   ]
  },
  {
   "cell_type": "code",
   "execution_count": 2,
   "metadata": {},
   "outputs": [],
   "source": [
    "from sklearn.metrics import roc_curve, roc_auc_score, auc\n",
    "from sklearn.model_selection import train_test_split"
   ]
  },
  {
   "cell_type": "code",
   "execution_count": 3,
   "metadata": {},
   "outputs": [],
   "source": [
    "df = pd.read_hdf('../processor/data_X.h5')"
   ]
  },
  {
   "cell_type": "code",
   "execution_count": 4,
   "metadata": {},
   "outputs": [],
   "source": [
    "sig_df = df[df['signal']==1]\n",
    "bkg_df = df[df['signal']==0]"
   ]
  },
  {
   "cell_type": "code",
   "execution_count": 5,
   "metadata": {},
   "outputs": [],
   "source": [
    "# usually we have less signal than background\n",
    "nSmall = len(sig_df) if len(sig_df) < len(bkg_df) else len(bkg_df)\n",
    "\n",
    "# Balance the signal and background sets\n",
    "tmp_bkg_df = bkg_df.sample( n = nSmall )\n",
    "tmp_sig_df = sig_df.sample( n = nSmall )\n",
    "\n",
    "y_sig = np.ones(len(tmp_sig_df))\n",
    "y_bkg = np.zeros(len(tmp_bkg_df))\n",
    "y_tmp = np.concatenate((y_sig,y_bkg))\n",
    "\n",
    "# merge signal and background\n",
    "frames = [tmp_sig_df, tmp_bkg_df]\n",
    "X_tmp = pd.concat(frames)"
   ]
  },
  {
   "cell_type": "code",
   "execution_count": 6,
   "metadata": {},
   "outputs": [
    {
     "data": {
      "text/plain": [
       "14837"
      ]
     },
     "execution_count": 6,
     "metadata": {},
     "output_type": "execute_result"
    }
   ],
   "source": [
    "nSmall"
   ]
  },
  {
   "cell_type": "code",
   "execution_count": 7,
   "metadata": {},
   "outputs": [
    {
     "name": "stderr",
     "output_type": "stream",
     "text": [
      "/cvmfs/cms.cern.ch/slc6_amd64_gcc700/external/py2-scikit-learn/0.19.1/lib/python3.6/site-packages/sklearn/model_selection/_split.py:2026: FutureWarning: From version 0.21, test_size will always complement train_size unless both are specified.\n",
      "  FutureWarning)\n"
     ]
    }
   ],
   "source": [
    "# Splitting in training and test samples\n",
    "X_tmp_train, X_tmp_test, y_train, y_test = train_test_split(X_tmp, y_tmp, train_size= int( 0.5*y_tmp.shape[0] ), random_state=42 )"
   ]
  },
  {
   "cell_type": "code",
   "execution_count": 8,
   "metadata": {},
   "outputs": [],
   "source": [
    "variables = ['mll', 'njet', 'nbtag', 'st', 'ht', 'met', 'mjj_max', 'mlb_min', 'mlb_max', 'l0_pt', 'l1_pt']\n",
    "\n",
    "X_train = X_tmp_train[variables]\n",
    "X_test = X_tmp_test[variables]\n",
    "#X_myTest = X_tmp_test[['mll', 'MET_pt']]"
   ]
  },
  {
   "cell_type": "code",
   "execution_count": 33,
   "metadata": {},
   "outputs": [
    {
     "data": {
      "image/png": "[encoded data removed]",
      "text/plain": [
       "<Figure size 432x288 with 4 Axes>"
      ]
     },
     "metadata": {},
     "output_type": "display_data"
    }
   ],
   "source": [
    "fig, axs = plt.subplots(2,2)\n",
    "\n",
    "hist, bins, ax = axs[0,0].hist( [ X_train[['mll']][y_train==0].values, X_train[['mll']][y_train==1].values ], range(0,500,50), log=False, histtype='step', alpha=1, linewidth=2)\n",
    "hist, bins, ax = axs[0,1].hist( [ X_train[['njet']][y_train==0].values, X_train[['njet']][y_train==1].values ], range(0,15,1), log=False, histtype='step', alpha=1, linewidth=2) \n",
    "hist, bins, ax = axs[1,0].hist( [ X_train[['st']][y_train==0].values, X_train[['st']][y_train==1].values ], range(0,2000,100), log=False, histtype='step', alpha=1, linewidth=2)\n",
    "hist, bins, ax = axs[1,1].hist( [ X_train[['ht']][y_train==0].values, X_train[['ht']][y_train==1].values ], range(0,1500,50), log=False, histtype='step', alpha=1, linewidth=2) "
   ]
  },
  {
   "cell_type": "code",
   "execution_count": 9,
   "metadata": {},
   "outputs": [
    {
     "name": "stdout",
     "output_type": "stream",
     "text": [
      "_________________________________________________________________\n",
      "Layer (type)                 Output Shape              Param #   \n",
      "=================================================================\n",
      "dense_1 (Dense)              (None, 8)                 96        \n",
      "_________________________________________________________________\n",
      "dropout_1 (Dropout)          (None, 8)                 0         \n",
      "_________________________________________________________________\n",
      "dense_2 (Dense)              (None, 64)                576       \n",
      "_________________________________________________________________\n",
      "dropout_2 (Dropout)          (None, 64)                0         \n",
      "_________________________________________________________________\n",
      "dense_3 (Dense)              (None, 8)                 520       \n",
      "_________________________________________________________________\n",
      "dropout_3 (Dropout)          (None, 8)                 0         \n",
      "_________________________________________________________________\n",
      "dense_4 (Dense)              (None, 1)                 9         \n",
      "=================================================================\n",
      "Total params: 1,201\n",
      "Trainable params: 1,201\n",
      "Non-trainable params: 0\n",
      "_________________________________________________________________\n"
     ]
    }
   ],
   "source": [
    "NHLayer = 5\n",
    "epochs = 100\n",
    "batch_size = 5120\n",
    "validation_split = 0.2\n",
    "\n",
    "# define the model. Which one is the best suited for our problem?\n",
    "model = tf.keras.models.Sequential()\n",
    "\n",
    "# add layers. we can play a bit with the hyper parameters here\n",
    "model.add( tf.keras.layers.Dense(units=8, activation='relu', input_dim=X_train.shape[1], ))\n",
    "model.add( tf.keras.layers.Dropout( rate = 0.01 ) )\n",
    "\n",
    "model.add( tf.keras.layers.Dense(units=64, activation='relu' ) )\n",
    "model.add( tf.keras.layers.Dropout( rate = 0.01 ) )\n",
    "\n",
    "#model.add( tf.keras.layers.Dense(units=128, activation='relu' ) )\n",
    "#model.add( tf.keras.layers.Dropout( rate = 0.1 ) )\n",
    "\n",
    "#model.add( tf.keras.layers.Dense(units=64, activation='relu' ) )\n",
    "#model.add( tf.keras.layers.Dropout( rate = 0.1 ) )\n",
    "\n",
    "model.add( tf.keras.layers.Dense(units=8, activation='relu' ) )\n",
    "model.add( tf.keras.layers.Dropout( rate = 0.01 ) )\n",
    "\n",
    "model.add( tf.keras.layers.Dense(units=1, activation='sigmoid' ) ) \n",
    "\n",
    "# compile the model\n",
    "model.compile( loss='binary_crossentropy', optimizer='rmsprop', metrics=['acc'])\n",
    "\n",
    "model.summary()\n",
    "\n",
    "## Editor's note: don't go too crazy with nodes and layers if the data set is small or nothing will be learned at all.\n"
   ]
  },
  {
   "cell_type": "code",
   "execution_count": 10,
   "metadata": {},
   "outputs": [
    {
     "name": "stdout",
     "output_type": "stream",
     "text": [
      "Train on 11869 samples, validate on 2968 samples\n",
      "Epoch 1/100\n",
      "11869/11869 [==============================]11869/11869 [==============================] - 1s 48us/step - loss: 3.9285 - acc: 0.5603 - val_loss: 1.4521 - val_acc: 0.5556\n",
      "\n",
      "Epoch 2/100\n",
      "11869/11869 [==============================]11869/11869 [==============================] - 0s 4us/step - loss: 1.5437 - acc: 0.5475 - val_loss: 0.9336 - val_acc: 0.5334\n",
      "\n",
      "Epoch 3/100\n",
      "11869/11869 [==============================]11869/11869 [==============================] - 0s 4us/step - loss: 1.1084 - acc: 0.5209 - val_loss: 0.7780 - val_acc: 0.5179\n",
      "\n",
      "Epoch 4/100\n",
      "11869/11869 [==============================]11869/11869 [==============================] - 0s 4us/step - loss: 0.8966 - acc: 0.5110 - val_loss: 0.7134 - val_acc: 0.5077\n",
      "\n",
      "Epoch 5/100\n",
      "11869/11869 [==============================]11869/11869 [==============================] - 0s 4us/step - loss: 0.7998 - acc: 0.5053 - val_loss: 0.7012 - val_acc: 0.5081\n",
      "\n",
      "Epoch 6/100\n",
      "11869/11869 [==============================]11869/11869 [==============================] - 0s 4us/step - loss: 0.7552 - acc: 0.5081 - val_loss: 0.6953 - val_acc: 0.5044\n",
      "\n",
      "Epoch 7/100\n",
      "11869/11869 [==============================]11869/11869 [==============================] - 0s 4us/step - loss: 0.7469 - acc: 0.5050 - val_loss: 0.6932 - val_acc: 0.5061\n",
      "\n",
      "Epoch 8/100\n",
      "11869/11869 [==============================]11869/11869 [==============================] - 0s 4us/step - loss: 0.7473 - acc: 0.5021 - val_loss: 0.6931 - val_acc: 0.5067\n",
      "\n",
      "Epoch 9/100\n",
      "11869/11869 [==============================]11869/11869 [==============================] - 0s 4us/step - loss: 0.7219 - acc: 0.5047 - val_loss: 0.6931 - val_acc: 0.5067\n",
      "\n",
      "Epoch 10/100\n",
      "11869/11869 [==============================]11869/11869 [==============================] - 0s 4us/step - loss: 0.7281 - acc: 0.5021 - val_loss: 0.6931 - val_acc: 0.5067\n",
      "\n",
      "Epoch 11/100\n",
      "11869/11869 [==============================]11869/11869 [==============================] - 0s 4us/step - loss: 0.7198 - acc: 0.5032 - val_loss: 0.6931 - val_acc: 0.5067\n",
      "\n",
      "Epoch 12/100\n",
      "11869/11869 [==============================]11869/11869 [==============================] - 0s 4us/step - loss: 0.7329 - acc: 0.5002 - val_loss: 0.6931 - val_acc: 0.5067\n",
      "\n",
      "Epoch 13/100\n",
      "11869/11869 [==============================]11869/11869 [==============================] - 0s 4us/step - loss: 0.7156 - acc: 0.5024 - val_loss: 0.6931 - val_acc: 0.5067\n",
      "\n",
      "Epoch 14/100\n",
      "11869/11869 [==============================]11869/11869 [==============================] - 0s 4us/step - loss: 0.7063 - acc: 0.5030 - val_loss: 0.6931 - val_acc: 0.5067\n",
      "\n",
      "Epoch 15/100\n",
      "11869/11869 [==============================]11869/11869 [==============================] - 0s 4us/step - loss: 0.7048 - acc: 0.5016 - val_loss: 0.6931 - val_acc: 0.5067\n",
      "\n",
      "Epoch 16/100\n",
      "11869/11869 [==============================]11869/11869 [==============================] - 0s 4us/step - loss: 0.7015 - acc: 0.5034 - val_loss: 0.6931 - val_acc: 0.5067\n",
      "\n",
      "Epoch 17/100\n",
      "11869/11869 [==============================]11869/11869 [==============================] - 0s 4us/step - loss: 0.7033 - acc: 0.5005 - val_loss: 0.6931 - val_acc: 0.5067\n",
      "\n",
      "Epoch 18/100\n",
      "11869/11869 [==============================]11869/11869 [==============================] - 0s 4us/step - loss: 0.7042 - acc: 0.5016 - val_loss: 0.6931 - val_acc: 0.5067\n",
      "\n",
      "Epoch 19/100\n",
      "11869/11869 [==============================]11869/11869 [==============================] - 0s 4us/step - loss: 0.7058 - acc: 0.5016 - val_loss: 0.6931 - val_acc: 0.5067\n",
      "\n",
      "Epoch 20/100\n",
      "11869/11869 [==============================]11869/11869 [==============================] - 0s 4us/step - loss: 0.7011 - acc: 0.5007 - val_loss: 0.6931 - val_acc: 0.5067\n",
      "\n",
      "Epoch 21/100\n",
      "11869/11869 [==============================]11869/11869 [==============================] - 0s 3us/step - loss: 0.6965 - acc: 0.5014 - val_loss: 0.6931 - val_acc: 0.5067\n",
      "\n",
      "Epoch 22/100\n",
      "11869/11869 [==============================]11869/11869 [==============================] - 0s 4us/step - loss: 0.6973 - acc: 0.5006 - val_loss: 0.6931 - val_acc: 0.5067\n",
      "\n",
      "Epoch 23/100\n",
      "11869/11869 [==============================]11869/11869 [==============================] - 0s 4us/step - loss: 0.6972 - acc: 0.5009 - val_loss: 0.6931 - val_acc: 0.5067\n",
      "\n",
      "Epoch 24/100\n",
      "11869/11869 [==============================]11869/11869 [==============================] - 0s 4us/step - loss: 0.7009 - acc: 0.5007 - val_loss: 0.6931 - val_acc: 0.5067\n",
      "\n",
      "Epoch 25/100\n",
      "11869/11869 [==============================]11869/11869 [==============================] - 0s 4us/step - loss: 0.6972 - acc: 0.5004 - val_loss: 0.6931 - val_acc: 0.5067\n",
      "\n",
      "Epoch 26/100\n",
      "11869/11869 [==============================]11869/11869 [==============================] - 0s 4us/step - loss: 0.6927 - acc: 0.5012 - val_loss: 0.6931 - val_acc: 0.5067\n",
      "\n",
      "Epoch 27/100\n",
      "11869/11869 [==============================]11869/11869 [==============================] - 0s 4us/step - loss: 0.6930 - acc: 0.5011 - val_loss: 0.6931 - val_acc: 0.5067\n",
      "\n",
      "Epoch 28/100\n",
      "11869/11869 [==============================]11869/11869 [==============================] - 0s 4us/step - loss: 0.6954 - acc: 0.5005 - val_loss: 0.6931 - val_acc: 0.5067\n",
      "\n",
      "Epoch 29/100\n",
      "11869/11869 [==============================]11869/11869 [==============================] - 0s 4us/step - loss: 0.6931 - acc: 0.5009 - val_loss: 0.6931 - val_acc: 0.5067\n",
      "\n",
      "Epoch 30/100\n",
      "11869/11869 [==============================]11869/11869 [==============================] - 0s 4us/step - loss: 0.6945 - acc: 0.5010 - val_loss: 0.6931 - val_acc: 0.5067\n",
      "\n",
      "Epoch 31/100\n",
      "11869/11869 [==============================]11869/11869 [==============================] - 0s 4us/step - loss: 0.6935 - acc: 0.5010 - val_loss: 0.6931 - val_acc: 0.5067\n",
      "\n",
      "Epoch 32/100\n",
      "11869/11869 [==============================]11869/11869 [==============================] - 0s 4us/step - loss: 0.6953 - acc: 0.5009 - val_loss: 0.6931 - val_acc: 0.5067\n",
      "\n",
      "Epoch 33/100\n",
      "11869/11869 [==============================]11869/11869 [==============================] - 0s 4us/step - loss: 0.6937 - acc: 0.5005 - val_loss: 0.6931 - val_acc: 0.5067\n",
      "\n",
      "Epoch 34/100\n",
      "11869/11869 [==============================]11869/11869 [==============================] - 0s 4us/step - loss: 0.6947 - acc: 0.5005 - val_loss: 0.6931 - val_acc: 0.5067\n",
      "\n",
      "Epoch 35/100\n",
      "11869/11869 [==============================]11869/11869 [==============================] - 0s 4us/step - loss: 0.6935 - acc: 0.5006 - val_loss: 0.6931 - val_acc: 0.5067\n",
      "\n",
      "Epoch 36/100\n",
      "11869/11869 [==============================]11869/11869 [==============================] - 0s 4us/step - loss: 0.6938 - acc: 0.5007 - val_loss: 0.6931 - val_acc: 0.5067\n",
      "\n",
      "Epoch 37/100\n",
      "11869/11869 [==============================]11869/11869 [==============================] - 0s 4us/step - loss: 0.6941 - acc: 0.5008 - val_loss: 0.6931 - val_acc: 0.5067\n",
      "\n",
      "Epoch 38/100\n",
      "11869/11869 [==============================]11869/11869 [==============================] - 0s 4us/step - loss: 0.6937 - acc: 0.5005 - val_loss: 0.6931 - val_acc: 0.5067\n",
      "\n",
      "Epoch 39/100\n",
      "11869/11869 [==============================]11869/11869 [==============================] - 0s 4us/step - loss: 0.6935 - acc: 0.5004 - val_loss: 0.6931 - val_acc: 0.5067\n",
      "\n",
      "Epoch 40/100\n",
      "11869/11869 [==============================]11869/11869 [==============================] - 0s 4us/step - loss: 0.6939 - acc: 0.5004 - val_loss: 0.6931 - val_acc: 0.5067\n",
      "\n",
      "Epoch 41/100\n",
      "11869/11869 [==============================]11869/11869 [==============================] - 0s 4us/step - loss: 0.6946 - acc: 0.5004 - val_loss: 0.6931 - val_acc: 0.5067\n",
      "\n",
      "Epoch 42/100\n",
      "11869/11869 [==============================]11869/11869 [==============================] - 0s 4us/step - loss: 0.6938 - acc: 0.5008 - val_loss: 0.6931 - val_acc: 0.5067\n",
      "\n",
      "Epoch 43/100\n",
      "11869/11869 [==============================]11869/11869 [==============================] - 0s 4us/step - loss: 0.6938 - acc: 0.5008 - val_loss: 0.6931 - val_acc: 0.5067\n",
      "\n",
      "Epoch 44/100\n",
      "11869/11869 [==============================]11869/11869 [==============================] - 0s 4us/step - loss: 0.6939 - acc: 0.5005 - val_loss: 0.6931 - val_acc: 0.5067\n",
      "\n",
      "Epoch 45/100\n"
     ]
    },
    {
     "name": "stdout",
     "output_type": "stream",
     "text": [
      "11869/11869 [==============================]11869/11869 [==============================] - 0s 4us/step - loss: 0.6945 - acc: 0.5009 - val_loss: 0.6931 - val_acc: 0.5067\n",
      "\n",
      "Epoch 46/100\n",
      "11869/11869 [==============================]11869/11869 [==============================] - 0s 4us/step - loss: 0.6933 - acc: 0.5005 - val_loss: 0.6931 - val_acc: 0.5067\n",
      "\n",
      "Epoch 47/100\n",
      "11869/11869 [==============================]11869/11869 [==============================] - 0s 4us/step - loss: 0.6932 - acc: 0.5005 - val_loss: 0.6932 - val_acc: 0.4933\n",
      "\n",
      "Epoch 48/100\n",
      "11869/11869 [==============================]11869/11869 [==============================] - 0s 4us/step - loss: 0.6933 - acc: 0.4995 - val_loss: 0.6931 - val_acc: 0.5067\n",
      "\n",
      "Epoch 49/100\n",
      "11869/11869 [==============================]11869/11869 [==============================] - 0s 4us/step - loss: 0.6946 - acc: 0.5000 - val_loss: 0.6931 - val_acc: 0.5067\n",
      "\n",
      "Epoch 50/100\n",
      "11869/11869 [==============================]11869/11869 [==============================] - 0s 4us/step - loss: 0.6931 - acc: 0.5005 - val_loss: 0.6931 - val_acc: 0.5067\n",
      "\n",
      "Epoch 51/100\n",
      "11869/11869 [==============================]11869/11869 [==============================] - 0s 4us/step - loss: 0.6932 - acc: 0.4985 - val_loss: 0.6931 - val_acc: 0.5067\n",
      "\n",
      "Epoch 52/100\n",
      "11869/11869 [==============================]11869/11869 [==============================] - 0s 4us/step - loss: 0.6931 - acc: 0.5005 - val_loss: 0.6931 - val_acc: 0.5067\n",
      "\n",
      "Epoch 53/100\n",
      "11869/11869 [==============================]11869/11869 [==============================] - 0s 4us/step - loss: 0.6932 - acc: 0.5004 - val_loss: 0.6932 - val_acc: 0.4933\n",
      "\n",
      "Epoch 54/100\n",
      "11869/11869 [==============================]11869/11869 [==============================] - 0s 4us/step - loss: 0.6930 - acc: 0.4996 - val_loss: 0.6932 - val_acc: 0.4933\n",
      "\n",
      "Epoch 55/100\n",
      "11869/11869 [==============================]11869/11869 [==============================] - 0s 4us/step - loss: 0.6931 - acc: 0.4996 - val_loss: 0.6932 - val_acc: 0.4933\n",
      "\n",
      "Epoch 56/100\n",
      "11869/11869 [==============================]11869/11869 [==============================] - 0s 4us/step - loss: 0.6932 - acc: 0.4968 - val_loss: 0.6932 - val_acc: 0.4933\n",
      "\n",
      "Epoch 57/100\n",
      "11869/11869 [==============================]11869/11869 [==============================] - 0s 4us/step - loss: 0.6931 - acc: 0.4996 - val_loss: 0.6931 - val_acc: 0.5067\n",
      "\n",
      "Epoch 58/100\n",
      "11869/11869 [==============================]11869/11869 [==============================] - 0s 4us/step - loss: 0.6933 - acc: 0.5004 - val_loss: 0.6932 - val_acc: 0.4933\n",
      "\n",
      "Epoch 59/100\n",
      "11869/11869 [==============================]11869/11869 [==============================] - 0s 4us/step - loss: 0.6933 - acc: 0.4995 - val_loss: 0.6931 - val_acc: 0.5067\n",
      "\n",
      "Epoch 60/100\n",
      "11869/11869 [==============================]11869/11869 [==============================] - 0s 4us/step - loss: 0.6931 - acc: 0.5005 - val_loss: 0.6931 - val_acc: 0.5067\n",
      "\n",
      "Epoch 61/100\n",
      "11869/11869 [==============================]11869/11869 [==============================] - 0s 4us/step - loss: 0.6931 - acc: 0.5005 - val_loss: 0.6931 - val_acc: 0.5067\n",
      "\n",
      "Epoch 62/100\n",
      "11869/11869 [==============================]11869/11869 [==============================] - 0s 4us/step - loss: 0.6931 - acc: 0.5005 - val_loss: 0.6931 - val_acc: 0.5067\n",
      "\n",
      "Epoch 63/100\n",
      "11869/11869 [==============================]11869/11869 [==============================] - 0s 4us/step - loss: 0.6935 - acc: 0.5004 - val_loss: 0.6931 - val_acc: 0.5067\n",
      "\n",
      "Epoch 64/100\n",
      "11869/11869 [==============================]11869/11869 [==============================] - 0s 4us/step - loss: 0.6931 - acc: 0.5005 - val_loss: 0.6931 - val_acc: 0.5067\n",
      "\n",
      "Epoch 65/100\n",
      "11869/11869 [==============================]11869/11869 [==============================] - 0s 4us/step - loss: 0.6932 - acc: 0.5005 - val_loss: 0.6931 - val_acc: 0.5067\n",
      "\n",
      "Epoch 66/100\n",
      "11869/11869 [==============================]11869/11869 [==============================] - 0s 4us/step - loss: 0.6931 - acc: 0.5005 - val_loss: 0.6931 - val_acc: 0.5067\n",
      "\n",
      "Epoch 67/100\n",
      "11869/11869 [==============================]11869/11869 [==============================] - 0s 4us/step - loss: 0.6931 - acc: 0.5005 - val_loss: 0.6931 - val_acc: 0.5067\n",
      "\n",
      "Epoch 68/100\n",
      "11869/11869 [==============================]11869/11869 [==============================] - 0s 4us/step - loss: 0.6936 - acc: 0.5004 - val_loss: 0.6931 - val_acc: 0.5067\n",
      "\n",
      "Epoch 69/100\n",
      "11869/11869 [==============================]11869/11869 [==============================] - 0s 4us/step - loss: 0.6931 - acc: 0.5005 - val_loss: 0.6931 - val_acc: 0.5067\n",
      "\n",
      "Epoch 70/100\n",
      "11869/11869 [==============================]11869/11869 [==============================] - 0s 4us/step - loss: 0.6932 - acc: 0.5005 - val_loss: 0.6931 - val_acc: 0.5067\n",
      "\n",
      "Epoch 71/100\n",
      "11869/11869 [==============================]11869/11869 [==============================] - 0s 4us/step - loss: 0.6931 - acc: 0.5005 - val_loss: 0.6931 - val_acc: 0.5067\n",
      "\n",
      "Epoch 72/100\n",
      "11869/11869 [==============================]11869/11869 [==============================] - 0s 4us/step - loss: 0.6931 - acc: 0.5005 - val_loss: 0.6931 - val_acc: 0.5067\n",
      "\n",
      "Epoch 73/100\n",
      "11869/11869 [==============================]11869/11869 [==============================] - 0s 4us/step - loss: 0.6931 - acc: 0.5005 - val_loss: 0.6931 - val_acc: 0.5067\n",
      "\n",
      "Epoch 74/100\n",
      "11869/11869 [==============================]11869/11869 [==============================] - 0s 4us/step - loss: 0.6931 - acc: 0.5005 - val_loss: 0.6931 - val_acc: 0.5067\n",
      "\n",
      "Epoch 75/100\n",
      "11869/11869 [==============================]11869/11869 [==============================] - 0s 4us/step - loss: 0.6938 - acc: 0.5004 - val_loss: 0.6931 - val_acc: 0.5067\n",
      "\n",
      "Epoch 76/100\n",
      "11869/11869 [==============================]11869/11869 [==============================] - 0s 4us/step - loss: 0.6931 - acc: 0.5005 - val_loss: 0.6931 - val_acc: 0.5067\n",
      "\n",
      "Epoch 77/100\n",
      "11869/11869 [==============================]11869/11869 [==============================] - 0s 4us/step - loss: 0.6931 - acc: 0.5005 - val_loss: 0.6931 - val_acc: 0.5067\n",
      "\n",
      "Epoch 78/100\n",
      "11869/11869 [==============================]11869/11869 [==============================] - 0s 4us/step - loss: 0.6931 - acc: 0.5005 - val_loss: 0.6931 - val_acc: 0.5067\n",
      "\n",
      "Epoch 79/100\n",
      "11869/11869 [==============================]11869/11869 [==============================] - 0s 4us/step - loss: 0.6931 - acc: 0.5005 - val_loss: 0.6931 - val_acc: 0.5067\n",
      "\n",
      "Epoch 80/100\n",
      "11869/11869 [==============================]11869/11869 [==============================] - 0s 4us/step - loss: 0.6931 - acc: 0.5005 - val_loss: 0.6931 - val_acc: 0.5067\n",
      "\n",
      "Epoch 81/100\n",
      "11869/11869 [==============================]11869/11869 [==============================] - 0s 4us/step - loss: 0.6931 - acc: 0.5005 - val_loss: 0.6931 - val_acc: 0.5067\n",
      "\n",
      "Epoch 82/100\n",
      "11869/11869 [==============================]11869/11869 [==============================] - 0s 4us/step - loss: 0.6932 - acc: 0.5005 - val_loss: 0.6931 - val_acc: 0.5067\n",
      "\n",
      "Epoch 83/100\n",
      "11869/11869 [==============================]11869/11869 [==============================] - 0s 4us/step - loss: 0.6931 - acc: 0.5005 - val_loss: 0.6931 - val_acc: 0.5067\n",
      "\n",
      "Epoch 84/100\n",
      "11869/11869 [==============================]11869/11869 [==============================] - 0s 4us/step - loss: 0.6931 - acc: 0.5005 - val_loss: 0.6931 - val_acc: 0.5067\n",
      "\n",
      "Epoch 85/100\n",
      "11869/11869 [==============================]11869/11869 [==============================] - 0s 4us/step - loss: 0.6934 - acc: 0.5005 - val_loss: 0.6931 - val_acc: 0.5067\n",
      "\n",
      "Epoch 86/100\n",
      "11869/11869 [==============================]11869/11869 [==============================] - 0s 4us/step - loss: 0.6931 - acc: 0.5005 - val_loss: 0.6931 - val_acc: 0.5067\n",
      "\n",
      "Epoch 87/100\n",
      "11869/11869 [==============================]11869/11869 [==============================] - 0s 4us/step - loss: 0.6940 - acc: 0.5005 - val_loss: 0.6931 - val_acc: 0.5067\n",
      "\n",
      "Epoch 88/100\n",
      "11869/11869 [==============================]11869/11869 [==============================] - 0s 4us/step - loss: 0.6932 - acc: 0.5005 - val_loss: 0.6931 - val_acc: 0.5067\n",
      "\n",
      "Epoch 89/100\n",
      "11869/11869 [==============================]11869/11869 [==============================] - 0s 4us/step - loss: 0.6931 - acc: 0.5005 - val_loss: 0.6931 - val_acc: 0.5067\n"
     ]
    },
    {
     "name": "stdout",
     "output_type": "stream",
     "text": [
      "\n",
      "Epoch 90/100\n",
      "11869/11869 [==============================]11869/11869 [==============================] - 0s 4us/step - loss: 0.6931 - acc: 0.5005 - val_loss: 0.6931 - val_acc: 0.5067\n",
      "\n",
      "Epoch 91/100\n",
      "11869/11869 [==============================]11869/11869 [==============================] - 0s 4us/step - loss: 0.6931 - acc: 0.5005 - val_loss: 0.6931 - val_acc: 0.5067\n",
      "\n",
      "Epoch 92/100\n",
      "11869/11869 [==============================]11869/11869 [==============================] - 0s 4us/step - loss: 0.6931 - acc: 0.5005 - val_loss: 0.6931 - val_acc: 0.5067\n",
      "\n",
      "Epoch 93/100\n",
      "11869/11869 [==============================]11869/11869 [==============================] - 0s 4us/step - loss: 0.6931 - acc: 0.5005 - val_loss: 0.6931 - val_acc: 0.5067\n",
      "\n",
      "Epoch 94/100\n",
      "11869/11869 [==============================]11869/11869 [==============================] - 0s 4us/step - loss: 0.6932 - acc: 0.5005 - val_loss: 0.6931 - val_acc: 0.5067\n",
      "\n",
      "Epoch 95/100\n",
      "11869/11869 [==============================]11869/11869 [==============================] - 0s 4us/step - loss: 0.6931 - acc: 0.5005 - val_loss: 0.6931 - val_acc: 0.5067\n",
      "\n",
      "Epoch 96/100\n",
      "11869/11869 [==============================]11869/11869 [==============================] - 0s 4us/step - loss: 0.6931 - acc: 0.5005 - val_loss: 0.6931 - val_acc: 0.5067\n",
      "\n",
      "Epoch 97/100\n",
      "11869/11869 [==============================]11869/11869 [==============================] - 0s 4us/step - loss: 0.6932 - acc: 0.5005 - val_loss: 0.6931 - val_acc: 0.5067\n",
      "\n",
      "Epoch 98/100\n",
      "11869/11869 [==============================]11869/11869 [==============================] - 0s 4us/step - loss: 0.6932 - acc: 0.5005 - val_loss: 0.6931 - val_acc: 0.5067\n",
      "\n",
      "Epoch 99/100\n",
      "11869/11869 [==============================]11869/11869 [==============================] - 0s 4us/step - loss: 0.6931 - acc: 0.5005 - val_loss: 0.6931 - val_acc: 0.5067\n",
      "\n",
      "Epoch 100/100\n",
      "11869/11869 [==============================]11869/11869 [==============================] - 0s 4us/step - loss: 0.6931 - acc: 0.5006 - val_loss: 0.6931 - val_acc: 0.5067\n",
      "\n"
     ]
    }
   ],
   "source": [
    "# verbose set to 0 (1 shows all the epochs)\n",
    "\n",
    "history = model.fit(X_train.values, y_train, epochs=epochs, batch_size=batch_size, validation_split=validation_split, verbose=1)\n",
    "model.save( 'training.h5a' )"
   ]
  },
  {
   "cell_type": "code",
   "execution_count": 11,
   "metadata": {},
   "outputs": [
    {
     "data": {
      "text/plain": [
       "<matplotlib.legend.Legend at 0x7f5ee081ecf8>"
      ]
     },
     "execution_count": 11,
     "metadata": {},
     "output_type": "execute_result"
    },
    {
     "data": {
      "image/png": "[encoded data removed]",
      "text/plain": [
       "<Figure size 432x288 with 1 Axes>"
      ]
     },
     "metadata": {},
     "output_type": "display_data"
    }
   ],
   "source": [
    "history_dict = history.history\n",
    "\n",
    "loss_values  = history_dict['loss']\n",
    "acc_values = history_dict['acc']\n",
    "\n",
    "epochslist = range(1,  len(loss_values)+1)\n",
    "        \n",
    "plt.plot(epochslist, loss_values, 'b', label='Training loss')\n",
    "plt.plot(epochslist, acc_values,'b', color='green', label='Training accuracy')\n",
    "try:\n",
    "    val_loss_values = history_dict['val_loss']\n",
    "    plt.plot(epochslist, val_loss_values, 'b', color='red', label='Validation loss')\n",
    "    val_acc_values = history_dict['val_acc']\n",
    "    plt.plot(epochslist, val_acc_values, 'b', color='orange', label='Validation accuracy')\n",
    "except KeyError:\n",
    "    print (\"Didn't find validation loss\")\n",
    "\n",
    "plt.title('Training and validation loss (Valid. split = ' + str( validation_split ) + ')')\n",
    "plt.xlabel('Epochs  ( batch_size = ' + str( batch_size ) + ')')\n",
    "plt.ylabel('Loss')\n",
    "plt.legend()"
   ]
  },
  {
   "cell_type": "code",
   "execution_count": 12,
   "metadata": {},
   "outputs": [],
   "source": [
    "# use the model to predict whether an event is signal or background\n",
    "y_test_pred = pd.DataFrame( model.predict( X_test.values  ) , index = X_test.index)\n",
    "\n",
    "## as a comparison, use a mll based discriminator:\n",
    "#y_test_pred_mll = (1-abs(X_myTest[['mll']]-91.2)/91.2).values.flatten()"
   ]
  },
  {
   "cell_type": "code",
   "execution_count": 13,
   "metadata": {
    "scrolled": true
   },
   "outputs": [
    {
     "data": {
      "image/png": "[encoded data removed]",
      "text/plain": [
       "<Figure size 432x288 with 1 Axes>"
      ]
     },
     "metadata": {},
     "output_type": "display_data"
    }
   ],
   "source": [
    "xbin = 20\n",
    "hist, bins, ax = plt.hist( [ y_test_pred[y_test==0].values, y_test_pred[y_test==1].values ], xbin, log=False, label=['Background ('+ str((y_test==0).sum()) +')' ,'Signal ('+ str((y_test==1).sum()) +')'], histtype='stepfilled', alpha=0.5) "
   ]
  },
  {
   "cell_type": "code",
   "execution_count": 15,
   "metadata": {},
   "outputs": [
    {
     "data": {
      "image/png": "[encoded data removed]",
      "text/plain": [
       "<Figure size 432x288 with 1 Axes>"
      ]
     },
     "metadata": {},
     "output_type": "display_data"
    }
   ],
   "source": [
    "# just looking at M(ll)\n",
    "\n",
    "xbin = range(0,200,10)\n",
    "hist, bins, ax = plt.hist( [ X_myTest[['mll']][y_test==0].values, X_myTest[['mll']][y_test==1].values ], xbin, log=False, histtype='stepfilled', alpha=0.5) "
   ]
  },
  {
   "cell_type": "code",
   "execution_count": 16,
   "metadata": {
    "scrolled": true
   },
   "outputs": [
    {
     "name": "stdout",
     "output_type": "stream",
     "text": [
      "[[0.01122133]\n",
      " [0.00084156]\n",
      " [0.38485926]\n",
      " ...\n",
      " [0.21763235]\n",
      " [0.0083673 ]\n",
      " [0.00079956]]\n",
      "[[0.48389024]\n",
      " [0.98845613]\n",
      " [0.953457  ]\n",
      " ...\n",
      " [0.58535916]\n",
      " [0.38479832]\n",
      " [0.55152327]]\n",
      "15189\n",
      "15010\n"
     ]
    }
   ],
   "source": [
    "print(y_test_pred[y_test==0].values)\n",
    "print(y_test_pred[y_test==1].values)\n",
    "print(y_test_pred[y_test==0].size)\n",
    "print(y_test_pred[y_test==1].size)"
   ]
  },
  {
   "cell_type": "code",
   "execution_count": null,
   "metadata": {},
   "outputs": [],
   "source": [
    "fpr_test, tpr_test, thresholds_test = roc_curve( y_test, y_test_pred )\n",
    "auc_val_test = auc(fpr_test, tpr_test)\n",
    "\n",
    "plt.plot( tpr_test, 1-fpr_test, 'b', label= 'AUC NN=' + str(round(auc_val_test,4) ))\n",
    "\n",
    "fpr_test_alt, tpr_test_alt, thresholds_test_alt = roc_curve( y_test, y_test_pred_mll )\n",
    "auc_val_test_alt = auc(fpr_test_alt, tpr_test_alt)\n",
    "\n",
    "plt.plot( tpr_test_alt, 1-fpr_test_alt, 'b', label= 'AUC M(ll)=' + str(round(auc_val_test_alt,4) ), color='red')\n",
    "\n",
    "plt.title('ROC (sample info: ' + str( len( X_test[y_test == 1] ) + len( X_train[y_train == 1] ) ) + ' signals / '\n",
    "                                              + str( len( X_test[y_test == 0] ) + len( X_train[y_train == 0] ) ) + ' background)'  )\n",
    "plt.xlabel('$\\epsilon_{Sig}$', fontsize = 20) # 'False positive rate'\n",
    "plt.ylabel('$1-\\epsilon_{Back}$', fontsize = 20) #  '1-True positive rate' \n",
    "plt.legend(loc ='lower left')\n"
   ]
  },
  {
   "cell_type": "markdown",
   "metadata": {},
   "source": [
    "Some observations:\n",
    "- with small data set, the performance deterioates pretty quickly when the network becomes too complicated\n",
    "- without using the lepton charge, the NN underperforms wrt M(ll), but gets quite close once the hyper parameters are (roughly) optimized\n",
    "- overtraining seems to be not a big problem, and one can use a large number of epochs\n",
    "- we still use a small data set\n",
    "- maybe a different model is better suited for our problem?\n",
    "\n"
   ]
  },
  {
   "cell_type": "markdown",
   "metadata": {},
   "source": [
    "# Using some physics knowledge (4 vectors)\n",
    "\n",
    "We can try to use a network that knows about 4 vectors.\n",
    "\n",
    "This is WIP!\n"
   ]
  },
  {
   "cell_type": "code",
   "execution_count": null,
   "metadata": {},
   "outputs": [],
   "source": [
    "from lbn import LBN, LBNLayer"
   ]
  },
  {
   "cell_type": "code",
   "execution_count": null,
   "metadata": {},
   "outputs": [],
   "source": []
  },
  {
   "cell_type": "code",
   "execution_count": null,
   "metadata": {},
   "outputs": [],
   "source": [
    "def convertTo4Vec( df ):\n",
    "\n",
    "    eventSelection = ( (df['nLepton']==2) & (df['nVetoLepton']==2) )\n",
    "        \n",
    "    leptons = JaggedCandidateArray.candidatesfromcounts(\n",
    "        df['nLepton'],\n",
    "        pt=df['Lepton_pt'],\n",
    "        eta=df['Lepton_eta'],\n",
    "        phi=df['Lepton_phi'],\n",
    "        mass= df['Lepton_mass'],\n",
    "        charge=df['Lepton_pdgId']/abs(df['Lepton_pdgId'])\n",
    "    )\n",
    "    \n",
    "    leptons = leptons[eventSelection]\n",
    "    \n",
    "    dileptons = leptons.choose(2)\n",
    "    \n",
    "    #dileptons.i0.p4.energy # gives the energy\n",
    "    \n",
    "    leading = np.array(list(zip(dileptons.i0.p4.energy.flatten(), dileptons.i0.p4.x.flatten(),dileptons.i0.p4.y.flatten(),dileptons.i0.p4.z.flatten())))\n",
    "    subleading = np.array(list(zip(dileptons.i1.p4.energy.flatten(), dileptons.i1.p4.x.flatten(),dileptons.i1.p4.y.flatten(),dileptons.i1.p4.z.flatten())))\n",
    "\n",
    "    leps = np.array(list(zip(leading,subleading)))\n",
    "    \n",
    "    return leps # not yet sure how to do this. have to zip?"
   ]
  },
  {
   "cell_type": "code",
   "execution_count": null,
   "metadata": {},
   "outputs": [],
   "source": [
    "bkg = LazyDataFrame(bkg_tree, flatten=True)\n",
    "sig = LazyDataFrame(sig_tree, flatten=True)\n",
    "\n",
    "\n",
    "inputs_sig = convertTo4Vec( sig )\n",
    "inputs_bkg = convertTo4Vec( bkg )\n",
    "\n",
    "nSignal = len(inputs_sig)\n",
    "\n",
    "# training\n",
    "inputs_sig_train = inputs_sig[:int(nSignal/2)]\n",
    "inputs_bkg_train = inputs_bkg[:int(nSignal/2)]\n",
    "\n",
    "inputs = np.concatenate((inputs_sig_train,inputs_bkg_train))\n",
    "\n",
    "# test\n",
    "inputs_sig_test = inputs_sig[int(nSignal/2):nSignal]\n",
    "inputs_bkg_test = inputs_bkg[int(nSignal/2):nSignal]\n",
    "\n",
    "inputs_test = np.concatenate((inputs_sig_test,inputs_bkg_test))\n",
    "\n",
    "\n",
    "# training\n",
    "y_sig = np.ones(len(inputs_sig_train))\n",
    "y_bkg = np.zeros(len(inputs_bkg_train))\n",
    "y_tmp = np.concatenate((y_sig,y_bkg))\n",
    "\n",
    "# test\n",
    "y_sig_test = np.ones(len(inputs_sig_test))\n",
    "y_bkg_test = np.zeros(len(inputs_bkg_test))\n",
    "y_test = np.concatenate((y_sig_test,y_bkg_test))\n",
    "\n",
    "print (np.shape(inputs))\n",
    "print (np.shape(y_tmp))"
   ]
  },
  {
   "cell_type": "code",
   "execution_count": null,
   "metadata": {},
   "outputs": [],
   "source": [
    "# start a sequential model\n",
    "model = tf.keras.models.Sequential()\n",
    "\n",
    "# add the LBN layer\n",
    "lbn_layer = LBNLayer((2, 4), n_particles=2, boost_mode=LBN.PAIRS, features=[\"E\", \"px\", \"py\", \"pz\"])\n",
    "\n",
    "model.add(lbn_layer)\n",
    "\n",
    "model.add( tf.keras.layers.Dense(units=8, activation='relu' ) )\n",
    "model.add( tf.keras.layers.Dense(units=64, activation='relu' ) )\n",
    "model.add( tf.keras.layers.Dense(units=8, activation='relu' ) )\n",
    "\n",
    "model.add( tf.keras.layers.Dense(units=1, activation='sigmoid' ) ) \n",
    "\n",
    "# compile the model\n",
    "model.compile( loss='binary_crossentropy', optimizer='rmsprop', metrics=['acc'])\n",
    "\n",
    "#model.compile(loss=\"categorical_crossentropy\")\n",
    "\n",
    "features = model.predict(inputs)"
   ]
  },
  {
   "cell_type": "code",
   "execution_count": null,
   "metadata": {},
   "outputs": [],
   "source": [
    "\n",
    "history = model.fit(inputs, y_tmp, epochs=1000, batch_size=batch_size, validation_split=validation_split)"
   ]
  },
  {
   "cell_type": "code",
   "execution_count": null,
   "metadata": {},
   "outputs": [],
   "source": [
    "history_dict = history.history\n",
    "\n",
    "loss_values  = history_dict['loss']\n",
    "acc_values = history_dict['acc']\n",
    "\n",
    "epochslist = range(1,  len(loss_values)+1)\n",
    "        \n",
    "plt.plot(epochslist, loss_values, 'b', label='Training loss')\n",
    "plt.plot(epochslist, acc_values,'b', color='green', label='Training accuracy')\n",
    "try:\n",
    "    val_loss_values = history_dict['val_loss']\n",
    "    plt.plot(epochslist, val_loss_values, 'b', color='red', label='Validation loss')\n",
    "    val_acc_values = history_dict['val_acc']\n",
    "    plt.plot(epochslist, val_acc_values, 'b', color='orange', label='Validation accuracy')\n",
    "except KeyError:\n",
    "    print (\"Didn't find validation loss\")\n",
    "\n",
    "plt.title('Training and validation loss (Valid. split = ' + str( validation_split ) + ')')\n",
    "plt.xlabel('Epochs  ( batch_size = ' + str( batch_size ) + ')')\n",
    "plt.ylabel('Loss')\n",
    "plt.legend()"
   ]
  },
  {
   "cell_type": "code",
   "execution_count": null,
   "metadata": {},
   "outputs": [],
   "source": [
    "y_test_pred = pd.DataFrame( model.predict( inputs_test  ) )"
   ]
  },
  {
   "cell_type": "code",
   "execution_count": null,
   "metadata": {},
   "outputs": [],
   "source": [
    "fpr_test, tpr_test, thresholds_test = roc_curve( y_test, y_test_pred )"
   ]
  },
  {
   "cell_type": "code",
   "execution_count": null,
   "metadata": {},
   "outputs": [],
   "source": [
    "auc_val_test = auc(fpr_test, tpr_test)\n",
    "\n",
    "plt.plot( tpr_test, 1-fpr_test, 'b', label= 'Auc=' + str(round(auc_val_test,4) ))\n",
    "\n",
    "#plt.title('ROC (sample info: ' + str( len( X_test[y_test == 1] ) + len( X_train[y_train == 1] ) ) + ' signals / '\n",
    "#                                              + str( len( X_test[y_test == 0] ) + len( X_train[y_train == 0] ) ) + ' background)'  )\n",
    "plt.xlabel('$\\epsilon_{Sig}$', fontsize = 20) # 'False positive rate'\n",
    "plt.ylabel('$1-\\epsilon_{Back}$', fontsize = 20) #  '1-True positive rate' \n",
    "plt.legend(loc ='lower left')"
   ]
  }
 ],
 "metadata": {
  "kernelspec": {
   "display_name": "coffeaEnv",
   "language": "python",
   "name": "coffeaenv"
  },
  "language_info": {
   "codemirror_mode": {
    "name": "ipython",
    "version": 3
   },
   "file_extension": ".py",
   "mimetype": "text/x-python",
   "name": "python",
   "nbconvert_exporter": "python",
   "pygments_lexer": "ipython3",
   "version": "3.6.4"
  }
 },
 "nbformat": 4,
 "nbformat_minor": 2
}
