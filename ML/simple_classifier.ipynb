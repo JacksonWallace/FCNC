{
 "cells": [
  {
   "cell_type": "markdown",
   "metadata": {},
   "source": [
    "# A simple example for machine learning with uproot / coffea\n",
    "\n",
    "Let's try to distinguish DY from ttW with just using rather low level inputs, and then compare to a simple M(ll) based discriminator."
   ]
  },
  {
   "cell_type": "code",
   "execution_count": 1,
   "metadata": {},
   "outputs": [
    {
     "name": "stderr",
     "output_type": "stream",
     "text": [
      "/cvmfs/cms.cern.ch/slc6_amd64_gcc700/external/py2-tensorflow/1.6.0-gnimlf4/lib/python3.6/site-packages/tensorflow/python/framework/dtypes.py:517: FutureWarning: Passing (type, 1) or '1type' as a synonym of type is deprecated; in a future version of numpy, it will be understood as (type, (1,)) / '(1,)type'.\n",
      "  _np_qint8 = np.dtype([(\"qint8\", np.int8, 1)])\n",
      "/cvmfs/cms.cern.ch/slc6_amd64_gcc700/external/py2-tensorflow/1.6.0-gnimlf4/lib/python3.6/site-packages/tensorflow/python/framework/dtypes.py:518: FutureWarning: Passing (type, 1) or '1type' as a synonym of type is deprecated; in a future version of numpy, it will be understood as (type, (1,)) / '(1,)type'.\n",
      "  _np_quint8 = np.dtype([(\"quint8\", np.uint8, 1)])\n",
      "/cvmfs/cms.cern.ch/slc6_amd64_gcc700/external/py2-tensorflow/1.6.0-gnimlf4/lib/python3.6/site-packages/tensorflow/python/framework/dtypes.py:519: FutureWarning: Passing (type, 1) or '1type' as a synonym of type is deprecated; in a future version of numpy, it will be understood as (type, (1,)) / '(1,)type'.\n",
      "  _np_qint16 = np.dtype([(\"qint16\", np.int16, 1)])\n",
      "/cvmfs/cms.cern.ch/slc6_amd64_gcc700/external/py2-tensorflow/1.6.0-gnimlf4/lib/python3.6/site-packages/tensorflow/python/framework/dtypes.py:520: FutureWarning: Passing (type, 1) or '1type' as a synonym of type is deprecated; in a future version of numpy, it will be understood as (type, (1,)) / '(1,)type'.\n",
      "  _np_quint16 = np.dtype([(\"quint16\", np.uint16, 1)])\n",
      "/cvmfs/cms.cern.ch/slc6_amd64_gcc700/external/py2-tensorflow/1.6.0-gnimlf4/lib/python3.6/site-packages/tensorflow/python/framework/dtypes.py:521: FutureWarning: Passing (type, 1) or '1type' as a synonym of type is deprecated; in a future version of numpy, it will be understood as (type, (1,)) / '(1,)type'.\n",
      "  _np_qint32 = np.dtype([(\"qint32\", np.int32, 1)])\n",
      "/cvmfs/cms.cern.ch/slc6_amd64_gcc700/external/py2-tensorflow/1.6.0-gnimlf4/lib/python3.6/site-packages/tensorflow/python/framework/dtypes.py:526: FutureWarning: Passing (type, 1) or '1type' as a synonym of type is deprecated; in a future version of numpy, it will be understood as (type, (1,)) / '(1,)type'.\n",
      "  np_resource = np.dtype([(\"resource\", np.ubyte, 1)])\n"
     ]
    }
   ],
   "source": [
    "import uproot\n",
    "import awkward\n",
    "import numpy as np\n",
    "import pandas as pd\n",
    "from uproot_methods import TLorentzVectorArray\n",
    "\n",
    "from coffea.processor import LazyDataFrame\n",
    "from coffea.analysis_objects import JaggedCandidateArray\n",
    "\n",
    "%matplotlib inline\n",
    "import matplotlib\n",
    "import matplotlib.pyplot as plt\n",
    "from matplotlib.colors import LogNorm\n",
    "\n",
    "import tensorflow as tf"
   ]
  },
  {
   "cell_type": "code",
   "execution_count": 2,
   "metadata": {},
   "outputs": [],
   "source": [
    "from sklearn.metrics import roc_curve, roc_auc_score, auc\n",
    "from sklearn.model_selection import train_test_split"
   ]
  },
  {
   "cell_type": "code",
   "execution_count": 3,
   "metadata": {},
   "outputs": [
    {
     "name": "stdout",
     "output_type": "stream",
     "text": [
      "Have 63189 signal events and 392177 background events\n"
     ]
    }
   ],
   "source": [
    "\n",
    "# Load some prepared data\n",
    "sig_file = uproot.open('DY.root')\n",
    "bkg_file = uproot.open('bkg.root')\n",
    "\n",
    "bkg_tree = bkg_file['Events']\n",
    "sig_tree = sig_file['Events']\n",
    "bkg = LazyDataFrame(bkg_tree, flatten=True)\n",
    "sig = LazyDataFrame(sig_tree, flatten=True)\n",
    "\n",
    "print (\"Have %s signal events and %s background events\"%(len(sig['MET_phi']), len(bkg['MET_phi'])))\n"
   ]
  },
  {
   "cell_type": "code",
   "execution_count": 4,
   "metadata": {},
   "outputs": [],
   "source": [
    "## Preprocessing data. This is rather slow, so probably building a custom data frame or dictionary would make more sense\n",
    "#sig_df_in = sig_tree.pandas.df(flatten=False)\n",
    "#bkg_df_in = bkg_tree.pandas.df(flatten=False)\n"
   ]
  },
  {
   "cell_type": "code",
   "execution_count": 5,
   "metadata": {},
   "outputs": [],
   "source": [
    "def convertToDF( df ):\n",
    "\n",
    "    eventSelection = ( (df['nLepton']==2) & (df['nVetoLepton']==2) )\n",
    "    #df = df[eventSelection]\n",
    "    \n",
    "    jets = JaggedCandidateArray.candidatesfromcounts(\n",
    "        df['nJet'],\n",
    "        pt=df['Jet_pt'],\n",
    "        eta=df['Jet_eta'],\n",
    "        phi=df['Jet_phi'],\n",
    "        mass=df['Jet_mass'],\n",
    "        btag=df['Jet_btagDeepB'],\n",
    "    )\n",
    "    \n",
    "    leptons = JaggedCandidateArray.candidatesfromcounts(\n",
    "        df['nLepton'],\n",
    "        pt=df['Lepton_pt'],\n",
    "        eta=df['Lepton_eta'],\n",
    "        phi=df['Lepton_phi'],\n",
    "        mass= df['Lepton_mass'],\n",
    "        charge=df['Lepton_pdgId']/abs(df['Lepton_pdgId'])\n",
    "    )\n",
    "\n",
    "    leadingJet = jets[jets.pt.argmax()]\n",
    "    leadingJet = leadingJet[eventSelection]\n",
    "    \n",
    "    leptons = leptons[eventSelection]\n",
    "    \n",
    "    leadingLepton = leptons[leptons.pt.argmax()]\n",
    "    \n",
    "    subleadingLepton = leptons[leptons.pt.argmin()] # this works because we select events with just two leptons in the end\n",
    "    \n",
    "    dileptons = leptons.choose(2)\n",
    "    \n",
    "    met = pd.DataFrame({'pt':df['MET_pt'], 'phi':df['MET_phi']}) # there should be a better way than this, but otherwise can't select events\n",
    "    \n",
    "    met = met[eventSelection]\n",
    "    \n",
    "    return pd.DataFrame({\n",
    "            'leadingJet_pt':leadingJet.pt.flatten(), \n",
    "            'lep0_pt':dileptons.i0.pt.flatten(),\n",
    "            'lep0_eta':dileptons.i0.eta.flatten(),\n",
    "            'lep0_phi':dileptons.i0.phi.flatten(),\n",
    "            'lep0_charge':dileptons.i0.charge.flatten(),\n",
    "            'lep0_mass':dileptons.i0.mass.flatten(),\n",
    "            'lep1_pt':dileptons.i1.pt.flatten(),\n",
    "            'lep1_eta':dileptons.i1.eta.flatten(),\n",
    "            'lep1_phi':dileptons.i1.phi.flatten(),\n",
    "            'lep1_charge':dileptons.i1.charge.flatten(),\n",
    "            'lep1_mass':dileptons.i1.mass.flatten(),\n",
    "            'mll': dileptons.mass.flatten(), \n",
    "            'dilepton_pt':dileptons.pt.flatten(),\n",
    "            'MET_pt':met['pt'],\n",
    "    })\n",
    "\n",
    "\n"
   ]
  },
  {
   "cell_type": "code",
   "execution_count": 6,
   "metadata": {},
   "outputs": [],
   "source": [
    "sig_df = convertToDF( sig )\n",
    "bkg_df = convertToDF( bkg )"
   ]
  },
  {
   "cell_type": "code",
   "execution_count": 7,
   "metadata": {},
   "outputs": [],
   "source": [
    "#sig = sig_df_in[((sig_df_in['nLepton']==2) & (sig_df_in['nVetoLepton']==2))]\n",
    "#sig_df = pd.DataFrame({'MET_pt': sig['MET_pt'], 'nGoodJet': sig['nGoodJet']})\n",
    "\n",
    "#bkg = bkg_df_in[((bkg_df_in['nLepton']==2) & (bkg_df_in['nVetoLepton']==2))]\n",
    "#bkg_df = pd.DataFrame({'MET_pt': bkg['MET_pt'], 'nGoodJet': bkg['nGoodJet']})\n",
    "\n",
    "#print (len(my_bkg_df['MET_pt']))"
   ]
  },
  {
   "cell_type": "code",
   "execution_count": 8,
   "metadata": {},
   "outputs": [],
   "source": [
    "# usually we have less signal than background\n",
    "nSignal = len(sig_df['MET_pt'])\n",
    "\n",
    "# Balance the signal and background sets\n",
    "tmp_bkg_df = bkg_df.sample( n = nSignal )\n",
    "\n",
    "y_sig = np.ones(len(sig_df))\n",
    "y_bkg = np.zeros(len(tmp_bkg_df))\n",
    "y_tmp = np.concatenate((y_sig,y_bkg))\n",
    "\n",
    "# merge signal and background\n",
    "frames = [sig_df, tmp_bkg_df]\n",
    "X_tmp = pd.concat(frames)"
   ]
  },
  {
   "cell_type": "code",
   "execution_count": 9,
   "metadata": {},
   "outputs": [
    {
     "name": "stderr",
     "output_type": "stream",
     "text": [
      "/cvmfs/cms.cern.ch/slc6_amd64_gcc700/external/py2-scikit-learn/0.19.1/lib/python3.6/site-packages/sklearn/model_selection/_split.py:2026: FutureWarning: From version 0.21, test_size will always complement train_size unless both are specified.\n",
      "  FutureWarning)\n"
     ]
    }
   ],
   "source": [
    "# Splitting in training and test samples\n",
    "X_tmp_train, X_tmp_test, y_train, y_test = train_test_split(X_tmp, y_tmp, train_size= int( 0.5*y_tmp.shape[0] ), random_state=42 )"
   ]
  },
  {
   "cell_type": "code",
   "execution_count": 10,
   "metadata": {},
   "outputs": [],
   "source": [
    "#variables = ['leadingJet_pt', 'leadingLepton_pt', 'subleadingLepton_pt', 'mll', 'dilepton_pt', 'MET_pt']\n",
    "variables = ['lep0_pt', 'lep0_eta', 'lep0_phi', 'lep0_charge', 'lep0_mass', 'lep1_pt', 'lep1_eta', 'lep1_phi', 'lep1_charge', 'lep1_mass']\n",
    "X_train = X_tmp_train[variables]\n",
    "X_test = X_tmp_test[variables]\n",
    "X_myTest = X_tmp_test[['mll', 'MET_pt']]"
   ]
  },
  {
   "cell_type": "code",
   "execution_count": 11,
   "metadata": {},
   "outputs": [],
   "source": [
    "NHLayer = 5\n",
    "units = 100\n",
    "epochs = 100\n",
    "batch_size = 5120\n",
    "validation_split = 0.2\n",
    "earlystopping = False\n",
    "dropout = 0\n",
    "\n",
    "# define the model. Which one is the best suited for our problem?\n",
    "model = tf.keras.models.Sequential()\n",
    "\n",
    "# add layers. we can play a bit with the hyper parameters here\n",
    "model.add( tf.keras.layers.Dense(units=units, activation='relu', input_dim=X_train.shape[1], ))\n",
    "for i in range(NHLayer):\n",
    "    model.add( tf.keras.layers.Dense(units= units, activation='relu' ) )\n",
    "model.add( tf.keras.layers.Dense(units=1, activation='sigmoid' ) ) \n",
    "\n",
    "# compile the model\n",
    "model.compile( loss='binary_crossentropy', optimizer='rmsprop', metrics=['acc'])"
   ]
  },
  {
   "cell_type": "code",
   "execution_count": 12,
   "metadata": {},
   "outputs": [
    {
     "name": "stdout",
     "output_type": "stream",
     "text": [
      "Train on 24159 samples, validate on 6040 samples\n",
      "Epoch 1/100\n",
      "24159/24159 [==============================]24159/24159 [==============================] - 1s 34us/step - loss: 1.5634 - acc: 0.5095 - val_loss: 0.7830 - val_acc: 0.5144\n",
      "\n",
      "Epoch 2/100\n",
      "24159/24159 [==============================]24159/24159 [==============================] - 0s 8us/step - loss: 0.7679 - acc: 0.5181 - val_loss: 0.6883 - val_acc: 0.4859\n",
      "\n",
      "Epoch 3/100\n",
      "24159/24159 [==============================]24159/24159 [==============================] - 0s 9us/step - loss: 0.6723 - acc: 0.5458 - val_loss: 0.6718 - val_acc: 0.5801\n",
      "\n",
      "Epoch 4/100\n",
      "24159/24159 [==============================]24159/24159 [==============================] - 0s 7us/step - loss: 0.6761 - acc: 0.5571 - val_loss: 0.7150 - val_acc: 0.4856\n",
      "\n",
      "Epoch 5/100\n",
      "24159/24159 [==============================]24159/24159 [==============================] - 0s 8us/step - loss: 0.6939 - acc: 0.5384 - val_loss: 0.6689 - val_acc: 0.5942\n",
      "\n",
      "Epoch 6/100\n",
      "24159/24159 [==============================]24159/24159 [==============================] - 0s 8us/step - loss: 0.6663 - acc: 0.5673 - val_loss: 0.6654 - val_acc: 0.5242\n",
      "\n",
      "Epoch 7/100\n",
      "24159/24159 [==============================]24159/24159 [==============================] - 0s 9us/step - loss: 0.6617 - acc: 0.5641 - val_loss: 0.6853 - val_acc: 0.5949\n",
      "\n",
      "Epoch 8/100\n",
      "24159/24159 [==============================]24159/24159 [==============================] - 0s 7us/step - loss: 0.7031 - acc: 0.5230 - val_loss: 0.7261 - val_acc: 0.4856\n",
      "\n",
      "Epoch 9/100\n",
      "24159/24159 [==============================]24159/24159 [==============================] - 0s 8us/step - loss: 0.6854 - acc: 0.5355 - val_loss: 0.6528 - val_acc: 0.6071\n",
      "\n",
      "Epoch 10/100\n",
      "24159/24159 [==============================]24159/24159 [==============================] - 0s 8us/step - loss: 0.6497 - acc: 0.6046 - val_loss: 0.6521 - val_acc: 0.5765\n",
      "\n",
      "Epoch 11/100\n",
      "24159/24159 [==============================]24159/24159 [==============================] - 0s 8us/step - loss: 0.6528 - acc: 0.5890 - val_loss: 0.6571 - val_acc: 0.6212\n",
      "\n",
      "Epoch 12/100\n",
      "24159/24159 [==============================]24159/24159 [==============================] - 0s 8us/step - loss: 0.6643 - acc: 0.5694 - val_loss: 0.6845 - val_acc: 0.4866\n",
      "\n",
      "Epoch 13/100\n",
      "24159/24159 [==============================]24159/24159 [==============================] - 0s 8us/step - loss: 0.6679 - acc: 0.5655 - val_loss: 0.6637 - val_acc: 0.6187\n",
      "\n",
      "Epoch 14/100\n",
      "24159/24159 [==============================]24159/24159 [==============================] - 0s 8us/step - loss: 0.6495 - acc: 0.6057 - val_loss: 0.6438 - val_acc: 0.6199\n",
      "\n",
      "Epoch 15/100\n",
      "24159/24159 [==============================]24159/24159 [==============================] - 0s 8us/step - loss: 0.6389 - acc: 0.6249 - val_loss: 0.6439 - val_acc: 0.6348\n",
      "\n",
      "Epoch 16/100\n",
      "24159/24159 [==============================]24159/24159 [==============================] - 0s 8us/step - loss: 0.6702 - acc: 0.5499 - val_loss: 0.6588 - val_acc: 0.5127\n",
      "\n",
      "Epoch 17/100\n",
      "24159/24159 [==============================]24159/24159 [==============================] - 0s 8us/step - loss: 0.6486 - acc: 0.5950 - val_loss: 0.6372 - val_acc: 0.6450\n",
      "\n",
      "Epoch 18/100\n",
      "24159/24159 [==============================]24159/24159 [==============================] - 0s 8us/step - loss: 0.6408 - acc: 0.6271 - val_loss: 0.6524 - val_acc: 0.5406\n",
      "\n",
      "Epoch 19/100\n",
      "24159/24159 [==============================]24159/24159 [==============================] - 0s 8us/step - loss: 0.6396 - acc: 0.6228 - val_loss: 0.6300 - val_acc: 0.6656\n",
      "\n",
      "Epoch 20/100\n",
      "24159/24159 [==============================]24159/24159 [==============================] - 0s 8us/step - loss: 0.6415 - acc: 0.6257 - val_loss: 0.6494 - val_acc: 0.5124\n",
      "\n",
      "Epoch 21/100\n",
      "24159/24159 [==============================]24159/24159 [==============================] - 0s 8us/step - loss: 0.6624 - acc: 0.5506 - val_loss: 0.6384 - val_acc: 0.6631\n",
      "\n",
      "Epoch 22/100\n",
      "24159/24159 [==============================]24159/24159 [==============================] - 0s 8us/step - loss: 0.6305 - acc: 0.6587 - val_loss: 0.6430 - val_acc: 0.5960\n",
      "\n",
      "Epoch 23/100\n",
      "24159/24159 [==============================]24159/24159 [==============================] - 0s 7us/step - loss: 0.6567 - acc: 0.5918 - val_loss: 0.6460 - val_acc: 0.6396\n",
      "\n",
      "Epoch 24/100\n",
      "24159/24159 [==============================]24159/24159 [==============================] - 0s 8us/step - loss: 0.6393 - acc: 0.6359 - val_loss: 0.6248 - val_acc: 0.6750\n",
      "\n",
      "Epoch 25/100\n",
      "24159/24159 [==============================]24159/24159 [==============================] - 0s 8us/step - loss: 0.6282 - acc: 0.6515 - val_loss: 0.6255 - val_acc: 0.6892\n",
      "\n",
      "Epoch 26/100\n",
      "24159/24159 [==============================]24159/24159 [==============================] - 0s 8us/step - loss: 0.6197 - acc: 0.6797 - val_loss: 0.6386 - val_acc: 0.6116\n",
      "\n",
      "Epoch 27/100\n",
      "24159/24159 [==============================]24159/24159 [==============================] - 0s 8us/step - loss: 0.6825 - acc: 0.5937 - val_loss: 0.6222 - val_acc: 0.6927\n",
      "\n",
      "Epoch 28/100\n",
      "24159/24159 [==============================]24159/24159 [==============================] - 0s 7us/step - loss: 0.6226 - acc: 0.6697 - val_loss: 0.6314 - val_acc: 0.6141\n",
      "\n",
      "Epoch 29/100\n",
      "24159/24159 [==============================]24159/24159 [==============================] - 0s 8us/step - loss: 0.6190 - acc: 0.6633 - val_loss: 0.6138 - val_acc: 0.6894\n",
      "\n",
      "Epoch 30/100\n",
      "24159/24159 [==============================]24159/24159 [==============================] - 0s 8us/step - loss: 0.6283 - acc: 0.6419 - val_loss: 0.6325 - val_acc: 0.6219\n",
      "\n",
      "Epoch 31/100\n",
      "24159/24159 [==============================]24159/24159 [==============================] - 0s 8us/step - loss: 0.6300 - acc: 0.6423 - val_loss: 0.6040 - val_acc: 0.7007\n",
      "\n",
      "Epoch 32/100\n",
      "24159/24159 [==============================]24159/24159 [==============================] - 0s 7us/step - loss: 0.6145 - acc: 0.6712 - val_loss: 0.6368 - val_acc: 0.6417\n",
      "\n",
      "Epoch 33/100\n",
      "24159/24159 [==============================]24159/24159 [==============================] - 0s 8us/step - loss: 0.6176 - acc: 0.6736 - val_loss: 0.6225 - val_acc: 0.6435\n",
      "\n",
      "Epoch 34/100\n",
      "24159/24159 [==============================]24159/24159 [==============================] - 0s 8us/step - loss: 0.6267 - acc: 0.6465 - val_loss: 0.6076 - val_acc: 0.7033\n",
      "\n",
      "Epoch 35/100\n",
      "24159/24159 [==============================]24159/24159 [==============================] - 0s 8us/step - loss: 0.6159 - acc: 0.6660 - val_loss: 0.6022 - val_acc: 0.7013\n",
      "\n",
      "Epoch 36/100\n",
      "24159/24159 [==============================]24159/24159 [==============================] - 0s 8us/step - loss: 0.5954 - acc: 0.7052 - val_loss: 0.5992 - val_acc: 0.7083\n",
      "\n",
      "Epoch 37/100\n",
      "24159/24159 [==============================]24159/24159 [==============================] - 0s 8us/step - loss: 0.6424 - acc: 0.6445 - val_loss: 0.6123 - val_acc: 0.6934\n",
      "\n",
      "Epoch 38/100\n",
      "24159/24159 [==============================]24159/24159 [==============================] - 0s 8us/step - loss: 0.6093 - acc: 0.6771 - val_loss: 0.7057 - val_acc: 0.5868\n",
      "\n",
      "Epoch 39/100\n",
      "24159/24159 [==============================]24159/24159 [==============================] - 0s 8us/step - loss: 0.6387 - acc: 0.6461 - val_loss: 0.6060 - val_acc: 0.6834\n",
      "\n",
      "Epoch 40/100\n",
      "24159/24159 [==============================]24159/24159 [==============================] - 0s 8us/step - loss: 0.6004 - acc: 0.6899 - val_loss: 0.5934 - val_acc: 0.7066\n",
      "\n",
      "Epoch 41/100\n",
      "24159/24159 [==============================]24159/24159 [==============================] - 0s 8us/step - loss: 0.6034 - acc: 0.6818 - val_loss: 0.5838 - val_acc: 0.7093\n",
      "\n",
      "Epoch 42/100\n",
      "24159/24159 [==============================]24159/24159 [==============================] - 0s 8us/step - loss: 0.6127 - acc: 0.6638 - val_loss: 0.6000 - val_acc: 0.7142\n",
      "\n",
      "Epoch 43/100\n",
      "24159/24159 [==============================]24159/24159 [==============================] - 0s 8us/step - loss: 0.5877 - acc: 0.7059 - val_loss: 0.5856 - val_acc: 0.7086\n",
      "\n",
      "Epoch 44/100\n",
      "24159/24159 [==============================]24159/24159 [==============================] - 0s 8us/step - loss: 0.6277 - acc: 0.6471 - val_loss: 0.6046 - val_acc: 0.7056\n",
      "\n",
      "Epoch 45/100\n"
     ]
    },
    {
     "name": "stdout",
     "output_type": "stream",
     "text": [
      "24159/24159 [==============================]24159/24159 [==============================] - 0s 9us/step - loss: 0.5911 - acc: 0.7086 - val_loss: 0.5981 - val_acc: 0.6929\n",
      "\n",
      "Epoch 46/100\n",
      "24159/24159 [==============================]24159/24159 [==============================] - 0s 8us/step - loss: 0.6034 - acc: 0.6826 - val_loss: 0.6347 - val_acc: 0.6373\n",
      "\n",
      "Epoch 47/100\n",
      "24159/24159 [==============================]24159/24159 [==============================] - 0s 8us/step - loss: 0.6179 - acc: 0.6616 - val_loss: 0.5807 - val_acc: 0.7205\n",
      "\n",
      "Epoch 48/100\n",
      "24159/24159 [==============================]24159/24159 [==============================] - 0s 8us/step - loss: 0.5872 - acc: 0.6997 - val_loss: 0.5862 - val_acc: 0.7022\n",
      "\n",
      "Epoch 49/100\n",
      "24159/24159 [==============================]24159/24159 [==============================] - 0s 8us/step - loss: 0.5830 - acc: 0.7035 - val_loss: 0.5795 - val_acc: 0.7055\n",
      "\n",
      "Epoch 50/100\n",
      "24159/24159 [==============================]24159/24159 [==============================] - 0s 8us/step - loss: 0.5994 - acc: 0.6856 - val_loss: 0.5825 - val_acc: 0.7066\n",
      "\n",
      "Epoch 51/100\n",
      "24159/24159 [==============================]24159/24159 [==============================] - 0s 8us/step - loss: 0.5807 - acc: 0.7067 - val_loss: 0.5792 - val_acc: 0.7030\n",
      "\n",
      "Epoch 52/100\n",
      "24159/24159 [==============================]24159/24159 [==============================] - 0s 8us/step - loss: 0.6037 - acc: 0.6738 - val_loss: 0.6174 - val_acc: 0.6411\n",
      "\n",
      "Epoch 53/100\n",
      "24159/24159 [==============================]24159/24159 [==============================] - 0s 8us/step - loss: 0.5899 - acc: 0.6909 - val_loss: 0.5739 - val_acc: 0.7137\n",
      "\n",
      "Epoch 54/100\n",
      "24159/24159 [==============================]24159/24159 [==============================] - 0s 8us/step - loss: 0.5821 - acc: 0.6973 - val_loss: 0.5789 - val_acc: 0.6970\n",
      "\n",
      "Epoch 55/100\n",
      "24159/24159 [==============================]24159/24159 [==============================] - 0s 7us/step - loss: 0.5719 - acc: 0.7101 - val_loss: 0.6258 - val_acc: 0.6348\n",
      "\n",
      "Epoch 56/100\n",
      "24159/24159 [==============================]24159/24159 [==============================] - 0s 8us/step - loss: 0.6274 - acc: 0.6421 - val_loss: 0.5736 - val_acc: 0.7333\n",
      "\n",
      "Epoch 57/100\n",
      "24159/24159 [==============================]24159/24159 [==============================] - 0s 8us/step - loss: 0.5698 - acc: 0.7235 - val_loss: 0.5678 - val_acc: 0.7224\n",
      "\n",
      "Epoch 58/100\n",
      "24159/24159 [==============================]24159/24159 [==============================] - 0s 8us/step - loss: 0.5773 - acc: 0.7014 - val_loss: 0.5710 - val_acc: 0.7156\n",
      "\n",
      "Epoch 59/100\n",
      "24159/24159 [==============================]24159/24159 [==============================] - 0s 8us/step - loss: 0.5563 - acc: 0.7313 - val_loss: 0.6004 - val_acc: 0.6738\n",
      "\n",
      "Epoch 60/100\n",
      "24159/24159 [==============================]24159/24159 [==============================] - 0s 8us/step - loss: 0.6074 - acc: 0.6665 - val_loss: 0.6011 - val_acc: 0.6642\n",
      "\n",
      "Epoch 61/100\n",
      "24159/24159 [==============================]24159/24159 [==============================] - 0s 8us/step - loss: 0.5689 - acc: 0.7121 - val_loss: 0.5548 - val_acc: 0.7377\n",
      "\n",
      "Epoch 62/100\n",
      "24159/24159 [==============================]24159/24159 [==============================] - 0s 9us/step - loss: 0.5641 - acc: 0.7192 - val_loss: 0.6335 - val_acc: 0.6200\n",
      "\n",
      "Epoch 63/100\n",
      "24159/24159 [==============================]24159/24159 [==============================] - 0s 8us/step - loss: 0.5685 - acc: 0.7134 - val_loss: 0.5399 - val_acc: 0.7445\n",
      "\n",
      "Epoch 64/100\n",
      "24159/24159 [==============================]24159/24159 [==============================] - 0s 8us/step - loss: 0.5826 - acc: 0.6926 - val_loss: 0.5485 - val_acc: 0.7432\n",
      "\n",
      "Epoch 65/100\n",
      "24159/24159 [==============================]24159/24159 [==============================] - 0s 8us/step - loss: 0.5398 - acc: 0.7468 - val_loss: 0.5469 - val_acc: 0.7374\n",
      "\n",
      "Epoch 66/100\n",
      "24159/24159 [==============================]24159/24159 [==============================] - 0s 8us/step - loss: 0.5779 - acc: 0.6945 - val_loss: 0.5663 - val_acc: 0.7076\n",
      "\n",
      "Epoch 67/100\n",
      "24159/24159 [==============================]24159/24159 [==============================] - 0s 8us/step - loss: 0.5434 - acc: 0.7408 - val_loss: 0.6643 - val_acc: 0.5651\n",
      "\n",
      "Epoch 68/100\n",
      "24159/24159 [==============================]24159/24159 [==============================] - 0s 8us/step - loss: 0.6393 - acc: 0.6444 - val_loss: 0.5340 - val_acc: 0.7593\n",
      "\n",
      "Epoch 69/100\n",
      "24159/24159 [==============================]24159/24159 [==============================] - 0s 8us/step - loss: 0.5428 - acc: 0.7403 - val_loss: 0.5181 - val_acc: 0.7652\n",
      "\n",
      "Epoch 70/100\n",
      "24159/24159 [==============================]24159/24159 [==============================] - 0s 8us/step - loss: 0.5791 - acc: 0.6946 - val_loss: 0.5658 - val_acc: 0.7205\n",
      "\n",
      "Epoch 71/100\n",
      "24159/24159 [==============================]24159/24159 [==============================] - 0s 8us/step - loss: 0.5412 - acc: 0.7406 - val_loss: 0.5094 - val_acc: 0.7753\n",
      "\n",
      "Epoch 72/100\n",
      "24159/24159 [==============================]24159/24159 [==============================] - 0s 8us/step - loss: 0.5910 - acc: 0.6870 - val_loss: 0.6265 - val_acc: 0.6088\n",
      "\n",
      "Epoch 73/100\n",
      "24159/24159 [==============================]24159/24159 [==============================] - 0s 7us/step - loss: 0.5519 - acc: 0.7278 - val_loss: 0.5247 - val_acc: 0.7644\n",
      "\n",
      "Epoch 74/100\n",
      "24159/24159 [==============================]24159/24159 [==============================] - 0s 9us/step - loss: 0.5421 - acc: 0.7430 - val_loss: 0.5682 - val_acc: 0.7111\n",
      "\n",
      "Epoch 75/100\n",
      "24159/24159 [==============================]24159/24159 [==============================] - 0s 8us/step - loss: 0.5414 - acc: 0.7367 - val_loss: 0.5325 - val_acc: 0.7493\n",
      "\n",
      "Epoch 76/100\n",
      "24159/24159 [==============================]24159/24159 [==============================] - 0s 8us/step - loss: 0.5369 - acc: 0.7427 - val_loss: 0.5432 - val_acc: 0.7386\n",
      "\n",
      "Epoch 77/100\n",
      "24159/24159 [==============================]24159/24159 [==============================] - 0s 8us/step - loss: 0.5446 - acc: 0.7369 - val_loss: 0.5585 - val_acc: 0.7162\n",
      "\n",
      "Epoch 78/100\n",
      "24159/24159 [==============================]24159/24159 [==============================] - 0s 8us/step - loss: 0.5330 - acc: 0.7451 - val_loss: 0.5103 - val_acc: 0.7704\n",
      "\n",
      "Epoch 79/100\n",
      "24159/24159 [==============================]24159/24159 [==============================] - 0s 7us/step - loss: 0.5366 - acc: 0.7393 - val_loss: 0.4934 - val_acc: 0.7877\n",
      "\n",
      "Epoch 80/100\n",
      "24159/24159 [==============================]24159/24159 [==============================] - 0s 8us/step - loss: 0.5711 - acc: 0.7313 - val_loss: 0.7033 - val_acc: 0.6142\n",
      "\n",
      "Epoch 81/100\n",
      "24159/24159 [==============================]24159/24159 [==============================] - 0s 7us/step - loss: 0.5760 - acc: 0.7174 - val_loss: 0.4967 - val_acc: 0.7838\n",
      "\n",
      "Epoch 82/100\n",
      "24159/24159 [==============================]24159/24159 [==============================] - 0s 7us/step - loss: 0.5193 - acc: 0.7599 - val_loss: 0.5333 - val_acc: 0.7498\n",
      "\n",
      "Epoch 83/100\n",
      "24159/24159 [==============================]24159/24159 [==============================] - 0s 8us/step - loss: 0.4970 - acc: 0.7799 - val_loss: 0.4815 - val_acc: 0.7954\n",
      "\n",
      "Epoch 84/100\n",
      "24159/24159 [==============================]24159/24159 [==============================] - 0s 8us/step - loss: 0.5399 - acc: 0.7428 - val_loss: 0.4883 - val_acc: 0.7932\n",
      "\n",
      "Epoch 85/100\n",
      "24159/24159 [==============================]24159/24159 [==============================] - 0s 8us/step - loss: 0.5658 - acc: 0.7043 - val_loss: 0.5183 - val_acc: 0.7752\n",
      "\n",
      "Epoch 86/100\n",
      "24159/24159 [==============================]24159/24159 [==============================] - 0s 8us/step - loss: 0.4903 - acc: 0.7890 - val_loss: 0.5677 - val_acc: 0.7214\n",
      "\n",
      "Epoch 87/100\n",
      "24159/24159 [==============================]24159/24159 [==============================] - 0s 8us/step - loss: 0.5518 - acc: 0.7278 - val_loss: 0.5097 - val_acc: 0.7733\n",
      "\n",
      "Epoch 88/100\n",
      "24159/24159 [==============================]24159/24159 [==============================] - 0s 7us/step - loss: 0.5242 - acc: 0.7621 - val_loss: 0.5191 - val_acc: 0.7702\n",
      "\n",
      "Epoch 89/100\n",
      "24159/24159 [==============================]24159/24159 [==============================] - 0s 8us/step - loss: 0.5326 - acc: 0.7512 - val_loss: 0.4663 - val_acc: 0.7944\n"
     ]
    },
    {
     "name": "stdout",
     "output_type": "stream",
     "text": [
      "\n",
      "Epoch 90/100\n",
      "24159/24159 [==============================]24159/24159 [==============================] - 0s 8us/step - loss: 0.4978 - acc: 0.7770 - val_loss: 0.5224 - val_acc: 0.7546\n",
      "\n",
      "Epoch 91/100\n",
      "24159/24159 [==============================]24159/24159 [==============================] - 0s 8us/step - loss: 0.5195 - acc: 0.7617 - val_loss: 0.4676 - val_acc: 0.7919\n",
      "\n",
      "Epoch 92/100\n",
      "24159/24159 [==============================]24159/24159 [==============================] - 0s 8us/step - loss: 0.4891 - acc: 0.7763 - val_loss: 0.5403 - val_acc: 0.7437\n",
      "\n",
      "Epoch 93/100\n",
      "24159/24159 [==============================]24159/24159 [==============================] - 0s 8us/step - loss: 0.5287 - acc: 0.7564 - val_loss: 0.5342 - val_acc: 0.7493\n",
      "\n",
      "Epoch 94/100\n",
      "24159/24159 [==============================]24159/24159 [==============================] - 0s 8us/step - loss: 0.5252 - acc: 0.7622 - val_loss: 0.4724 - val_acc: 0.7919\n",
      "\n",
      "Epoch 95/100\n",
      "24159/24159 [==============================]24159/24159 [==============================] - 0s 7us/step - loss: 0.4712 - acc: 0.7907 - val_loss: 0.5462 - val_acc: 0.7411\n",
      "\n",
      "Epoch 96/100\n",
      "24159/24159 [==============================]24159/24159 [==============================] - 0s 8us/step - loss: 0.5152 - acc: 0.7521 - val_loss: 0.4710 - val_acc: 0.7877\n",
      "\n",
      "Epoch 97/100\n",
      "24159/24159 [==============================]24159/24159 [==============================] - 0s 8us/step - loss: 0.5024 - acc: 0.7680 - val_loss: 0.4642 - val_acc: 0.7964\n",
      "\n",
      "Epoch 98/100\n",
      "24159/24159 [==============================]24159/24159 [==============================] - 0s 8us/step - loss: 0.4849 - acc: 0.7756 - val_loss: 0.4653 - val_acc: 0.7919\n",
      "\n",
      "Epoch 99/100\n",
      "24159/24159 [==============================]24159/24159 [==============================] - 0s 9us/step - loss: 0.4704 - acc: 0.7902 - val_loss: 0.5019 - val_acc: 0.7811\n",
      "\n",
      "Epoch 100/100\n",
      "24159/24159 [==============================]24159/24159 [==============================] - 0s 8us/step - loss: 0.5040 - acc: 0.7688 - val_loss: 0.4553 - val_acc: 0.7975\n",
      "\n"
     ]
    }
   ],
   "source": [
    "history = model.fit(X_train.values, y_train, epochs=epochs, batch_size=batch_size, validation_split=validation_split)\n",
    "model.save( 'training.h5a' )"
   ]
  },
  {
   "cell_type": "code",
   "execution_count": 13,
   "metadata": {},
   "outputs": [],
   "source": [
    "# use the model to predict whether an event is signal or background\n",
    "y_test_pred = pd.DataFrame( model.predict( X_test.values  ) , index = X_test.index)\n",
    "\n",
    "# as a comparison, use a mll based discriminator:\n",
    "y_test_pred_mll = (1-abs(X_myTest[['mll']]-91.2)/91.2).values.flatten()"
   ]
  },
  {
   "cell_type": "code",
   "execution_count": 14,
   "metadata": {
    "scrolled": true
   },
   "outputs": [
    {
     "data": {
      "image/png": "[encoded data removed]",
      "text/plain": [
       "<Figure size 432x288 with 1 Axes>"
      ]
     },
     "metadata": {},
     "output_type": "display_data"
    }
   ],
   "source": [
    "xbin = 20\n",
    "hist, bins, ax = plt.hist( [ y_test_pred[y_test==0].values, y_test_pred[y_test==1].values ], xbin, log=False, label=['Background ('+ str((y_test==0).sum()) +')' ,'Signal ('+ str((y_test==1).sum()) +')'], histtype='stepfilled', alpha=0.5) "
   ]
  },
  {
   "cell_type": "code",
   "execution_count": 15,
   "metadata": {},
   "outputs": [
    {
     "data": {
      "image/png": "[encoded data removed]",
      "text/plain": [
       "<Figure size 432x288 with 1 Axes>"
      ]
     },
     "metadata": {},
     "output_type": "display_data"
    }
   ],
   "source": [
    "# just looking at M(ll)\n",
    "\n",
    "xbin = range(0,200,10)\n",
    "hist, bins, ax = plt.hist( [ X_myTest[['mll']][y_test==0].values, X_myTest[['mll']][y_test==1].values ], xbin, log=False, histtype='stepfilled', alpha=0.5) "
   ]
  },
  {
   "cell_type": "code",
   "execution_count": 16,
   "metadata": {},
   "outputs": [
    {
     "data": {
      "text/plain": [
       "<matplotlib.legend.Legend at 0x7f3f7038ea20>"
      ]
     },
     "execution_count": 16,
     "metadata": {},
     "output_type": "execute_result"
    },
    {
     "data": {
      "image/png": "[encoded data removed]",
      "text/plain": [
       "<Figure size 432x288 with 1 Axes>"
      ]
     },
     "metadata": {},
     "output_type": "display_data"
    }
   ],
   "source": [
    "fpr_test, tpr_test, thresholds_test = roc_curve( y_test, y_test_pred )\n",
    "auc_val_test = auc(fpr_test, tpr_test)\n",
    "\n",
    "plt.plot( tpr_test, 1-fpr_test, 'b', label= 'Auc=' + str(round(auc_val_test,4) ))\n",
    "\n",
    "fpr_test_alt, tpr_test_alt, thresholds_test_alt = roc_curve( y_test, y_test_pred_mll )\n",
    "auc_val_test_alt = auc(fpr_test_alt, tpr_test_alt)\n",
    "\n",
    "plt.plot( tpr_test_alt, 1-fpr_test_alt, 'b', label= 'Auc=' + str(round(auc_val_test_alt,4) ), color='red')\n",
    "\n",
    "plt.title('ROC (sample info: ' + str( len( X_test[y_test == 1] ) + len( X_train[y_train == 1] ) ) + ' signals / '\n",
    "                                              + str( len( X_test[y_test == 0] ) + len( X_train[y_train == 0] ) ) + ' background)'  )\n",
    "plt.xlabel('$\\epsilon_{Sig}$', fontsize = 20) # 'False positive rate'\n",
    "plt.ylabel('$1-\\epsilon_{Back}$', fontsize = 20) #  '1-True positive rate' \n",
    "plt.legend(loc ='lower left')\n"
   ]
  },
  {
   "cell_type": "markdown",
   "metadata": {},
   "source": [
    "So, our ML model doesn't learn how to compute M(ll), and even though it has more information than we use in M(ll) (**lepton charge!**), it underperforms. This could have various reasons, one being that we just use a rather small training set of 30k events, or our network is not well suited for our target."
   ]
  },
  {
   "cell_type": "code",
   "execution_count": 17,
   "metadata": {},
   "outputs": [],
   "source": [
    "from lbn import LBN, LBNLayer"
   ]
  },
  {
   "cell_type": "code",
   "execution_count": 18,
   "metadata": {},
   "outputs": [
    {
     "ename": "AttributeError",
     "evalue": "module 'tensorflow' has no attribute 'random'",
     "output_type": "error",
     "traceback": [
      "\u001b[0;31m---------------------------------------------------------------------------\u001b[0m",
      "\u001b[0;31mAttributeError\u001b[0m                            Traceback (most recent call last)",
      "\u001b[0;32m<ipython-input-18-dd7fddb71dfb>\u001b[0m in \u001b[0;36m<module>\u001b[0;34m()\u001b[0m\n\u001b[1;32m      4\u001b[0m \u001b[0;31m# add the LBN layer\u001b[0m\u001b[0;34m\u001b[0m\u001b[0;34m\u001b[0m\u001b[0m\n\u001b[1;32m      5\u001b[0m \u001b[0minput_shape\u001b[0m \u001b[0;34m=\u001b[0m \u001b[0;34m(\u001b[0m\u001b[0;36m6\u001b[0m\u001b[0;34m,\u001b[0m \u001b[0;36m4\u001b[0m\u001b[0;34m)\u001b[0m\u001b[0;34m\u001b[0m\u001b[0m\n\u001b[0;32m----> 6\u001b[0;31m \u001b[0mmodel\u001b[0m\u001b[0;34m.\u001b[0m\u001b[0madd\u001b[0m\u001b[0;34m(\u001b[0m\u001b[0mLBNLayer\u001b[0m\u001b[0;34m(\u001b[0m\u001b[0minput_shape\u001b[0m\u001b[0;34m,\u001b[0m \u001b[0;36m10\u001b[0m\u001b[0;34m,\u001b[0m \u001b[0mboost_mode\u001b[0m\u001b[0;34m=\u001b[0m\u001b[0mLBN\u001b[0m\u001b[0;34m.\u001b[0m\u001b[0mPAIRS\u001b[0m\u001b[0;34m)\u001b[0m\u001b[0;34m)\u001b[0m\u001b[0;34m\u001b[0m\u001b[0m\n\u001b[0m\u001b[1;32m      7\u001b[0m \u001b[0;34m\u001b[0m\u001b[0m\n\u001b[1;32m      8\u001b[0m \u001b[0;31m# add a dense layer\u001b[0m\u001b[0;34m\u001b[0m\u001b[0;34m\u001b[0m\u001b[0m\n",
      "\u001b[0;32m/home/users/dspitzba/TTW/CMSSW_10_2_9/src/tW_scattering/coffeaEnv/lib/python3.6/site-packages/lbn.py\u001b[0m in \u001b[0;36m__init__\u001b[0;34m(self, input_shape, *args, **kwargs)\u001b[0m\n\u001b[1;32m    919\u001b[0m \u001b[0;34m\u001b[0m\u001b[0m\n\u001b[1;32m    920\u001b[0m         \u001b[0;31m# the input_shape is mandatory so we can build right away\u001b[0m\u001b[0;34m\u001b[0m\u001b[0;34m\u001b[0m\u001b[0m\n\u001b[0;32m--> 921\u001b[0;31m         \u001b[0mself\u001b[0m\u001b[0;34m.\u001b[0m\u001b[0mbuild\u001b[0m\u001b[0;34m(\u001b[0m\u001b[0minput_shape\u001b[0m\u001b[0;34m)\u001b[0m\u001b[0;34m\u001b[0m\u001b[0m\n\u001b[0m\u001b[1;32m    922\u001b[0m \u001b[0;34m\u001b[0m\u001b[0m\n\u001b[1;32m    923\u001b[0m         \u001b[0;31m# layer init\u001b[0m\u001b[0;34m\u001b[0m\u001b[0;34m\u001b[0m\u001b[0m\n",
      "\u001b[0;32m/home/users/dspitzba/TTW/CMSSW_10_2_9/src/tW_scattering/coffeaEnv/lib/python3.6/site-packages/lbn.py\u001b[0m in \u001b[0;36mbuild\u001b[0;34m(self, input_shape)\u001b[0m\n\u001b[1;32m    928\u001b[0m         \u001b[0;31m# build the lbn\u001b[0m\u001b[0;34m\u001b[0m\u001b[0;34m\u001b[0m\u001b[0m\n\u001b[1;32m    929\u001b[0m         self.lbn.build(input_shape, features=self._features,\n\u001b[0;32m--> 930\u001b[0;31m             external_features=self._external_features)\n\u001b[0m\u001b[1;32m    931\u001b[0m \u001b[0;34m\u001b[0m\u001b[0m\n\u001b[1;32m    932\u001b[0m         \u001b[0;31m# store references to the trainable weights\u001b[0m\u001b[0;34m\u001b[0m\u001b[0;34m\u001b[0m\u001b[0m\n",
      "\u001b[0;32m/home/users/dspitzba/TTW/CMSSW_10_2_9/src/tW_scattering/coffeaEnv/lib/python3.6/site-packages/lbn.py\u001b[0m in \u001b[0;36mbuild\u001b[0;34m(self, input_shape, features, external_features)\u001b[0m\n\u001b[1;32m    243\u001b[0m             \u001b[0;31m# setup variables\u001b[0m\u001b[0;34m\u001b[0m\u001b[0;34m\u001b[0m\u001b[0m\n\u001b[1;32m    244\u001b[0m             \u001b[0;32mwith\u001b[0m \u001b[0mtf\u001b[0m\u001b[0;34m.\u001b[0m\u001b[0mname_scope\u001b[0m\u001b[0;34m(\u001b[0m\u001b[0;34m\"variables\"\u001b[0m\u001b[0;34m)\u001b[0m\u001b[0;34m:\u001b[0m\u001b[0;34m\u001b[0m\u001b[0m\n\u001b[0;32m--> 245\u001b[0;31m                 \u001b[0mself\u001b[0m\u001b[0;34m.\u001b[0m\u001b[0msetup_weight\u001b[0m\u001b[0;34m(\u001b[0m\u001b[0;34m\"particle\"\u001b[0m\u001b[0;34m,\u001b[0m \u001b[0;34m(\u001b[0m\u001b[0mself\u001b[0m\u001b[0;34m.\u001b[0m\u001b[0mn_in\u001b[0m\u001b[0;34m,\u001b[0m \u001b[0mself\u001b[0m\u001b[0;34m.\u001b[0m\u001b[0mn_particles\u001b[0m\u001b[0;34m)\u001b[0m\u001b[0;34m,\u001b[0m \u001b[0;36m1\u001b[0m\u001b[0;34m)\u001b[0m\u001b[0;34m\u001b[0m\u001b[0m\n\u001b[0m\u001b[1;32m    246\u001b[0m \u001b[0;34m\u001b[0m\u001b[0m\n\u001b[1;32m    247\u001b[0m                 \u001b[0;32mif\u001b[0m \u001b[0mself\u001b[0m\u001b[0;34m.\u001b[0m\u001b[0mboost_mode\u001b[0m \u001b[0;34m!=\u001b[0m \u001b[0mself\u001b[0m\u001b[0;34m.\u001b[0m\u001b[0mCOMBINATIONS\u001b[0m\u001b[0;34m:\u001b[0m\u001b[0;34m\u001b[0m\u001b[0m\n",
      "\u001b[0;32m/home/users/dspitzba/TTW/CMSSW_10_2_9/src/tW_scattering/coffeaEnv/lib/python3.6/site-packages/lbn.py\u001b[0m in \u001b[0;36msetup_weight\u001b[0;34m(self, prefix, shape, seed_offset)\u001b[0m\n\u001b[1;32m    343\u001b[0m \u001b[0;34m\u001b[0m\u001b[0m\n\u001b[1;32m    344\u001b[0m             \u001b[0;31m# create and save the variable\u001b[0m\u001b[0;34m\u001b[0m\u001b[0;34m\u001b[0m\u001b[0m\n\u001b[0;32m--> 345\u001b[0;31m             W = tf.Variable(tf.random.normal(shape, mean, stddev, dtype=tf.float32,\n\u001b[0m\u001b[1;32m    346\u001b[0m                 seed=seed), name=name, trainable=self.trainable)\n\u001b[1;32m    347\u001b[0m             \u001b[0msetattr\u001b[0m\u001b[0;34m(\u001b[0m\u001b[0mself\u001b[0m\u001b[0;34m,\u001b[0m \u001b[0mname\u001b[0m\u001b[0;34m,\u001b[0m \u001b[0mW\u001b[0m\u001b[0;34m)\u001b[0m\u001b[0;34m\u001b[0m\u001b[0m\n",
      "\u001b[0;31mAttributeError\u001b[0m: module 'tensorflow' has no attribute 'random'"
     ]
    }
   ],
   "source": [
    "# start a sequential model\n",
    "model = tf.keras.models.Sequential()\n",
    "\n",
    "# add the LBN layer\n",
    "input_shape = (6, 4)\n",
    "model.add(LBNLayer(input_shape, 10, boost_mode=LBN.PAIRS))\n",
    "\n",
    "# add a dense layer\n",
    "model.add(tf.keras.layers.Dense(1024))\n"
   ]
  },
  {
   "cell_type": "code",
   "execution_count": null,
   "metadata": {},
   "outputs": [],
   "source": []
  }
 ],
 "metadata": {
  "kernelspec": {
   "display_name": "coffeaEnv",
   "language": "python",
   "name": "coffeaenv"
  },
  "language_info": {
   "codemirror_mode": {
    "name": "ipython",
    "version": 3
   },
   "file_extension": ".py",
   "mimetype": "text/x-python",
   "name": "python",
   "nbconvert_exporter": "python",
   "pygments_lexer": "ipython3",
   "version": "3.6.4"
  }
 },
 "nbformat": 4,
 "nbformat_minor": 2
}
