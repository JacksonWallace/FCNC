{
 "cells": [
  {
   "cell_type": "markdown",
   "id": "510cac07",
   "metadata": {},
   "source": [
    "# NanoEventsFactory example\n",
    "\n",
    "Load a single file from x-cache (using redirector_ucsd) or the grid (using redirector_fnal), and play with the events.\n"
   ]
  },
  {
   "cell_type": "code",
   "execution_count": null,
   "id": "a5a3dc8b",
   "metadata": {
    "scrolled": true
   },
   "outputs": [],
   "source": [
    "from coffea.nanoevents import NanoEventsFactory, NanoAODSchema\n",
    "from coffea.analysis_tools import Weights, PackedSelection\n",
    "\n",
    "from Tools.config_helpers import redirector_fnal, redirector_ucsd\n",
    "from Tools.nano_mapping import make_fileset\n",
    "from Tools.helpers import get_samples\n",
    "from Tools.gen import get_charge_parent, find_first_parent\n",
    "\n",
    "import awkward as ak\n",
    "import numpy as np\n",
    "\n",
    "#amples = get_samples(2018)\n",
    "\n",
    "fileset = make_fileset(['Data'], 2018, redirector=redirector_ucsd, small=True)\n",
    "\n",
    "#f_in = '/store/mc/RunIIAutumn18NanoAODv7/TTTo2L2Nu_TuneCP5_13TeV-powheg-pythia8/RunIIAutumn18NanoAODv7-Nano02Apr2020_102X_upgrade2018_realistic_v21-v1/60000/022107FA-F567-1B44-B139-A18ADC996FCF.root'\n",
    "\n",
    "# load a subset of events\n",
    "n_max = 500000\n",
    "events = NanoEventsFactory.from_root(\n",
    "    fileset[list(fileset.keys())[0]][0],\n",
    "    schemaclass = NanoAODSchema,\n",
    "    #entry_stop = n_max,\n",
    ").events()"
   ]
  },
  {
   "cell_type": "code",
   "execution_count": null,
   "id": "existing-processing",
   "metadata": {},
   "outputs": [],
   "source": [
    "fileset[list(fileset.keys())[0]][1]"
   ]
  },
  {
   "cell_type": "code",
   "execution_count": null,
   "id": "bb9f49bd",
   "metadata": {},
   "outputs": [],
   "source": [
    "#events.event"
   ]
  },
  {
   "cell_type": "code",
   "execution_count": null,
   "id": "d3881d9a",
   "metadata": {},
   "outputs": [],
   "source": [
    "#ev = events[events.event==33539380]"
   ]
  },
  {
   "cell_type": "code",
   "execution_count": null,
   "id": "9e352622",
   "metadata": {},
   "outputs": [],
   "source": [
    "#print(events[events.event==33539380].Electron.pt, events[events.event==33539380].Electron.eta, events[events.event==33539380].Electron.phi, events[events.event==33539380].Electron.charge,)"
   ]
  },
  {
   "cell_type": "code",
   "execution_count": null,
   "id": "3042db85",
   "metadata": {},
   "outputs": [],
   "source": [
    "import time\n",
    "\n",
    "from Tools.objects import Collections\n",
    "\n",
    "start_time = time.time()\n",
    "electron = Collections(events, 'Electron', 'tightFCNC', verbose=1).get()\n",
    "#muons = Collections(events, 'Muon', 'tight', verbose=1).get()\n",
    "\n",
    "delta_time = time.time()-start_time\n",
    "\n",
    "print (\"\\nTook %s seconds\"%delta_time)"
   ]
  },
  {
   "cell_type": "code",
   "execution_count": null,
   "id": "alike-nirvana",
   "metadata": {},
   "outputs": [],
   "source": [
    "from Tools.objects import *\n",
    "electron = electron[(electron.pt > 20) & (np.abs(electron.eta) < 2.4)]"
   ]
  },
  {
   "cell_type": "code",
   "execution_count": null,
   "id": "aggressive-regard",
   "metadata": {},
   "outputs": [],
   "source": [
    "leading_electron_idx = ak.singletons(ak.argmax(electron.pt, axis=1))\n",
    "leading_electron = electron[(leading_electron_idx)]\n",
    "leading_electron = leading_electron[(leading_electron.pt > 25)]"
   ]
  },
  {
   "cell_type": "code",
   "execution_count": null,
   "id": "dimensional-rating",
   "metadata": {},
   "outputs": [],
   "source": [
    "dielectron = choose(electron, 2)\n",
    "dielectron_mass = (dielectron['0']+dielectron['1']).mass\n"
   ]
  },
  {
   "cell_type": "code",
   "execution_count": null,
   "id": "industrial-antarctica",
   "metadata": {},
   "outputs": [],
   "source": [
    "#non_flip_events = events[((ak.num(electron, axis=1)==2)&(ak.sum(electron.charge, axis=1)!=0)&(ak.num(flipped_electron, axis=1)==0))]\n",
    "print((ak.min(np.abs(dielectron_mass-91.2), axis=1) < 15))\n",
    "print((np.abs(dielectron_mass-91.2) < 15))"
   ]
  },
  {
   "cell_type": "code",
   "execution_count": null,
   "id": "informed-wagner",
   "metadata": {},
   "outputs": [],
   "source": [
    "SSelectron = (ak.sum(electron.charge, axis=1) != 0) & (ak.num(electron)==2)\n",
    "SSelectron"
   ]
  },
  {
   "cell_type": "markdown",
   "id": "7da1560e",
   "metadata": {},
   "source": [
    "You can do anything that you're usually doing inside the processor here as well, so this is very useful for debugging"
   ]
  },
  {
   "cell_type": "code",
   "execution_count": null,
   "id": "e70d9342",
   "metadata": {},
   "outputs": [],
   "source": [
    "matched_electrons = electrons[electrons.genPartIdx>=0]\n",
    "sum(ak.num(matched_electrons, axis=1))"
   ]
  },
  {
   "cell_type": "code",
   "execution_count": null,
   "id": "8af32228",
   "metadata": {},
   "outputs": [],
   "source": [
    "f_in = '/store/mc/RunIIAutumn18NanoAODv7/QCD_Pt-120to170_MuEnrichedPt5_TuneCP5_13TeV_pythia8/NANOAODSIM/Nano02Apr2020_102X_upgrade2018_realistic_v21-v1/70000/DE335891-829A-B943-99BE-E5A179F5F3EB.root'\n",
    "\n",
    "events = NanoEventsFactory.from_root(\n",
    "    redirector_ucsd + f_in,\n",
    "    schemaclass = NanoAODSchema,\n",
    "    entry_stop = 9999999).events()\n",
    "\n",
    "muons = Collections(events, 'Muon', 'tight', verbose=1).get()\n",
    "\n",
    "single_mu_ev = events[ak.num(muons)>0]\n",
    "\n",
    "event_list_tight = single_mu_ev.event\n",
    "event_list_tight"
   ]
  },
  {
   "cell_type": "code",
   "execution_count": null,
   "id": "56371d7d",
   "metadata": {},
   "outputs": [],
   "source": [
    "import numpy as np\n",
    "event_selector = (np.zeros_like(events.MET.pt) == 1)"
   ]
  },
  {
   "cell_type": "code",
   "execution_count": null,
   "id": "d087ef95",
   "metadata": {},
   "outputs": [],
   "source": [
    "my_events = [29552, 12024433]"
   ]
  },
  {
   "cell_type": "code",
   "execution_count": null,
   "id": "394b8bd2",
   "metadata": {},
   "outputs": [],
   "source": [
    "for ev in my_events:\n",
    "    event_selector = (event_selector | (events.event == ev))"
   ]
  },
  {
   "cell_type": "code",
   "execution_count": null,
   "id": "global-virus",
   "metadata": {},
   "outputs": [],
   "source": [
    "def get_charge_parent(particle):\n",
    "    parent = find_first_parent(particle)\n",
    "    charge = ak.zeros_like(parent)\n",
    "    one = [[-11, -13, -15, -17, 24, 37], 1]\n",
    "    minus_one = [[11, 13, 15, 17, -24, -37], -1]\n",
    "    two_thirds = [[2, 4, 6, 8], 2/3]\n",
    "    minus_two_thirds = [[-2, -4, -6, -8], -2/3]\n",
    "    minus_one_third = [[1, 3, 5, 7], -1/3]\n",
    "    one_third = [[-1, -3, -5, -7], 1/3]\n",
    "    zero = [[12, 14, 16, 18, 9, 21, 22, 23, 25], 0]\n",
    "    \n",
    "    charge_pairs = [one, minus_one, two_thirds, minus_two_thirds, minus_one_third, zero]\n",
    "    \n",
    "    for pair in charge_pairs:\n",
    "        for ID in pair[0]:\n",
    "            charge = (parent == ID)*ak.ones_like(parent)*pair[1] + (~(parent == ID))*charge\n",
    "            \n",
    "    return charge"
   ]
  },
  {
   "cell_type": "code",
   "execution_count": null,
   "id": "d5ca72d1",
   "metadata": {},
   "outputs": [],
   "source": [
    "mu_df = ak.to_pandas(ak.flatten(muons[event_selector][fields_to_show]))\n",
    "mu_df"
   ]
  },
  {
   "cell_type": "code",
   "execution_count": null,
   "id": "6339170d",
   "metadata": {},
   "outputs": [],
   "source": [
    "ev_df = ak.to_pandas(events.MET[event_selector])\n",
    "ev_df"
   ]
  },
  {
   "cell_type": "code",
   "execution_count": null,
   "id": "570198d2",
   "metadata": {},
   "outputs": [],
   "source": [
    "import pandas as pd\n",
    "pd.concat([mu_df, ev_df], axis=1, )"
   ]
  },
  {
   "cell_type": "markdown",
   "id": "f0942412",
   "metadata": {},
   "source": [
    "## Some charge flip work"
   ]
  },
  {
   "cell_type": "code",
   "execution_count": null,
   "id": "3a867434",
   "metadata": {},
   "outputs": [],
   "source": [
    "!wget http://uaf-8.t2.ucsd.edu/~ewallace/chargeflipfull2016.pkl.gz"
   ]
  },
  {
   "cell_type": "code",
   "execution_count": null,
   "id": "33dbd6c6",
   "metadata": {},
   "outputs": [],
   "source": [
    "from Tools.helpers import yahist_2D_lookup\n",
    "import gzip\n",
    "import pickle\n",
    " \n",
    "class charge_flip:\n",
    "    def __init__(self, path):\n",
    "        self.path = path\n",
    "        with gzip.open(self.path) as fin:\n",
    "            self.ratio= pickle.load(fin)\n",
    "    \n",
    "    def flip_ratio(self, lepton1, lepton2):\n",
    "        \"\"\"takes a dilepton event and weights it based on the \n",
    "        odds that one of the leptons has a charge flip\"\"\"\n",
    "\n",
    "        flip1 = yahist_2D_lookup(self.ratio, lepton1.pt, abs(lepton1.eta))\n",
    "        flip2 = yahist_2D_lookup(self.ratio, lepton2.pt, abs(lepton2.eta))\n",
    "\n",
    "        flip_rate1 = (ak.prod(flip1, axis = 1) * ak.prod(1/(1-flip1), axis = 1) * ak.prod(1-flip2/(1-flip2), axis = 1)) + (ak.prod(flip2, axis = 1) * ak.prod(1/(1-flip2), axis = 1) * ak.prod(1-flip1/(1-flip1), axis = 1))\n",
    "\n",
    "        return flip_rate1\n",
    "    \n",
    "    def flip_weight(self, electron):\n",
    "\n",
    "        f_1 = yahist_2D_lookup(self.ratio, electron.pt[:,0:1], abs(electron.eta[:,0:1]))\n",
    "        f_2 = yahist_2D_lookup(self.ratio, electron.pt[:,1:2], abs(electron.eta[:,1:2]))\n",
    "\n",
    "        # I'm using ak.prod and ak.sum to replace empty arrays by 1 and 0, respectively\n",
    "        weight = ak.sum(f_1/(1-f_1), axis=1)*ak.prod(1-f_2/(1-f_2), axis=1) + ak.sum(f_2/(1-f_2), axis=1)*ak.prod(1-f_1/(1-f_1), axis=1)\n",
    "\n",
    "        return weight"
   ]
  },
  {
   "cell_type": "code",
   "execution_count": null,
   "id": "e28bd316",
   "metadata": {},
   "outputs": [],
   "source": [
    "cf = charge_flip('chargeflipfull2016.pkl.gz')"
   ]
  },
  {
   "cell_type": "code",
   "execution_count": null,
   "id": "ef6a098c",
   "metadata": {},
   "outputs": [],
   "source": [
    "electrons.matched_gen.parent.pdgId"
   ]
  },
  {
   "cell_type": "code",
   "execution_count": null,
   "id": "4ff64107",
   "metadata": {},
   "outputs": [],
   "source": [
    "gen_matched_electrons = electrons[( (electrons.genPartIdx >= 0) & (abs(electrons.matched_gen.pdgId)==11) )]"
   ]
  },
  {
   "cell_type": "code",
   "execution_count": null,
   "id": "answering-newton",
   "metadata": {},
   "outputs": [],
   "source": [
    "gen_matched_electrons.eta.tolist()"
   ]
  },
  {
   "cell_type": "code",
   "execution_count": null,
   "id": "north-worcester",
   "metadata": {},
   "outputs": [],
   "source": [
    "is_flipped =( (gen_matched_electrons.matched_gen.pdgId*(-1) == gen_matched_electrons.pdgId) & (abs(gen_matched_electrons.pdgId) == 11) )"
   ]
  },
  {
   "cell_type": "code",
   "execution_count": null,
   "id": "specific-ethiopia",
   "metadata": {},
   "outputs": [],
   "source": [
    "flipped_electrons = gen_matched_electrons[is_flipped]"
   ]
  },
  {
   "cell_type": "code",
   "execution_count": null,
   "id": "incoming-poultry",
   "metadata": {},
   "outputs": [],
   "source": [
    "flipped_electrons = flipped_electrons[(ak.fill_none(flipped_electrons.pt, 0)>0)]"
   ]
  },
  {
   "cell_type": "code",
   "execution_count": null,
   "id": "seeing-sixth",
   "metadata": {},
   "outputs": [],
   "source": [
    "flipped_electrons.pt.tolist()"
   ]
  },
  {
   "cell_type": "code",
   "execution_count": null,
   "id": "acceptable-vessel",
   "metadata": {},
   "outputs": [],
   "source": []
  }
 ],
 "metadata": {
  "kernelspec": {
   "display_name": "daskanalysisenv",
   "language": "python",
   "name": "daskanalysisenv"
  },
  "language_info": {
   "codemirror_mode": {
    "name": "ipython",
    "version": 3
   },
   "file_extension": ".py",
   "mimetype": "text/x-python",
   "name": "python",
   "nbconvert_exporter": "python",
   "pygments_lexer": "ipython3",
   "version": "3.8.8"
  }
 },
 "nbformat": 4,
 "nbformat_minor": 5
}
