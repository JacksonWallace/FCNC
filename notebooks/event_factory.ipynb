{
 "cells": [
  {
   "cell_type": "markdown",
   "id": "510cac07",
   "metadata": {},
   "source": [
    "# NanoEventsFactory example\n",
    "\n",
    "Load a single file from x-cache (using redirector_ucsd) or the grid (using redirector_fnal), and play with the events.\n"
   ]
  },
  {
   "cell_type": "code",
<<<<<<< HEAD
   "execution_count": null,
   "id": "a5a3dc8b",
   "metadata": {
    "scrolled": true
   },
   "outputs": [],
   "source": [
    "from coffea.nanoevents import NanoEventsFactory, NanoAODSchema\n",
    "from coffea.analysis_tools import Weights, PackedSelection\n",
    "\n",
    "from Tools.config_helpers import redirector_fnal, redirector_ucsd\n",
    "from Tools.nano_mapping import make_fileset\n",
    "from Tools.helpers import get_samples\n",
    "from Tools.gen import get_charge_parent, find_first_parent\n",
    "from Tools.basic_objects import getJets, getBTagsDeepFlavB\n",
    "\n",
    "import awkward as ak\n",
    "import numpy as np\n",
    "\n",
    "#samples = get_samples(2018)\n",
    "\n",
    "year = 2018\n",
    "\n",
    "fileset = make_fileset(['hut'], year, redirector=redirector_ucsd, small=False)\n",
    "\n",
    "#f_in = '/store/mc/RunIIAutumn18NanoAODv7/TTTo2L2Nu_TuneCP5_13TeV-powheg-pythia8/RunIIAutumn18NanoAODv7-Nano02Apr2020_102X_upgrade2018_realistic_v21-v1/60000/022107FA-F567-1B44-B139-A18ADC996FCF.root'\n",
    "\n",
    "# load a subset of events\n",
    "#n_max = 500000\n",
    "events = NanoEventsFactory.from_root(\n",
    "    fileset[list(fileset.keys())[2]][0],\n",
    "    schemaclass = NanoAODSchema,\n",
    "    #entry_stop = n_max,\n",
    ").events()"
   ]
  },
  {
   "cell_type": "code",
   "execution_count": null,
   "id": "318f00d5",
   "metadata": {},
   "outputs": [],
   "source": [
    "for sample in [2]:\n",
    "    for file in range(len(fileset[list(fileset.keys())[sample]])):\n",
    "        print(fileset[list(fileset.keys())[sample]][file])"
   ]
  },
  {
   "cell_type": "code",
   "execution_count": null,
   "id": "68608f5d",
   "metadata": {},
   "outputs": [],
   "source": [
    "from Tools.objects import Collections, choose\n",
    "\n",
    "## Electrons\n",
    "electron = Collections(events, \"Electron\", \"tightFCNC\", year, 0).get()\n",
    "electron = electron[(electron.pt > 20) & (np.abs(electron.eta) < 2.4)] #matches skim \n",
    "        \n",
    "loose_electron = Collections(events, \"Electron\", \"fakeFCNC\", year, 0).get()\n",
    "loose_electron = loose_electron[((loose_electron.pt > 20) | (loose_electron.conePt > 20) ) & (np.abs(loose_electron.eta) < 2.4)] #matches skim \n",
    "        \n",
    "SSelectron = (ak.sum(electron.charge, axis=1) != 0) & (ak.num(electron)==2)\n",
    "OSelectron = (ak.sum(electron.charge, axis=1) == 0) & (ak.num(electron)==2)\n",
    "        \n",
    "dielectron = choose(electron, 2)\n",
    "dielectron_mass = dielectron.mass\n",
    "dielectron_pt = dielectron.pt\n",
    "        \n",
    "electron       = electron[ak.argsort(electron.pt, ascending=False)]\n",
    "leading_electron = electron[:,0:1]\n",
    "trailing_electron = electron[:,1:2]\n",
    "        \n",
    "loose_electron       = loose_electron[ak.argsort(loose_electron.pt, ascending=False)]\n",
    "leading_loose_electron = loose_electron[:,0:1]\n",
    "trailing_loose_electron = loose_electron[:,1:2]\n",
    "        \n",
    "diloose_electron = choose(loose_electron, 2)\n",
    "diloose_electron_OS = diloose_electron[(diloose_electron.charge == 0)]\n",
    "        \n",
    "##Muons\n",
    "muon = Collections(events, \"Muon\", \"tightFCNC\", year, 0).get()\n",
    "muon = muon[(muon.pt > 20) & (np.abs(muon.eta) < 2.4)] #matches skim\n",
    "        \n",
    "loose_muon = Collections(events, \"Muon\", \"fakeFCNC\", year, 0).get()\n",
    "loose_muon = loose_muon[((loose_muon.pt > 20) | (loose_muon.conePt > 20)) & (np.abs(loose_muon.eta) < 2.4)] #matches skim \n",
    "        \n",
    "muon       = muon[ak.argsort(muon.pt, ascending=False)]\n",
    "leading_muon = muon[:,0:1]\n",
    "trailing_muon = muon[:,1:2]\n",
    "        \n",
    "loose_muon       = loose_muon[ak.argsort(loose_muon.pt, ascending=False)]\n",
    "leading_loose_muon = loose_muon[:,0:1]\n",
    "trailing_loose_muon = loose_muon[:,1:2]\n",
    "        \n",
    "diloose_muon = choose(loose_muon, 2)\n",
    "diloose_muon_OS = diloose_muon[(diloose_muon.charge == 0)]\n",
    "\n",
    "        \n",
    "##Leptons\n",
    "lepton   = ak.concatenate([muon, electron], axis=1) #tight leptons, matches skim\n",
    "        \n",
    "SSlepton = ( (ak.sum(lepton.charge, axis=1) != 0) & (ak.num(lepton)==2) )\n",
    "OSlepton = ( (ak.sum(lepton.charge, axis=1) == 0) & (ak.num(lepton)==2) )\n",
    "        \n",
    "lepton = lepton[ak.argsort(lepton.pt, ascending = False)]\n",
    "leading_lepton = lepton[:,0:1]\n",
    "subleading_lepton = lepton[:,1:2]\n",
    "subsubleading_lepton = lepton[:,2:3]\n",
    "        \n",
    "dilepton = choose(lepton, 2)\n",
    "dilepton_mass = dilepton.mass\n",
    "dilepton_pt = dilepton.pt\n",
    "        \n",
    "loose_lepton = ak.concatenate([loose_muon, loose_electron], axis=1) #matches skim"
   ]
  },
  {
   "cell_type": "code",
   "execution_count": null,
   "id": "58166d39",
   "metadata": {},
   "outputs": [],
   "source": [
    "met_pt = events.MET.pt\n",
    "met_phi = events.MET.phi"
   ]
  },
  {
   "cell_type": "code",
   "execution_count": null,
   "id": "54626e89",
   "metadata": {},
   "outputs": [],
   "source": [
    "#selections\n",
    "\n",
    "skim = (((ak.num(loose_lepton) == 2) & (ak.sum(loose_lepton.charge, axis=1) != 0)) | (ak.num(loose_lepton) > 2))\n",
    "tight = (ak.num(lepton) == 2)\n",
    "leading = (ak.min(leading_lepton.pt, axis = 1) > 25)\n",
    "met =  ( met_pt > 50 )\n",
    "SSlepton = ( ak.sum(lepton.charge, axis=1) != 0 )"
   ]
  },
  {
   "cell_type": "code",
   "execution_count": null,
   "id": "100e60d5",
   "metadata": {},
   "outputs": [],
   "source": [
    "test_events = events[skim & met & tight & leading & SSlepton]"
   ]
  },
  {
   "cell_type": "markdown",
   "id": "7bb607df",
   "metadata": {},
   "source": [
    "# Once Per Kernel Set-up"
   ]
  },
  {
   "cell_type": "code",
   "execution_count": null,
   "id": "5dc66579",
   "metadata": {
    "scrolled": true
   },
   "outputs": [],
   "source": [
   "event_nums = []\n",
    "\n",
    "with open('../no_match_event_nums.txt', 'r') as f:\n",
    "    i = 0\n",
    "    for line in f:\n",
    "        event = line.split()\n",
    "        if event != []:\n",
    "            i += 1\n",
    "            for string in event:\n",
    "                sep_string = string.split(',')\n",
    "                event = sep_string\n",
    "                event_nums.append([int(num) for num in event])\n",
    "        #if i == 50:\n",
    "        #    break"
   ]
  },
  {
   "cell_type": "code",
   "execution_count": null,
   "id": "3c2f0324",
   "metadata": {},
   "outputs": [],
   "source": [
    "event_nums"
   ]
  },
  {
   "cell_type": "code",
   "execution_count": null,
   "id": "6fc2d8b6",
   "metadata": {},
   "outputs": [],
   "source": [
    "def getFCNCIsolation(jetRelIso, jetPtRelv2, I_2, I_3):\n",
    "    jetRelIso_cut = 1/I_2 - 1\n",
    "    return ( (jetRelIso < jetRelIso_cut) | (jetPtRelv2 > I_3) ) "
   ]
  },
  {
   "cell_type": "code",
   "execution_count": null,
   "id": "6c46e3ce",
   "metadata": {},
   "outputs": [],
   "source": [
    "events['Electron', 'etaSC'] = events.Electron.eta + events.Electron.deltaEtaSC"
   ]
  },
  {
   "cell_type": "code",
   "execution_count": null,
   "id": "e97bc056",
   "metadata": {},
   "outputs": [],
   "source": [
    "def getMVAscore(lepton):\n",
    "        if year == 2016:\n",
    "            MVA = lepton.mvaSpring16GP\n",
    "            return MVA\n",
    "        elif year == 2017:\n",
    "            MVA = lepton.mvaFall17V2noIso\n",
    "            return MVA\n",
    "        elif year == 2018:\n",
    "            MVA = np.minimum(np.maximum(lepton.mvaFall17V2noIso, -1.0 + 1.e-6), 1.0 - 1.e-6)\n",
    "            return -0.5*np.log((2/(MVA+1))-1)\n",
    "    \n",
    "## some more involved cuts from SS analysis\n",
    "def getElectronMVAID(lepton, wp):\n",
    "        \n",
    "    lowEta      = (  np.abs(lepton.etaSC) < 0.8 )\n",
    "    midEta      = ( (np.abs(lepton.etaSC) <= 1.479) & (np.abs(lepton.etaSC) >= 0.8) )\n",
    "    highEta     = (  np.abs(lepton.etaSC) > 1.479 )\n",
    "    lowPt       = (  lepton.pt < 10 )\n",
    "    midPt       = ( (lepton.pt <= 25) & (lepton.pt >= 10) )\n",
    "    highPt      = (  lepton.pt > 25)\n",
    "\n",
    "    MVA = getMVAscore(lepton)\n",
    "    \n",
    "    if year == 2016:\n",
    "        if wp == 'tight':\n",
    "            lowEtaCuts = 0.77, 0.52, 0.77\n",
    "            midEtaCuts = 0.56, 0.11, 0.56  \n",
    "            highEtaCuts = 0.48, -0.01, 0.48 \n",
    "                    \n",
    "        if wp == 'fake':\n",
    "            lowEtaCuts = -0.86, -0.96, -0.3\n",
    "            midEtaCuts = -0.85, -0.96, -0.36\n",
    "            highEtaCuts = -0.81, -0.95, -0.63\n",
    "                \n",
    "            ll = ( lowEta & ( lepton.pt < 15 ) & (MVA > lowEtaCuts[2] ) )\n",
    "            lm = ( lowEta & ( (lepton.pt <= 25) & (lepton.pt >= 15) ) & (MVA > lowEtaCuts[0]+(lowEtaCuts[1]-lowEtaCuts[0])/10*(lepton.pt - 15) ) )\n",
    "            lh = ( lowEta & highPt & (MVA > lowEtaCuts[1] ) )\n",
    "\n",
    "            ml = ( midEta & ( lepton.pt < 15 ) & (MVA > midEtaCuts[2] ) )\n",
    "            mm = ( midEta & ( (lepton.pt <= 25) & (lepton.pt >= 15) ) & (MVA > midEtaCuts[0]+(midEtaCuts[1]-midEtaCuts[0])/10*(lepton.pt - 15) ) )\n",
    "            mh = ( midEta & highPt & (MVA > midEtaCuts[1] ) )\n",
    "\n",
    "            hl = ( highEta & ( lepton.pt < 15 ) & (MVA > highEtaCuts[2] ) )\n",
    "            hm = ( highEta & ( (lepton.pt <= 25) & (lepton.pt >= 15) ) & (MVA > highEtaCuts[0]+(highEtaCuts[1]-highEtaCuts[0])/10*(lepton.pt - 15) ) )\n",
    "        \n",
    "    elif year == 2017:\n",
    "        if wp == 'tight':\n",
    "            lowEtaCuts = 0.2, 0.68, 0.2\n",
    "            midEtaCuts = 0.1, 0.475, 0.1\n",
    "            highEtaCuts = -0.1, 0.32, -0.1\n",
    "            \n",
    "        if wp == 'fake':\n",
    "            lowEtaCuts = -0.93, -0.887, -0.135\n",
    "            midEtaCuts = -0.93, -0.89, -0.417\n",
    "            highEtaCuts = -0.942, -0.91, -0.47\n",
    "                \n",
    "        \n",
    "        ll = ( lowEta & lowPt & (MVA > lowEtaCuts[2] ) )\n",
    "        lm = ( lowEta & midPt & (MVA > (lowEtaCuts[0]+(lowEtaCuts[1]-lowEtaCuts[0])/15*(lepton.pt-10)) ) )\n",
    "        lh = ( lowEta & highPt & (MVA > lowEtaCuts[1] ) )\n",
    "\n",
    "        ml = ( midEta & lowPt & (MVA > midEtaCuts[2] ) )\n",
    "        mm = ( midEta & midPt & (MVA > (midEtaCuts[0]+(midEtaCuts[1]-midEtaCuts[0])/15*(lepton.pt-10)) ) )\n",
    "        mh = ( midEta & highPt & (MVA > midEtaCuts[1] ) )\n",
    "\n",
    "        hl = ( highEta & lowPt & (MVA > highEtaCuts[2] ) )\n",
    "        hm = ( highEta & midPt & (MVA > (highEtaCuts[0]+(highEtaCuts[1]-highEtaCuts[0])/15*(lepton.pt-10)) ) )\n",
    "        hh = ( highEta & highPt & (MVA > highEtaCuts[1] ) )\n",
    "                \n",
    "    elif year == 2018:\n",
    "        if wp == 'tight':\n",
    "            lowEtaCuts  = 2.597, 4.277, 2.597\n",
    "            midEtaCuts  = 2.252, 3.152, 2.252\n",
    "            highEtaCuts = 1.054, 2.359, 1.054\n",
    "                    \n",
    "        if wp == 'fake':\n",
    "            lowEtaCuts = -1.036, -0.106, 0.053\n",
    "            midEtaCuts = -1.339, -0.769, -0.434\n",
    "            highEtaCuts = -2.091, -1.461, -0.956\n",
    "                \n",
    "        ll = ( lowEta & lowPt & (MVA > lowEtaCuts[2] ) )\n",
    "        lm = ( lowEta & midPt & (MVA > (lowEtaCuts[0]+(lowEtaCuts[1]-lowEtaCuts[0])/15*(lepton.pt-10)) ) )\n",
    "        lh = ( lowEta & highPt & (MVA > lowEtaCuts[1] ) )\n",
    "        \n",
    "        ml = ( midEta & lowPt & (MVA > midEtaCuts[2] ) )\n",
    "        mm = ( midEta & midPt & (MVA > (midEtaCuts[0]+(midEtaCuts[1]-midEtaCuts[0])/15*(lepton.pt-10)) ) )\n",
    "        mh = ( midEta & highPt & (MVA > midEtaCuts[1] ) )\n",
    "\n",
    "        hl = ( highEta & lowPt & (MVA > highEtaCuts[2] ) )\n",
    "        hm = ( highEta & midPt & (MVA > (highEtaCuts[0]+(highEtaCuts[1]-highEtaCuts[0])/15*(lepton.pt-10)) ) )\n",
    "        hh = ( highEta & highPt & (MVA > highEtaCuts[1] ) )\n",
    "            \n",
    "        \n",
    "    return ( ll | lm | lh | ml | mm | mh | hl | hm | hh )\n"
   ]
  },
  {
   "cell_type": "code",
   "execution_count": null,
   "id": "52064778",
   "metadata": {},
   "outputs": [],
   "source": [
    "def isTriggerSafeNoIso(lepton):\n",
    "    return ( (np.abs(lepton.etaSC)<=1.479) & (lepton.sieie<0.011) & (lepton.hoe<0.08) & (np.abs(lepton.eInvMinusPInv)<0.01) ) | ( (np.abs(lepton.etaSC)>1.479) & (lepton.sieie<0.031) & (lepton.hoe<0.08) & (np.abs(lepton.eInvMinusPInv)<0.01) )"
   ]
  },
  {
   "cell_type": "markdown",
   "id": "3359dc9b",
   "metadata": {},
   "source": [
    "# Testing"
   ]
  },
  {
   "cell_type": "code",
   "execution_count": null,
   "id": "6222c183",
   "metadata": {
    "scrolled": true
   },
   "outputs": [],
   "source": [
    "lowelept = 0\n",
    "other = 0\n",
    "no_pass_mva = 0\n",
    "no_pass_iso = 0\n",
    "\n",
    "for event in event_nums:\n",
    "    if (event[0] in events.event):\n",
    "        if  ak.all(electron[events.event==event[0]].pt > 25):\n",
    "            print('An event with no electron with pt < 25 is', event)\n",
    "            print('event #:', events[events.event==event[0]].event)\n",
    "            print('pdgId:', lepton[events.event==event[0]].pdgId, events[events.event==event[0]].Electron.pdgId, events[events.event==event[0]].Muon.pdgId)\n",
    "            print('charge:', lepton[events.event==event[0]].charge, events[events.event==event[0]].Electron.charge, events[events.event==event[0]].Muon.charge)\n",
    "            print('pt:', lepton[events.event==event[0]].pt, events[events.event==event[0]].Electron.pt, events[events.event==event[0]].Muon.pt)\n",
    "            print('eta:',lepton[events.event==event[0]].eta, events[events.event==event[0]].Electron.eta, events[events.event==event[0]].Muon.eta)\n",
    "            print('miniIso:', lepton[events.event==event[0]].miniPFRelIso_all, events[events.event==event[0]].Electron.miniPFRelIso_all < 0.07, events[events.event==event[0]].Muon.miniPFRelIso_all < 0.11 )\n",
    "            print('isTriggerSafeNoIso:', isTriggerSafeNoIso(events[events.event==event[0]].Electron))\n",
    "            print('FCNC Iso:', getFCNCIsolation(events[events.event==event[0]].Electron.jetRelIso, events[events.event==event[0]].Electron.jetPtRelv2, 0.78, 8.0), getFCNCIsolation(events[events.event==event[0]].Muon.jetRelIso, events[events.event==event[0]].Muon.jetPtRelv2, 0.74, 6.8))\n",
    "            print('MVA Score:', getMVAscore(events[events.event==event[0]].Electron))\n",
    "            print('tight MVA ID:', getElectronMVAID(events[events.event==event[0]].Electron, 'tight'))\n",
    "            print('fake MVA ID:',getElectronMVAID(events[events.event==event[0]].Electron, 'fake'))\n",
    "            print('')\n",
    "            other += 1\n",
    "        else:\n",
    "            print('event', event, 'has an electron with pt < 25:', electron[events.event==event[0]].pt[0][-1])\n",
    "            passMVA = getElectronMVAID(electron[events.event==event[0]], 'tight')[0][-1]\n",
    "            if passMVA == False:\n",
    "                print('but it does not pass the tight MVA ID!', passMVA)\n",
    "                no_pass_mva += 1\n",
    "                lowelept += 1\n",
    "            else:\n",
    "                passFCNCIso = getFCNCIsolation(electron[events.event==event[0]].jetRelIso, electron[events.event==event[0]].jetPtRelv2, 0.78, 8.0)[0][-1]\n",
    "                if passFCNCIso == False:\n",
    "                    print('but it does not pass the tight Iso!', passFCNCIso)\n",
    "                    no_pass_iso += 1\n",
    "                    lowelept += 1\n",
    "                else:\n",
    "                    lowelept += 1                    \n",
    "                \n",
    "print(other)\n",
    "print(lowelept)\n",
    "print(no_pass_mva)\n",
    "print(no_pass_iso)"
   ]
  },
  {
   "cell_type": "code",
   "execution_count": null,
   "id": "cbe3a9f1",
   "metadata": {},
   "outputs": [],
   "source": [
    "#triggers\n",
    "if year == 2018:\n",
    "    triggers = events.HLT.Mu23_TrkIsoVVL_Ele12_CaloIdL_TrackIdL_IsoVL_DZ | events.HLT.Mu8_TrkIsoVVL_Ele23_CaloIdL_TrackIdL_IsoVL_DZ | events.HLT.Ele23_Ele12_CaloIdL_TrackIdL_IsoVL | events.HLT.Mu17_TrkIsoVVL_Mu8_TrkIsoVVL_DZ_Mass3p8\n",
    "if year == 2017:\n",
    "    triggers = events.HLT.Mu17_TrkIsoVVL_Mu8_TrkIsoVVL_DZ_Mass3p8 | ev.HLT.Ele23_Ele12_CaloIdL_TrackIdL_IsoVL | ev.HLT.Mu23_TrkIsoVVL_Ele12_CaloIdL_TrackIdL_IsoVL_DZ | ev.HLT.Mu8_TrkIsoVVL_Ele23_CaloIdL_TrackIdL_IsoVL_DZ\n",
    "if year == 2016:\n",
    "    triggers = ev.HLT.Mu23_TrkIsoVVL_Ele12_CaloIdL_TrackIdL_IsoVL_DZ | ev.HLT.Mu23_TrkIsoVVL_Ele12_CaloIdL_TrackIdL_IsoVL | ev.HLT.Mu8_TrkIsoVVL_Ele23_CaloIdL_TrackIdL_IsoVL_DZ | ev.HLT.Mu8_TrkIsoVVL_Ele23_CaloIdL_TrackIdL_IsoVL | ev.HLT.Mu17_TrkIsoVVL_Mu8_TrkIsoVVL_DZ | ev.HLT.Mu17_TrkIsoVVL_Mu8_TrkIsoVVL | ev.HLT.Ele23_Ele12_CaloIdL_TrackIdL_IsoVL_DZ"
   ]
  },
  {
   "cell_type": "code",
   "execution_count": null,
   "id": "adf01a51",
   "metadata": {},
   "outputs": [],
   "source": [
    "electron_wsel = electron[skim & met]\n",
    "dielectron_wsel = choose(electron_wsel, 2)\n",
    "dielectron_wsel_mass = dielectron_wsel.mass"
   ]
  },
  {
   "cell_type": "code",
   "execution_count": null,
   "id": "6972547d",
   "metadata": {},
   "outputs": [],
   "source": [
    "gmass = (((ak.num(electron) == 2) & (ak.all(dielectron_mass > 12, axis=1))) | (ak.num(electron) != 2) )"
   ]
  },
  {
   "cell_type": "code",
   "execution_count": null,
   "id": "992fe9ed",
   "metadata": {},
   "outputs": [],
   "source": [
    "Z_mr_veto = ( ( (ak.num(loose_lepton) == 3) & ( (ak.all(np.abs(diloose_electron_OS.mass-91) > 15, axis=1)) & (ak.all(np.abs(diloose_muon_OS.mass-91) > 15, axis=1)) )  )  | (ak.num(loose_lepton) == 2) )"
   ]
  },
  {
   "cell_type": "code",
   "execution_count": null,
   "id": "585a6d0b",
   "metadata": {
    "scrolled": true
   },
   "outputs": [],
   "source": [
    "list(Z_mr_veto[(ak.num(loose_lepton) == 3)])"
   ]
  },
  {
   "cell_type": "code",
   "execution_count": null,
   "id": "05f38ca9",
   "metadata": {},
   "outputs": [],
   "source": [
    "list(ak.num(loose_lepton[(ak.num(loose_lepton) == 3)]))"
   ]
  },
  {
   "cell_type": "code",
   "execution_count": null,
   "id": "fabb377e",
   "metadata": {
    "scrolled": true
   },
   "outputs": [],
   "source": [
    "list(dielectron_mass[skim])"
   ]
  },
  {
   "cell_type": "code",
   "execution_count": null,
   "id": "ac30ffb1",
   "metadata": {},
   "outputs": [],
   "source": [
    "from Tools.helpers import pad_and_flatten, mt\n",
    "list(ak.to_numpy(pad_and_flatten(mt(subsubleading_lepton.pt, subsubleading_lepton.phi, met_pt, met_phi))))"
   ]
  },
  {
   "cell_type": "code",
   "execution_count": null,
   "id": "987b8319",
   "metadata": {},
   "outputs": [],
   "source": [
    "list(choose(lepton[:,0:2], 2).mass)"
   ]
  },
  {
   "cell_type": "code",
   "execution_count": null,
   "id": "f68edb9e",
   "metadata": {},
   "outputs": [],
   "source": [
    "list(choose(lepton,2))"
   ]
  },
  {
   "cell_type": "code",
   "execution_count": null,
   "id": "a85e9941",
   "metadata": {},
   "outputs": [],
   "source": [
    "np.ones(len(events)).shape"
   ]
  },
  {
   "cell_type": "code",
   "execution_count": null,
   "id": "ed6290f6",
   "metadata": {},
   "outputs": [],
   "source": [
    "skim = (((ak.num(loose_lepton) == 2) & (ak.sum(loose_lepton.charge, axis=1) != 0)) | (ak.num(loose_lepton) > 2))\n"
   ]
  },
  {
   "cell_type": "code",
   "execution_count": null,
   "id": "5e030ccc",
   "metadata": {},
   "outputs": [],
   "source": [
    "list(skim[(ak.num(loose_lepton) > 3)])"
   ]
  },
  {
   "cell_type": "code",
   "execution_count": null,
   "id": "a8954fa2",
   "metadata": {
    "scrolled": false
   },
   "outputs": [],
   "source": [
    "list(ak.num(loose_lepton[(ak.num(loose_lepton) > 3)]))"
   ]
  },
  {
   "cell_type": "code",
   "execution_count": null,
   "id": "4582f670",
   "metadata": {},
   "outputs": [],
   "source": [
    "list(ak.sum(loose_lepton[(ak.num(loose_lepton) >= 2)].charge, axis=1))"
   ]
  },
  {
   "cell_type": "code",
   "execution_count": null,
   "id": "e0a1509b",
   "metadata": {
    "scrolled": true
   },
   "outputs": [],
   "source": [
    "list( ( (ak.num(loose_lepton3) == 3) & ( (ak.all(np.abs(diloose_electron3_OS.mass-90) > 15, axis=1)) & (ak.all(np.abs(diloose_muon2_OS.mass-90) > 15, axis=1)) )  )  | (ak.num(loose_lepton3) != 3) )"
   ]
  },
  {
   "cell_type": "code",
   "execution_count": null,
   "id": "c76017c8",
   "metadata": {
    "scrolled": true
   },
   "outputs": [],
   "source": [
    "list( ( (ak.num(loose_lepton3) == 3) & ( (ak.all(np.abs(diloose_electron3_OS.mass) > 12, axis=1)) & (ak.all(np.abs(diloose_muon2_OS.mass) > 12, axis=1)) )  )  | (ak.num(loose_lepton3) != 3) )"
   ]
  },
  {
   "cell_type": "code",
   "execution_count": null,
   "id": "ca07c287",
   "metadata": {},
   "outputs": [],
   "source": [
    "test_array = ak.Array([[True, False], [False], [True], [True, True], [False, False, False]])\n",
    "print( \"all:\", ak.all(test_array, axis=1))\n",
    "print( \"any:\", ak.any(test_array, axis=1))"
   ]
  },
  {
   "cell_type": "code",
   "execution_count": null,
   "id": "db791ffa",
   "metadata": {},
   "outputs": [],
   "source": [
    "empty_array = [[], [], []]\n",
    "print(\"all:\", ak.all(empty_array, axis=1))\n",
    "print(\"any:\", ak.any(empty_array, axis=1))"
   ]
  },
  {
   "cell_type": "code",
   "execution_count": null,
   "id": "8239297a",
   "metadata": {},
   "outputs": [],
   "source": [
    "ak.any([]) | ak.any([])"
   ]
  },
  {
   "cell_type": "code",
   "execution_count": null,
   "id": "b68ad06f",
   "metadata": {},
   "outputs": [],
   "source": [
    "ak.to_numpy(ak.flatten(leading_muon.pt))"
   ]
  },
  {
   "cell_type": "code",
   "execution_count": null,
   "id": "05072880",
   "metadata": {},
   "outputs": [],
   "source": [
    "from Tools.basic_objects import *\n",
    "from Tools.objects import Collections, choose, cross, match\n",
    "\n",
    "#jets and btags\n",
    "jet       = getJets(events, minPt=25, maxEta=2.4, pt_var='pt', UL = False)\n",
    "jet       = jet[~match(jet, muon, deltaRCut=0.4)] # remove jets that overlap with muons\n",
    "jet       = jet[~match(jet, electron, deltaRCut=0.4)] # remove jets that overlap with electrons\n",
    "        \n",
    "btag      = getBTagsDeepFlavB(jet, year=year, UL=False)\n",
    "light     = getBTagsDeepFlavB(jet, year=year, UL=False, invert=True)\n",
    "btag      = btag[ak.argsort(btag.pt, ascending=False)]\n",
    "        \n",
    "leading_btag = btag[:, 0:1]\n",
    "subleading_btag = btag[:, 1:2]\n",
    "        \n",
    "jet = jet[jet.pt>30]\n",
    "jet = jet[ak.argsort(jet.pt, ascending=False)]\n",
    "        \n",
    "leading_jet = jet[:,0:1]\n",
    "subleading_jet = jet[:,1:2]\n",
    "subsubleading_jet = jet[:,2:3]"
   ]
  },
  {
   "cell_type": "code",
   "execution_count": null,
   "id": "130f93af",
   "metadata": {},
   "outputs": [],
   "source": [
    "list(jet.pt)"
   ]
  },
  {
   "cell_type": "code",
   "execution_count": null,
   "id": "d1f9956d",
   "metadata": {},
   "outputs": [],
   "source": [
    "ht = ak.sum(jet.pt, axis=1)\n",
    "list(ak.to_numpy(ht))"
   ]
  },
  {
   "cell_type": "code",
   "execution_count": null,
   "id": "cae39b05",
   "metadata": {},
   "outputs": [],
   "source": [
    "forward_jet = jet[ak.argsort(np.abs(jet.eta), ascending=False)][:,0:1]"
   ]
  },
  {
   "cell_type": "code",
   "execution_count": null,
   "id": "7404e59d",
   "metadata": {},
   "outputs": [],
   "source": [
    "list(ak.to_numpy(pad_and_flatten(forward_jet.pt)))"
   ]
  },
  {
   "cell_type": "code",
   "execution_count": null,
   "id": "9e0f4a9e",
   "metadata": {},
   "outputs": [],
   "source": [
    "events.HLT.Mu23_TrkIsoVVL_Ele12_CaloIdL_TrackIdL_IsoVL_DZ | events.HLT.Mu8_TrkIsoVVL_Ele23_CaloIdL_TrackIdL_IsoVL_DZ"
   ]
  },
  {
   "cell_type": "code",
   "execution_count": null,
   "id": "b8e52b0e",
   "metadata": {},
   "outputs": [],
   "source": [
    "ak.to_numpy(events.Pileup.nTrueInt)"
   ]
  },
  {
   "cell_type": "code",
   "execution_count": null,
   "id": "fdf72be0",
   "metadata": {},
   "outputs": [],
   "source": [
    "from Tools.pileup import pileup\n",
    "PU = pileup(year=2018, UL = False)\n",
    "PU.reweight(events.Pileup.nTrueInt, to='down')"
   ]
  },
  {
   "cell_type": "code",
   "execution_count": null,
   "id": "23096fe2",
   "metadata": {},
   "outputs": [],
   "source": [
    "from Tools.lepton_scalefactors import *\n",
    "from Tools.lepton_scalefactors2 import *\n",
    "\n",
    "leptonSF2 = LeptonSF2(year=2017)"
   ]
  },
  {
   "cell_type": "code",
   "execution_count": null,
   "id": "ebe8133e",
   "metadata": {},
   "outputs": [],
   "source": [
    "print(leptonSF2.get(electron, muon))\n",
    "print(electron)\n",
    "print(muon)"
   ]
  },
  {
   "cell_type": "code",
   "execution_count": null,
   "id": "aff658b8",
   "metadata": {},
   "outputs": [],
   "source": [
    "my_event = events[events.event==24040097]"
   ]
  },
  {
   "cell_type": "code",
   "execution_count": null,
   "id": "03bed2d1",
   "metadata": {},
   "outputs": [],
   "source": [
    "from yahist import Hist1D, Hist2D\n",
    "muonScaleFactor_RunABCD_counts = np.array([[0.9824, 1.0271, 0.9948, 0.9960, 0.9990],\n",
    "                                           [0.9784, 1.0110, 0.9906, 0.9949, 0.9970],\n",
    "                                           [1.0153, 0.9855, 1.0042, 1.0010, 1.0010],\n",
    "                                           [1.0511, 0.9913, 1.0103, 1.0041, 1.0030]])\n",
    "muonScaleFactor_RunABCD_bins = [\n",
    "        np.array([20.,25.,30.,40.,50.,60.]),\n",
    "        np.array([0,0.9,1.2,2.1,2.4]),\n",
    "    ]\n",
    "h = Hist2D.from_bincounts(muonScaleFactor_RunABCD_counts, muonScaleFactor_RunABCD_bins)\n",
    "from Tools.helpers import yahist_2D_lookup\n",
    "muonScaleFactor_RunABCD = yahist_2D_lookup(h, muon.pt, np.abs(muon.eta))\n",
    "print(ak.prod(muonScaleFactor_RunABCD, axis=1))\n"
   ]
  },
  {
   "cell_type": "code",
   "execution_count": null,
   "id": "f7d1f465",
   "metadata": {},
   "outputs": [],
   "source": [
    "h.plot(show_counts=True)"
   ]
  },
  {
   "cell_type": "markdown",
   "id": "7da1560e",
   "metadata": {},
   "source": [
    "You can do anything that you're usually doing inside the processor here as well, so this is very useful for debugging"
   ]
  },
  {
   "cell_type": "code",
   "execution_count": null,
   "id": "e70d9342",
   "metadata": {},
   "outputs": [],
   "source": [
    "matched_electrons = electrons[electrons.genPartIdx>=0]\n",
    "sum(ak.num(matched_electrons, axis=1))"
   ]
  },
  {
   "cell_type": "code",
   "execution_count": null,
   "id": "8af32228",
   "metadata": {},
   "outputs": [],
   "source": [
    "f_in = '/store/mc/RunIIAutumn18NanoAODv7/QCD_Pt-120to170_MuEnrichedPt5_TuneCP5_13TeV_pythia8/NANOAODSIM/Nano02Apr2020_102X_upgrade2018_realistic_v21-v1/70000/DE335891-829A-B943-99BE-E5A179F5F3EB.root'\n",
    "\n",
    "events = NanoEventsFactory.from_root(\n",
    "    redirector_ucsd + f_in,\n",
    "    schemaclass = NanoAODSchema,\n",
    "    entry_stop = 9999999).events()\n",
    "\n",
    "muons = Collections(events, 'Muon', 'tight', verbose=1).get()\n",
    "\n",
    "single_mu_ev = events[ak.num(muons)>0]\n",
    "\n",
    "event_list_tight = single_mu_ev.event\n",
    "event_list_tight"
   ]
  },
  {
   "cell_type": "code",
   "execution_count": null,
   "id": "56371d7d",
   "metadata": {},
   "outputs": [],
   "source": [
    "import numpy as np\n",
    "event_selector = (np.zeros_like(events.MET.pt) == 1)"
   ]
  },
  {
   "cell_type": "code",
   "execution_count": null,
   "id": "d087ef95",
   "metadata": {},
   "outputs": [],
   "source": [
    "my_events = [29552, 12024433]"
   ]
  },
  {
   "cell_type": "code",
   "execution_count": null,
   "id": "394b8bd2",
   "metadata": {},
   "outputs": [],
   "source": [
    "for ev in my_events:\n",
    "    event_selector = (event_selector | (events.event == ev))"
   ]
  },
  {
   "cell_type": "code",
   "execution_count": null,
   "id": "global-virus",
   "metadata": {},
   "outputs": [],
   "source": [
    "def get_charge_parent(particle):\n",
    "    parent = find_first_parent(particle)\n",
    "    charge = ak.zeros_like(parent)\n",
    "    one = [[-11, -13, -15, -17, 24, 37], 1]\n",
    "    minus_one = [[11, 13, 15, 17, -24, -37], -1]\n",
    "    two_thirds = [[2, 4, 6, 8], 2/3]\n",
    "    minus_two_thirds = [[-2, -4, -6, -8], -2/3]\n",
    "    minus_one_third = [[1, 3, 5, 7], -1/3]\n",
    "    one_third = [[-1, -3, -5, -7], 1/3]\n",
    "    zero = [[12, 14, 16, 18, 9, 21, 22, 23, 25], 0]\n",
    "    \n",
    "    charge_pairs = [one, minus_one, two_thirds, minus_two_thirds, minus_one_third, zero]\n",
    "    \n",
    "    for pair in charge_pairs:\n",
    "        for ID in pair[0]:\n",
    "            charge = (parent == ID)*ak.ones_like(parent)*pair[1] + (~(parent == ID))*charge\n",
    "            \n",
    "    return charge"
   ]
  },
  {
   "cell_type": "code",
   "execution_count": null,
   "id": "d5ca72d1",
   "metadata": {},
   "outputs": [],
   "source": [
    "mu_df = ak.to_pandas(ak.flatten(muons[event_selector][fields_to_show]))\n",
    "mu_df"
   ]
  },
  {
   "cell_type": "code",
   "execution_count": null,
   "id": "6339170d",
   "metadata": {},
   "outputs": [],
   "source": [
    "ev_df = ak.to_pandas(events.MET[event_selector])\n",
    "ev_df"
   ]
  },
  {
   "cell_type": "code",
   "execution_count": null,
   "id": "570198d2",
   "metadata": {},
   "outputs": [],
   "source": [
    "import pandas as pd\n",
    "pd.concat([mu_df, ev_df], axis=1, )"
   ]
  },
  {
   "cell_type": "markdown",
   "id": "f0942412",
   "metadata": {},
   "source": [
    "## Some charge flip work"
   ]
  },
  {
   "cell_type": "code",
   "execution_count": null,
   "id": "3a867434",
   "metadata": {},
   "outputs": [],
   "source": [
    "!wget http://uaf-8.t2.ucsd.edu/~ewallace/chargeflipfull2016.pkl.gz"
   ]
  },
  {
   "cell_type": "code",
   "execution_count": null,
   "id": "33dbd6c6",
   "metadata": {},
   "outputs": [],
   "source": [
    "from Tools.helpers import yahist_2D_lookup\n",
    "import gzip\n",
    "import pickle\n",
    " \n",
    "class charge_flip:\n",
    "    def __init__(self, path):\n",
    "        self.path = path\n",
    "        with gzip.open(self.path) as fin:\n",
    "            self.ratio= pickle.load(fin)\n",
    "    \n",
    "    def flip_ratio(self, lepton1, lepton2):\n",
    "        \"\"\"takes a dilepton event and weights it based on the \n",
    "        odds that one of the leptons has a charge flip\"\"\"\n",
    "\n",
    "        flip1 = yahist_2D_lookup(self.ratio, lepton1.pt, abs(lepton1.eta))\n",
    "        flip2 = yahist_2D_lookup(self.ratio, lepton2.pt, abs(lepton2.eta))\n",
    "\n",
    "        flip_rate1 = (ak.prod(flip1, axis = 1) * ak.prod(1/(1-flip1), axis = 1) * ak.prod(1-flip2/(1-flip2), axis = 1)) + (ak.prod(flip2, axis = 1) * ak.prod(1/(1-flip2), axis = 1) * ak.prod(1-flip1/(1-flip1), axis = 1))\n",
    "\n",
    "        return flip_rate1\n",
    "    \n",
    "    def flip_weight(self, electron):\n",
    "\n",
    "        f_1 = yahist_2D_lookup(self.ratio, electron.pt[:,0:1], abs(electron.eta[:,0:1]))\n",
    "        f_2 = yahist_2D_lookup(self.ratio, electron.pt[:,1:2], abs(electron.eta[:,1:2]))\n",
    "\n",
    "        # I'm using ak.prod and ak.sum to replace empty arrays by 1 and 0, respectively\n",
    "        weight = ak.sum(f_1/(1-f_1), axis=1)*ak.prod(1-f_2/(1-f_2), axis=1) + ak.sum(f_2/(1-f_2), axis=1)*ak.prod(1-f_1/(1-f_1), axis=1)\n",
    "\n",
    "        return weight"
   ]
  },
  {
   "cell_type": "code",
   "execution_count": null,
   "id": "e28bd316",
   "metadata": {},
   "outputs": [],
   "source": [
    "cf = charge_flip('chargeflipfull2016.pkl.gz')"
   ]
  },
  {
   "cell_type": "code",
   "execution_count": null,
   "id": "ef6a098c",
   "metadata": {},
   "outputs": [],
   "source": [
    "electrons.matched_gen.parent.pdgId"
   ]
  },
  {
   "cell_type": "code",
   "execution_count": null,
   "id": "4ff64107",
   "metadata": {},
   "outputs": [],
   "source": [
    "gen_matched_electrons = electrons[( (electrons.genPartIdx >= 0) & (abs(electrons.matched_gen.pdgId)==11) )]"
   ]
  },
  {
   "cell_type": "code",
   "execution_count": null,
   "id": "answering-newton",
   "metadata": {},
   "outputs": [],
   "source": [
    "gen_matched_electrons.eta.tolist()"
   ]
  },
  {
   "cell_type": "code",
   "execution_count": null,
   "id": "north-worcester",
   "metadata": {},
   "outputs": [],
   "source": [
    "is_flipped =( (gen_matched_electrons.matched_gen.pdgId*(-1) == gen_matched_electrons.pdgId) & (abs(gen_matched_electrons.pdgId) == 11) )"
   ]
  },
  {
   "cell_type": "code",
   "execution_count": null,
   "id": "specific-ethiopia",
   "metadata": {},
   "outputs": [],
   "source": [
    "flipped_electrons = gen_matched_electrons[is_flipped]"
   ]
  },
  {
   "cell_type": "code",
   "execution_count": null,
   "id": "incoming-poultry",
   "metadata": {},
   "outputs": [],
   "source": [
    "flipped_electrons = flipped_electrons[(ak.fill_none(flipped_electrons.pt, 0)>0)]"
   ]
  },
  {
   "cell_type": "code",
   "execution_count": null,
   "id": "seeing-sixth",
   "metadata": {},
   "outputs": [],
   "source": [
    "flipped_electrons.pt.tolist()"
   ]
  },
  {
   "cell_type": "markdown",
   "id": "2040be1a",
   "metadata": {},
   "source": [
    "# Sample validation"
   ]
  },
  {
   "cell_type": "code",
   "execution_count": null,
   "id": "ea4835bb",
   "metadata": {},
   "outputs": [],
   "source": [
    "from coffea.nanoevents import NanoEventsFactory, NanoAODSchema\n",
    "from coffea.analysis_tools import Weights, PackedSelection\n",
    "\n",
    "from Tools.config_helpers import redirector_fnal, redirector_ucsd\n",
    "\n",
    "import awkward as ak\n",
    "\n",
    "f_in = '/store/mc/RunIISummer20UL17NanoAODv2/WZTo3LNu_mllmin01_NNPDF31_TuneCP5_13TeV_powheg_pythia8/NANOAODSIM/106X_mc2017_realistic_v8-v1/50000/D613B3F6-C909-9A46-BC99-59CC6FF21223.root'\n",
    "\n",
    "# load a subset of events\n",
    "n_max = 500000\n",
    "events_UL = NanoEventsFactory.from_root(\n",
    "    redirector_ucsd+f_in,\n",
    "    schemaclass = NanoAODSchema,\n",
    "    entry_stop = n_max).events()\n",
    "\n"
   ]
  },
  {
   "cell_type": "code",
   "execution_count": null,
   "id": "b5c45777",
   "metadata": {},
   "outputs": [],
   "source": [
    "from Tools.objects import choose\n",
    "from yahist import Hist1D\n",
    "\n",
    "dimuon_UL = choose(events_UL.Muon, 2)"
   ]
  },
  {
   "cell_type": "code",
   "execution_count": null,
   "id": "8ae3bfa2",
   "metadata": {},
   "outputs": [],
   "source": [
    "bins = [ x for x in range(0,200,2)]\n",
    "Hist1D(ak.flatten(dimuon_UL[ak.num(dimuon_UL)>0].mass), bins=bins)"
   ]
  },
  {
   "cell_type": "code",
   "execution_count": null,
   "id": "b2a92c17",
   "metadata": {},
   "outputs": [],
   "source": [
    "bins = [ x/10. for x in range(0,200,1)]\n",
    "h_UL = Hist1D(ak.flatten(dimuon_UL[ak.num(dimuon_UL)>0].mass), bins=bins, overflow=False)"
   ]
  },
  {
   "cell_type": "code",
   "execution_count": null,
   "id": "08103919",
   "metadata": {},
   "outputs": [],
   "source": [
    "f_in = '/store/mc/RunIISummer16NanoAODv7/WZTo3LNu_mllmin01_13TeV-powheg-pythia8/NANOAODSIM/PUMoriond17_Nano02Apr2020_102X_mcRun2_asymptotic_v8-v1/70000/5023ABC1-B4D7-D749-BD69-7EA689C7D3B6.root'\n",
    "\n",
    "# load a subset of events\n",
    "n_max = 500000\n",
    "events = NanoEventsFactory.from_root(\n",
    "    redirector_ucsd+f_in,\n",
    "    schemaclass = NanoAODSchema,\n",
    "    entry_stop = n_max).events()\n",
    "\n",
    "dimuon = choose(events.Muon, 2)\n",
    "bins = [ x/10. for x in range(0,200,1)]"
   ]
  },
  {
   "cell_type": "code",
   "execution_count": null,
   "id": "8d6d2f5d",
   "metadata": {},
   "outputs": [],
   "source": [
    "import matplotlib.pyplot as plt\n",
    "import mplhep as hep\n",
    "plt.style.use(hep.style.CMS)\n",
    "\n",
    "h = Hist1D(ak.flatten(dimuon[ak.num(dimuon)>0].mass), bins=bins, overflow=False)\n",
    "\n",
    "f, ax = plt.subplots()\n",
    "\n",
    "hep.histplot(\n",
    "    #[(h/sum(h.counts)).counts, (h_UL/sum(h_UL.counts)).counts],\n",
    "    [h.counts, h_UL.counts],\n",
    "    h.edges,\n",
    "    #w2=[my_histos['tch'].errors/100, my_histos['tuh'].errors/100],\n",
    "    histtype=\"step\",\n",
    "    stack=False,\n",
    "    label=[r'Summer16', r'Summer20'],\n",
    "    color=['blue', 'red'],\n",
    "    #density=[True, True],\n",
    "    ax=ax)\n",
    "\n",
    "h.plot()\n",
    "\n",
    "ax.set_ylabel(r'a.u.')\n",
    "ax.set_xlabel(r'$M(\\ell\\ell)\\ (GeV)$')\n",
    "\n",
    "plt.legend()\n",
    "\n",
    "f.savefig('/home/users/dspitzba/public_html/WZ_minmll.png')"
   ]
  },
  {
   "cell_type": "code",
   "execution_count": null,
   "id": "8688ac00",
   "metadata": {},
   "outputs": [],
   "source": [
    "sum(h.counts)"
   ]
  },
  {
   "cell_type": "code",
   "execution_count": null,
   "id": "37d527e0",
   "metadata": {},
   "outputs": [],
   "source": [
    "events_UL.Jet.jetId"
   ]
  },
  {
   "cell_type": "code",
   "execution_count": null,
   "id": "cb33e87f",
   "metadata": {},
   "outputs": [],
   "source": [
    "events.Flag.ecalBadCalibFilter"
   ]
  },
  {
   "cell_type": "code",
   "execution_count": null,
   "id": "5d22f56f",
   "metadata": {},
   "outputs": [],
   "source": [
    "events_UL.HLT.Ele32_WPTight_Gsf"
   ]
  },
  {
   "cell_type": "code",
   "execution_count": null,
   "id": "acceptable-vessel",
   "metadata": {},
   "outputs": [],
   "source": []
  }
 ],
 "metadata": {
  "kernelspec": {
   "display_name": "coffeadev",
   "language": "python",
   "name": "coffeadev"
  },
  "language_info": {
   "codemirror_mode": {
    "name": "ipython",
    "version": 3
   },
   "file_extension": ".py",
   "mimetype": "text/x-python",
   "name": "python",
   "nbconvert_exporter": "python",
   "pygments_lexer": "ipython3",
   "version": "3.9.5"
  }
 },
 "nbformat": 4,
 "nbformat_minor": 5
}
