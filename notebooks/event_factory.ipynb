{
 "cells": [
  {
   "cell_type": "markdown",
   "id": "510cac07",
   "metadata": {},
   "source": [
    "# NanoEventsFactory example\n",
    "\n",
    "Load a single file from x-cache (using redirector_ucsd) or the grid (using redirector_fnal), and play with the events.\n"
   ]
  },
  {
   "cell_type": "code",
   "execution_count": null,
   "id": "a5a3dc8b",
   "metadata": {
    "scrolled": true
   },
   "outputs": [],
   "source": [
    "from coffea.nanoevents import NanoEventsFactory, NanoAODSchema\n",
    "from coffea.analysis_tools import Weights, PackedSelection\n",
    "\n",
    "from Tools.config_helpers import redirector_fnal, redirector_ucsd\n",
    "from Tools.nano_mapping import make_fileset\n",
    "from Tools.helpers import get_samples\n",
    "from Tools.gen import get_charge_parent, find_first_parent\n",
    "from Tools.basic_objects import getJets, getBTagsDeepFlavB\n",
    "\n",
    "import awkward as ak\n",
    "import numpy as np\n",
    "\n",
    "#samples = get_samples(2018)\n",
    "\n",
    "year = 2018\n",
    "\n",
    "fileset = make_fileset(['hut'], year, redirector=redirector_ucsd, small=True)\n",
    "\n",
    "#f_in = '/store/mc/RunIIAutumn18NanoAODv7/TTTo2L2Nu_TuneCP5_13TeV-powheg-pythia8/RunIIAutumn18NanoAODv7-Nano02Apr2020_102X_upgrade2018_realistic_v21-v1/60000/022107FA-F567-1B44-B139-A18ADC996FCF.root'\n",
    "\n",
    "# load a subset of events\n",
    "#n_max = 500000\n",
    "events = NanoEventsFactory.from_root(\n",
    "    fileset[list(fileset.keys())[0]][0],\n",
    "    schemaclass = NanoAODSchema,\n",
    "    #entry_stop = n_max,\n",
    ").events()"
   ]
  },
  {
   "cell_type": "code",
   "execution_count": null,
   "id": "existing-processing",
   "metadata": {},
   "outputs": [],
   "source": [
    "fileset[list(fileset.keys())[0]]"
   ]
  },
  {
   "cell_type": "code",
   "execution_count": null,
   "id": "bb9f49bd",
   "metadata": {},
   "outputs": [],
   "source": [
    "#events.event"
   ]
  },
  {
   "cell_type": "code",
   "execution_count": null,
   "id": "d3881d9a",
   "metadata": {},
   "outputs": [],
   "source": [
    "#ev = events[events.event==33539380]"
   ]
  },
  {
   "cell_type": "code",
   "execution_count": null,
   "id": "9e352622",
   "metadata": {},
   "outputs": [],
   "source": [
    "#print(events[events.event==33539380].Electron.pt, events[events.event==33539380].Electron.eta, events[events.event==33539380].Electron.phi, events[events.event==33539380].Electron.charge,)"
   ]
  },
  {
   "cell_type": "code",
   "execution_count": null,
   "id": "3042db85",
   "metadata": {},
   "outputs": [],
   "source": [
    "import time\n",
    "\n",
    "from Tools.objects import Collections\n",
    "\n",
    "start_time = time.time()\n",
    "#electron = Collections(events, 'Electron', 'tightFCNC', year=2018, verbose=1, ).get()\n",
    "#muon = Collections(events, 'Muon', 'tightFCNC', year=2018, verbose=1, ).get()\n",
    "\n",
    "loose_electron = Collections(events, 'Electron', 'looseFCNC', year=2018, verbose=1, ).get()\n",
    "loose_muon = Collections(events, 'Muon', 'looseFCNC', year=2018, verbose=1, ).get()\n",
    "\n",
    "delta_time = time.time()-start_time\n",
    "\n",
    "print (\"\\nTook %s seconds\"%delta_time)"
   ]
  },
  {
   "cell_type": "code",
   "execution_count": null,
   "id": "df5db7e3",
   "metadata": {},
   "outputs": [],
   "source": [
    "gen = events.Generator\n",
    "list(gen[np.abs(gen.id1) != 21].x1)"
   ]
  },
  {
   "cell_type": "code",
   "execution_count": null,
   "id": "e494e3ac",
   "metadata": {},
   "outputs": [],
   "source": [
    "list(gen.id1[(np.abs(gen.id1) != 21)])"
   ]
  },
  {
   "cell_type": "code",
   "execution_count": null,
   "id": "37fd9735",
   "metadata": {},
   "outputs": [],
   "source": [
    "list(gen.id2[np.abs(gen.id2) != 21])"
   ]
  },
  {
   "cell_type": "code",
   "execution_count": null,
   "id": "dde12701",
   "metadata": {},
   "outputs": [],
   "source": [
    "X = ak.concatenate([gen[np.abs(gen.id2) != 21].x2, gen[np.abs(gen.id1) != 21].x1])\n",
    "list(X)"
   ]
  },
  {
   "cell_type": "code",
   "execution_count": null,
   "id": "65886d7a",
   "metadata": {},
   "outputs": [],
   "source": [
    "gen_particles = events.GenPart\n",
    "gen_Higgs = gen_particles[(gen_particles.pdgId == 25)][:,-1]"
   ]
  },
  {
   "cell_type": "code",
   "execution_count": null,
   "id": "8f2e3455",
   "metadata": {},
   "outputs": [],
   "source": [
    "list(np.sort(gen_Higgs.pvec.absolute())[::-1])"
   ]
  },
  {
   "cell_type": "code",
   "execution_count": null,
   "id": "239047f3",
   "metadata": {},
   "outputs": [],
   "source": [
    "gen_t = gen_particles[(np.abs(gen_particles.pdgId) == 6) & (gen_particles.status == 62)] #"
   ]
  },
  {
   "cell_type": "code",
   "execution_count": null,
   "id": "8d82964b",
   "metadata": {},
   "outputs": [],
   "source": [
    "gen_lep = events.GenDressedLepton\n",
    "gen_lep2 = gen_lep[np.abs(gen_lep.eta) > 2.4999999]"
   ]
  },
  {
   "cell_type": "code",
   "execution_count": null,
   "id": "0143febe",
   "metadata": {},
   "outputs": [],
   "source": [
    "np.sum(np.abs(gen_lep2.eta))"
   ]
  },
  {
   "cell_type": "code",
   "execution_count": null,
   "id": "68608f5d",
   "metadata": {},
   "outputs": [],
   "source": [
    "from Tools.objects import Collections, choose\n",
    "\n",
    "## Electrons\n",
    "electron = Collections(events, \"Electron\", \"tightFCNC\", year, 0).get()\n",
    "electron = electron[((electron.pt > 20) | (electron.conePt > 20)) & (np.abs(electron.eta) < 2.4)] #matches skim \n",
    "        \n",
    "loose_electron = Collections(events, \"Electron\", \"looseFCNC\", year, 0).get()\n",
    "loose_electron = loose_electron[((loose_electron.pt > 20) | (loose_electron.conePt > 20) ) & (np.abs(loose_electron.eta) < 2.4)] #matches skim \n",
    "        \n",
    "SSelectron = (ak.sum(electron.charge, axis=1) != 0) & (ak.num(electron)==2)\n",
    "OSelectron = (ak.sum(electron.charge, axis=1) == 0) & (ak.num(electron)==2)\n",
    "        \n",
    "dielectron = choose(electron, 2)\n",
    "dielectron_mass = dielectron.mass\n",
    "dielectron_pt = dielectron.pt\n",
    "        \n",
    "electron       = electron[ak.argsort(electron.pt, ascending=False)]\n",
    "leading_electron = electron[:,0:1]\n",
    "trailing_electron = electron[:,1:2]\n",
    "        \n",
    "loose_electron       = loose_electron[ak.argsort(loose_electron.pt, ascending=False)]\n",
    "leading_loose_electron = loose_electron[:,0:1]\n",
    "trailing_loose_electron = loose_electron[:,1:2]\n",
    "        \n",
    "diloose_electron = choose(loose_electron, 2)\n",
    "diloose_electron_OS = diloose_electron[(diloose_electron.charge == 0)]\n",
    "        \n",
    "##Muons\n",
    "muon = Collections(events, \"Muon\", \"tightFCNC\", year, 0).get()\n",
    "muon = muon[((muon.pt > 20) | (muon.conePt > 20)) & (np.abs(muon.eta) < 2.4)] #matches skim\n",
    "        \n",
    "loose_muon = Collections(events, \"Muon\", \"looseFCNC\", year, 0).get()\n",
    "loose_muon = loose_muon[((loose_muon.pt > 20) | (loose_muon.conePt > 20)) & (np.abs(loose_muon.eta) < 2.4)] #matches skim \n",
    "        \n",
    "muon       = muon[ak.argsort(muon.pt, ascending=False)]\n",
    "leading_muon = muon[:,0:1]\n",
    "trailing_muon = muon[:,1:2]\n",
    "        \n",
    "loose_muon       = loose_muon[ak.argsort(loose_muon.pt, ascending=False)]\n",
    "leading_loose_muon = loose_muon[:,0:1]\n",
    "trailing_loose_muon = loose_muon[:,1:2]\n",
    "        \n",
    "diloose_muon = choose(loose_muon, 2)\n",
    "diloose_muon_OS = diloose_muon[(diloose_muon.charge == 0)]\n",
    "\n",
    "        \n",
    "##Leptons\n",
    "lepton   = ak.concatenate([muon, electron], axis=1) #tight leptons, matches skim\n",
    "        \n",
    "SSlepton = ( (ak.sum(lepton.charge, axis=1) != 0) & (ak.num(lepton)==2) )\n",
    "OSlepton = ( (ak.sum(lepton.charge, axis=1) == 0) & (ak.num(lepton)==2) )\n",
    "        \n",
    "lepton = lepton[ak.argsort(lepton.pt, ascending = False)]\n",
    "leading_lepton = lepton[:,0:1]\n",
    "subleading_lepton = lepton[:,1:2]\n",
    "subsubleading_lepton = lepton[:,2:3]\n",
    "        \n",
    "dilepton = choose(lepton, 2)\n",
    "dilepton_mass = dilepton.mass\n",
    "dilepton_pt = dilepton.pt\n",
    "        \n",
    "loose_lepton = ak.concatenate([loose_muon, loose_electron], axis=1) #matches skim"
   ]
  },
  {
   "cell_type": "code",
   "execution_count": null,
   "id": "ed6290f6",
   "metadata": {},
   "outputs": [],
   "source": [
    "skim = (((ak.num(loose_lepton) == 2) & (ak.sum(loose_lepton.charge, axis=1) != 0)) | (ak.num(loose_lepton) > 2))\n"
   ]
  },
  {
   "cell_type": "code",
   "execution_count": null,
   "id": "5e030ccc",
   "metadata": {},
   "outputs": [],
   "source": [
    "list(skim[(ak.num(loose_lepton) > 3)])"
   ]
  },
  {
   "cell_type": "code",
   "execution_count": null,
   "id": "a8954fa2",
   "metadata": {
    "scrolled": false
   },
   "outputs": [],
   "source": [
    "list(ak.num(loose_lepton[(ak.num(loose_lepton) > 3)]))"
   ]
  },
  {
   "cell_type": "code",
   "execution_count": null,
   "id": "4582f670",
   "metadata": {},
   "outputs": [],
   "source": [
    "list(ak.sum(loose_lepton[(ak.num(loose_lepton) >= 2)].charge, axis=1))"
   ]
  },
  {
   "cell_type": "code",
   "execution_count": null,
   "id": "e0a1509b",
   "metadata": {
    "scrolled": true
   },
   "outputs": [],
   "source": [
    "list( ( (ak.num(loose_lepton3) == 3) & ( (ak.all(np.abs(diloose_electron3_OS.mass-90) > 15, axis=1)) & (ak.all(np.abs(diloose_muon2_OS.mass-90) > 15, axis=1)) )  )  | (ak.num(loose_lepton3) != 3) )"
   ]
  },
  {
   "cell_type": "code",
   "execution_count": null,
   "id": "228c1587",
   "metadata": {
    "scrolled": true
   },
   "outputs": [],
   "source": [
    "list(diloose_muon2[(~( ( (ak.num(loose_lepton3) == 3) & ( (ak.all(np.abs(diloose_electron3_OS.mass-90) > 15, axis=1)) & (ak.all(np.abs(diloose_muon2_OS.mass-90) > 15, axis=1)) )  )  | (ak.num(loose_lepton3) != 3) ))].charge)"
   ]
  },
  {
   "cell_type": "code",
   "execution_count": null,
   "id": "33f5a1e4",
   "metadata": {
    "scrolled": true
   },
   "outputs": [],
   "source": [
    "list(diloose_muon2[(~( ( (ak.num(loose_lepton3) == 3) & ( (ak.all(np.abs(diloose_electron3_OS.mass-90) > 15, axis=1)) & (ak.all(np.abs(diloose_muon2_OS.mass-90) > 15, axis=1)) )  )  | (ak.num(loose_lepton3) != 3) ))].mass)"
   ]
  },
  {
   "cell_type": "code",
   "execution_count": null,
   "id": "2949fcac",
   "metadata": {
    "scrolled": true
   },
   "outputs": [],
   "source": [
    "list(ak.num(loose_lepton3[(~( ( (ak.num(loose_lepton3) == 3) & ( (ak.all(np.abs(diloose_electron3_OS.mass-90) > 15, axis=1)) & (ak.all(np.abs(diloose_muon2_OS.mass-90) > 15, axis=1)) )  )  | (ak.num(loose_lepton3) != 3) ))]))"
   ]
  },
  {
   "cell_type": "code",
   "execution_count": null,
   "id": "c76017c8",
   "metadata": {
    "scrolled": true
   },
   "outputs": [],
   "source": [
    "list( ( (ak.num(loose_lepton3) == 3) & ( (ak.all(np.abs(diloose_electron3_OS.mass) > 12, axis=1)) & (ak.all(np.abs(diloose_muon2_OS.mass) > 12, axis=1)) )  )  | (ak.num(loose_lepton3) != 3) )"
   ]
  },
  {
   "cell_type": "code",
   "execution_count": null,
   "id": "b44280a1",
   "metadata": {},
   "outputs": [],
   "source": [
    "list(diloose_electron3[(~( ( (ak.num(loose_lepton3) == 3) & (  (ak.all(np.abs(diloose_electron3_OS.mass) > 12, axis=1)) & (ak.all(np.abs(diloose_muon2_OS.mass) > 12, axis=1)) )  )  | (ak.num(loose_lepton3) != 3) ))].charge)"
   ]
  },
  {
   "cell_type": "code",
   "execution_count": null,
   "id": "2bd839c0",
   "metadata": {},
   "outputs": [],
   "source": [
    "list(diloose_electron3[(~( ( (ak.num(loose_lepton3) == 3) & ( (ak.all(np.abs(diloose_electron3_OS.mass) > 12, axis=1)) & (ak.all(np.abs(diloose_muon2_OS.mass) > 12, axis=1)) )  )  | (ak.num(loose_lepton3) != 3) ))].mass)"
   ]
  },
  {
   "cell_type": "code",
   "execution_count": null,
   "id": "ab1d1455",
   "metadata": {},
   "outputs": [],
   "source": [
    "list(ak.num(loose_lepton3[(~( ( (ak.num(loose_lepton3) == 3) & ( (ak.all(np.abs(diloose_electron3_OS.mass) > 12, axis=1)) & (ak.all(np.abs(diloose_muon2_OS.mass) > 12, axis=1)) )  )  | (ak.num(loose_lepton3) != 3) ))]))"
   ]
  },
  {
   "cell_type": "code",
   "execution_count": null,
   "id": "ca07c287",
   "metadata": {},
   "outputs": [],
   "source": [
    "test_array = ak.Array([[True, False], [False], [True], [True, True], [False, False, False]])\n",
    "print( \"all:\", ak.all(test_array, axis=1))\n",
    "print( \"any:\", ak.any(test_array, axis=1))"
   ]
  },
  {
   "cell_type": "code",
   "execution_count": null,
   "id": "db791ffa",
   "metadata": {},
   "outputs": [],
   "source": [
    "empty_array = [[], [], []]\n",
    "print(\"all:\", ak.all(empty_array, axis=1))\n",
    "print(\"any:\", ak.any(empty_array, axis=1))"
   ]
  },
  {
   "cell_type": "code",
   "execution_count": null,
   "id": "8239297a",
   "metadata": {},
   "outputs": [],
   "source": [
    "ak.any([]) | ak.any([])"
   ]
  },
  {
   "cell_type": "code",
   "execution_count": null,
   "id": "b68ad06f",
   "metadata": {},
   "outputs": [],
   "source": [
    "ak.to_numpy(ak.flatten(leading_muon.pt))"
   ]
  },
  {
   "cell_type": "code",
   "execution_count": null,
   "id": "05072880",
   "metadata": {},
   "outputs": [],
   "source": [
    "from Tools.basic_objects import *\n",
    "\n",
    "jet       = getJets(events, minPt=40, maxEta=2.4, pt_var='pt', UL = False)\n",
    "jet       = jet[~match(jet, muon, deltaRCut=0.4)] # remove jets that overlap with muons\n",
    "jet       = jet[~match(jet, electron, deltaRCut=0.4)] # remove jets that overlap with electrons\n",
    "\n",
    "\n",
    "jet2       = getJets(events, minPt=0, maxEta=2.4, pt_var='pt', UL = False)\n",
    "jet2       = jet2[ak.argsort(jet2.pt, ascending=False)]\n",
    "jet2       = jet2[~match(jet2, muon, deltaRCut=0.4)] # remove jets that overlap with muons\n",
    "jet2       = jet2[~match(jet2, electron, deltaRCut=0.4)] # remove jets that overlap with electrons\n",
    "\n",
    "btag      = getBTagsDeepFlavB(jet2, year=2018, UL=False)\n",
    "btag      = btag[ak.argsort(btag.pt, ascending=False)]\n",
    "print(btag.pt)        \n",
    "leading_btag = btag[:, 0:1]\n",
    "print(leading_btag.pt)\n",
    "subleading_btag = btag[:, 1:2]\n",
    "print(subleading_btag.pt)"
   ]
  },
  {
   "cell_type": "code",
   "execution_count": null,
   "id": "9e0f4a9e",
   "metadata": {},
   "outputs": [],
   "source": [
    "events.HLT.Mu23_TrkIsoVVL_Ele12_CaloIdL_TrackIdL_IsoVL_DZ | events.HLT.Mu8_TrkIsoVVL_Ele23_CaloIdL_TrackIdL_IsoVL_DZ"
   ]
  },
  {
   "cell_type": "code",
   "execution_count": null,
   "id": "b8e52b0e",
   "metadata": {},
   "outputs": [],
   "source": [
    "ak.to_numpy(events.Pileup.nTrueInt)"
   ]
  },
  {
   "cell_type": "code",
   "execution_count": null,
   "id": "fdf72be0",
   "metadata": {},
   "outputs": [],
   "source": [
    "from Tools.pileup import pileup\n",
    "PU = pileup(year=2018, UL = False)\n",
    "PU.reweight(events.Pileup.nTrueInt, to='down')"
   ]
  },
  {
   "cell_type": "code",
   "execution_count": null,
   "id": "23096fe2",
   "metadata": {},
   "outputs": [],
   "source": [
    "from Tools.lepton_scalefactors import *\n",
    "from Tools.lepton_scalefactors2 import *\n",
    "\n",
    "leptonSF2 = LeptonSF2(year=2017)"
   ]
  },
  {
   "cell_type": "code",
   "execution_count": null,
   "id": "ebe8133e",
   "metadata": {},
   "outputs": [],
   "source": [
    "print(leptonSF2.get(electron, muon))\n",
    "print(electron)\n",
    "print(muon)"
   ]
  },
  {
   "cell_type": "code",
   "execution_count": null,
   "id": "aff658b8",
   "metadata": {},
   "outputs": [],
   "source": [
    "my_event = events[events.event==24040097]"
   ]
  },
  {
   "cell_type": "code",
   "execution_count": null,
   "id": "03bed2d1",
   "metadata": {},
   "outputs": [],
   "source": [
    "from yahist import Hist1D, Hist2D\n",
    "muonScaleFactor_RunABCD_counts = np.array([[0.9824, 1.0271, 0.9948, 0.9960, 0.9990],\n",
    "                                           [0.9784, 1.0110, 0.9906, 0.9949, 0.9970],\n",
    "                                           [1.0153, 0.9855, 1.0042, 1.0010, 1.0010],\n",
    "                                           [1.0511, 0.9913, 1.0103, 1.0041, 1.0030]])\n",
    "muonScaleFactor_RunABCD_bins = [\n",
    "        np.array([20.,25.,30.,40.,50.,60.]),\n",
    "        np.array([0,0.9,1.2,2.1,2.4]),\n",
    "    ]\n",
    "h = Hist2D.from_bincounts(muonScaleFactor_RunABCD_counts, muonScaleFactor_RunABCD_bins)\n",
    "from Tools.helpers import yahist_2D_lookup\n",
    "muonScaleFactor_RunABCD = yahist_2D_lookup(h, muon.pt, np.abs(muon.eta))\n",
    "print(ak.prod(muonScaleFactor_RunABCD, axis=1))\n"
   ]
  },
  {
   "cell_type": "code",
   "execution_count": null,
   "id": "f7d1f465",
   "metadata": {},
   "outputs": [],
   "source": [
    "h.plot(show_counts=True)"
   ]
  },
  {
   "cell_type": "markdown",
   "id": "7da1560e",
   "metadata": {},
   "source": [
    "You can do anything that you're usually doing inside the processor here as well, so this is very useful for debugging"
   ]
  },
  {
   "cell_type": "code",
   "execution_count": null,
   "id": "e70d9342",
   "metadata": {},
   "outputs": [],
   "source": [
    "matched_electrons = electrons[electrons.genPartIdx>=0]\n",
    "sum(ak.num(matched_electrons, axis=1))"
   ]
  },
  {
   "cell_type": "code",
   "execution_count": null,
   "id": "8af32228",
   "metadata": {},
   "outputs": [],
   "source": [
    "f_in = '/store/mc/RunIIAutumn18NanoAODv7/QCD_Pt-120to170_MuEnrichedPt5_TuneCP5_13TeV_pythia8/NANOAODSIM/Nano02Apr2020_102X_upgrade2018_realistic_v21-v1/70000/DE335891-829A-B943-99BE-E5A179F5F3EB.root'\n",
    "\n",
    "events = NanoEventsFactory.from_root(\n",
    "    redirector_ucsd + f_in,\n",
    "    schemaclass = NanoAODSchema,\n",
    "    entry_stop = 9999999).events()\n",
    "\n",
    "muons = Collections(events, 'Muon', 'tight', verbose=1).get()\n",
    "\n",
    "single_mu_ev = events[ak.num(muons)>0]\n",
    "\n",
    "event_list_tight = single_mu_ev.event\n",
    "event_list_tight"
   ]
  },
  {
   "cell_type": "code",
   "execution_count": null,
   "id": "56371d7d",
   "metadata": {},
   "outputs": [],
   "source": [
    "import numpy as np\n",
    "event_selector = (np.zeros_like(events.MET.pt) == 1)"
   ]
  },
  {
   "cell_type": "code",
   "execution_count": null,
   "id": "d087ef95",
   "metadata": {},
   "outputs": [],
   "source": [
    "my_events = [29552, 12024433]"
   ]
  },
  {
   "cell_type": "code",
   "execution_count": null,
   "id": "394b8bd2",
   "metadata": {},
   "outputs": [],
   "source": [
    "for ev in my_events:\n",
    "    event_selector = (event_selector | (events.event == ev))"
   ]
  },
  {
   "cell_type": "code",
   "execution_count": null,
   "id": "global-virus",
   "metadata": {},
   "outputs": [],
   "source": [
    "def get_charge_parent(particle):\n",
    "    parent = find_first_parent(particle)\n",
    "    charge = ak.zeros_like(parent)\n",
    "    one = [[-11, -13, -15, -17, 24, 37], 1]\n",
    "    minus_one = [[11, 13, 15, 17, -24, -37], -1]\n",
    "    two_thirds = [[2, 4, 6, 8], 2/3]\n",
    "    minus_two_thirds = [[-2, -4, -6, -8], -2/3]\n",
    "    minus_one_third = [[1, 3, 5, 7], -1/3]\n",
    "    one_third = [[-1, -3, -5, -7], 1/3]\n",
    "    zero = [[12, 14, 16, 18, 9, 21, 22, 23, 25], 0]\n",
    "    \n",
    "    charge_pairs = [one, minus_one, two_thirds, minus_two_thirds, minus_one_third, zero]\n",
    "    \n",
    "    for pair in charge_pairs:\n",
    "        for ID in pair[0]:\n",
    "            charge = (parent == ID)*ak.ones_like(parent)*pair[1] + (~(parent == ID))*charge\n",
    "            \n",
    "    return charge"
   ]
  },
  {
   "cell_type": "code",
   "execution_count": null,
   "id": "d5ca72d1",
   "metadata": {},
   "outputs": [],
   "source": [
    "mu_df = ak.to_pandas(ak.flatten(muons[event_selector][fields_to_show]))\n",
    "mu_df"
   ]
  },
  {
   "cell_type": "code",
   "execution_count": null,
   "id": "6339170d",
   "metadata": {},
   "outputs": [],
   "source": [
    "ev_df = ak.to_pandas(events.MET[event_selector])\n",
    "ev_df"
   ]
  },
  {
   "cell_type": "code",
   "execution_count": null,
   "id": "570198d2",
   "metadata": {},
   "outputs": [],
   "source": [
    "import pandas as pd\n",
    "pd.concat([mu_df, ev_df], axis=1, )"
   ]
  },
  {
   "cell_type": "markdown",
   "id": "f0942412",
   "metadata": {},
   "source": [
    "## Some charge flip work"
   ]
  },
  {
   "cell_type": "code",
   "execution_count": null,
   "id": "3a867434",
   "metadata": {},
   "outputs": [],
   "source": [
    "!wget http://uaf-8.t2.ucsd.edu/~ewallace/chargeflipfull2016.pkl.gz"
   ]
  },
  {
   "cell_type": "code",
   "execution_count": null,
   "id": "33dbd6c6",
   "metadata": {},
   "outputs": [],
   "source": [
    "from Tools.helpers import yahist_2D_lookup\n",
    "import gzip\n",
    "import pickle\n",
    " \n",
    "class charge_flip:\n",
    "    def __init__(self, path):\n",
    "        self.path = path\n",
    "        with gzip.open(self.path) as fin:\n",
    "            self.ratio= pickle.load(fin)\n",
    "    \n",
    "    def flip_ratio(self, lepton1, lepton2):\n",
    "        \"\"\"takes a dilepton event and weights it based on the \n",
    "        odds that one of the leptons has a charge flip\"\"\"\n",
    "\n",
    "        flip1 = yahist_2D_lookup(self.ratio, lepton1.pt, abs(lepton1.eta))\n",
    "        flip2 = yahist_2D_lookup(self.ratio, lepton2.pt, abs(lepton2.eta))\n",
    "\n",
    "        flip_rate1 = (ak.prod(flip1, axis = 1) * ak.prod(1/(1-flip1), axis = 1) * ak.prod(1-flip2/(1-flip2), axis = 1)) + (ak.prod(flip2, axis = 1) * ak.prod(1/(1-flip2), axis = 1) * ak.prod(1-flip1/(1-flip1), axis = 1))\n",
    "\n",
    "        return flip_rate1\n",
    "    \n",
    "    def flip_weight(self, electron):\n",
    "\n",
    "        f_1 = yahist_2D_lookup(self.ratio, electron.pt[:,0:1], abs(electron.eta[:,0:1]))\n",
    "        f_2 = yahist_2D_lookup(self.ratio, electron.pt[:,1:2], abs(electron.eta[:,1:2]))\n",
    "\n",
    "        # I'm using ak.prod and ak.sum to replace empty arrays by 1 and 0, respectively\n",
    "        weight = ak.sum(f_1/(1-f_1), axis=1)*ak.prod(1-f_2/(1-f_2), axis=1) + ak.sum(f_2/(1-f_2), axis=1)*ak.prod(1-f_1/(1-f_1), axis=1)\n",
    "\n",
    "        return weight"
   ]
  },
  {
   "cell_type": "code",
   "execution_count": null,
   "id": "e28bd316",
   "metadata": {},
   "outputs": [],
   "source": [
    "cf = charge_flip('chargeflipfull2016.pkl.gz')"
   ]
  },
  {
   "cell_type": "code",
   "execution_count": null,
   "id": "ef6a098c",
   "metadata": {},
   "outputs": [],
   "source": [
    "electrons.matched_gen.parent.pdgId"
   ]
  },
  {
   "cell_type": "code",
   "execution_count": null,
   "id": "4ff64107",
   "metadata": {},
   "outputs": [],
   "source": [
    "gen_matched_electrons = electrons[( (electrons.genPartIdx >= 0) & (abs(electrons.matched_gen.pdgId)==11) )]"
   ]
  },
  {
   "cell_type": "code",
   "execution_count": null,
   "id": "answering-newton",
   "metadata": {},
   "outputs": [],
   "source": [
    "gen_matched_electrons.eta.tolist()"
   ]
  },
  {
   "cell_type": "code",
   "execution_count": null,
   "id": "north-worcester",
   "metadata": {},
   "outputs": [],
   "source": [
    "is_flipped =( (gen_matched_electrons.matched_gen.pdgId*(-1) == gen_matched_electrons.pdgId) & (abs(gen_matched_electrons.pdgId) == 11) )"
   ]
  },
  {
   "cell_type": "code",
   "execution_count": null,
   "id": "specific-ethiopia",
   "metadata": {},
   "outputs": [],
   "source": [
    "flipped_electrons = gen_matched_electrons[is_flipped]"
   ]
  },
  {
   "cell_type": "code",
   "execution_count": null,
   "id": "incoming-poultry",
   "metadata": {},
   "outputs": [],
   "source": [
    "flipped_electrons = flipped_electrons[(ak.fill_none(flipped_electrons.pt, 0)>0)]"
   ]
  },
  {
   "cell_type": "code",
   "execution_count": null,
   "id": "seeing-sixth",
   "metadata": {},
   "outputs": [],
   "source": [
    "flipped_electrons.pt.tolist()"
   ]
  },
  {
   "cell_type": "markdown",
   "id": "2040be1a",
   "metadata": {},
   "source": [
    "# Sample validation"
   ]
  },
  {
   "cell_type": "code",
   "execution_count": null,
   "id": "ea4835bb",
   "metadata": {},
   "outputs": [],
   "source": [
    "from coffea.nanoevents import NanoEventsFactory, NanoAODSchema\n",
    "from coffea.analysis_tools import Weights, PackedSelection\n",
    "\n",
    "from Tools.config_helpers import redirector_fnal, redirector_ucsd\n",
    "\n",
    "import awkward as ak\n",
    "\n",
    "f_in = '/store/mc/RunIISummer20UL17NanoAODv2/WZTo3LNu_mllmin01_NNPDF31_TuneCP5_13TeV_powheg_pythia8/NANOAODSIM/106X_mc2017_realistic_v8-v1/50000/D613B3F6-C909-9A46-BC99-59CC6FF21223.root'\n",
    "\n",
    "# load a subset of events\n",
    "n_max = 500000\n",
    "events_UL = NanoEventsFactory.from_root(\n",
    "    redirector_ucsd+f_in,\n",
    "    schemaclass = NanoAODSchema,\n",
    "    entry_stop = n_max).events()\n",
    "\n"
   ]
  },
  {
   "cell_type": "code",
   "execution_count": null,
   "id": "b5c45777",
   "metadata": {},
   "outputs": [],
   "source": [
    "from Tools.objects import choose\n",
    "from yahist import Hist1D\n",
    "\n",
    "dimuon_UL = choose(events_UL.Muon, 2)"
   ]
  },
  {
   "cell_type": "code",
   "execution_count": null,
   "id": "8ae3bfa2",
   "metadata": {},
   "outputs": [],
   "source": [
    "bins = [ x for x in range(0,200,2)]\n",
    "Hist1D(ak.flatten(dimuon_UL[ak.num(dimuon_UL)>0].mass), bins=bins)"
   ]
  },
  {
   "cell_type": "code",
   "execution_count": null,
   "id": "b2a92c17",
   "metadata": {},
   "outputs": [],
   "source": [
    "bins = [ x/10. for x in range(0,200,1)]\n",
    "h_UL = Hist1D(ak.flatten(dimuon_UL[ak.num(dimuon_UL)>0].mass), bins=bins, overflow=False)"
   ]
  },
  {
   "cell_type": "code",
   "execution_count": null,
   "id": "08103919",
   "metadata": {},
   "outputs": [],
   "source": [
    "f_in = '/store/mc/RunIISummer16NanoAODv7/WZTo3LNu_mllmin01_13TeV-powheg-pythia8/NANOAODSIM/PUMoriond17_Nano02Apr2020_102X_mcRun2_asymptotic_v8-v1/70000/5023ABC1-B4D7-D749-BD69-7EA689C7D3B6.root'\n",
    "\n",
    "# load a subset of events\n",
    "n_max = 500000\n",
    "events = NanoEventsFactory.from_root(\n",
    "    redirector_ucsd+f_in,\n",
    "    schemaclass = NanoAODSchema,\n",
    "    entry_stop = n_max).events()\n",
    "\n",
    "dimuon = choose(events.Muon, 2)\n",
    "bins = [ x/10. for x in range(0,200,1)]"
   ]
  },
  {
   "cell_type": "code",
   "execution_count": null,
   "id": "8d6d2f5d",
   "metadata": {},
   "outputs": [],
   "source": [
    "import matplotlib.pyplot as plt\n",
    "import mplhep as hep\n",
    "plt.style.use(hep.style.CMS)\n",
    "\n",
    "h = Hist1D(ak.flatten(dimuon[ak.num(dimuon)>0].mass), bins=bins, overflow=False)\n",
    "\n",
    "f, ax = plt.subplots()\n",
    "\n",
    "hep.histplot(\n",
    "    #[(h/sum(h.counts)).counts, (h_UL/sum(h_UL.counts)).counts],\n",
    "    [h.counts, h_UL.counts],\n",
    "    h.edges,\n",
    "    #w2=[my_histos['tch'].errors/100, my_histos['tuh'].errors/100],\n",
    "    histtype=\"step\",\n",
    "    stack=False,\n",
    "    label=[r'Summer16', r'Summer20'],\n",
    "    color=['blue', 'red'],\n",
    "    #density=[True, True],\n",
    "    ax=ax)\n",
    "\n",
    "h.plot()\n",
    "\n",
    "ax.set_ylabel(r'a.u.')\n",
    "ax.set_xlabel(r'$M(\\ell\\ell)\\ (GeV)$')\n",
    "\n",
    "plt.legend()\n",
    "\n",
    "f.savefig('/home/users/dspitzba/public_html/WZ_minmll.png')"
   ]
  },
  {
   "cell_type": "code",
   "execution_count": null,
   "id": "8688ac00",
   "metadata": {},
   "outputs": [],
   "source": [
    "sum(h.counts)"
   ]
  },
  {
   "cell_type": "code",
   "execution_count": null,
   "id": "37d527e0",
   "metadata": {},
   "outputs": [],
   "source": [
    "events_UL.Jet.jetId"
   ]
  },
  {
   "cell_type": "code",
   "execution_count": null,
   "id": "cb33e87f",
   "metadata": {},
   "outputs": [],
   "source": [
    "events.Flag.ecalBadCalibFilter"
   ]
  },
  {
   "cell_type": "code",
   "execution_count": null,
   "id": "5d22f56f",
   "metadata": {},
   "outputs": [],
   "source": [
    "events_UL.HLT.Ele32_WPTight_Gsf"
   ]
  },
  {
   "cell_type": "code",
   "execution_count": null,
   "id": "acceptable-vessel",
   "metadata": {},
   "outputs": [],
   "source": []
  }
 ],
 "metadata": {
  "kernelspec": {
   "display_name": "coffeadev",
   "language": "python",
   "name": "coffeadev"
  },
  "language_info": {
   "codemirror_mode": {
    "name": "ipython",
    "version": 3
   },
   "file_extension": ".py",
   "mimetype": "text/x-python",
   "name": "python",
   "nbconvert_exporter": "python",
   "pygments_lexer": "ipython3",
   "version": "3.9.5"
  }
 },
 "nbformat": 4,
 "nbformat_minor": 5
}
