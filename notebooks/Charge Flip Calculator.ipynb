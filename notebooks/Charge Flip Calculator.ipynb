{
 "cells": [
  {
   "cell_type": "markdown",
   "metadata": {},
   "source": [
    "# Example for analysis of NanoAOD samples\n",
    "\n",
    "In this example we don't need any pre-processing of NanoAOD samples and can still use several tools of the tW_scattering repository.\n",
    "\n",
    "- Get the proper normalization for samples\n",
    "- Categorize different samples into process categories\n",
    "- Use coffea processors for the map-reduce step\n",
    "- Make \"nice\" histograms\n"
   ]
  },
  {
   "cell_type": "code",
   "execution_count": null,
   "metadata": {},
   "outputs": [],
   "source": [
    "%load_ext autoreload\n",
    "%autoreload 2\n",
    "\n",
    "import os\n",
    "\n",
    "import warnings\n",
    "warnings.filterwarnings('ignore')"
   ]
  },
  {
   "cell_type": "code",
   "execution_count": null,
   "metadata": {},
   "outputs": [],
   "source": [
    "from coffea.nanoevents import NanoEventsFactory, NanoAODSchema\n",
    "from coffea import processor, hist\n",
    "\n",
    "from processor.charge_flip_calc import charge_flip_calc\n",
    "from Tools.config_helpers import loadConfig\n",
    "from klepto.archives import dir_archive\n",
    "import time"
   ]
  },
  {
   "cell_type": "code",
   "execution_count": null,
   "metadata": {},
   "outputs": [],
   "source": [
    "from processor.default_accumulators import desired_output, add_processes_to_output\n",
    "\n",
    "from Tools.helpers import get_samples\n",
    "from Tools.config_helpers import redirector_ucsd, redirector_fnal\n",
    "from Tools.nano_mapping import make_fileset, nano_mapping\n",
    "\n",
    "from processor.meta_processor import get_sample_meta\n",
    "\n",
    "overwrite = False\n",
    "local = True\n",
    "\n",
    "# load the config and the cache\n",
    "cfg = loadConfig()\n",
    "\n",
    "cacheName = 'charge_flip_calc'\n",
    "cache = dir_archive(os.path.join(os.path.expandvars(cfg['caches']['base']), cacheName), serialized=True)\n",
    "\n",
    "year = 2018\n",
    "\n",
    "# get a python dictionary of all NanoAOD samples\n",
    "# The samples definitions can be found in data/samples.yaml\n",
    "samples = get_samples()\n",
    "\n",
    "# make a fileset, taking the definitions in Tools/nano_mapping.py\n",
    "fileset = make_fileset(['DY', 'TTZ', 'top',], samples, redirector=redirector_ucsd, small=False)\n",
    "#add back in:  \n",
    "\n",
    "# in order for cutflows to work we need to add every process to the output accumulator\n",
    "add_processes_to_output(fileset, desired_output)\n",
    "\n",
    "histograms = sorted(list(desired_output.keys()))\n",
    "\n",
    "#meta = get_sample_meta(fileset, samples)\n",
    "\n",
    "chunksize = 25000\n",
    "\n",
    "if local:\n",
    "\n",
    "    exe_args = {\n",
    "        'workers': 16,\n",
    "        'function_args': {'flatten': False},\n",
    "        \"schema\": NanoAODSchema,\n",
    "        \"skipbadfiles\": True,\n",
    "    }\n",
    "    exe = processor.futures_executor\n",
    "\n",
    "else:\n",
    "    from Tools.helpers import get_scheduler_address\n",
    "    from dask.distributed import Client, progress\n",
    "    \n",
    "    scheduler_address = get_scheduler_address()\n",
    "    c = Client(scheduler_address)\n",
    "    \n",
    "    def unique(filename):\n",
    "        file, ext = os.path.splitext(filename)\n",
    "        counter = 0\n",
    "        while os.path.exists(filename):\n",
    "            counter += 1\n",
    "            filename = file + str(counter) + ext\n",
    "        return filename\n",
    "\n",
    "    tstart = time.time()\n",
    "    \n",
    "    from dask.distributed import performance_report\n",
    "    fname = unique(\"dask-report_chunksize=\" + str(chunksize/1000) + \"K.html\")\n",
    "    \n",
    "    exe_args = {\n",
    "        'client': c,\n",
    "        'function_args': {'flatten': False},\n",
    "        \"schema\": NanoAODSchema,\n",
    "        \"skipbadfiles\": True,\n",
    "        'savemetrics': True\n",
    "    }\n",
    "    exe = processor.dask_executor\n",
    "\n",
    "if not overwrite:\n",
    "    cache.load()\n",
    "\n",
    "if cfg == cache.get('cfg') and histograms == cache.get('histograms') and cache.get('simple_output'):\n",
    "    output = cache.get('simple_output')\n",
    "\n",
    "else:\n",
    "    print (\"I'm running now\")\n",
    "    #with performance_report(filename=fname):\n",
    "    output = processor.run_uproot_job(\n",
    "        fileset,\n",
    "        \"Events\",\n",
    "        charge_flip_calc(year=year, variations=[], accumulator=desired_output),\n",
    "        exe,\n",
    "        exe_args,\n",
    "        chunksize=chunksize,\n",
    "        )\n",
    "\n",
    "    cache['fileset']        = fileset\n",
    "    cache['cfg']            = cfg\n",
    "    cache['histograms']     = histograms\n",
    "    cache['simple_output']  = output\n",
    "    cache.dump()"
   ]
  },
  {
   "cell_type": "code",
   "execution_count": null,
   "metadata": {},
   "outputs": [],
   "source": [
    "import cloudpickle\n",
    "import gzip\n",
    "dt = time.time() - tstart\n",
    "outname = 'charge_calc'\n",
    "os.system(\"mkdir -p histos/\")\n",
    "print('Saving output in %s...'%(\"histos/\" + outname + \".pkl.gz\"))\n",
    "with gzip.open(\"histos/\" + outname + \".pkl.gz\", \"wb\") as fout:\n",
    "    cloudpickle.dump(output, fout)\n",
    "print('Done!')\n",
    "print(\"Events / s / thread: {:,.0f}\".format(output[1]['entries'].value / output[1]['processtime'].value))\n",
    "print(\"Events / s: {:,.0f}\".format(output[1]['entries'].value / dt))"
   ]
  },
  {
   "cell_type": "code",
   "execution_count": null,
   "metadata": {},
   "outputs": [],
   "source": [
    "output[1].keys(), output[1]['processtime'].value"
   ]
  },
  {
   "cell_type": "code",
   "execution_count": null,
   "metadata": {},
   "outputs": [],
   "source": [
    "output['totalEvents']['all']/1e6"
   ]
  },
  {
   "cell_type": "markdown",
   "metadata": {},
   "source": [
    "Full fileset is 180M events, and that's basically just DY and ttbar."
   ]
  },
  {
   "cell_type": "code",
   "execution_count": null,
   "metadata": {},
   "outputs": [],
   "source": [
    "# import the plotting libararies: matplotlib and mplhep\n",
    "from Tools.nano_mapping import make_fileset, nano_mapping\n",
    "import matplotlib.pyplot as plt\n",
    "import mplhep as hep\n",
    "plt.style.use(hep.style.CMS)\n",
    "\n",
    "import numpy as np\n",
    "\n",
    "\n",
    "# load the functions to make a nice plot from the output histograms\n",
    "# and the scale_and_merge function that scales the individual histograms\n",
    "# to match the physical cross section\n",
    "\n",
    "from plots.helpers import makePlot, scale_and_merge\n",
    "\n",
    "# define a few axes that we can use to rebin our output histograms\n",
    "\n",
    "N_bins         = hist.Bin('multiplicity', r'$N$', 10, -0.5, 9.5)\n",
    "N_bins_red     = hist.Bin('multiplicity', r'$N$', 5, -0.5, 4.5)\n",
    "pt_bins        = hist.Bin('pt', r'$p_{T}\\ (GeV)$', 20, 0, 400)\n",
    "pt_bins2       = hist.Bin('pt', r'$p_{T}\\ (GeV)$', np.array([15, 40, 60, 80, 100, 200, 300]))\n",
    "pt_bins_coarse = hist.Bin('pt', r'$p_{T}\\ (GeV)$', 10, 0, 300)\n",
    "eta_bins       = hist.Bin('eta', r'$\\eta $', 10, -2.5, 2.5)\n",
    "eta_bins2      = hist.Bin('eta', r'$\\eta $', np.array([-2.5, -1.5, -1, 0, 1, 1.5, 2.5]))\n",
    "eta_bins3      = hist.Bin('eta', r'$\\eta $', np.array([0, 0.79, 1.479, 2.5]))\n",
    "phi_bins       = hist.Bin('phi', r'$\\phi $', 16, -3.2, 3.2)\n",
    "\n",
    "\n",
    "# define nicer labels and colors\n",
    "\n",
    "my_labels = {\n",
    "    nano_mapping['TTW'][0]: 'ttW',\n",
    "    nano_mapping['TTZ'][0]: 'ttZ',\n",
    "    nano_mapping['DY'][0]: 'DY',\n",
    "    nano_mapping['top'][0]: 't/tt+jets',\n",
    "}\n",
    "\n",
    "my_colors = {\n",
    "    nano_mapping['TTW'][0]: '#8AC926',\n",
    "    nano_mapping['TTZ'][0]: '#FFCA3A',\n",
    "    nano_mapping['DY'][0]: '#6A4C93',\n",
    "    nano_mapping['top'][0]: '#1982C4',\n",
    "}\n",
    "\n"
   ]
  },
  {
   "cell_type": "markdown",
   "metadata": {},
   "source": [
    "# 1D Histograms"
   ]
  },
  {
   "cell_type": "code",
   "execution_count": null,
   "metadata": {},
   "outputs": [],
   "source": [
    "# take the N_ele histogram out of the output, apply the x-secs from samples to the samples in fileset\n",
    "# then merge the histograms into the categories defined in nano_mapping\n",
    "\n",
    "\n",
    "my_hist = scale_and_merge(output['N_ele'], samples, fileset, nano_mapping)\n",
    "\n",
    "# Now make a nice plot of the electron multiplicity.\n",
    "# You can have a look at all the \"magic\" (and hard coded monstrosities) that happens in makePlot\n",
    "# in plots/helpers.py\n",
    "\n",
    "makePlot(my_hist, None, 'multiplicity',\n",
    "         bins=N_bins_red, log=True, normalize=False, axis_label=r'$N_{electron}$',\n",
    "         new_colors=my_colors, new_labels=my_labels,\n",
    "         order=[nano_mapping['TTZ'][0], nano_mapping['top'][0], nano_mapping['DY'][0]],\n",
    "         save=os.path.expandvars(cfg['meta']['plots'])+'histos/N_ele_test'\n",
    "        )\n"
   ]
  },
  {
   "cell_type": "code",
   "execution_count": null,
   "metadata": {},
   "outputs": [],
   "source": [
    "my_hist = scale_and_merge(output['electron_flips'], samples, fileset, nano_mapping)\n",
    "\n",
    "makePlot(my_hist, None, 'multiplicity',\n",
    "         bins=N_bins_red, log=True, normalize=False, axis_label=r'$N_{flipped\\ electron}$',\n",
    "         new_colors=my_colors, new_labels=my_labels,\n",
    "         order=[nano_mapping['TTZ'][0], nano_mapping['top'][0], nano_mapping['DY'][0]],\n",
    "         save=os.path.expandvars(cfg['meta']['plots'])+'histos/N_ele_flips_test'\n",
    "        )"
   ]
  },
  {
   "cell_type": "code",
   "execution_count": null,
   "metadata": {},
   "outputs": [],
   "source": [
    "my_hist = scale_and_merge(output[\"electron\"], samples, fileset, nano_mapping)\n",
    "\n",
    "makePlot(my_hist, None, 'pt',\n",
    "         bins=pt_bins_coarse, log=True, normalize=False, axis_label=r'$p_{T}\\ (matched\\ electrons)\\ (GeV)$',\n",
    "         new_colors=my_colors, new_labels=my_labels,\n",
    "         order=[nano_mapping['TTZ'][0], nano_mapping['top'][0], nano_mapping['DY'][0]],\n",
    "         save=os.path.expandvars(cfg['meta']['plots'])+'histos/electron_pt_test'\n",
    "        )"
   ]
  },
  {
   "cell_type": "code",
   "execution_count": null,
   "metadata": {},
   "outputs": [],
   "source": [
    "my_hist = scale_and_merge(output['flipped_electron'], samples, fileset, nano_mapping)\n",
    "\n",
    "makePlot(my_hist, None, 'pt',\n",
    "        bins=pt_bins_coarse, log=True, normalize=False, axis_label=r'$p_{T}\\ (flipped\\ electrons)\\ (GeV)$',\n",
    "        new_colors=my_colors, new_labels=my_labels,\n",
    "        order=[nano_mapping['TTZ'][0], nano_mapping['top'][0], nano_mapping['DY'][0]],\n",
    "        save=os.path.expandvars(cfg['meta']['plots'])+'histos/flipped_electron_pt_test'\n",
    "        )"
   ]
  },
  {
   "cell_type": "code",
   "execution_count": null,
   "metadata": {},
   "outputs": [],
   "source": [
    "my_hist = scale_and_merge(output['electron'], samples, fileset, nano_mapping)\n",
    "\n",
    "makePlot(my_hist, None, 'eta',\n",
    "         bins=eta_bins, log=True, normalize=False, axis_label=r'$\\eta\\ (matched\\ electrons)$',\n",
    "         new_colors=my_colors, new_labels=my_labels,\n",
    "         order=[nano_mapping['TTZ'][0], nano_mapping['top'][0], nano_mapping['DY'][0]],\n",
    "         save=os.path.expandvars(cfg['meta']['plots'])+'histos/electron_eta_test'\n",
    "        )"
   ]
  },
  {
   "cell_type": "code",
   "execution_count": null,
   "metadata": {},
   "outputs": [],
   "source": [
    "ax = hist.plot1d(output['electron'].sum('pt').rebin('eta', eta_bins))\n",
    "ax.set_yscale('log')\n",
    "ax.set_ylim(0.001,1000000)"
   ]
  },
  {
   "cell_type": "code",
   "execution_count": null,
   "metadata": {},
   "outputs": [],
   "source": [
    "my_hist = scale_and_merge(output['flipped_electron'], samples, fileset, nano_mapping)\n",
    "\n",
    "makePlot(my_hist, None, 'eta',\n",
    "         bins=eta_bins, log=True, normalize=False, axis_label=r'$\\eta\\ (flipped\\ electrons)$',\n",
    "         new_colors=my_colors, new_labels=my_labels,\n",
    "         order=[nano_mapping['TTZ'][0], nano_mapping['top'][0], nano_mapping['DY'][0]],\n",
    "         save=os.path.expandvars(cfg['meta']['plots'])+'histos/flipped_electron_eta_test'\n",
    "        )"
   ]
  },
  {
   "cell_type": "code",
   "execution_count": null,
   "metadata": {},
   "outputs": [],
   "source": [
    "ax = hist.plot1d(output['flipped_electron'].sum('pt').rebin('eta', eta_bins))\n",
    "ax.set_yscale('log')\n",
    "ax.set_ylim(0.001,1000000)"
   ]
  },
  {
   "cell_type": "markdown",
   "metadata": {},
   "source": [
    "# 2D Histograms"
   ]
  },
  {
   "cell_type": "code",
   "execution_count": null,
   "metadata": {},
   "outputs": [],
   "source": [
    "from yahist import Hist1D, Hist2D\n",
    "import numpy as np"
   ]
  },
  {
   "cell_type": "code",
   "execution_count": null,
   "metadata": {},
   "outputs": [],
   "source": [
    "tmp1 = output['flipped_electron2'].copy()\n",
    "tmp1 = tmp1.rebin('eta', eta_bins2)\n",
    "tmp1 = tmp1.rebin('pt', pt_bins2)\n",
    "\n",
    "\n",
    "tmp2 = output['electron2'].copy()\n",
    "tmp2 = tmp2.rebin('eta', eta_bins2)\n",
    "tmp2 = tmp2.rebin('pt', pt_bins2)\n",
    "\n",
    "h1 = Hist2D.from_bincounts(\n",
    "    tmp1.sum('dataset').values()[()].T,\n",
    "    (tmp1.axis('pt').edges(), tmp1.axis('eta').edges()),\n",
    ")\n",
    "\n",
    "\n",
    "h2 = Hist2D.from_bincounts(\n",
    "    tmp2.sum('dataset').values()[()].T,\n",
    "    (tmp2.axis('pt').edges(), tmp2.axis('eta').edges()),\n",
    ")"
   ]
  },
  {
   "cell_type": "code",
   "execution_count": null,
   "metadata": {},
   "outputs": [],
   "source": [
    "fig, ax  = plt.subplots(1, 1,figsize=(10,10) )\n",
    "h1.divide(h2).projection(\"x\").plot(show_counts=True)\n",
    "ax.set_xlabel(r'$p_{T}\\ (GeV)$')\n",
    "ax.set_ylabel(r'$ratio$')"
   ]
  },
  {
   "cell_type": "code",
   "execution_count": null,
   "metadata": {},
   "outputs": [],
   "source": [
    "fig, ax  = plt.subplots(1, 1,figsize=(10,10) )\n",
    "h1.divide(h2).projection(\"y\").plot(show_counts=True)\n",
    "ax.set_xlabel(r'$\\eta$')\n",
    "ax.set_ylabel(r'$ratio$')"
   ]
  },
  {
   "cell_type": "code",
   "execution_count": null,
   "metadata": {},
   "outputs": [],
   "source": [
    "tmp3 = output['flipped_electron'].copy()\n",
    "tmp3 = tmp3.rebin('eta', eta_bins3)\n",
    "tmp3 = tmp3.rebin('pt', pt_bins2)\n",
    "\n",
    "\n",
    "tmp4 = output['electron'].copy()\n",
    "tmp4 = tmp4.rebin('eta', eta_bins3)\n",
    "tmp4 = tmp4.rebin('pt', pt_bins2)\n",
    "\n",
    "h3 = Hist2D.from_bincounts(\n",
    "    tmp3.sum('dataset').values()[()].T,\n",
    "    (tmp3.axis('pt').edges(), tmp3.axis('eta').edges()),\n",
    ")\n",
    "\n",
    "\n",
    "h4 = Hist2D.from_bincounts(\n",
    "    tmp4.sum('dataset').values()[()].T,\n",
    "    (tmp4.axis('pt').edges(), tmp4.axis('eta').edges()),\n",
    ")"
   ]
  },
  {
   "cell_type": "code",
   "execution_count": null,
   "metadata": {},
   "outputs": [],
   "source": [
    "h5 = h3.divide(h4, binomial=True).errors\n",
    "print(h5)"
   ]
  },
  {
   "cell_type": "code",
   "execution_count": null,
   "metadata": {},
   "outputs": [],
   "source": [
    "def compute_darkness(r, g, b, a=1.0):\n",
    "    \"\"\"Compute the 'darkness' value from RGBA (darkness = 1 - luminance)\n",
    "       stolen from Nick Amin: https://github.com/aminnj/yahist\n",
    "       Further stolen from Jonathan Guiang: https://gist.github.com/jkguiang/279cb4d2e68e64148afc62274df09f18\n",
    "    \"\"\"\n",
    "    return a * (1.0 - (0.299 * r + 0.587 * g + 0.114 * b))\n",
    "\n",
    "def bin_text(counts, x_edges, y_edges, axes, cbar, errors=None, size=8, fmt=\":g\"):\n",
    "    \"\"\"Write bin population on top of 2D histogram bins,\n",
    "       stolen from Nick Amin: https://github.com/aminnj/yahist\n",
    "       Further stolen from Jonathan Guiang: https://gist.github.com/jkguiang/279cb4d2e68e64148afc62274df09f18\n",
    "    \"\"\"\n",
    "    show_errors = (type(errors) != type(None))\n",
    "    print(show_errors)\n",
    "    x_centers = x_edges[1:]-(x_edges[1:]-x_edges[:-1])/2\n",
    "    y_centers = y_edges[1:]-(y_edges[1:]-y_edges[:-1])/2\n",
    "    \n",
    "    if show_errors:\n",
    "        label_template = r\"{0\"+fmt+\"}\\n$\\pm{1:f}$\"\n",
    "        print(label_template)\n",
    "    else:\n",
    "        errors = np.zeros(counts.shape)\n",
    "        label_template = r\"{0\"+fmt+\"}\"\n",
    "        \n",
    "    xyz = np.c_[        \n",
    "        np.tile(x_centers, len(y_centers)),\n",
    "        np.repeat(y_centers, len(x_centers)),\n",
    "        counts.flatten(),\n",
    "        errors.flatten()\n",
    "    ][counts.flatten() != 0]\n",
    "\n",
    "    r, g, b, a = cbar.mappable.to_rgba(xyz[:, 2]).T\n",
    "    colors = np.zeros((len(xyz), 3))\n",
    "    colors[compute_darkness(r, g, b, a) > 0.45] = 1\n",
    "\n",
    "    for (x, y, count, err), color in zip(xyz, colors):\n",
    "        axes.text(\n",
    "            x,\n",
    "            y,\n",
    "            label_template.format(count, err),\n",
    "            color=color,\n",
    "            ha=\"center\",\n",
    "            va=\"center\",\n",
    "            fontsize=size,\n",
    "            wrap=True,\n",
    "        )\n",
    "\n",
    "    return"
   ]
  },
  {
   "cell_type": "code",
   "execution_count": null,
   "metadata": {},
   "outputs": [],
   "source": [
    "h5 = h3.divide(h4, binomial=True)\n",
    "h5.errors"
   ]
  },
  {
   "cell_type": "code",
   "execution_count": 32,
   "metadata": {},
   "outputs": [
    {
     "name": "stdout",
     "output_type": "stream",
     "text": [
      "True\n",
      "{0:g}\n",
      "$\\pm{1:f}$\n"
     ]
    },
    {
     "data": {
      "text/plain": [
       "Text(0, 1, '$\\\\eta$')"
      ]
     },
     "execution_count": 32,
     "metadata": {},
     "output_type": "execute_result"
    },
    {
     "data": {
      "image/png": "[encoded data removed]",
      "text/plain": [
       "<Figure size 720x720 with 4 Axes>"
      ]
     },
     "metadata": {
      "needs_background": "light"
     },
     "output_type": "display_data"
    }
   ],
   "source": [
    "fig, ax  = plt.subplots(1, 1,figsize=(10,10) )\n",
    "h5.plot(equidistant='xy') #\n",
    "bin_text(h5.counts, h5._edges[0], h5._edges[1], ax, cbar=fig.colorbar(h5.plot()[0], ax=ax), errors = h5.errors)\n",
    "ax.set_xlabel(r'$p_{T}\\ (GeV)$')\n",
    "ax.set_ylabel(r'$\\eta$')"
   ]
  },
  {
   "cell_type": "code",
   "execution_count": null,
   "metadata": {},
   "outputs": [],
   "source": [
    "fig, ax  = plt.subplots(1, 1,figsize=(10,10) )\n",
    "h3.plot(show_counts=True, equidistant='xy')\n",
    "ax.set_xlabel(r'$p_{T}\\ (GeV)$')\n",
    "ax.set_ylabel(r'$\\eta$')"
   ]
  },
  {
   "cell_type": "code",
   "execution_count": null,
   "metadata": {},
   "outputs": [],
   "source": [
    "fig, ax  = plt.subplots(1, 1,figsize=(10,10) )\n",
    "h4.plot(show_counts=True, equidistant='xy')\n",
    "ax.set_xlabel(r'$p_{T}\\ (GeV)$')\n",
    "ax.set_ylabel(r'$\\eta$')"
   ]
  },
  {
   "cell_type": "code",
   "execution_count": null,
   "metadata": {},
   "outputs": [],
   "source": [
    "import cloudpickle\n",
    "import gzip\n",
    "\n",
    "outname = 'chargeflipfullfixed3'\n",
    "os.system(\"mkdir -p histos/\")\n",
    "with gzip.open(\"histos/\" + outname + \".pkl.gz\", \"wb\") as fout:\n",
    "    cloudpickle.dump(h3.divide(h4, binomial=True), fout)\n",
    "print('Saving histo in %s...'%(\"histos/\" + outname + \".pkl.gz\"))"
   ]
  },
  {
   "cell_type": "code",
   "execution_count": null,
   "metadata": {},
   "outputs": [],
   "source": [
    "import gzip\n",
    "import pickle\n",
    "path = 'histos/chargeflipfullfixed3.pkl.gz'\n",
    "with gzip.open(path) as fin:\n",
    "            ratio= pickle.load(fin)"
   ]
  },
  {
   "cell_type": "code",
   "execution_count": null,
   "metadata": {},
   "outputs": [],
   "source": [
    "import matplotlib.pyplot as plt\n",
    "import mplhep as hep\n",
    "plt.style.use(hep.style.CMS)\n",
    "fig, ax  = plt.subplots(1, 1,figsize=(10,10) )\n",
    "ratio.plot(show_counts=True, equidistant='xy')\n",
    "ax.set_xlabel(r'$p_{T}\\ (GeV)$')\n",
    "ax.set_ylabel(r'$\\eta$')"
   ]
  },
  {
   "cell_type": "code",
   "execution_count": null,
   "metadata": {},
   "outputs": [],
   "source": []
  }
 ],
 "metadata": {
  "kernelspec": {
   "display_name": "daskanalysisenv",
   "language": "python",
   "name": "daskanalysisenv"
  },
  "language_info": {
   "codemirror_mode": {
    "name": "ipython",
    "version": 3
   },
   "file_extension": ".py",
   "mimetype": "text/x-python",
   "name": "python",
   "nbconvert_exporter": "python",
   "pygments_lexer": "ipython3",
   "version": "3.8.8"
  }
 },
 "nbformat": 4,
 "nbformat_minor": 4
}
