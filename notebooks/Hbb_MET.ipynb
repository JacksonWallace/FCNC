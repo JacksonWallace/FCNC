{
 "cells": [
  {
   "cell_type": "code",
   "execution_count": null,
   "id": "f459dacd",
   "metadata": {},
   "outputs": [],
   "source": [
    "import uproot\n",
    "import awkward as ak\n",
    "from coffea.nanoevents import NanoEventsFactory, NanoAODSchema, BaseSchema\n",
    "\n",
    "#f_in = uproot.open('root://cmseos.fnal.gov//store/user/snowmass/Snowmass2021/DelphesNtuplizer/ZH_HToBB_ZToNuNu_M125_13TeV_powheg_pythia8_200PU/ZH_HToBB_ZToNuNu_M125_13TeV_powheg_pythia8_ntuple_80_0.root:myana/mytree')\n",
    "    #tau1_ZH = ak.flatten(f_in['fatjet_tau1'].array())\n",
    "    #pt_ZH = ak.flatten(f_in['fatjet_pt'].array())\n",
    "    #eta_ZH = ak.flatten(f_in['fatjet_eta'].array())\n",
    "\n",
    "f_in = uproot.open('root://cmseos.fnal.gov//store/user/snowmass/Snowmass2021/Delphes/ZH_HToBB_ZToNuNu_M125_13TeV_powheg_pythia8_200PU/ZH_HToBB_ZToNuNu_M125_13TeV_powheg_pythia8_80_0.root:Delphes')\n",
    "#with uproot.open('root://cmseos.fnal.gov//store/user/snowmass/Snowmass2021/DelphesNtuplizer/ZJetsToNuNu_HT-100To200_14TeV-madgraph_200PU/ZJetsToNuNu_HT-100To200_14TeV-madgraph_ntuple_0_0.root:myana/mytree') as f_in2:\n",
    "#    tau4_ZJets = ak.flatten(f_in2['fatjet_tau4'].array())"
   ]
  },
  {
   "cell_type": "code",
   "execution_count": null,
   "id": "20db1f9b",
   "metadata": {},
   "outputs": [],
   "source": [
    "f_in.values()"
   ]
  },
  {
   "cell_type": "code",
   "execution_count": null,
   "id": "c35e72a6",
   "metadata": {},
   "outputs": [],
   "source": [
    "dau = f_in['Particle']['Particle.D1'].array()[0]"
   ]
  },
  {
   "cell_type": "code",
   "execution_count": null,
   "id": "a2089a7c",
   "metadata": {},
   "outputs": [],
   "source": [
    "dau"
   ]
  },
  {
   "cell_type": "code",
   "execution_count": null,
   "id": "fc069d80",
   "metadata": {},
   "outputs": [],
   "source": [
    "f_in['Particle']['Particle.PID'].array()[dau]"
   ]
  },
  {
   "cell_type": "code",
   "execution_count": null,
   "id": "79affa8e",
   "metadata": {},
   "outputs": [],
   "source": [
    "f_in['genpart_d1'].array()[0][0]"
   ]
  },
  {
   "cell_type": "code",
   "execution_count": null,
   "id": "c64a9bda",
   "metadata": {},
   "outputs": [],
   "source": [
    "tau1_ZH"
   ]
  },
  {
   "cell_type": "code",
   "execution_count": null,
   "id": "4846726b",
   "metadata": {},
   "outputs": [],
   "source": [
    "fatjet = f_in['Particle']['Particle.D1']"
   ]
  },
  {
   "cell_type": "code",
   "execution_count": null,
   "id": "10b17308",
   "metadata": {},
   "outputs": [],
   "source": [
    "fatjet.array()[0].tolist()"
   ]
  },
  {
   "cell_type": "code",
   "execution_count": null,
   "id": "773525b8",
   "metadata": {},
   "outputs": [],
   "source": [
    "fatjet = f_in['Particle']['Particle.D2']"
   ]
  },
  {
   "cell_type": "code",
   "execution_count": null,
   "id": "db1feb6c",
   "metadata": {},
   "outputs": [],
   "source": [
    "fatjet.array()[0].tolist()"
   ]
  },
  {
   "cell_type": "code",
   "execution_count": null,
   "id": "30fed126",
   "metadata": {},
   "outputs": [],
   "source": [
    "import matplotlib.pyplot as plt\n",
    "import mplhep as hep\n",
    "plt.style.use(hep.style.CMS)\n",
    "\n",
    "\n",
    "plt.hist(tau1_ZH, histtype = 'step', label = 'ZH_HToBB_ZToNuNu')\n",
    "#plt.hist(tau4_ZJets, histtype = 'step', label = 'ZJetsToNuNu')\n",
    "plt.xlabel(r'$Fatjet\\ \\tau_1$')\n",
    "plt.ylabel(r'Events')\n",
    "plt.legend()"
   ]
  },
  {
   "cell_type": "code",
   "execution_count": null,
   "id": "43af5e8d",
   "metadata": {},
   "outputs": [],
   "source": [
    "events = NanoEventsFactory.from_root(\n",
    "        'root://cmseos.fnal.gov//store/user/snowmass/Snowmass2021/Delphes/ZH_HToBB_ZToNuNu_M125_13TeV_powheg_pythia8_200PU/ZH_HToBB_ZToNuNu_M125_13TeV_powheg_pythia8_80_0.root',\n",
    "        treepath='Delphes',\n",
    "        schemaclass = BaseSchema,\n",
    "        #entry_stop = n_max,\n",
    "    ).events()    "
   ]
  },
  {
   "cell_type": "code",
   "execution_count": null,
   "id": "a0e0a383",
   "metadata": {},
   "outputs": [],
   "source": [
    "ak.flatten(events['JetPUPPIAK8/JetPUPPIAK8.PT'])"
   ]
  },
  {
   "cell_type": "code",
   "execution_count": null,
   "id": "74dd31ed",
   "metadata": {},
   "outputs": [],
   "source": [
    "tau1_ZH = ak.flatten(events['fatjet_tau1'])"
   ]
  },
  {
   "cell_type": "code",
   "execution_count": null,
   "id": "45618638",
   "metadata": {},
   "outputs": [],
   "source": [
    "import uproot\n",
    "import awkward as ak\n",
    "import numpy as np\n",
    "from coffea.nanoevents import NanoEventsFactory, NanoAODSchema, BaseSchema "
   ]
  },
  {
   "cell_type": "code",
   "execution_count": null,
   "id": "0627c51d",
   "metadata": {},
   "outputs": [],
   "source": [
    "events_1 = NanoEventsFactory.from_root(\n",
    "        '/home/users/ewallace/CMSSW_10_6_19/src/NanoGen/psets/MH3_1500_MH4_150_Mchi_10.root',\n",
    "        treepath='Events',\n",
    "        schemaclass = BaseSchema,\n",
    "        #entry_stop = n_max,\n",
    "    ).events()   \n",
    "\n",
    "events_2 = NanoEventsFactory.from_root(\n",
    "        '/home/users/ewallace/CMSSW_10_6_19/src/NanoGen/psets/MH3_1500_MH4_250_Mchi_10.root',\n",
    "        treepath='Events',\n",
    "        schemaclass = BaseSchema,\n",
    "        #entry_stop = n_max,\n",
    "    ).events()   \n",
    "\n",
    "events_3 = NanoEventsFactory.from_root(\n",
    "        '/home/users/ewallace/CMSSW_10_6_19/src/NanoGen/psets/MH3_1500_MH4_300_Mchi_10.root',\n",
    "        treepath='Events',\n",
    "        schemaclass = BaseSchema,\n",
    "        #entry_stop = n_max,\n",
    "    ).events()   \n",
    "\n",
    "events_4 = NanoEventsFactory.from_root(\n",
    "        '/home/users/ewallace/CMSSW_10_6_19/src/NanoGen/psets/MH3_1500_MH4_400_Mchi_10.root',\n",
    "        treepath='Events',\n",
    "        schemaclass = BaseSchema,\n",
    "        #entry_stop = n_max,\n",
    "    ).events()   "
   ]
  },
  {
   "cell_type": "code",
   "execution_count": null,
   "id": "8323148f",
   "metadata": {},
   "outputs": [],
   "source": [
    "genpdg = events_1['GenPart_pdgId']"
   ]
  },
  {
   "cell_type": "code",
   "execution_count": null,
   "id": "7d321cea",
   "metadata": {},
   "outputs": [],
   "source": [
    "particle = []\n",
    "for genpart in genpdg:\n",
    "    i = 0\n",
    "    for pdg in genpart:\n",
    "        if pdg == 52:\n",
    "            particle += [i]\n",
    "        i += 1"
   ]
  },
  {
   "cell_type": "code",
   "execution_count": null,
   "id": "8a1c4904",
   "metadata": {},
   "outputs": [],
   "source": [
    "particle"
   ]
  },
  {
   "cell_type": "code",
   "execution_count": null,
   "id": "ae141ca9",
   "metadata": {},
   "outputs": [],
   "source": [
    "for i in range(len(particle)):\n",
    "    second_index = particle[i]\n",
    "    print(events_1['GenPart_pt'][i][second_index])\n",
    "    #print(events_1['GenPart_mass'][i][second_index])"
   ]
  },
  {
   "cell_type": "code",
   "execution_count": null,
   "id": "82a59b53",
   "metadata": {},
   "outputs": [],
   "source": [
    "[3003]"
   ]
  },
  {
   "cell_type": "code",
   "execution_count": null,
   "id": "199569c0",
   "metadata": {},
   "outputs": [],
   "source": [
    "array[3003]"
   ]
  },
  {
   "cell_type": "code",
   "execution_count": null,
   "id": "b9fb6d61",
   "metadata": {},
   "outputs": [],
   "source": [
    "len(array)"
   ]
  },
  {
   "cell_type": "code",
   "execution_count": null,
   "id": "65990b39",
   "metadata": {},
   "outputs": [],
   "source": [
    "events_1['GenPart_pt'][0][1161]"
   ]
  },
  {
   "cell_type": "code",
   "execution_count": null,
   "id": "8ab57854",
   "metadata": {},
   "outputs": [],
   "source": [
    "events_1"
   ]
  },
  {
   "cell_type": "code",
   "execution_count": null,
   "id": "99595c99",
   "metadata": {},
   "outputs": [],
   "source": [
    "nfatjet_1 = events_1['nGenJetAK8']\n",
    "nfatjet_2 = events_2['nGenJetAK8']\n",
    "nfatjet_3 = events_3['nGenJetAK8']\n",
    "nfatjet_4 = events_4['nGenJetAK8']\n",
    "\n",
    "genMET_1 = events_1['GenMET_pt']\n",
    "genMET_2 = events_2['GenMET_pt']\n",
    "genMET_3 = events_3['GenMET_pt']\n",
    "genMET_4 = events_4['GenMET_pt']\n",
    "\n",
    "ordered_fatjet_1 = ak.argsort(events_1['GenJetAK8_pt'],ascending=False)\n",
    "ordered_fatjet_2 = ak.argsort(events_2['GenJetAK8_pt'],ascending=False)\n",
    "ordered_fatjet_3 = ak.argsort(events_3['GenJetAK8_pt'],ascending=False)\n",
    "ordered_fatjet_4 = ak.argsort(events_4['GenJetAK8_pt'],ascending=False)"
   ]
  },
  {
   "cell_type": "code",
   "execution_count": null,
   "id": "ea885d91",
   "metadata": {},
   "outputs": [],
   "source": [
    "lead_fatjet_1_pt = events_1['GenJetAK8_pt'][ak.num(ordered_fatjet_1)>0][:,0]\n",
    "lead_fatjet_2_pt = events_2['GenJetAK8_pt'][ak.num(ordered_fatjet_2)>0][:,0]\n",
    "lead_fatjet_3_pt = events_3['GenJetAK8_pt'][ak.num(ordered_fatjet_3)>0][:,0]\n",
    "lead_fatjet_4_pt = events_4['GenJetAK8_pt'][ak.num(ordered_fatjet_4)>0][:,0]"
   ]
  },
  {
   "cell_type": "code",
   "execution_count": null,
   "id": "fa8b8ac1",
   "metadata": {},
   "outputs": [],
   "source": [
    "lead_fatjet_1_eta = events_1['GenJetAK8_eta'][ak.num(ordered_fatjet_1)>0][:,0]\n",
    "lead_fatjet_2_eta = events_2['GenJetAK8_eta'][ak.num(ordered_fatjet_2)>0][:,0]\n",
    "lead_fatjet_3_eta = events_3['GenJetAK8_eta'][ak.num(ordered_fatjet_3)>0][:,0]\n",
    "lead_fatjet_4_eta = events_4['GenJetAK8_eta'][ak.num(ordered_fatjet_4)>0][:,0]"
   ]
  },
  {
   "cell_type": "code",
   "execution_count": null,
   "id": "6fd49b25",
   "metadata": {},
   "outputs": [],
   "source": [
    "import matplotlib.pyplot as plt\n",
    "import mplhep as hep\n",
    "plt.style.use(hep.style.CMS)"
   ]
  },
  {
   "cell_type": "code",
   "execution_count": null,
   "id": "0bc7faa5",
   "metadata": {},
   "outputs": [],
   "source": [
    "plt.hist(nfatjet_1, bins=[-0.5,0.5,1.5,2.5,3.5,4.5,5.5], histtype = 'step', label = 'MH3_1500_MH4_150_Mchi_10')\n",
    "plt.hist(nfatjet_2, bins=[-0.5,0.5,1.5,2.5,3.5,4.5,5.5], histtype = 'step', label = 'MH3_1500_MH4_250_Mchi_10')\n",
    "plt.hist(nfatjet_3, bins=[-0.5,0.5,1.5,2.5,3.5,4.5,5.5], histtype = 'step', label = 'MH3_1500_MH4_300_Mchi_10')\n",
    "plt.hist(nfatjet_4, bins=[-0.5,0.5,1.5,2.5,3.5,4.5,5.5], histtype = 'step', label = 'MH3_1500_MH4_400_Mchi_10')\n",
    "plt.xlabel(r'$n_{Fatjet}$')\n",
    "plt.ylabel(r'Events')\n",
    "plt.legend(prop={'size': 14})\n",
    "plt.savefig('/home/users/ewallace/public_html/HbbNoMET/nanogen_nfatjet.png')"
   ]
  },
  {
   "cell_type": "code",
   "execution_count": null,
   "id": "64ab53bd",
   "metadata": {},
   "outputs": [],
   "source": [
    "plt.hist(genMET_1, bins=[0,5,10,15,20,25,30], histtype = 'step', label = 'MH3_1500_MH4_150_Mchi_10')\n",
    "plt.hist(genMET_2, bins=[0,5,10,15,20,25,30], histtype = 'step', label = 'MH3_1500_MH4_250_Mchi_10')\n",
    "plt.hist(genMET_3, bins=[0,5,10,15,20,25,30], histtype = 'step', label = 'MH3_1500_MH4_300_Mchi_10')\n",
    "plt.hist(genMET_4, bins=[0,5,10,15,20,25,30], histtype = 'step', label = 'MH3_1500_MH4_400_Mchi_10')\n",
    "plt.xlabel(r'$Gen\\ MET_{pt}$')\n",
    "plt.ylabel(r'Events')\n",
    "plt.legend()\n",
    "plt.savefig('/home/users/ewallace/public_html/HbbNoMET/nanogen_genMETpt.png')"
   ]
  },
  {
   "cell_type": "code",
   "execution_count": null,
   "id": "3898e010",
   "metadata": {},
   "outputs": [],
   "source": [
    "plt.hist(lead_fatjet_1_pt, bins=np.linspace(100,500,41), histtype = 'step', label = 'MH3_1500_MH4_150_Mchi_10')\n",
    "plt.hist(lead_fatjet_2_pt, bins=np.linspace(100,500,41), histtype = 'step', label = 'MH3_1500_MH4_250_Mchi_10')\n",
    "plt.hist(lead_fatjet_3_pt, bins=np.linspace(100,500,41), histtype = 'step', label = 'MH3_1500_MH4_300_Mchi_10')\n",
    "plt.hist(lead_fatjet_4_pt, bins=np.linspace(100,500,41), histtype = 'step', label = 'MH3_1500_MH4_400_Mchi_10')\n",
    "plt.xlabel(r'$lead\\ AK8_{pt}$')\n",
    "plt.ylabel(r'Events')\n",
    "plt.legend()\n",
    "plt.savefig('/home/users/ewallace/public_html/HbbNoMET/nanogen_leadfatjetpt.png')"
   ]
  },
  {
   "cell_type": "code",
   "execution_count": null,
   "id": "8bca685a",
   "metadata": {},
   "outputs": [],
   "source": [
    "plt.hist(lead_fatjet_1_eta, bins=np.linspace(-4.5,4.5,10), histtype = 'step', label = 'MH3_1500_MH4_150_Mchi_10')\n",
    "plt.hist(lead_fatjet_2_eta, bins=np.linspace(-4.5,4.5,10), histtype = 'step', label = 'MH3_1500_MH4_250_Mchi_10')\n",
    "plt.hist(lead_fatjet_3_eta, bins=np.linspace(-4.5,4.5,10), histtype = 'step', label = 'MH3_1500_MH4_300_Mchi_10')\n",
    "plt.hist(lead_fatjet_4_eta, bins=np.linspace(-4.5,4.5,10), histtype = 'step', label = 'MH3_1500_MH4_400_Mchi_10')\n",
    "plt.xlabel(r'$lead\\ AK8_{pt}$')\n",
    "plt.ylabel(r'Events')\n",
    "plt.legend(prop={'size': 14})\n",
    "plt.savefig('/home/users/ewallace/public_html/HbbNoMET/nanogen_leadfatjeteta.png')"
   ]
  },
  {
   "cell_type": "code",
   "execution_count": null,
   "id": "35946513",
   "metadata": {},
   "outputs": [],
   "source": [
    "np.linspace(-4.5,4.5,10)"
   ]
  },
  {
   "cell_type": "code",
   "execution_count": null,
   "id": "baf7e194",
   "metadata": {},
   "outputs": [],
   "source": []
  }
 ],
 "metadata": {
  "kernelspec": {
   "display_name": "coffeadev",
   "language": "python",
   "name": "coffeadev"
  },
  "language_info": {
   "codemirror_mode": {
    "name": "ipython",
    "version": 3
   },
   "file_extension": ".py",
   "mimetype": "text/x-python",
   "name": "python",
   "nbconvert_exporter": "python",
   "pygments_lexer": "ipython3",
   "version": "3.9.5"
  }
 },
 "nbformat": 4,
 "nbformat_minor": 5
}
