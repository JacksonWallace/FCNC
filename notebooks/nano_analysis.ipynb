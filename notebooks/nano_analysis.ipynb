{
 "cells": [
  {
   "cell_type": "markdown",
   "metadata": {},
   "source": [
    "# Example for analysis of NanoAOD samples\n",
    "\n",
    "In this example we don't need any pre-processing of NanoAOD samples and can still use several tools of the tW_scattering repository.\n",
    "\n",
    "- Get the proper normalization for samples\n",
    "- Categorize different samples into process categories\n",
    "- Use coffea processors for the map-reduce step\n",
    "- Make \"nice\" histograms\n"
   ]
  },
  {
   "cell_type": "code",
   "execution_count": null,
   "metadata": {},
   "outputs": [],
   "source": [
    "%load_ext autoreload\n",
    "%autoreload 2\n",
    "\n",
    "import os\n",
    "\n",
    "import warnings\n",
    "warnings.filterwarnings('ignore')"
   ]
  },
  {
   "cell_type": "code",
   "execution_count": null,
   "metadata": {},
   "outputs": [],
   "source": [
    "from coffea.nanoevents import NanoEventsFactory, NanoAODSchema\n",
    "from coffea import processor, hist\n",
    "\n",
    "from processor.nano_analysis import nano_analysis\n",
    "from Tools.config_helpers import loadConfig\n",
    "from klepto.archives import dir_archive"
   ]
  },
  {
   "cell_type": "code",
   "execution_count": null,
   "metadata": {},
   "outputs": [],
   "source": [
    "from klepto.archives import dir_archive\n",
    "from processor.default_accumulators import desired_output, add_processes_to_output\n",
    "\n",
    "from Tools.helpers import get_samples\n",
    "from Tools.config_helpers import redirector_ucsd, redirector_fnal\n",
    "from Tools.nano_mapping import make_fileset, nano_mapping\n",
    "\n",
    "overwrite = True\n",
    "\n",
    "# load the config and the cache\n",
    "cfg = loadConfig()\n",
    "\n",
    "cacheName = 'nano_analysis'\n",
    "cache = dir_archive(os.path.join(os.path.expandvars(cfg['caches']['base']), cacheName), serialized=True)\n",
    "\n",
    "year = 2018\n",
    "\n",
    "# get a python dictionary of all NanoAOD samples\n",
    "# The samples definitions can be found in data/samples.yaml\n",
    "samples = get_samples()\n",
    "\n",
    "# make a fileset, taking the definitions in Tools/nano_mapping.py\n",
    "fileset = make_fileset(['DY', 'TTZ', 'top'], samples, redirector=redirector_ucsd, small=True)\n",
    "\n",
    "# in order for cutflows to work we need to add every process to the output accumulator\n",
    "add_processes_to_output(fileset, desired_output)\n",
    "\n",
    "histograms = sorted(list(desired_output.keys()))\n",
    "\n",
    "exe_args = {\n",
    "    'workers': 16,\n",
    "    'function_args': {'flatten': False},\n",
    "     \"schema\": NanoAODSchema,\n",
    "}\n",
    "exe = processor.futures_executor\n",
    "\n",
    "if not overwrite:\n",
    "    cache.load()\n",
    "\n",
    "if cfg == cache.get('cfg') and histograms == cache.get('histograms') and cache.get('simple_output'):\n",
    "    output = cache.get('simple_output')\n",
    "\n",
    "else:\n",
    "    print (\"I'm running now\")\n",
    "\n",
    "    output = processor.run_uproot_job(\n",
    "        fileset,\n",
    "        \"Events\",\n",
    "        nano_analysis(year=year, variations=[], accumulator=desired_output),\n",
    "        exe,\n",
    "        exe_args,\n",
    "        chunksize=250000,\n",
    "    )\n",
    "\n",
    "    cache['fileset']        = fileset\n",
    "    cache['cfg']            = cfg\n",
    "    cache['histograms']     = histograms\n",
    "    cache['simple_output']  = output\n",
    "    cache.dump()"
   ]
  },
  {
   "cell_type": "code",
   "execution_count": null,
   "metadata": {},
   "outputs": [],
   "source": [
    "fileset"
   ]
  },
  {
   "cell_type": "code",
   "execution_count": null,
   "metadata": {},
   "outputs": [],
   "source": [
    "output['totalEvents']['all']/1e6"
   ]
  },
  {
   "cell_type": "markdown",
   "metadata": {},
   "source": [
    "Full fileset is 180M events, and that's basically just DY and ttbar."
   ]
  },
  {
   "cell_type": "code",
   "execution_count": null,
   "metadata": {},
   "outputs": [],
   "source": [
    "# import the plotting libararies: matplotlib and mplhep\n",
    "\n",
    "import matplotlib.pyplot as plt\n",
    "import mplhep as hep\n",
    "plt.style.use(hep.style.CMS)\n",
    "\n",
    "\n",
    "# load the functions to make a nice plot from the output histograms\n",
    "# and the scale_and_merge function that scales the individual histograms\n",
    "# to match the physical cross section\n",
    "\n",
    "from plots.helpers import makePlot, scale_and_merge\n",
    "\n",
    "# define a few axes that we can use to rebin our output histograms\n",
    "\n",
    "N_bins         = hist.Bin('multiplicity', r'$N$', 10, -0.5, 9.5)\n",
    "N_bins_red     = hist.Bin('multiplicity', r'$N$', 5, -0.5, 4.5)\n",
    "pt_bins        = hist.Bin('pt', r'$p_{T}\\ (GeV)$', 30, 0, 300)\n",
    "pt_bins_coarse = hist.Bin('pt', r'$p_{T}\\ (GeV)$', 10, 0, 300)\n",
    "eta_bins       = hist.Bin('eta', r'$\\eta $', 25, -5.0, 5.0)\n",
    "\n",
    "\n",
    "# define nicer labels and colors\n",
    "\n",
    "my_labels = {\n",
    "    nano_mapping['TTW'][0]: 'ttW',\n",
    "    nano_mapping['TTZ'][0]: 'ttZ',\n",
    "    nano_mapping['DY'][0]: 'DY',\n",
    "    nano_mapping['top'][0]: 't/tt+jets',\n",
    "}\n",
    "\n",
    "my_colors = {\n",
    "    nano_mapping['TTW'][0]: '#8AC926',\n",
    "    nano_mapping['TTZ'][0]: '#FFCA3A',\n",
    "    nano_mapping['DY'][0]: '#6A4C93',\n",
    "    nano_mapping['top'][0]: '#1982C4',\n",
    "}\n",
    "\n"
   ]
  },
  {
   "cell_type": "code",
   "execution_count": null,
   "metadata": {},
   "outputs": [],
   "source": [
    "# take the N_ele histogram out of the output, apply the x-secs from samples to the samples in fileset\n",
    "# then merge the histograms into the categories defined in nano_mapping\n",
    "\n",
    "my_hist = scale_and_merge(output['N_ele'], samples, fileset, nano_mapping)\n",
    "\n",
    "# Now make a nice plot of the electron multiplicity.\n",
    "# You can have a look at all the \"magic\" (and hard coded monstrosities) that happens in makePlot\n",
    "# in plots/helpers.py\n",
    "\n",
    "makePlot(my_hist, None, 'multiplicity',\n",
    "         data=[],\n",
    "         bins=N_bins_red, log=True, normalize=False, axis_label=r'$N_{electron}$',\n",
    "         new_colors=my_colors, new_labels=my_labels,\n",
    "         order=[nano_mapping['TTZ'][0], nano_mapping['top'][0], nano_mapping['DY'][0]],\n",
    "        )"
   ]
  },
  {
   "cell_type": "code",
   "execution_count": null,
   "metadata": {},
   "outputs": [],
   "source": [
    "my_hist = scale_and_merge(output['lead_lep'], samples, fileset, nano_mapping)\n",
    "\n",
    "makePlot(my_hist, None, 'pt',\n",
    "         data=[],\n",
    "         bins=pt_bins_coarse, log=True, normalize=False, axis_label=r'$p_{T}\\ (leading\\ lepton)\\ (GeV)$',\n",
    "         new_colors=my_colors, new_labels=my_labels,\n",
    "         order=[nano_mapping['TTZ'][0], nano_mapping['top'][0], nano_mapping['DY'][0]],\n",
    "        )"
   ]
  },
  {
   "cell_type": "code",
   "execution_count": null,
   "metadata": {},
   "outputs": [],
   "source": []
  }
 ],
 "metadata": {
  "kernelspec": {
   "display_name": "coffeadev2",
   "language": "python",
   "name": "coffeadev2"
  },
  "language_info": {
   "codemirror_mode": {
    "name": "ipython",
    "version": 3
   },
   "file_extension": ".py",
   "mimetype": "text/x-python",
   "name": "python",
   "nbconvert_exporter": "python",
   "pygments_lexer": "ipython3",
   "version": "3.6.13"
  }
 },
 "nbformat": 4,
 "nbformat_minor": 4
}
