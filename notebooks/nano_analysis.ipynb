{
 "cells": [
  {
   "cell_type": "markdown",
   "metadata": {},
   "source": [
    "# Example for analysis of NanoAOD samples\n",
    "\n",
    "In this example we don't need any pre-processing of NanoAOD samples and can still use several tools of the tW_scattering repository.\n",
    "\n",
    "- Get the proper normalization for samples\n",
    "- Categorize different samples into process categories\n",
    "- Use coffea processors for the map-reduce step\n",
    "- Make \"nice\" histograms\n"
   ]
  },
  {
   "cell_type": "code",
   "execution_count": 3,
   "metadata": {},
   "outputs": [
    {
     "name": "stdout",
     "output_type": "stream",
     "text": [
      "The autoreload extension is already loaded. To reload it, use:\n",
      "  %reload_ext autoreload\n"
     ]
    }
   ],
   "source": [
    "%load_ext autoreload\n",
    "%autoreload 2\n",
    "\n",
    "import os\n",
    "\n",
    "import warnings\n",
    "warnings.filterwarnings('ignore')"
   ]
  },
  {
   "cell_type": "code",
   "execution_count": 4,
   "metadata": {},
   "outputs": [
    {
     "ename": "ModuleNotFoundError",
     "evalue": "No module named 'awkward1'",
     "output_type": "error",
     "traceback": [
      "\u001b[0;31m---------------------------------------------------------------------------\u001b[0m",
      "\u001b[0;31mModuleNotFoundError\u001b[0m                       Traceback (most recent call last)",
      "\u001b[0;32m<ipython-input-2-ac70250406fc>\u001b[0m in \u001b[0;36m<module>\u001b[0;34m\u001b[0m\n\u001b[1;32m      2\u001b[0m \u001b[0;32mfrom\u001b[0m \u001b[0mcoffea\u001b[0m \u001b[0;32mimport\u001b[0m \u001b[0mprocessor\u001b[0m\u001b[0;34m,\u001b[0m \u001b[0mhist\u001b[0m\u001b[0;34m\u001b[0m\u001b[0;34m\u001b[0m\u001b[0m\n\u001b[1;32m      3\u001b[0m \u001b[0;34m\u001b[0m\u001b[0m\n\u001b[0;32m----> 4\u001b[0;31m \u001b[0;32mfrom\u001b[0m \u001b[0mprocessor\u001b[0m\u001b[0;34m.\u001b[0m\u001b[0mnano_analysis\u001b[0m \u001b[0;32mimport\u001b[0m \u001b[0mnano_analysis\u001b[0m\u001b[0;34m\u001b[0m\u001b[0;34m\u001b[0m\u001b[0m\n\u001b[0m\u001b[1;32m      5\u001b[0m \u001b[0;32mfrom\u001b[0m \u001b[0mTools\u001b[0m\u001b[0;34m.\u001b[0m\u001b[0mconfig_helpers\u001b[0m \u001b[0;32mimport\u001b[0m \u001b[0mloadConfig\u001b[0m\u001b[0;34m\u001b[0m\u001b[0;34m\u001b[0m\u001b[0m\n\u001b[1;32m      6\u001b[0m \u001b[0;32mfrom\u001b[0m \u001b[0mklepto\u001b[0m\u001b[0;34m.\u001b[0m\u001b[0marchives\u001b[0m \u001b[0;32mimport\u001b[0m \u001b[0mdir_archive\u001b[0m\u001b[0;34m\u001b[0m\u001b[0;34m\u001b[0m\u001b[0m\n",
      "\u001b[0;32m~/CMSSW_10_2_9/src/tW_scattering/processor/nano_analysis.py\u001b[0m in \u001b[0;36m<module>\u001b[0;34m\u001b[0m\n\u001b[0;32m----> 1\u001b[0;31m \u001b[0;32mimport\u001b[0m \u001b[0mawkward1\u001b[0m \u001b[0;32mas\u001b[0m \u001b[0mak\u001b[0m\u001b[0;34m\u001b[0m\u001b[0;34m\u001b[0m\u001b[0m\n\u001b[0m\u001b[1;32m      2\u001b[0m \u001b[0;34m\u001b[0m\u001b[0m\n\u001b[1;32m      3\u001b[0m \u001b[0;32mfrom\u001b[0m \u001b[0mcoffea\u001b[0m \u001b[0;32mimport\u001b[0m \u001b[0mprocessor\u001b[0m\u001b[0;34m,\u001b[0m \u001b[0mhist\u001b[0m\u001b[0;34m\u001b[0m\u001b[0;34m\u001b[0m\u001b[0m\n\u001b[1;32m      4\u001b[0m \u001b[0;32mfrom\u001b[0m \u001b[0mcoffea\u001b[0m\u001b[0;34m.\u001b[0m\u001b[0mnanoevents\u001b[0m \u001b[0;32mimport\u001b[0m \u001b[0mNanoEventsFactory\u001b[0m\u001b[0;34m,\u001b[0m \u001b[0mNanoAODSchema\u001b[0m\u001b[0;34m\u001b[0m\u001b[0;34m\u001b[0m\u001b[0m\n\u001b[1;32m      5\u001b[0m \u001b[0;32mfrom\u001b[0m \u001b[0mcoffea\u001b[0m\u001b[0;34m.\u001b[0m\u001b[0manalysis_tools\u001b[0m \u001b[0;32mimport\u001b[0m \u001b[0mWeights\u001b[0m\u001b[0;34m,\u001b[0m \u001b[0mPackedSelection\u001b[0m\u001b[0;34m\u001b[0m\u001b[0;34m\u001b[0m\u001b[0m\n",
      "\u001b[0;31mModuleNotFoundError\u001b[0m: No module named 'awkward1'"
     ]
    }
   ],
   "source": [
    "from coffea.nanoevents import NanoEventsFactory, NanoAODSchema\n",
    "from coffea import processor, hist\n",
    "\n",
    "from processor.nano_analysis import nano_analysis\n",
    "from Tools.config_helpers import loadConfig\n",
    "from klepto.archives import dir_archive"
   ]
  },
  {
   "cell_type": "code",
<<<<<<< HEAD
   "execution_count": null,
   "metadata": {},
   "outputs": [],
=======
   "execution_count": 6,
   "metadata": {
    "scrolled": false
   },
   "outputs": [
    {
     "name": "stdout",
     "output_type": "stream",
     "text": [
      "I'm running now\n"
     ]
    },
    {
     "data": {
      "application/vnd.jupyter.widget-view+json": {
       "model_id": "3fa3b0a17714466186d178d9509ea9b5",
       "version_major": 2,
       "version_minor": 0
      },
      "text/plain": [
       "Preprocessing:   0%|          | 0/149 [00:00<?, ?file/s]"
      ]
     },
     "metadata": {},
     "output_type": "display_data"
    },
    {
     "ename": "ImportError",
     "evalue": "Install XRootD python bindings with:\n\n    conda install -c conda-forge xrootd\n\n(or download from http://xrootd.org/dload.html and manually compile with cmake; setting PYTHONPATH and LD_LIBRARY_PATH appropriately).",
     "output_type": "error",
     "traceback": [
      "\u001b[0;31m---------------------------------------------------------------------------\u001b[0m",
      "\u001b[0;31m_RemoteTraceback\u001b[0m                          Traceback (most recent call last)",
      "\u001b[0;31m_RemoteTraceback\u001b[0m: \n\"\"\"\nTraceback (most recent call last):\n  File \"/home/users/dspitzba/miniconda3/envs/coffeadev2/lib/python3.6/site-packages/uproot/extras.py\", line 64, in XRootD_client\n    import XRootD\nModuleNotFoundError: No module named 'XRootD'\n\nDuring handling of the above exception, another exception occurred:\n\nTraceback (most recent call last):\n  File \"/home/users/dspitzba/miniconda3/envs/coffeadev2/lib/python3.6/concurrent/futures/process.py\", line 175, in _process_worker\n    r = call_item.fn(*call_item.args, **call_item.kwargs)\n  File \"/home/users/dspitzba/TTW/CMSSW_10_2_9/src/tW_scattering/coffea/coffea/processor/executor.py\", line 1003, in _get_metadata\n    raise e\n  File \"/home/users/dspitzba/TTW/CMSSW_10_2_9/src/tW_scattering/coffea/coffea/processor/executor.py\", line 980, in _get_metadata\n    file = uproot.open(item.filename, timeout=xrootdtimeout)\n  File \"/home/users/dspitzba/miniconda3/envs/coffeadev2/lib/python3.6/site-packages/uproot/reading.py\", line 146, in open\n    **options  # NOTE: a comma after **options breaks Python 2\n  File \"/home/users/dspitzba/miniconda3/envs/coffeadev2/lib/python3.6/site-packages/uproot/reading.py\", line 554, in __init__\n    file_path, **self._options  # NOTE: a comma after **options breaks Python 2\n  File \"/home/users/dspitzba/miniconda3/envs/coffeadev2/lib/python3.6/site-packages/uproot/source/xrootd.py\", line 427, in __init__\n    for x in uproot._util.range(num_workers)\n  File \"/home/users/dspitzba/miniconda3/envs/coffeadev2/lib/python3.6/site-packages/uproot/source/xrootd.py\", line 427, in <listcomp>\n    for x in uproot._util.range(num_workers)\n  File \"/home/users/dspitzba/miniconda3/envs/coffeadev2/lib/python3.6/site-packages/uproot/source/xrootd.py\", line 80, in __init__\n    XRootD_client = uproot.extras.XRootD_client()\n  File \"/home/users/dspitzba/miniconda3/envs/coffeadev2/lib/python3.6/site-packages/uproot/extras.py\", line 73, in XRootD_client\n    (or download from http://xrootd.org/dload.html and manually compile with \"\"\"\nImportError: Install XRootD python bindings with:\n\n    conda install -c conda-forge xrootd\n\n(or download from http://xrootd.org/dload.html and manually compile with cmake; setting PYTHONPATH and LD_LIBRARY_PATH appropriately).\n\"\"\"",
      "\nThe above exception was the direct cause of the following exception:\n",
      "\u001b[0;31mImportError\u001b[0m                               Traceback (most recent call last)",
      "\u001b[0;32m<ipython-input-6-5dad90f53611>\u001b[0m in \u001b[0;36m<module>\u001b[0;34m()\u001b[0m\n\u001b[1;32m     50\u001b[0m         \u001b[0mexe\u001b[0m\u001b[0;34m,\u001b[0m\u001b[0;34m\u001b[0m\u001b[0;34m\u001b[0m\u001b[0m\n\u001b[1;32m     51\u001b[0m         \u001b[0mexe_args\u001b[0m\u001b[0;34m,\u001b[0m\u001b[0;34m\u001b[0m\u001b[0;34m\u001b[0m\u001b[0m\n\u001b[0;32m---> 52\u001b[0;31m         \u001b[0mchunksize\u001b[0m\u001b[0;34m=\u001b[0m\u001b[0;36m250000\u001b[0m\u001b[0;34m,\u001b[0m\u001b[0;34m\u001b[0m\u001b[0;34m\u001b[0m\u001b[0m\n\u001b[0m\u001b[1;32m     53\u001b[0m     )\n\u001b[1;32m     54\u001b[0m \u001b[0;34m\u001b[0m\u001b[0m\n",
      "\u001b[0;32m/home/users/dspitzba/TTW/CMSSW_10_2_9/src/tW_scattering/coffea/coffea/processor/executor.py\u001b[0m in \u001b[0;36mrun_uproot_job\u001b[0;34m(fileset, treename, processor_instance, executor, executor_args, pre_executor, pre_args, chunksize, maxchunks, metadata_cache)\u001b[0m\n\u001b[1;32m   1131\u001b[0m             }\n\u001b[1;32m   1132\u001b[0m             \u001b[0mpre_args\u001b[0m\u001b[0;34m.\u001b[0m\u001b[0mupdate\u001b[0m\u001b[0;34m(\u001b[0m\u001b[0mpre_arg_override\u001b[0m\u001b[0;34m)\u001b[0m\u001b[0;34m\u001b[0m\u001b[0;34m\u001b[0m\u001b[0m\n\u001b[0;32m-> 1133\u001b[0;31m             \u001b[0mpre_executor\u001b[0m\u001b[0;34m(\u001b[0m\u001b[0mto_get\u001b[0m\u001b[0;34m,\u001b[0m \u001b[0mmetadata_fetcher\u001b[0m\u001b[0;34m,\u001b[0m \u001b[0mout\u001b[0m\u001b[0;34m,\u001b[0m \u001b[0;34m**\u001b[0m\u001b[0mpre_args\u001b[0m\u001b[0;34m)\u001b[0m\u001b[0;34m\u001b[0m\u001b[0;34m\u001b[0m\u001b[0m\n\u001b[0m\u001b[1;32m   1134\u001b[0m             \u001b[0;32mwhile\u001b[0m \u001b[0mout\u001b[0m\u001b[0;34m:\u001b[0m\u001b[0;34m\u001b[0m\u001b[0;34m\u001b[0m\u001b[0m\n\u001b[1;32m   1135\u001b[0m                 \u001b[0mitem\u001b[0m \u001b[0;34m=\u001b[0m \u001b[0mout\u001b[0m\u001b[0;34m.\u001b[0m\u001b[0mpop\u001b[0m\u001b[0;34m(\u001b[0m\u001b[0;34m)\u001b[0m\u001b[0;34m\u001b[0m\u001b[0;34m\u001b[0m\u001b[0m\n",
      "\u001b[0;32m/home/users/dspitzba/TTW/CMSSW_10_2_9/src/tW_scattering/coffea/coffea/processor/executor.py\u001b[0m in \u001b[0;36mfutures_executor\u001b[0;34m(items, function, accumulator, **kwargs)\u001b[0m\n\u001b[1;32m    635\u001b[0m         \u001b[0;32mwith\u001b[0m \u001b[0mpool\u001b[0m\u001b[0;34m(\u001b[0m\u001b[0mmax_workers\u001b[0m\u001b[0;34m=\u001b[0m\u001b[0mworkers\u001b[0m\u001b[0;34m)\u001b[0m \u001b[0;32mas\u001b[0m \u001b[0mexecutor\u001b[0m\u001b[0;34m:\u001b[0m\u001b[0;34m\u001b[0m\u001b[0;34m\u001b[0m\u001b[0m\n\u001b[1;32m    636\u001b[0m             \u001b[0mfutures\u001b[0m \u001b[0;34m=\u001b[0m \u001b[0mset\u001b[0m\u001b[0;34m(\u001b[0m\u001b[0mexecutor\u001b[0m\u001b[0;34m.\u001b[0m\u001b[0msubmit\u001b[0m\u001b[0;34m(\u001b[0m\u001b[0mfunction\u001b[0m\u001b[0;34m,\u001b[0m \u001b[0mitem\u001b[0m\u001b[0;34m)\u001b[0m \u001b[0;32mfor\u001b[0m \u001b[0mitem\u001b[0m \u001b[0;32min\u001b[0m \u001b[0mitems\u001b[0m\u001b[0;34m)\u001b[0m\u001b[0;34m\u001b[0m\u001b[0;34m\u001b[0m\u001b[0m\n\u001b[0;32m--> 637\u001b[0;31m             \u001b[0m_futures_handler\u001b[0m\u001b[0;34m(\u001b[0m\u001b[0mfutures\u001b[0m\u001b[0;34m,\u001b[0m \u001b[0maccumulator\u001b[0m\u001b[0;34m,\u001b[0m \u001b[0mstatus\u001b[0m\u001b[0;34m,\u001b[0m \u001b[0munit\u001b[0m\u001b[0;34m,\u001b[0m \u001b[0mdesc\u001b[0m\u001b[0;34m,\u001b[0m \u001b[0madd_fn\u001b[0m\u001b[0;34m,\u001b[0m \u001b[0mtailtimeout\u001b[0m\u001b[0;34m)\u001b[0m\u001b[0;34m\u001b[0m\u001b[0;34m\u001b[0m\u001b[0m\n\u001b[0m\u001b[1;32m    638\u001b[0m     \u001b[0;32mreturn\u001b[0m \u001b[0maccumulator\u001b[0m\u001b[0;34m\u001b[0m\u001b[0;34m\u001b[0m\u001b[0m\n\u001b[1;32m    639\u001b[0m \u001b[0;34m\u001b[0m\u001b[0m\n",
      "\u001b[0;32m/home/users/dspitzba/TTW/CMSSW_10_2_9/src/tW_scattering/coffea/coffea/processor/executor.py\u001b[0m in \u001b[0;36m_futures_handler\u001b[0;34m(futures_set, output, status, unit, desc, add_fn, tailtimeout)\u001b[0m\n\u001b[1;32m    185\u001b[0m                 \u001b[0mfutures_set\u001b[0m\u001b[0;34m.\u001b[0m\u001b[0mdifference_update\u001b[0m\u001b[0;34m(\u001b[0m\u001b[0mfinished\u001b[0m\u001b[0;34m)\u001b[0m\u001b[0;34m\u001b[0m\u001b[0;34m\u001b[0m\u001b[0m\n\u001b[1;32m    186\u001b[0m                 \u001b[0;32mwhile\u001b[0m \u001b[0mfinished\u001b[0m\u001b[0;34m:\u001b[0m\u001b[0;34m\u001b[0m\u001b[0;34m\u001b[0m\u001b[0m\n\u001b[0;32m--> 187\u001b[0;31m                     \u001b[0madd_fn\u001b[0m\u001b[0;34m(\u001b[0m\u001b[0moutput\u001b[0m\u001b[0;34m,\u001b[0m \u001b[0mfinished\u001b[0m\u001b[0;34m.\u001b[0m\u001b[0mpop\u001b[0m\u001b[0;34m(\u001b[0m\u001b[0;34m)\u001b[0m\u001b[0;34m.\u001b[0m\u001b[0mresult\u001b[0m\u001b[0;34m(\u001b[0m\u001b[0;34m)\u001b[0m\u001b[0;34m)\u001b[0m\u001b[0;34m\u001b[0m\u001b[0;34m\u001b[0m\u001b[0m\n\u001b[0m\u001b[1;32m    188\u001b[0m                     \u001b[0mpbar\u001b[0m\u001b[0;34m.\u001b[0m\u001b[0mupdate\u001b[0m\u001b[0;34m(\u001b[0m\u001b[0;36m1\u001b[0m\u001b[0;34m)\u001b[0m\u001b[0;34m\u001b[0m\u001b[0;34m\u001b[0m\u001b[0m\n\u001b[1;32m    189\u001b[0m                     \u001b[0mlast_job\u001b[0m \u001b[0;34m=\u001b[0m \u001b[0mtime\u001b[0m\u001b[0;34m.\u001b[0m\u001b[0mtime\u001b[0m\u001b[0;34m(\u001b[0m\u001b[0;34m)\u001b[0m\u001b[0;34m\u001b[0m\u001b[0;34m\u001b[0m\u001b[0m\n",
      "\u001b[0;32m/home/users/dspitzba/miniconda3/envs/coffeadev2/lib/python3.6/concurrent/futures/_base.py\u001b[0m in \u001b[0;36mresult\u001b[0;34m(self, timeout)\u001b[0m\n\u001b[1;32m    423\u001b[0m                 \u001b[0;32mraise\u001b[0m \u001b[0mCancelledError\u001b[0m\u001b[0;34m(\u001b[0m\u001b[0;34m)\u001b[0m\u001b[0;34m\u001b[0m\u001b[0;34m\u001b[0m\u001b[0m\n\u001b[1;32m    424\u001b[0m             \u001b[0;32melif\u001b[0m \u001b[0mself\u001b[0m\u001b[0;34m.\u001b[0m\u001b[0m_state\u001b[0m \u001b[0;34m==\u001b[0m \u001b[0mFINISHED\u001b[0m\u001b[0;34m:\u001b[0m\u001b[0;34m\u001b[0m\u001b[0;34m\u001b[0m\u001b[0m\n\u001b[0;32m--> 425\u001b[0;31m                 \u001b[0;32mreturn\u001b[0m \u001b[0mself\u001b[0m\u001b[0;34m.\u001b[0m\u001b[0m__get_result\u001b[0m\u001b[0;34m(\u001b[0m\u001b[0;34m)\u001b[0m\u001b[0;34m\u001b[0m\u001b[0;34m\u001b[0m\u001b[0m\n\u001b[0m\u001b[1;32m    426\u001b[0m \u001b[0;34m\u001b[0m\u001b[0m\n\u001b[1;32m    427\u001b[0m             \u001b[0mself\u001b[0m\u001b[0;34m.\u001b[0m\u001b[0m_condition\u001b[0m\u001b[0;34m.\u001b[0m\u001b[0mwait\u001b[0m\u001b[0;34m(\u001b[0m\u001b[0mtimeout\u001b[0m\u001b[0;34m)\u001b[0m\u001b[0;34m\u001b[0m\u001b[0;34m\u001b[0m\u001b[0m\n",
      "\u001b[0;32m/home/users/dspitzba/miniconda3/envs/coffeadev2/lib/python3.6/concurrent/futures/_base.py\u001b[0m in \u001b[0;36m__get_result\u001b[0;34m(self)\u001b[0m\n\u001b[1;32m    382\u001b[0m     \u001b[0;32mdef\u001b[0m \u001b[0m__get_result\u001b[0m\u001b[0;34m(\u001b[0m\u001b[0mself\u001b[0m\u001b[0;34m)\u001b[0m\u001b[0;34m:\u001b[0m\u001b[0;34m\u001b[0m\u001b[0;34m\u001b[0m\u001b[0m\n\u001b[1;32m    383\u001b[0m         \u001b[0;32mif\u001b[0m \u001b[0mself\u001b[0m\u001b[0;34m.\u001b[0m\u001b[0m_exception\u001b[0m\u001b[0;34m:\u001b[0m\u001b[0;34m\u001b[0m\u001b[0;34m\u001b[0m\u001b[0m\n\u001b[0;32m--> 384\u001b[0;31m             \u001b[0;32mraise\u001b[0m \u001b[0mself\u001b[0m\u001b[0;34m.\u001b[0m\u001b[0m_exception\u001b[0m\u001b[0;34m\u001b[0m\u001b[0;34m\u001b[0m\u001b[0m\n\u001b[0m\u001b[1;32m    385\u001b[0m         \u001b[0;32melse\u001b[0m\u001b[0;34m:\u001b[0m\u001b[0;34m\u001b[0m\u001b[0;34m\u001b[0m\u001b[0m\n\u001b[1;32m    386\u001b[0m             \u001b[0;32mreturn\u001b[0m \u001b[0mself\u001b[0m\u001b[0;34m.\u001b[0m\u001b[0m_result\u001b[0m\u001b[0;34m\u001b[0m\u001b[0;34m\u001b[0m\u001b[0m\n",
      "\u001b[0;31mImportError\u001b[0m: Install XRootD python bindings with:\n\n    conda install -c conda-forge xrootd\n\n(or download from http://xrootd.org/dload.html and manually compile with cmake; setting PYTHONPATH and LD_LIBRARY_PATH appropriately)."
     ]
    }
   ],
>>>>>>> b21b1148363a57f3ee229d5c9e9cdf8b821476ef
   "source": [
    "from klepto.archives import dir_archive\n",
    "from processor.default_accumulators import desired_output, add_processes_to_output\n",
    "\n",
    "from Tools.helpers import get_samples\n",
    "from Tools.config_helpers import redirector_ucsd, redirector_fnal\n",
    "from Tools.nano_mapping import make_fileset, nano_mapping\n",
    "\n",
    "overwrite = True\n",
    "\n",
    "# load the config and the cache\n",
    "cfg = loadConfig()\n",
    "\n",
    "cacheName = 'nano_analysis'\n",
    "cache = dir_archive(os.path.join(os.path.expandvars(cfg['caches']['base']), cacheName), serialized=True)\n",
    "\n",
    "year = 2018\n",
    "\n",
    "# get a python dictionary of all NanoAOD samples\n",
    "# The samples definitions can be found in data/samples.yaml\n",
    "samples = get_samples()\n",
    "\n",
    "# make a fileset, taking the definitions in Tools/nano_mapping.py\n",
    "fileset = make_fileset(['DY', 'TTZ', 'top'], samples, redirector=redirector_ucsd, small=False)\n",
    "\n",
    "# in order for cutflows to work we need to add every process to the output accumulator\n",
    "add_processes_to_output(fileset, desired_output)\n",
    "\n",
    "histograms = sorted(list(desired_output.keys()))\n",
    "\n",
    "exe_args = {\n",
    "    'workers': 16,\n",
    "    'function_args': {'flatten': False},\n",
    "     \"schema\": NanoAODSchema,\n",
    "}\n",
    "exe = processor.futures_executor\n",
    "\n",
    "if not overwrite:\n",
    "    cache.load()\n",
    "\n",
    "if cfg == cache.get('cfg') and histograms == cache.get('histograms') and cache.get('simple_output'):\n",
    "    output = cache.get('simple_output')\n",
    "\n",
    "else:\n",
    "    print (\"I'm running now\")\n",
    "\n",
    "    output = processor.run_uproot_job(\n",
    "        fileset,\n",
    "        \"Events\",\n",
    "        nano_analysis(year=year, variations=[], accumulator=desired_output),\n",
    "        exe,\n",
    "        exe_args,\n",
    "        chunksize=250000,\n",
    "    )\n",
    "\n",
    "    cache['fileset']        = fileset\n",
    "    cache['cfg']            = cfg\n",
    "    cache['histograms']     = histograms\n",
    "    cache['simple_output']  = output\n",
    "    cache.dump()"
   ]
  },
  {
   "cell_type": "code",
   "execution_count": null,
   "metadata": {},
   "outputs": [],
   "source": [
    "#fileset"
   ]
  },
  {
   "cell_type": "code",
   "execution_count": null,
   "metadata": {},
   "outputs": [],
   "source": [
    "output['totalEvents']['all']/1e6"
   ]
  },
  {
   "cell_type": "markdown",
   "metadata": {},
   "source": [
    "Full fileset is 180M events, and that's basically just DY and ttbar."
   ]
  },
  {
   "cell_type": "code",
   "execution_count": 6,
   "metadata": {},
   "outputs": [],
   "source": [
    "# import the plotting libararies: matplotlib and mplhep\n",
    "\n",
    "import matplotlib.pyplot as plt\n",
    "import mplhep as hep\n",
    "plt.style.use(hep.style.CMS)\n",
    "\n",
    "\n",
    "# load the functions to make a nice plot from the output histograms\n",
    "# and the scale_and_merge function that scales the individual histograms\n",
    "# to match the physical cross section\n",
    "\n",
    "from plots.helpers import makePlot, scale_and_merge\n",
    "\n",
    "# define a few axes that we can use to rebin our output histograms\n",
    "\n",
    "N_bins         = hist.Bin('multiplicity', r'$N$', 10, -0.5, 9.5)\n",
    "N_bins_red     = hist.Bin('multiplicity', r'$N$', 5, -0.5, 4.5)\n",
    "pt_bins        = hist.Bin('pt', r'$p_{T}\\ (GeV)$', 30, 0, 300)\n",
    "pt_bins_coarse = hist.Bin('pt', r'$p_{T}\\ (GeV)$', 10, 0, 300)\n",
    "eta_bins       = hist.Bin('eta', r'$\\eta $', 25, -5.0, 5.0)\n",
    "\n",
    "\n",
    "# define nicer labels and colors\n",
    "\n",
    "my_labels = {\n",
    "    nano_mapping['TTW'][0]: 'ttW',\n",
    "    nano_mapping['TTZ'][0]: 'ttZ',\n",
    "    nano_mapping['DY'][0]: 'DY',\n",
    "    nano_mapping['top'][0]: 't/tt+jets',\n",
    "}\n",
    "\n",
    "my_colors = {\n",
    "    nano_mapping['TTW'][0]: '#8AC926',\n",
    "    nano_mapping['TTZ'][0]: '#FFCA3A',\n",
    "    nano_mapping['DY'][0]: '#6A4C93',\n",
    "    nano_mapping['top'][0]: '#1982C4',\n",
    "}\n",
    "\n"
   ]
  },
  {
   "cell_type": "code",
   "execution_count": 7,
   "metadata": {},
   "outputs": [
    {
     "name": "stdout",
     "output_type": "stream",
     "text": [
      "Data: 0 MC: 125596662.73\n"
     ]
    },
    {
     "data": {
      "image/png": "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\n",
      "text/plain": [
       "<Figure size 720x720 with 1 Axes>"
      ]
     },
     "metadata": {
      "needs_background": "light"
     },
     "output_type": "display_data"
    }
   ],
   "source": [
    "# take the N_ele histogram out of the output, apply the x-secs from samples to the samples in fileset\n",
    "# then merge the histograms into the categories defined in nano_mapping\n",
    "\n",
    "my_hist = scale_and_merge(output['N_ele'], samples, fileset, nano_mapping)\n",
    "\n",
    "# Now make a nice plot of the electron multiplicity.\n",
    "# You can have a look at all the \"magic\" (and hard coded monstrosities) that happens in makePlot\n",
    "# in plots/helpers.py\n",
    "\n",
    "makePlot(my_hist, None, 'multiplicity',\n",
    "         data=[],\n",
    "         bins=N_bins_red, log=True, normalize=False, axis_label=r'$N_{electron}$',\n",
    "         new_colors=my_colors, new_labels=my_labels,\n",
    "         order=[nano_mapping['TTZ'][0], nano_mapping['top'][0], nano_mapping['DY'][0]],\n",
    "        )"
   ]
  },
  {
   "cell_type": "code",
   "execution_count": 9,
   "metadata": {},
   "outputs": [
    {
     "name": "stdout",
     "output_type": "stream",
     "text": [
      "Data: 0 MC: 125596659.12\n"
     ]
    },
    {
     "data": {
      "image/png": "iVBORw0KGgoAAAANSUhEUgAAAl8AAAJvCAYAAABFxbSwAAAAOXRFWHRTb2Z0d2FyZQBNYXRwbG90bGliIHZlcnNpb24zLjMuNCwgaHR0cHM6Ly9tYXRwbG90bGliLm9yZy8QVMy6AAAACXBIWXMAAAsTAAALEwEAmpwYAAA7yklEQVR4nO3deZxcVZ3+8edJJ4TFQASUiMgiAgqOgsEoYQlRUbaAcUFFdseAg4jibwTUQUDABcQBwSWMyBJnEGQHUVEWMexhG8BxQQEBQQQCyJp0vr8/zi26qFRVV3dXn1tV/Xm/Xv2qrrq37v3WTaX6qXPPPccRIQAAAOQxruwCAAAAxhLCFwAAQEaELwAAgIwIXwAAABkRvgAAADIifAEAAGRE+AIAoA1sv8F22J5Ydi3obIQvAADaY7+yC0B3GF92AQAAdCvbK0naofj5aMnloEsQvgAAGL6NJf247CLQXTjtCADA8P1G0rLFz1El14IuQfgCgDHG9oa2T7V9v+1nbd9u+zjbkxqsb9v72r7J9tO2H7d9he2dRlBDW7dZbO8/bP+leE2fKx7/UdEJ/ivDrbWZSF6IiBckLW7Xdm3vZfsZ269u0/Zea/sU2zcXx/te27+wvcsQt/OV4ngO9efKEdS+mu3FxXY+1eJzDi/Wf8L2hOKxm23/aLh1tBPhCwDGENuzJd0saW9Jr5O0nKS3SPq8pLtsT6lZ35LOlvR9SZtKeoWkV0qaKelC2/8xjBravk1J+0o6UtLaxWtacRjb6AhFP7JvSPpeRPy9yXp9th+xfc4g23uvpLsk/aukqUrHey1J75X0E9sX2+7YPBARj0iqhLdWw+Ls4vaCiFhU/H6kpD1tb9bO+oajYw82AKC9bL9R0jylcHKGpOlKIWVbSfcohbFTa572GUkfkrRE0v9T+qP9L5K+Wyw/wvZWQyxlNLa5bXF7qaTVIuKIIT6/kxwhaZKkYwdZbztJTVvGimEvvi9pJUnXS9qi+H0tSYdIekHSjpIOaKWwiDgiIlz7I+nwYpV76y2PiJmtbL+Js4rbrWyv1mxF2+sofaGQpJeCaURcJOk2SScVXwBKQ/gCgLHjq5KWVwpge0XEdRHxdET8QtJOkvolbWf79ZJkexmlP9CS9OWI+FZE3B8Rd0bE/kp/2Czpi60WMBrbLKxU3J7brLWo09l+pVIr3rlFi0+j9TZSClWD2VXSOpIel/S+iJgfEU8Vx/wbko4u1uv0YTLOk7RIKbd8YJB1K61eCyX9qmbZ9yS9TdI27SxuqAhfADAGFH2HPqDU2nRIRET18oi4W6k17DalK/gkaUtJUyQ9J+k/62z268Xte2xPbrGU0dhmtSXDeM5SbP+uWR+mduyjgT2VOu+fVbvA9lTb37H9W0n/K+m1LWxvo+L2pxHxVJ3llZah9Tp5cNiIeELSL4q7Hx5k9epTji/WLDtPqW9eqWGz68OX7dcVHQCvs/2w7edt/972Jba/ZLvueX/bezb4T/XBBut/osH6e9ZZdyfbZxed+54ofm6xfb7tPWz3jfA1r2b7WKfOqX+1/U/b/2v7Atv7NNq+7f2LD5Tf2V59JDWMBtszimP6l1HeT0cfB2CUbKf0mX9VRDxYb4WI2CciNomI84qHKqeKroiI5+o85VZJD0vqk9TqacK2brPSAVzS1sVDp7lBB3vbK9n+tlNn82dtL7D9A9tr1tn09pLe2ORntOwr6QlJv6yzbAtJn5a0uVLrYCteX9ze12D5k8Vtn1JfsCxsj7N9gO2LbD9k+x+2f+t0ocGEBk/7n+J2Kze4EKF4fHpxd6m+cBHxmKTLJc0q8/O/q8f5sn2IpMOU+i9UW7/42UHSQbaPiIgTW9zsOyWdW+fxaS3Us46kn0h6e53FmxQ/75d0mO09I2J+izVV7+NTkr6ppf+TvLn42VnSv9v+aETcXrPOqhr40Gj05u4Ztg+UNFnSaRFR/cEzpo4DUJha3F43hOds0Ow5ERG2Fyh91q5f4jZbMVmpz1N1cHpb8fMh2x+LiJcCT0SM6pfAemxvWNT306pO4tXm6eWn0f6t+GkoIgY7RVcJKg8XwWTUFQHpvyW9u2bR5sXPHrZ3ioh/1iy/SKnFdDmlVtx6p113UvqSsVBLn3KsuEzpy8gsST8YxksYsa5t+bL9n5K+pqWD15N6ebPzypJOsD2nxU2/s8HjTcNX0Y/hbC0dvJ5Q6tBYbV1J5w41ddt+l6STlILXjUpvstcW9zeSdKCkh5T+855jO9u3mA71WaVOoGuXWgXQGSpB5pHijME8238rWs5vKFqEXlnznLWK2weabLfyB3utJuuM2jYrHcAlXVU8tFfRwbu2w/2/KX02fq24nSLpY5L+rvR34r/dYKiNjGYUtzfVWxgRj0XEXZUfpdqHxMlk2+vZ/owGAszXhlfysPyXUvB6VNLukl4jaU2lCzGeVWodnVv7pCKMXVLcbXTq8f3Fbb1TjhWV4zujwfJR15Xhy/YHlIJGxRJJX5a0bkRMVgpkuyt1MKw4yfagrVeSptY2edpeTqlVqZn9lC6ZrjhZ0pSIWLmoZ0O9/Bz+akotWENxktK/2dWSNo+IiyPioYh4JiLuLlr3pim9odeT9LnqJ9dcpdKoCbrncRwwRr2quH2tUgvQx5UCyApKnxuflXSn7eovoCsUt0832W7lc7bVL3ujsc1WLKPUwf+LEfH7iHgkIs5S+sL9jKRVVPOZWYKm4atNPqPUKPAHSScoXYBxwBDODo2I7S2VWpyel7RFRMyLiIcj4q8R8R2lFqmQ9FHbm9TZROXv6IzaU49Fg8N7irvNht+4TanfF+GrVbatgQ6ZFbtExNER8WdJiogXI2Ke0lUeFROUxrFp5InitjLmTbW3aeAU7ROq7x1Vv98SEZ+uXKlSDML3u6Keq6rWa9TKthSncV8qzeVfj4i6g/kVfTlOKO7WO/0JYGyqBJmDlT7n9lVqWVpZaZiG/5O0uqQzbS9brFu57W+y3cqpoeVbrGM0ttmKx1Wng39xerHS+rPzSHZQ9cWu9mxHqypf4O8aSR1DtLyk7W232nI5Uv9a3P4gIv5QuzAifiPpYqU+bdvVef7PJD2l1Edtds2y7SVNVPNTjoqI55WGVlm9rH5fXRe+lJoq16u6/+uIqNdHS8Xl07dUPfSeeusVrq/6vTYUTWuwXrV/qfr9rw3qCUlnSrqz+HnOdqsfLutroIPl3wZZ93JJP1VNB8t6HdqrHru4uL9f0Xn/ueKUxMm2VyiWvbno1P+Y0wjJN9v+WO3OPXAxQ8MRjasuWGjpP7ztdxYXMfy+6Cj7d9u32j7SNWO+uBjRWgOnG69y1cURg3XsL5rkv2n7atsLbd9j+zzbezRYv7K9y6vu/7I4Tk/Yvtb2R1p5ncAoqnze90t6T0TMLYYbeKL4rNxc6cvlG5SCmZRaJ6TmA5YuU7PuYEZjm624JiKeabDs4uJ23TbubzgqA9w+3nStEYiIE4rTtKsrhZe7lULOVZm6qlT+fjcb8f7a4nZq7YIiOF1Q3K099fj+4vbCJqccK/5R3DYdM2y0dGOH+3fV3B+sqXSOqjpY2h7foNXoOg2k7HcqnTasqA5fN6h+Gn+y6vdtbL+3uvNmRUScqqUHMWxFdf+ITyg1HdcVETdq8Etxl2L7O0pX0lRMUeonsa7tryl1UqzuYzdVqZ+EIuJ/NEps7650CXy15ZROo2ys1DlzWjvG9rH9dqW+e2tXPbyS0hVDs23vKOkTEVH3lInTVB0/1sv/b20maTPb60REbastkMuzxe35EXFL7cKIeNz2f0n6dw185lXCSm1fsGqVEFXbObqR0dhmK+5tsuzPxe1KtleOiFELP40UX8RXkPRkozMb7RQRf5N0ge3rlFra1lY6FT3aHdAr4esCDz7O6eQGj58laQ9JW9t+VUQ8WvS73r5YfnYLdVT+jUsJX93Y8lWbhBc0WzkiFkTEj6t+Gr2p/6rUWV1q3PL1iBpfrlt9ZeHykn5RtMwca/sDI23SLf6jXFHcPcBpmIkPt/GbyhZK/dYOUQpda2rgst73KV32fI/SOfIVlUJwpYWv2encESleX+WUwLlKLYzLKY3qvIdSv5G1VNUHMCL2Lr7Z3Vs8tHVxKuD0QfY1UamfwNqS/qJ0QcOqSq2Ohyr1EfiwpC812MTrlDqSXq50GnqSUmtC5b1xRNXpHCC3R4vb2qugq1VOd1XGhqp83q3S5DmV0zb3t1jHaGyzFc3G/6qkgFC6mq4Mk4vbdgbOQRXdY35W3N04wy6HcoV5o79vv1K6KKNPAwOuzlT6orxQTU45VqmMebbyEOppm24MX6+q+n2xBj8F16rQwKXPb7D9KkmyvaoGxkm5rlivnqOU/tGrbaw0dca5ku51GsfknOK03HBC0yc08OE4UyndP+E0NsoRtrcq0v9wTJZ0eER8o+iI+lelc/OVFr1nJM2MiN9EGhH7Sg2MQL3B0ptrm39RCrMPSvpYpFGwn4+IRyPiTA1ctFCvY+ZQ7acU5B6TNK24oOGxiPhj0WL1iWK9A1wz/11hA6U583aMiBsj4p8Rca0GWiGX0cAfNSC3Sv+aFZqsU/mbsLC4/b/itln/1LcWt79vsY7R2GYr1m6yrHK68aEGY4/lUOlP3LYrLm1Psv1U0U2k2YCslbMGOYbe+VNxW/lS3OznHfU2UAzDUeluVPl8rfT/auWUozRwnBv14x5V3Ri+qt+Y/4iItoxmXKged6byj17daf2GRk+MiIeVWjmubbSO0je9D0k6TWkC29pTqE1FxL1FPftI+rXSEBbji/0epnQV5GO25zrN4TZU36nZ37Ma+PA7IyL+UbN+pdVxNPsJPKB0zD4a9ce9qUy/UTvkyHBU+q+dUOe1SmmMnT8phcFGHXO/UvuejIg/auDDbawP/4HyVMYVrPsHrfC24vbO4rbSL2dGvf6ptjdQ+sLSL+k3LdYxGttsxZZN+tjOKm7/2Mb9DUkR+p6WtKLttnQJKrpH/F3pc2fjJqtW/l7c2WSddqmEr9oL215ie02n0fybdYavXPW4ddHvt/KZ3HSS8SqVlteGUziNpm4MX9V9bVZ2CyeNh6A6fFW+lbXS2V7SS9NzbKH0AfZlpSsbG11Ovaak8xq0oDTbx3MR8aOIeI9Sn4ltlK7+vEmpVe4Vkj4paYHt9w9h03+L+lNPVPqJ3N1k2agpLj8+NyJ+W/247RVsz9AgAwwOUeXb768b1LJEKeBKA62h1ZYojb9Wz6gfK2AQP1M6pTbT9lL9Vm2vrYHW3cuL298qjTY/UdJBNetbA/MC/moI/aRGY5utWFV1+sraXlcDFxgsNbZUZpUg0OyU7FBVPpPqdg+x/RalriVSkwaGNqp0Z/l8vTNAxQVe1yidRdiwyXauVjrz1SfpG0rdZRZq4L07mFWL24dbXL+tujF8VbdILKOXn4YcqVskVZora8NXv9KboaliWIlbi6EvKueg36T0n/tSvfy05UoawfxSRRD7VUQcGhHTlALdEUpXCC0v6fTaKwGbGOzS6OFeOt0WtrexfWJxBeKDSqH2KrWpj4LTNFSV/4zNxv6qLFunzrKHR3CJOTCqIs2NVxmG5jzbn7W9lu1VbX9YqWVsOUm/iIgLi+e8KOmY4jlH2D7I9hrFH+zvSvqg0peOr9buz/avnKbwellfy5Fsc4Sel3SM7aNsr2/71bY/qvSle3mlL5g/afM+h6oyvlc7uyccpTQh9UynKe6m2n5Fccz3VOrPO17Sf0fEUGY/GJbivTVfqXXzt7a3s71KUdPWSn2b15R0hxp8ES62s0QDHesr0/y1dMqx6Hu7rtJp5ocGW380dGP4qu1g/9a6axVsv9v2wVU/DS9vLi5hva24O81pjsRK+Lorlp7qoHo/fVU/L7XGFWHs/4rLundU+mCp1tLpQaehFnZwmsKoUf0PRMThSmP2LFHqGL/UUBBlG0qTetFn4UqlD4gDlC64uE/pFOD/UxrBvi1lVf3ebNLcythE9frWtdLPACjTYUotA8tK+rbSRSmPKv0RW12pdf9fa55zUrF8nKRvKV1oc7sGvjgeGvWnSltX6fOt3ryJw93mSByi9Fq/pNSd4hGlVphXKfVD+0Cbu7EMR6VlvW1jNBZnZA5W+ux6v1IjwtNKx/w0pav9rlaTK+hHwR5KjR1vVWqR/UdR05VKf3PvlbRDMTxTM7WTj7d6ynFjpcB59SDrjZpuDF+1Y4MMdtrpi0qn5b6u1Jw92LgxleQ/SWlusUprSMNTjranKnX+r/wc2mjdiDhfL++Y32rnyi8oTatw4GArRsTVGjhNWPa4NfXU+zBu5DilCXPvkfReSStFxPSI2CMivqXml4+3LCKe1MCUJms3WbUSfv/UZB2gIxX9JrdTGlLmJqUrvv6hFMg+rzTi+AM1zwlJH1UKRguULr5ZqNQqsX1EDHWmjlHZZgv+pHRhzn8pXdn+otIXue9IekdEtLNz/3BV+ri1dYDsiPi2UneYs5X6dT2rNLzGJUrTMW0dmeZ1LOr5s9IQPF9S+mL9qNLn7/VKf+s2qn0fNtjO9Rr4G/CkWj/lWDm+pYWvbhzn61dKb5pKn5udbL8rIq6oXbEIRVtWPTS/hSbJ6zQQcKq/CTTr7/VnpW8VfcX9D9n+Vr1TUMVpwJVqntuKyhVCW9se18I3tMoYOqV1IFXq01HPUgPnNfH+4vaAiKj3H6ud4fIepb4W71KdCydsj9PAdBSEL3SliOhXGsfw5MHWrXpOKI3/1PIYUBHRsJV+uNscZHszGzy+t6S9qx76ZDv2Nxoi4ne275b0btvLDPb3KtL8lbVzWDZa9w5JozbY81BqKdavnH4+ZrB1B9lO0/dZA9spNZRcPNiKo6XrWr6K0FHdsjRO0mW2P125lNb2sk4jil+ggUtnQ63NpVgdsqpnXG92peMTkn5e9dAmki61vVnlFJvtcU5zWl2ql5/i+mkLNUmpeXWxUjPtl5utWPTfqFxW3PQigVFSOT27Ye3VRUWAOXgI26oEuKU+hJzm9dq9crfJNlq9KKPShH2g7XodXvdUGiDweQ1M7goA7TRXaeif9w2yHoah+GzfRtJFZfX3krowfElSRJyt1DGzYhmlpuMHbD+u1KR6lqQ1qtY5JiIubWHb92npscOe0kDLUyOfUBqLquLdSq0nz9v+u1KH9d/o5a0+xxWnCAdVfGuphK4jbF9le5bTzPQTba9m+x1Oo9SfWax3SqTR7nO7tbhdSdJplSBT9Fe7UOkS41avYrqtuP2a7U2KYP1ap6l+5mvgFOGbba9dhLtaG7e4r+8q9YNYVdKNtre3vXJxjL8o6ZRivRNaaRIHgGE4Q+mqVKYkGx0fUDrr9/3BVhxNXRm+JCki9lfqPFp7au+VenlLxz+Vrpo5bAibr73i44bBTvNFGiV4Jw0Ej4o+pQ6d1ad4X1T6Q3/IEGqSUsvd8cXzZ0i6SGngxOeVLpe9XqkvxwSlDumfrr+Z0VWcz6+cSviwpEdtL1Q6xbqd0pRPrZ5uPVTplO7blTpoPqc09tfpShcV7KDUUXMVpVHpZ1U9tzJ347edBhrcU00Up4k/rDSq9uuVWikfUzrGRyv9W56tdPUQALRdcSblB5I+MNShiNCSTyn1M2xlFPxR07XhS5Ii4qtKwzgco3QwH1MKIr9XuoLiaEmvj4jDhngVy1Lhq8V6bomIt0naUekqmuuVQtFzSn/Af6nUgfwNEbF/0feiZcWVk59XOvX1n0oXH9yr9JrvVRp64btKnRV3b+WS21G0f/Fzi1Jn2iWSfiHp3RFxWqsbKS59fofSufkHNPDv+zVJb4uInxX7+YfSMaie1PxApX+755VaQ6vn32y0vxuUWsqOU2qpXFhs9wJJe0TER5pd9QoAbXC40hmXfy+5jp5ieyelz/dPt3Al5ejWUvL+AQBAjaKl/ruS1omIvw+2PgZn+2ZJ/1tchFFuLYQvAACAfLpiqAnbJEQAANBVIqLu1fZd3ecLAACg23RV+IqIEf188pOfZBtVP1OnTu2IOnppGyM9pp3yOjplG7xHe/OYdsqx6JXj2Wvb6IVjOpghhy/by9hu56SfAAAAY0ZL4cv2PrZ/YnuC0jhWc223e8Z5AACAntdqy9eBkvaRNFvSZZK2UBrcEgAAAEPQavh6WtJrJO2hNKfdayStNlpFAQCAznL11Vdr3XXX1dZbb613vvOdmjdvnnbeeWddeeWVL61z4YUX6p577imxytFx3333af78+frxj38sSfrMZz6jmTNnaubMmVp//fX1yU8Obb72VoeaOFppWpWrIuIq2/dIOnJIe+oAs2bNGnylMbSNduiU19Ip2+iEGnppG+3QKa+lU7bRDiOto1OORa8cz0bbOGT3H+rphc+1vI0Vltt40HXmzJmjgw8+WIsWLdIOO+ygI488UocccohmzpypSy65RG9/+9u17rrrDqX0UXHiPvdKN20+tCeNX1na5OKX7lYf03vvvVfXX3+9rrrqKn384x/XiSeeKElatGiRttpqK33uc58b0q5aGmTV9qyIuLjmsW0i4vIh7W2YKuN8tVIrWrfpppvq5ptvLruMnsIxbS+OZ/txTNurk4/n/rNOGvJzTr648ZTAV199ta6//nodfPDBkqQzzjhD48eP1zXXXKOddtpJxx57rM466yy9+tWvHnbNUpuO6VCDV8Xb59d9eOedd9add96pxx9/XEcddZT2339/SdIRRxyhiRMn6pBDXj5Vs52G94oG43w1bfmyvZWkrSUdYPvEqkV9knaT9IZWXgsAAOgtU6ZM0d13363DDz9c06dP15577jni4NWpDjrooJdavirB6/bbb9cvf/lL/eY3vxny9gY77bhQaVLhfkn31Sz78JD3BgAAesIjjzyi1VZbTauttpo222wz7bPPPmWXlM2iRYs0Z84c/fCHP1RfX9+Qn980fEXEHZLusH1R8dCkYdQIAAB6yKJFizRv3jydccYZkqQJEyZowoQJJVc1uqoHUD366KO18847681vfvOwttVqh/vPS9pL0h8kVc5fhqR3D2uvAABgVE2avNyQOtxPmrzcoOvMnTtXl112mZ5//nkdcMABWm21Dh34YPzK0uLHh/6cBtZYYw2de+65mjRpkk4//XQdc8wxmjZtmi6/PHV932abbfTFL36x9V21uN7HJb0xIp5pecvoeHPmzCm7hJ7DMW0vjmf7cUzbq5OP59fP/ERbtzdjxoyGw0j86Ec/att+2nJMN7l48HWGYN1119VNN9300v0999xzRNtr9WrH0yQdFxF3jmhvw8TVjgAAoFuM6GrHKitLutX2HyQ9rHTqMSKC044AAABD0GrL15r1Ho+I+9teUf390/IFAAC6wmAtX61OL/SQUof7wyQ9KuktuYIXAABAL2k1fP1I6RTlVpJelLSd7VNHrSoAAIAe1Wr4mi7pK5IWR0S/pE9LeteoVQUAADpGZWJpSfrWt76lq6++Wg8++KCefPJJXXrppXWf89RTTzWccPr222/XXXfdNWr1drpWO9w/IGkzpbG9JGknpVORAACgA731+Bv16DOLWl7/VStM0O0HTau7rDKx9Gqrrab11ltPV111lZZddllNmTJFl1xyiXbYYYelnrPiiivqlFNOqbu92267Tcsuu6w22mijluvrJa2Gr90kfVvSKrb/IukuSbuPWlUAAGBEhhK8Blv/+OOP15133qnJkydr++2314EHHqgrrrhCG2+8sS666CLttttu2nzzpSez3m677XTZZZfpoIMO0tVXX6311ltP8+bN0/HHH6/Fixdrxx131G677aaFCxdql1120ac+9akhv85u1Gr42ljSrhHx4ijWAgAAOlBlYul//vOfet3rXqe99tpL2267raZMmaIXX3zxpeB1+umna+2119aMGTNeeu4tt9yiJ598UgsWLNAJJ5yg008/XQcddJCWXXZZzZ8/X1OnTtWXv/zlhq1kvajVPl+zlOZ4PN32DrZ7ewInAACwlIkTJzZctv322+vrX/+6PvvZz75sku0//vGPuvbaazVz5kz95Cc/0WOPPfbSsi233FILFy7UjjvuqOWWG3x6o17RUstXRMyRJNvTlPp7fcn2HyJir1GsDQAAdIhFixZpq622eul+ZezNyu3Pfvazui1fa6+9trbZZhudeOKJuvHGGzVp0iTdeOONigjdcsstmjVrlr7xjW/ofe97nz7ykY/0/ATdUustX7I9RdKGktaXtKKkZ0erKAAA0DnWWGMNHXHEEZo8ebIkaf3119fRRx+tVVZZRTfddJMWLFjQ8LnveMc7tHjxYk2fPl0nnHCCXv/612udddbRd77zHa2xxho67rjjNHv2bG2xxRZjInhJrY9wf4vSlEIXSbo4Im62vWxEPD/aBRb7Z4R7AACGoJ1XOw5Hf3+/dtxxR1122WVt22a3GGyE+6bhy/blEbGN7XUkHRIR+1Yt+31EbNDmehvVQfgCAKCLHHrooZoyZYoOPPDAskvJbqTh6w8RsX7x+10RsVG9ZaON8AUAALpFu+Z2lNJpx2okIQAAgCEaLHxFg98BAAAwDIMNNbGG7V8rtXqtVfyu4v5rR7UyAACAHjRY+HpTlioAAADGiJaGmigbHe4BAEC3aGeHewAAAIwQ4QsAACAjwhcAAEBGhC8AAICMCF8AAAAZEb4AAAAyInwBAABkRPgCAADIiPAFAACQEeELAAAgI8IXAABARoQvAACAjAhfAAAAGRG+AAAAMiJ8AQAAZET4AgAAyIjwBQAAkBHhCwAAICPCFwAAQEaELwAAgIwIXwAAABkRvgAAADIifAEAAGRE+AIAAMiI8AUAAJAR4QsAACAjwhcAAEBGhC8AAICMCF8AAAAZEb4AAAAyInwBAABkRPgCAADIiPAFAACQEeELAAAgI8IXAABARoQvAACAjAhfAAAAGRG+AAAAMiJ8AQAAZET4AgAAyIjwBQAAkBHhCwAAICPCFwAAQEaELwAAgIwIXwAAABkRvgAAADIifAEAAGRE+AIAAMiI8AUAAJAR4QsAACAjwhcAAEBG48suoJrtj0p6taRJEXF02fUAAAC0W/aWL9vzituJts+xPd/23sXiPknrS1o1d10AAAA5ZAtftte0fYOkqcVDsyVdKWlLSbva7pP05oj4tKQXctUFAACQU7bTjhFxv+3pki4tHpoq6dSIWGL7bklrSbre9mckPVBvG5tuumnL+5szZ47mzJkzwqoBAACkuXPnau7cuW3ZliOiLRtqeYf2ZRGxne25ko6IiAdtHyXpvIi4pcFzQpJy1woAADBUtiVJEeF6y8u82vFJSSsVv68oaWF5pQAAAORRZvi6WdJM2+MkbSjp/hJrAQAAyKLM8HWBpBmSrpF0ZkQsLrEWAACALLL3+RqOXuvzddAuP9ALzy0qu4y2mLjcBB1/9r5llwEAQMfo5D5fY1avBC+pt14LAAA5EL4AAAAyInwBAABkRPgCAADIiPAFAACQEeELAAAgI8IXAABARoQvAACAjAhfAAAAGRG+AAAAMiJ8AQAAZET4AgAAyIjwBQAAkBHhCwAAICPCFwAAQEbjyy5gKPafdVLZJbTFuD5rSX+UXQYAACgBLV8lIHgBADB2Eb4AAAAyInwBAABkRPgCAADIiPAFAACQEeELAAAgI8IXAABARoQvAACAjAhfAAAAGRG+AAAAMiJ8AQAAZET4AgAAyIjwBQAAkBHhCwAAICPCFwAAQEaELwAAgIwIXwAAABkRvgAAADIifAEAAGRE+AIAAMiI8AUAAJAR4QsAACAjwhcAAEBGhC8AAICMCF8AAAAZEb4AAAAyInwBAABkRPgCAADIiPAFAACQ0fiyC0B3G9dn7T/rpLLLaIuJy03Q8WfvW3YZAIAeR8sXRmRJf5RdQtu88NyisksAAIwBhC8AAICMCF8AAAAZEb4AAAAyInwBAABkRPgCAADIiPAFAACQEeELAAAgI8IXAABARoQvAACAjAhfAAAAGRG+AAAAMiJ8AQAAZET4AgAAyIjwBQAAkBHhCwAAICPCFwAAQEaELwAAgIwIXwAAABkRvgAAADIifAEAAGRE+AIAAMiI8AUAAJAR4QsAACAjwhcAAEBGhC8AAICMCF8AAAAZEb4AAAAyInwBAABkRPgCAADIiPAFAACQEeELAAAgo/FlFwB0inF91v6zTiq7jBGbuNwEHX/2vmWXAQBogJYvoLCkP8ouoS1eeG5R2SUAAJogfAEAAGRE+AIAAMioo/p82d5S0jaSnomIb5RdDwAAQLtlb/myPa+4nWj7HNvzbe9dLH6PpIcl3Z27LgAAgByyhS/ba9q+QdLU4qHZkq6UtKWkXW33SVpZ0vckbZyrLgAAgJyyha+IuF/SdEn3FQ9NlXRlRCxRaulaS9Klkj4j6dFcdQEAAOSUtc9XRPTbrlzPv5Kkp4rfn5Y0OSJ+LunnjZ5/zjXfbHlfG665uTZaa/PhlgoAAPCSuXPnau7cuW3ZVpkd7p9UCmAPSlpR0sLBnvDhLb8wyiUBAAAsbc6cOZozZ05L69puurzMoSZuljTT9jhJG0q6v8RaAAAAsigzfF0gaYakaySdGRGLS6wFAAAgi+ynHSNiu+L2BUm75N4/AABAmRjhHgAAICPCFwAAQEYdNb3QWHHx1LdocV9f2WW0xfj+fs1acEfZZQAA0DVo+SpBrwQvqbdeCwAAORC+AAAAMiJ8AQAAZET4AgAAyIjwBQAAkBHhCwAAICOGmgB6zLg+a/9ZJ5VdRltMXG6Cjj9737LLAIC26qrwdf60TcouoS0coRhkxnNguJb0R9kltM0Lzy0quwQAaDtOO5aA4AUAwNhF+AIAAMiI8AUAAJBRV/X5QudxRM/0xWOeSgBADrR8YUR6qf8a81QCAHIgfAEAAGRE+AIAAMiI8AUAAJAR4QsAACAjwhcAAEBGhC8AAICMCF8AAAAZEb4AAAAyInwBAABkRPgCAADIiPAFAACQERNrA+hY4/qs/WedVHYZbTFxuQk6/ux9yy4DQAeg5QtAx1rSH2WX0DYvPLeo7BIAdAjCFwAAQEaELwAAgIzo8wUUHKHzp21SdhkjNr6/X7MW3FF2GQCABmj5Agphl11CWyzu6yu7BABAE4QvAACAjAhfAAAAGRG+AAAAMiJ8AQAAZET4AgAAyIjwBQAAkBHhCwAAICPCFwAAQEaELwAAgIyYXggAMhjXZ+0/6yQ99exjuuehW7Xu6ptoxeVXWWq9blj+qlWm6Piz9231pQOo4Ygou4ZB2Q5Jes2Rvy27FKArzL7x1rJLQI87+eJPl10C0LFcTFcXEXXnreO0IwAAQEaELwAAgIwIXwAAABkRvgAAADIifAEAAGTEUBNAj3GEzp+2SdlltMX4/n7NWnBH2WUAQFvR8gX0mHDdK5u70uK+vrJLAIC2I3wBAABkRPgCAADIiPAFAACQEeELAAAgI8IXAABARgw1AQAYknF91v6zTiq7jBGbuNwEHX/2vmWXgTGIli8AwJAs6Y+yS2iLF55bVHYJGKMIXwAAABkRvgAAADIifAEAAGRE+AIAAMiI8AUAAJAR4QsAACAjwhcAAEBGhC8AAICMGOEeQMdyhM6ftknZZbTF+P5+zVpwR9llAOgAtHwB6Fhhl11C2yzu6yu7BKAr3HvvvQ0f/+Y3v9m1y6s5ovOnibAdkvSaI39bdikAMGyzb7y17BJQZVyfe2aqpF6ap/KgXX7Q9VM/ffeSAyRJEVH3GyQtXwCAMalXgpfUW/NU9tJraYTwBQAAkBHhCwAAICPCFwAAQEaELwAAgIwIXwAAABkRvgAAADIifAEAAGRE+AIAAMiI8AUAAJARE2sDANDlxvVZ+886qewy2qKXpn1qhJYvAAC6XC+FlV56LY0QvgAAADLitCMAZOAInT9tk7LLaIvx/f2ateCOsssAulbHtXzZ3sf2J8quAwDaKeyyS2ibxX19ZZcAdLXs4cv2vOJ2ou1zbM+3vXfx2LskLc5dEwAAQC7ZwpftNW3fIGlq8dBsSVdK2lLSrrb7JL1b0rqStslVFwAAQE7Z+nxFxP22p0u6tHhoqqRTI2KJ7bslrRURX7K9lqT31NvGP77f+tnI5TfdSctvuvNIywYAANBd983X3ffPb8u2sna4j4h+25VrSFeS9FTx+9OSJhfr3Cfph/Wev+p+dR8GAAAYVRuttbk2Wmvzltb97iUHNF1eZof7J5UCmCStKGlheaUAAADkUWb4ulnSTNvjJG0o6f4SawEAAMiizPB1gaQZkq6RdGZEcJUjAADoedkHWY2I7YrbFyTtknv/AAAAZeq4QVYBAAB6GeELAAAgI8IXAABARoQvAACAjAhfAAAAGWW/2hEA0N0cofOnbVJ2GSM2vr9fsxbcUXYZGINo+QIADEnYZZfQFov7+souAWMU4QsAACAjwhcAAEBGhC8AAICMCF8AAAAZEb4AAAAyInwBAABkRPgCAADIiPAFAACQEeELAAAgI8IXAABARoQvAACAjAhfAAAAGRG+AAAAMhpfdgEAAJTBETp/2iZll9EW4/v7NWvBHWWXgRbR8gUAGJPCLruEtlnc11d2CRgCwhcAAEBGhC8AAICMCF8AAAAZEb4AAAAy4mpHAADQMS6e+pbuv4DgkuaLuyp8PbTtF8ouoS2eXjxRG/zqq2WXAQBAx+n64NUCTjuWYNL4F8ouAQAAlITwBQAAkBHhCwAAICPCFwAAQEaELwAAgIy66mpHAACwtF6aJNwRPTXvZj20fAEA0OV6Kaz00mtphPAFAACQEeELAAAgI/p8lWDRknGM1g8AwBhFy1cJJoxbUnYJbcNo/QAADA3hCwAAICPCFwAAQEaELwAAgIwIXwAAABkRvgAAADIifAEAAGRE+AIAAMiI8AUAAJAR4QsAACAjwhcAAEBGhC8AAICMCF8AAAAZEb4AAAAyGl92Aehui5aM00PbfqHsMtri6cUTtcGvvlp2GQCAHkfLF0ZkwrglZZfQNpPGv1B2CQCAMYDwBQAAkBHhCwAAICPCFwAAQEaELwAAgIwIXwAAABkRvgAAADIifAEAAGRE+AIAAMiI8AUAAJAR4QsAACAjwhcAAEBGTKwNFHplknAmCAeAzkbLF1DolUnCmSAcADob4QsAACAjwhcAAEBGhC8AAICMCF8AAAAZEb4AAAAyInwBAABkRPgCAADIiPAFAACQEeELAAAgI8IXAABARoQvAACAjJhYG+gxvTJBuMQk4QB6Ey1fQI/plQnCJSYJB9CbCF8AAAAZEb4AAAAy6qg+X7ZnSXqjJEXEsSWXAwAA0HbZW75szytuJ9o+x/Z823sXix+SdJyk1XPXBQAAkEO28GV7Tds3SJpaPDRb0pWStpS0q+0+SY9IOlzS93PVBQAAkFO2044Rcb/t6ZIuLR6aKunUiFhi+25Ja0n6gqQHJX1Q0jG129h0j9tb3t+c2atpzuwpI64bAADg2Zsv1LM3X9SWbWXt8xUR/bajuLuSpKeK35+WNDki9mv2/JvPeOtolgcAAFDX8pvurOU33bmldf922BZNl5d5teOTSgFMklaUtLC8UgAAAPIoM3zdLGmm7XGSNpR0f4m1AAAAZFFm+LpA0gxJ10g6MyIWl1gLAABAFo6IwdcqWaWfWNw4vexSAGS0aMm4npkuiXkqgbGj0ucrIlxvOSPcA+hYvRK8JOapBDCA8AUAAJAR4QsAACAjwhcAAEBGhC8AAICMCF8AAAAZEb4AAAAyInwBAABkRPgCAADIiPAFAACQ0fiyCwCAsWDRknF6aNsvlF1GWzBVEjAytHwBQAZMlQSggvAFAACQEeELAAAgI8IXAABARoQvAACAjAhfAAAAGRG+AAAAMiJ8AQAAZET4AgAAyIjwBQAAkBHTCwEAhqRXpkpimiSUhZYvAMCQ9MpUSUyThLIQvgAAADIifAEAAGRE+AIAAMiIDvcAAKBj/P49/9H1/fF8WPPltHwBAICO0e3BqxWELwAAgIwIXwAAABkRvgAAADKiwz0AYEzqlZH6JUbr7za0fAEAxqReGalfGhud1HsJ4QsAACAjwhcAAEBGhC8AAICMCF8AAAAZEb4AAAAyInwBAABkRPgCAADIiPAFAACQESPcAwDQ5XpptP5FS8b11AC49dDyBQBAl+ulsNJLr6URwhcAAEBGhC8AAICMCF8AAAAZEb4AAAAyInwBAABkRPgCAADIiPAFAACQEeELAAAgI8IXAABARoQvAACAjAhfAAAAGRG+AAAAMiJ8AQAAZET4AgAAyIjwBQAAkBHhCwAAICPCFwAAQEaELwAAgIwIXwAAABkRvgAAADIifAEAAGRE+AIAAMiI8AUAAJAR4QsAACAjwhcAAEBGhC8AAICMCF8AAAAZEb4AAAAyInwBAABkRPgCAADIiPAFAACQEeELAAAgI8IXAABARoQvAACAjAhfAAAAGRG+AAAAMiJ8AQAAZET4AgAAyIjwBQAAkNH4sguoZns7STMl/SMivll2PQAAAO2WveXL9rzidqLtc2zPt713sXjTiPiCpFVy1wUAAJBDtvBle03bN0iaWjw0W9KVkraUtKvtPklRLHsqV10AAAA5ZTvtGBH3254u6dLioamSTo2IJbbvlrSWpGttHyjpgXrb2HSP21ve35zZq2nO7CkjrBoAAECae/7Dmnv+I23ZliNi8LXayPZlEbGd7bmSjoiIB20fJem8iLilwXNCkuLG6TlLBQAAGDJPu1aSFBGut7zMqx2flLRS8fuKkhaWVwoAAEAeZYavmyXNtD1O0oaS7i+xFgAAgCzKDF8XSJoh6RpJZ0bE4hJrAQAAyCL7OF8RsV1x+4KkXXLvHwAAoEyMcA8AAJAR4QsAACAjwhcAAEBGhC8AAICMCF8AAAAZEb4AAAAyInwBAABkRPgCAADIiPAFAACQEeELAAAgI8IXAABARoQvAACAjAhfAAAAGRG+AAAAMiJ8AQAAZET4AgAAyIjwBQAAkBHhCwAAICPCFwAAQEaELwAAgIwIXwAAABkRvgAAADIifAEAAGRE+AIAAMiI8AUAAJAR4QsAACAjwhcAAEBGhC8AAICMCF8AAAAZEb4AAAAyInwBAABkRPgCAADIiPAFAACQEeELAAAgI8IXAABARoQvAACAjAhfAAAAGRG+AAAAMiJ8AQAAZET4AgAAyIjwBQAAkBHhCwAAICPCFwAAQEaELwAAgIwIXwAAABkRvgAAADIifAEAAGRE+AIAAMiI8AUAAJAR4QsAACAjwhcAAEBGhC8AAICMCF8AAAAZEb4AAAAyInwBAABkRPgCAADIiPAFAACQEeELAAAgI8IXAABARoQvAACAjAhfAAAAGRG+AAAAMiJ8AQAAZET4AgAAyIjwBQAAkBHhCwAAICPCFwAAQEaELwAAgIwIXwAAABkRvgAAADIifAEAAGRE+AIAAMiI8AUAAJAR4QsAACAjwtcYNvf8h8suoedwTNuL49l+HNP24ni231g4poSvMWzu+Y+UXULP4Zi2F8ez/Tim7cXxbL+xcEwJXwAAABkRvgAAADIifAEAAGRE+AIAAMhoTIWvi695nG20Wae8lk7ZRifU0EvbaIdOeS2dso12GGkdnXIseuV49to22qHTX8sYC19PsI0265TX0inb6IQaemkb7dApr6VTttEOI62jU45FrxzPXttGO3T6axk/alseItuzJL1RkiLi2JLLAQAAGBWj3vJle15xO9H2Obbn2967zqoPSTpO0uqjXRMAAEBZRi182V7T9g2SphYPzZZ0paQtJe1qu8/2nrZPsX2KpEckHS7p+6NVEwAAQNkcEaO3cbtP0qURsa3tYyWdGhG/s32CpBMi4s9V635f0oOS+iPimJrtjF6RAAAAoyAiXO/xUe3zFRH9VcFpJUlPFb8/LWlyzbr7jWYtAAAAnSBnh/snlQLYg5JWlLSw1Sc2So4AAADdJudQEzdLmml7nKQNJd2fcd8AAAAdIWf4ukDSDEnXSDozIhZn3DcAAEBHGNUO9wAAAHi5MTXCPQAAQNm6Iny1MEArWmB7Pdu32r7S9gW23277WttX2X5d2fV1m6oBhJc6jraPsH2N7ZPKrbK7VB3TQ4vjd6Xt/YrHOKYtsr287V/avq0YS5H36AjVOaa8R0fA9uts32j7DtsfH2vv0a4IX6ozQGvJ9XSrN0g6OSJmRsT7JX1R0o6SDip+0II6Awi/7DjaXl3SBhGxpaQltt9aUqldo84xfYuk9xTv1e9zTIfsg5KujIiNJS2R9E3xHh2p2mP6XvEeHYk5ko6UtImkj2mMfY52S/iaqvSmXyLpbklrlVxPt1pH0gdt/9b2bpKWiYjHI+IWSeuVXFvXiIj7JU2XdF/xUO1x3ETS1cWyKzUQKNBAnWM6RdLpRUvD2uKYDtUfJf1P8fvDksR7dMSWOqbiPToSFykdpz5JkzTGPke7JXw1HaAVLbtH0mGSZkn6rKTlq5Z1y3uhI0REv6TK1SrV49CNE+/XYak5ppdK2ltpvtdjxDEdkoi4PiLutf1xSZtLeq5qMe/RYahzTHmPjkBE3CTpNZLulfRzjbHP0W75g1sZoFUa4gCtGBARv4iImyLiCUnXauAPnWp+x/CFeL+OWEQcFxHPRcQvJa0ujumQ2B5n+zRJ20h6f81i3qPDUHtMeY+OjO1XRsSflM7IbC9puarFPf8e7ZbwxQCtbWD7ZNvTiz5zb5b0pO1VbE+V9IeSy+tmL9Qcx1uUxrSTpJmSFpRWWReyPcH2dcUfuw0lPSSO6VDtJumRiNgrIv4p3qPt8NIxVTqevEdHZq7tDSS9qNTqtXAsvUdzTi80EhdIOlPSrpLmMkDrsB0n6SRJr5X0PaU380VKb/49Sqyr2x2tquMYEX+z/Tvb10i6LSJuL7e87hIRi2x/T6mfx3KSPs4xHbJ3Sppm+8ri/uHiPTpStcf05+I9OhLflnS+pBck/VDS9RpD71EGWQUAAMioW047AgAA9ATCFwAAQEaELwAAgIwIXwAAABkRvgAAADIifAEAAGRE+AIAAMiI8AUAQI9x8l3be9r+ygi39Zfi9gO2vzGC7Qy5Ftsr2d5zGPv6lO23NVhm29+tuv8K26cUg7o+ZPuntl/TZNvftP35msfOs719s/1WI3wBANB7PiRpfjs3GBHnRcTB7dxmCyZL2msYz5sn6d8bLKs9NhcqzfiykaTXS7pN0llNtv1TSbMrd2xPVJoB4deD7PclhC8AADqU7a/YPs72bUXLzPQWn/pvSiGhsh0X2/mL7Rttb1o8vqztM23/3vYNtre1vULR+nOP7XmSlinWnWH7R8Xtf9m+0Pafbe9fta3/sf0H29+yfXOD19Solnqv9RRJ77B9TDGX5slFXbfZnlZV18vqiYinJT1v+03Njk2xj2ci4vsRsSQino+IoyTt2qjOiLhR0mttTym2N1PSbyLihUH2+5JumdsRAICxaqakaZI2kXSqUgtNQ7bHS5oUES/Yrjy8k6TlJa0naQNJ5xW30yU9HhEb2N5W0mclvVXSExGxru2PSfp4nd3sIml9SX1KrUYnS9pP0qMRsb7tz0lapUGJjWqp91q3l3RaRHzR9i6S1pT0hqLGMyS9pUk9d0uaKul39Y5N8dAmkq6qWr6gqG0lSYc2qfP84nXMlTSruF+x1H5r0fIFAEBnuzgiXoyIGyRNsn2Y7bNs31z0VZpSs/56kh6oeWwrSTtK+l+lVp+VbK8QEVdIOtn2XpL+VdJEpUD238XzLlCa/LrW/Ih4OCIelPRc1T7OLX4/v85zmtZS77XWPG8zST+N5DZJ/bZXbFLPnyT9S802ao/NeEn9lTsRMTUi3iTpIUlbN6mz+tTjNpJ+VrXNevt9GcIXAACdrb/m9xMlHSzp/Ij4ZEQ8XLO+tbQ+SQdGxJuKcPHGiHjG9ixJP5T0oqQfFOsuqXpeFD+1avcppUxRWbe/zvKmtdR5Xu02al/X5KrH6tVjLV177TbulLT5y1awJ2mghatRnddJ2sD2VpL+WJxubLbflyF8AQDQ2WbZHl/0cXo+IhYOsv4fJL2u5rFrJe1e9JvaTClwSamV64eSfqLUIrVCse6uxfKdJC3bYp3zJX2g+P39ahxAGtUi1bzW4rG+4vY6SR8s+mJNk/RsRDzZpJ51lcJVtdpjc4WktW3vVWx3GUknFLVf1ajOiAhJl0j6jpZu5au335chfAEA0Nn+KOlWSWdK+uRgK0fEYklPF1fhVfxU0t+UTol9T9KXisdPU+qrdZekZyQtp9RnabLte5T6M93SYp0nS1rT9u8lrSrprw3Wa1SLtPRrfVjSyra/XDzvgeJ5cyXtPUg9Gyr1/3pJ7bEpQtSOknaQ9BelAHmF0mnXq5rUWXkdb5Z00WD7reW0XwAA0GmcxsW6NyJOr3l8LUm7RcTRDZ73YUnLRMSPM5RZ2eeMYp+X295c0n4RsfsQnl/3tQ6zlldIOiUiPlZn2agdm2b7rUbLFwAAXSYi7msUvAo/lbRFrnoKd0ja3/ZNSqfuvpp5/9V2l3Rsg2WjeWya7fcltHwBAABkRMsXAABARoQvAACAjAhfAAAAGRG+AAAAMiJ8AQAAZET4AgAAyIjwBQAAkBHhCwAAIKP/D31P0+7bs54YAAAAAElFTkSuQmCC\n",
      "text/plain": [
       "<Figure size 720x720 with 1 Axes>"
      ]
     },
     "metadata": {
      "needs_background": "light"
     },
     "output_type": "display_data"
    }
   ],
   "source": [
    "my_hist = scale_and_merge(output['lead_lep'], samples, fileset, nano_mapping)\n",
    "\n",
    "makePlot(my_hist, None, 'pt',\n",
    "         data=[],\n",
    "         bins=pt_bins_coarse, log=True, normalize=False, axis_label=r'$p_{T}\\ (leading\\ lepton)\\ (GeV)$',\n",
    "         new_colors=my_colors, new_labels=my_labels,\n",
    "         order=[nano_mapping['TTZ'][0], nano_mapping['top'][0], nano_mapping['DY'][0]],\n",
    "        )"
   ]
  },
  {
   "cell_type": "code",
   "execution_count": null,
   "metadata": {},
   "outputs": [],
   "source": []
  }
 ],
 "metadata": {
  "kernelspec": {
   "display_name": "coffeadev2",
   "language": "python",
   "name": "coffeadev2"
  },
  "language_info": {
   "codemirror_mode": {
    "name": "ipython",
    "version": 3
   },
   "file_extension": ".py",
   "mimetype": "text/x-python",
   "name": "python",
   "nbconvert_exporter": "python",
   "pygments_lexer": "ipython3",
   "version": "3.8.8"
  }
 },
 "nbformat": 4,
 "nbformat_minor": 4
}
