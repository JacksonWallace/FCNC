{
 "cells": [
  {
   "cell_type": "code",
   "execution_count": 24,
   "metadata": {},
   "outputs": [],
   "source": [
    "import uproot4\n",
    "import awkward\n",
    "import numpy as np\n",
    "from uproot_methods import TLorentzVectorArray\n",
    "\n",
    "from coffea.processor import LazyDataFrame\n",
    "from coffea.analysis_objects import JaggedCandidateArray\n"
   ]
  },
  {
   "cell_type": "code",
   "execution_count": 25,
   "metadata": {},
   "outputs": [],
   "source": [
    "fn = '/hadoop/cms/store/user/legianni/ProjectMetis/HHggtautau_Era2018_private_prova_vera/test_nanoaodSkim_3.root'\n",
    "file = uproot4.open(fn)"
   ]
  },
  {
   "cell_type": "code",
   "execution_count": 26,
   "metadata": {},
   "outputs": [],
   "source": [
    "tree = file['Events']\n",
    "df = LazyDataFrame(tree, flatten=False)\n",
    "\n",
    "#tree.keys()"
   ]
  },
  {
   "cell_type": "code",
   "execution_count": 27,
   "metadata": {},
   "outputs": [],
   "source": [
    "# create photon candidates\n",
    "photons = JaggedCandidateArray.candidatesfromcounts(\n",
    "    df['nPhoton'],\n",
    "    pt=df['Photon_pt'].content,\n",
    "    eta=df['Photon_eta'].content,\n",
    "    phi=df['Photon_phi'].content,\n",
    "    mass=df['Photon_mass'].content,\n",
    ")"
   ]
  },
  {
   "cell_type": "code",
   "execution_count": 28,
   "metadata": {},
   "outputs": [
    {
     "data": {
      "text/plain": [
       "True"
      ]
     },
     "execution_count": 28,
     "metadata": {},
     "output_type": "execute_result"
    }
   ],
   "source": [
    "# check if photons and the index array have equal length (that should always be the case, but just to be sure)\n",
    "len(photons) == len(df['gHidx'])"
   ]
  },
  {
   "cell_type": "code",
   "execution_count": 29,
   "metadata": {},
   "outputs": [
    {
     "data": {
      "text/plain": [
       "<JaggedArray [[0 2] [0 2] [0 1] ... [-1 -1] [-1 -1] [0 1]] at 0x7f99733baa58>"
      ]
     },
     "execution_count": 29,
     "metadata": {},
     "output_type": "execute_result"
    }
   ],
   "source": [
    "# check the indices\n",
    "df['gHidx']"
   ]
  },
  {
   "cell_type": "code",
   "execution_count": 30,
   "metadata": {},
   "outputs": [
    {
     "data": {
      "text/plain": [
       "<JaggedArray [[0 2] [0 2] [0 1] ... [] [] [0 1]] at 0x7f99733b2cc0>"
      ]
     },
     "execution_count": 30,
     "metadata": {},
     "output_type": "execute_result"
    }
   ],
   "source": [
    "# some of the indices are -1 -> this will be problematic. let's throw them away\n",
    "df['gHidx'][(df['gHidx']>=0)]"
   ]
  },
  {
   "cell_type": "code",
   "execution_count": 31,
   "metadata": {},
   "outputs": [
    {
     "data": {
      "text/plain": [
       "<JaggedArray [[223.92703 137.99004 110.93973 90.21473 101.65603 88.09794] [121.273 59.024254 25.527027] [158.28708 151.59003 62.73162] ... [53.33714 30.271727 18.597582 15.280681] [93.65514 48.216213 35.191925] [68.64432 53.799282 46.529034 23.732985]] at 0x7f99782e6dd8>"
      ]
     },
     "execution_count": 31,
     "metadata": {},
     "output_type": "execute_result"
    }
   ],
   "source": [
    "# look at some of the photon pts so that we can be sure we're really selecting the right photons in the end\n",
    "photons.pt"
   ]
  },
  {
   "cell_type": "code",
   "execution_count": 32,
   "metadata": {},
   "outputs": [
    {
     "data": {
      "text/plain": [
       "<JaggedArray [[223.92703 110.93973] [121.273 25.527027] [158.28708 151.59003] ... [15.280681 15.280681] [35.191925 35.191925] [68.64432 53.799282]] at 0x7f99733a6e80>"
      ]
     },
     "execution_count": 32,
     "metadata": {},
     "output_type": "execute_result"
    }
   ],
   "source": [
    "# as expected, using the indices that are not cleaned from -1 values selects some photons that shouldn't be there,\n",
    "# e.g. in the second to last event\n",
    "photons[df['gHidx']].pt"
   ]
  },
  {
   "cell_type": "code",
   "execution_count": 33,
   "metadata": {},
   "outputs": [
    {
     "data": {
      "text/plain": [
       "<JaggedArray [[223.92703 110.93973] [121.273 25.527027] [158.28708 151.59003] ... [] [] [68.64432 53.799282]] at 0x7f99733a6f60>"
      ]
     },
     "execution_count": 33,
     "metadata": {},
     "output_type": "execute_result"
    }
   ],
   "source": [
    "# this is fixed when we just use indices that are greater or equal to 0\n",
    "photons[df['gHidx'][(df['gHidx']>=0)]].pt"
   ]
  },
  {
   "cell_type": "code",
   "execution_count": null,
   "metadata": {},
   "outputs": [],
   "source": []
  }
 ],
 "metadata": {
  "kernelspec": {
   "display_name": "coffeaEnv",
   "language": "python",
   "name": "coffeaenv"
  },
  "language_info": {
   "codemirror_mode": {
    "name": "ipython",
    "version": 3
   },
   "file_extension": ".py",
   "mimetype": "text/x-python",
   "name": "python",
   "nbconvert_exporter": "python",
   "pygments_lexer": "ipython3",
   "version": "3.6.4"
  }
 },
 "nbformat": 4,
 "nbformat_minor": 2
}
