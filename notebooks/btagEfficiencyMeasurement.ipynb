{
 "cells": [
  {
   "cell_type": "code",
   "execution_count": 1,
   "metadata": {},
   "outputs": [],
   "source": [
    "%load_ext autoreload\n",
    "%autoreload 2"
   ]
  },
  {
   "cell_type": "code",
   "execution_count": 2,
   "metadata": {},
   "outputs": [],
   "source": [
    "import awkward as ak\n",
    "\n",
    "from coffea import processor, hist\n",
    "from coffea.nanoevents import NanoEventsFactory, NanoAODSchema\n",
    "from coffea.analysis_tools import Weights\n",
    "\n",
    "import numpy as np\n",
    "\n",
    "from yahist import Hist1D, Hist2D\n"
   ]
  },
  {
   "cell_type": "code",
   "execution_count": 3,
   "metadata": {},
   "outputs": [],
   "source": [
    "from Tools.objects import *\n",
    "from Tools.basic_objects import *\n",
    "from Tools.cutflow import *\n",
    "from Tools.config_helpers import *\n",
    "from Tools.triggers import *\n",
    "year = 2018\n",
    "\n",
    "lumis = {2016: 36., 2017: 41.5, 2018: 60.}"
   ]
  },
  {
   "cell_type": "code",
   "execution_count": 46,
   "metadata": {},
   "outputs": [],
   "source": [
    "class btagAnalyzer(processor.ProcessorABC):\n",
    "    def __init__(self):\n",
    "                # we can use a large number of bins and rebin later\n",
    "        dataset_axis        = hist.Cat(\"dataset\",   \"Primary dataset\")\n",
    "        pt_axis             = hist.Bin(\"pt\",        r\"$p_{T}$ (GeV)\", 100, 0, 1000)\n",
    "        eta_axis            = hist.Bin(\"eta\",       r\"$\\eta$\", 10, -2.5, 2.5)\n",
    "\n",
    "        self._accumulator = processor.dict_accumulator({\n",
    "            \n",
    "            \"b_all\" :             hist.Hist(\"Counts\", pt_axis, eta_axis),\n",
    "            \"b_pass_deepJet\" :    hist.Hist(\"Counts\", pt_axis, eta_axis),\n",
    "            \"b_pass_deepCSV\" :    hist.Hist(\"Counts\", pt_axis, eta_axis),\n",
    "            \"c_all\" :             hist.Hist(\"Counts\", pt_axis, eta_axis),\n",
    "            \"c_pass_deepJet\" :    hist.Hist(\"Counts\", pt_axis, eta_axis),\n",
    "            \"c_pass_deepCSV\" :    hist.Hist(\"Counts\", pt_axis, eta_axis),\n",
    "            \"light_all\":          hist.Hist(\"Counts\", pt_axis, eta_axis),\n",
    "            \"light_pass_deepJet\": hist.Hist(\"Counts\", pt_axis, eta_axis),\n",
    "            \"light_pass_deepCSV\": hist.Hist(\"Counts\", pt_axis, eta_axis),\n",
    "            \n",
    "            'skimmedEvents':    processor.defaultdict_accumulator(int),\n",
    "            'totalEvents':      processor.defaultdict_accumulator(int),\n",
    "        })\n",
    "\n",
    "    @property\n",
    "    def accumulator(self):\n",
    "        return self._accumulator\n",
    "\n",
    "    # we will receive a NanoEvents instead of a coffea DataFrame\n",
    "    def process(self, events):\n",
    "        \n",
    "        output = self.accumulator.identity()\n",
    "        \n",
    "        presel = ak.num(events.Jet)>2\n",
    "        \n",
    "        ev = events[presel]\n",
    "        dataset = ev.metadata['dataset']\n",
    "        \n",
    "        output['totalEvents']['all'] += len(events)\n",
    "        output['skimmedEvents']['all'] += len(ev)\n",
    "        \n",
    "        ## Muons\n",
    "        muon     = Collections(ev, \"Muon\", \"tightTTH\").get()\n",
    "        vetomuon = Collections(ev, \"Muon\", \"vetoTTH\").get()\n",
    "        dimuon   = choose(muon, 2)\n",
    "\n",
    "        ## Electrons\n",
    "        electron     = Collections(ev, \"Electron\", \"tightTTH\").get()\n",
    "        vetoelectron = Collections(ev, \"Electron\", \"vetoTTH\").get()\n",
    "        dielectron   = choose(electron, 2)\n",
    "\n",
    "        ## Merge electrons and muons - this should work better now in ak1\n",
    "        lepton   = ak.concatenate([muon, electron], axis=1)\n",
    "        dilepton = cross(muon, electron)\n",
    "        \n",
    "        ## Jets\n",
    "        jet       = getJets(ev, minPt=25, maxEta=2.5)\n",
    "        jet       = jet[(jet.pt>25) & (jet.jetId>1)]\n",
    "        jet       = jet[~match(jet, muon, deltaRCut=0.4)] # remove jets that overlap with muons\n",
    "        jet       = jet[~match(jet, electron, deltaRCut=0.4)] # remove jets that overlap with electrons\n",
    "        \n",
    "        ## true bottoms\n",
    "        bottom = jet[abs(jet.hadronFlavour)==5]\n",
    "        bottom_deepJet = getBTagsDeepFlavB(bottom, year=year)\n",
    "        bottom_deepCSV = getBTagsDeepB(bottom, year=year)\n",
    "        \n",
    "        ## true charms\n",
    "        charm = jet[abs(jet.hadronFlavour)==4]\n",
    "        charm_deepJet = getBTagsDeepFlavB(charm, year=year)\n",
    "        charm_deepCSV = getBTagsDeepB(charm, year=year)\n",
    "        \n",
    "        ## true lights\n",
    "        light = jet[((abs(jet.hadronFlavour)<4) | (abs(jet.hadronFlavour)>5))]\n",
    "        light_deepJet = getBTagsDeepFlavB(light, year=year)\n",
    "        light_deepCSV = getBTagsDeepB(light, year=year)\n",
    "        \n",
    "        ## event selectors\n",
    "        filters   = getFilters(ev, year=year, dataset=dataset)\n",
    "        \n",
    "        dilep     = ((ak.num(electron) + ak.num(muon))==2)\n",
    "        lepveto   = ((ak.num(vetoelectron) + ak.num(vetomuon))==2)\n",
    "        \n",
    "        selection = (filters & dilep & lepveto)\n",
    "        \n",
    "        # first, make a few super inclusive plots\n",
    "        output['b_all'].fill(pt=ak.flatten(bottom.pt), eta=ak.flatten(bottom.eta))\n",
    "        output['b_pass_deepJet'].fill(pt=ak.flatten(bottom_deepJet.pt), eta=ak.flatten(bottom_deepJet.eta))\n",
    "        output['b_pass_deepCSV'].fill(pt=ak.flatten(bottom_deepCSV.pt), eta=ak.flatten(bottom_deepCSV.eta))\n",
    "        \n",
    "        output['c_all'].fill(pt=ak.flatten(charm.pt), eta=ak.flatten(charm.eta))\n",
    "        output['c_pass_deepJet'].fill(pt=ak.flatten(charm_deepJet.pt), eta=ak.flatten(charm_deepJet.eta))\n",
    "        output['c_pass_deepCSV'].fill(pt=ak.flatten(charm_deepCSV.pt), eta=ak.flatten(charm_deepCSV.eta))\n",
    "        \n",
    "        output['light_all'].fill(pt=ak.flatten(light.pt), eta=ak.flatten(light.eta))\n",
    "        output['light_pass_deepJet'].fill(pt=ak.flatten(light_deepJet.pt), eta=ak.flatten(light_deepJet.eta))\n",
    "        output['light_pass_deepCSV'].fill(pt=ak.flatten(light_deepCSV.pt), eta=ak.flatten(light_deepCSV.eta))\n",
    "        \n",
    "        return output\n",
    "\n",
    "    def postprocess(self, accumulator):\n",
    "        return accumulator"
   ]
  },
  {
   "cell_type": "code",
   "execution_count": 47,
   "metadata": {},
   "outputs": [],
   "source": [
    "# load the basic filesets and choose what samples we actually want to load\n",
    "\n",
    "from Tools.helpers import get_samples\n",
    "from Tools.config_helpers import redirector_ucsd, redirector_fnal\n",
    "from Tools.nano_mapping import make_fileset, nano_mapping\n",
    "\n",
    "from processor.meta_processor import get_sample_meta\n",
    "\n",
    "samples = get_samples('samples_UL18.yaml')\n",
    "\n",
    "fileset = make_fileset(['top'], samples, redirector=redirector_ucsd, small=False)"
   ]
  },
  {
   "cell_type": "code",
   "execution_count": 48,
   "metadata": {
    "scrolled": false
   },
   "outputs": [
    {
     "data": {
      "application/vnd.jupyter.widget-view+json": {
       "model_id": "a3ed18e6557545b88f727e88310e0050",
       "version_major": 2,
       "version_minor": 0
      },
      "text/plain": [
       "Processing:   0%|          | 0/253 [00:00<?, ?chunk/s]"
      ]
     },
     "metadata": {},
     "output_type": "display_data"
    }
   ],
   "source": [
    "exe_args = {\n",
    "    'workers': 16,\n",
    "    'function_args': {'flatten': False},\n",
    "    \"schema\": NanoAODSchema,\n",
    "}\n",
    "exe = processor.futures_executor\n",
    "\n",
    "output = processor.run_uproot_job(\n",
    "    fileset,\n",
    "    \"Events\",\n",
    "    btagAnalyzer(),\n",
    "    exe,\n",
    "    exe_args,\n",
    "    chunksize=250000,\n",
    ")"
   ]
  },
  {
   "cell_type": "code",
   "execution_count": 49,
   "metadata": {},
   "outputs": [],
   "source": [
    "pt_bins = hist.Bin('pt', r'$p_{T} \\ (GeV)$', np.array([20,30,50,70,100,140,200,300,600]))\n",
    "eta_bins = hist.Bin('eta', r'$\\eta$', np.array([-2.5,2.5]))"
   ]
  },
  {
   "cell_type": "code",
   "execution_count": 50,
   "metadata": {},
   "outputs": [
    {
     "data": {
      "image/png": "[encoded data removed]",
      "text/plain": [
       "<Figure size 720x720 with 2 Axes>"
      ]
     },
     "metadata": {
      "needs_background": "light"
     },
     "output_type": "display_data"
    }
   ],
   "source": [
    "ax = hist.plot2d(output['light_all'], xaxis='pt')"
   ]
  },
  {
   "cell_type": "code",
   "execution_count": 51,
   "metadata": {},
   "outputs": [
    {
     "name": "stderr",
     "output_type": "stream",
     "text": [
      "/home/users/dspitzba/miniconda3/envs/coffeadev4/lib/python3.9/site-packages/numpy/core/_asarray.py:83: VisibleDeprecationWarning: Creating an ndarray from ragged nested sequences (which is a list-or-tuple of lists-or-tuples-or ndarrays with different lengths or shapes) is deprecated. If you meant to do this, you must specify 'dtype=object' when creating the ndarray\n",
      "  return array(a, dtype, copy=False, order=order)\n"
     ]
    }
   ],
   "source": [
    "h1 = Hist2D.from_bincounts(\n",
    "    output['b_pass_deepJet'].sum().values()[()].T,\n",
    "    (output['b_pass_deepJet'].axis('pt').edges(), output['b_pass_deepJet'].axis('eta').edges())\n",
    ")\n",
    "\n",
    "h2 = Hist2D.from_bincounts(\n",
    "    output['b_all'].sum().values()[()].T,\n",
    "    (output['b_all'].axis('pt').edges(), output['b_all'].axis('eta').edges())\n",
    ")"
   ]
  },
  {
   "cell_type": "code",
   "execution_count": 52,
   "metadata": {},
   "outputs": [
    {
     "data": {
      "text/html": [
       "\n",
       "        <div style=\"max-height:1000px;max-width:1500px;overflow:auto\">\n",
       "        <b>total count</b>: nan, <b>metadata</b>: {}<br>\n",
       "        <div style=\"display:flex;\">\n",
       "            <img src='data:image/svg+xml;base64,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'/>\n",
       "        </div>\n",
       "        "
      ],
      "text/plain": [
       "[[  nan ±  nan     nan ±  nan    0.66 ± 0.00    0.70 ± 0.00\n",
       "   0.73 ± 0.00    0.74 ± 0.00    0.75 ± 0.00    0.76 ± 0.00\n",
       "   0.76 ± 0.00    0.76 ± 0.00    0.77 ± 0.00    0.77 ± 0.00\n",
       "   0.77 ± 0.00    0.78 ± 0.00    0.77 ± 0.00    0.78 ± 0.01\n",
       "   0.78 ± 0.01    0.78 ± 0.01    0.77 ± 0.01    0.78 ± 0.01\n",
       "   0.77 ± 0.01    0.78 ± 0.01    0.78 ± 0.02    0.77 ± 0.02\n",
       "   0.76 ± 0.02    0.78 ± 0.02    0.75 ± 0.02    0.75 ± 0.03\n",
       "   0.75 ± 0.03    0.77 ± 0.04    0.75 ± 0.04    0.76 ± 0.04\n",
       "   0.71 ± 0.05    0.74 ± 0.05    0.76 ± 0.06    0.74 ± 0.07\n",
       "   0.77 ± 0.07    0.73 ± 0.08    0.74 ± 0.08    0.72 ± 0.09\n",
       "   0.74 ± 0.09    0.75 ± 0.11    0.76 ± 0.11    0.63 ± 0.12\n",
       "   0.77 ± 0.14    0.61 ± 0.13    0.69 ± 0.16    0.78 ± 0.19\n",
       "   0.76 ± 0.19    0.78 ± 0.18    0.74 ± 0.20    0.86 ± 0.27\n",
       "   0.79 ± 0.32    0.83 ± 0.29    0.83 ± 0.29    0.86 ± 0.34\n",
       "   0.64 ± 0.27    0.89 ± 0.43    0.78 ± 0.39    0.80 ± 0.54\n",
       "   0.89 ± 0.43    0.67 ± 0.43    0.60 ± 0.44    0.57 ± 0.36\n",
       "   0.86 ± 0.48    1.00 ± 1.41    1.00 ± 0.50    0.00 ± 0.00\n",
       "   0.67 ± 0.61    1.00 ± 1.00    1.00 ± 1.41     nan ±  nan\n",
       "    nan ±  nan     nan ±  nan    1.00 ± 1.41     nan ±  nan\n",
       "    nan ±  nan     nan ±  nan     nan ±  nan    1.00 ± 1.41\n",
       "   1.00 ± 1.41    0.00 ± 0.00     nan ±  nan     nan ±  nan\n",
       "    nan ±  nan     nan ±  nan     nan ±  nan     nan ±  nan\n",
       "    nan ±  nan     nan ±  nan     nan ±  nan     nan ±  nan\n",
       "    nan ±  nan     nan ±  nan     nan ±  nan     nan ±  nan\n",
       "    nan ±  nan     nan ±  nan     nan ±  nan    1.00 ± 1.41]\n",
       " [  nan ±  nan     nan ±  nan    0.70 ± 0.00    0.74 ± 0.00\n",
       "   0.76 ± 0.00    0.78 ± 0.00    0.79 ± 0.00    0.80 ± 0.00\n",
       "   0.80 ± 0.00    0.80 ± 0.00    0.81 ± 0.00    0.81 ± 0.00\n",
       "   0.81 ± 0.00    0.81 ± 0.00    0.82 ± 0.00    0.82 ± 0.00\n",
       "   0.82 ± 0.00    0.82 ± 0.01    0.82 ± 0.01    0.82 ± 0.01\n",
       "   0.82 ± 0.01    0.82 ± 0.01    0.82 ± 0.01    0.81 ± 0.01\n",
       "   0.82 ± 0.01    0.82 ± 0.01    0.82 ± 0.02    0.81 ± 0.02\n",
       "   0.82 ± 0.02    0.80 ± 0.02    0.81 ± 0.02    0.81 ± 0.02\n",
       "   0.83 ± 0.03    0.82 ± 0.03    0.80 ± 0.03    0.82 ± 0.04\n",
       "   0.80 ± 0.04    0.81 ± 0.04    0.82 ± 0.04    0.82 ± 0.05\n",
       "   0.80 ± 0.05    0.80 ± 0.05    0.83 ± 0.06    0.85 ± 0.06\n",
       "   0.77 ± 0.07    0.80 ± 0.07    0.84 ± 0.07    0.81 ± 0.08\n",
       "   0.76 ± 0.08    0.80 ± 0.09    0.77 ± 0.09    0.86 ± 0.11\n",
       "   0.84 ± 0.11    0.83 ± 0.12    0.83 ± 0.12    0.80 ± 0.12\n",
       "   0.85 ± 0.13    0.79 ± 0.14    0.82 ± 0.15    0.88 ± 0.16\n",
       "   0.84 ± 0.16    0.81 ± 0.17    0.80 ± 0.18    0.78 ± 0.19\n",
       "   0.79 ± 0.19    0.90 ± 0.20    0.74 ± 0.22    0.90 ± 0.24\n",
       "   0.85 ± 0.25    0.78 ± 0.25    0.71 ± 0.22    0.83 ± 0.26\n",
       "   0.89 ± 0.31    0.85 ± 0.35    1.00 ± 0.37    0.91 ± 0.40\n",
       "   0.57 ± 0.36    0.44 ± 0.27    0.83 ± 0.50    0.73 ± 0.34\n",
       "   1.00 ± 0.82    0.83 ± 0.50    0.60 ± 0.44    0.62 ± 0.36\n",
       "   0.50 ± 0.61    1.00 ± 1.41    0.67 ± 0.61    1.00 ± 1.00\n",
       "    nan ±  nan    0.00 ± 0.00     nan ±  nan    0.60 ± 0.44\n",
       "   1.00 ± 0.82    1.00 ± 1.41    1.00 ± 1.41    0.50 ± 0.61\n",
       "   1.00 ± 1.00    1.00 ± 1.00    1.00 ± 1.41    0.50 ± 0.61]\n",
       " [  nan ±  nan     nan ±  nan    0.72 ± 0.00    0.75 ± 0.00\n",
       "   0.78 ± 0.00    0.79 ± 0.00    0.80 ± 0.00    0.81 ± 0.00\n",
       "   0.82 ± 0.00    0.82 ± 0.00    0.82 ± 0.00    0.82 ± 0.00\n",
       "   0.82 ± 0.00    0.83 ± 0.00    0.83 ± 0.00    0.83 ± 0.00\n",
       "   0.83 ± 0.00    0.83 ± 0.00    0.83 ± 0.00    0.83 ± 0.01\n",
       "   0.83 ± 0.01    0.83 ± 0.01    0.83 ± 0.01    0.83 ± 0.01\n",
       "   0.83 ± 0.01    0.82 ± 0.01    0.83 ± 0.01    0.83 ± 0.01\n",
       "   0.83 ± 0.01    0.82 ± 0.01    0.84 ± 0.02    0.83 ± 0.02\n",
       "   0.81 ± 0.02    0.83 ± 0.02    0.83 ± 0.02    0.82 ± 0.02\n",
       "   0.81 ± 0.03    0.82 ± 0.03    0.81 ± 0.03    0.82 ± 0.03\n",
       "   0.80 ± 0.03    0.82 ± 0.03    0.82 ± 0.04    0.83 ± 0.04\n",
       "   0.82 ± 0.04    0.81 ± 0.04    0.79 ± 0.05    0.83 ± 0.05\n",
       "   0.84 ± 0.05    0.81 ± 0.05    0.83 ± 0.06    0.83 ± 0.06\n",
       "   0.84 ± 0.07    0.81 ± 0.07    0.86 ± 0.07    0.82 ± 0.07\n",
       "   0.88 ± 0.08    0.81 ± 0.08    0.81 ± 0.08    0.87 ± 0.09\n",
       "   0.77 ± 0.09    0.84 ± 0.09    0.80 ± 0.10    0.82 ± 0.10\n",
       "   0.77 ± 0.10    0.84 ± 0.12    0.81 ± 0.12    0.81 ± 0.12\n",
       "   0.78 ± 0.12    0.87 ± 0.14    0.81 ± 0.15    0.78 ± 0.13\n",
       "   0.83 ± 0.14    0.81 ± 0.18    0.73 ± 0.16    0.89 ± 0.18\n",
       "   0.86 ± 0.18    0.89 ± 0.22    0.87 ± 0.21    0.95 ± 0.21\n",
       "   0.87 ± 0.23    0.76 ± 0.19    0.83 ± 0.25    0.69 ± 0.21\n",
       "   0.74 ± 0.24    0.79 ± 0.24    0.76 ± 0.23    0.78 ± 0.39\n",
       "   1.00 ± 0.45    0.80 ± 0.31    0.88 ± 0.32    0.88 ± 0.32\n",
       "   0.75 ± 0.41    1.00 ± 0.53    0.82 ± 0.37    0.88 ± 0.45\n",
       "   0.70 ± 0.34    0.80 ± 0.38    0.75 ± 0.41    1.00 ± 0.50]\n",
       " [  nan ±  nan     nan ±  nan    0.77 ± 0.00    0.80 ± 0.00\n",
       "   0.82 ± 0.00    0.83 ± 0.00    0.84 ± 0.00    0.85 ± 0.00\n",
       "   0.85 ± 0.00    0.86 ± 0.00    0.86 ± 0.00    0.86 ± 0.00\n",
       "   0.87 ± 0.00    0.87 ± 0.00    0.87 ± 0.00    0.87 ± 0.00\n",
       "   0.87 ± 0.00    0.87 ± 0.00    0.87 ± 0.00    0.87 ± 0.00\n",
       "   0.87 ± 0.01    0.87 ± 0.01    0.87 ± 0.01    0.87 ± 0.01\n",
       "   0.88 ± 0.01    0.87 ± 0.01    0.87 ± 0.01    0.87 ± 0.01\n",
       "   0.87 ± 0.01    0.87 ± 0.01    0.87 ± 0.01    0.87 ± 0.01\n",
       "   0.87 ± 0.02    0.87 ± 0.02    0.87 ± 0.02    0.88 ± 0.02\n",
       "   0.88 ± 0.02    0.86 ± 0.02    0.87 ± 0.02    0.88 ± 0.03\n",
       "   0.88 ± 0.03    0.88 ± 0.03    0.88 ± 0.03    0.87 ± 0.03\n",
       "   0.88 ± 0.03    0.90 ± 0.04    0.89 ± 0.04    0.88 ± 0.04\n",
       "   0.87 ± 0.04    0.88 ± 0.05    0.89 ± 0.05    0.88 ± 0.05\n",
       "   0.88 ± 0.05    0.89 ± 0.05    0.89 ± 0.06    0.86 ± 0.06\n",
       "   0.89 ± 0.06    0.89 ± 0.06    0.86 ± 0.07    0.86 ± 0.07\n",
       "   0.88 ± 0.07    0.89 ± 0.07    0.85 ± 0.07    0.88 ± 0.08\n",
       "   0.87 ± 0.08    0.92 ± 0.09    0.90 ± 0.09    0.90 ± 0.09\n",
       "   0.85 ± 0.10    0.89 ± 0.09    0.89 ± 0.10    0.89 ± 0.11\n",
       "   0.83 ± 0.11    0.86 ± 0.11    0.87 ± 0.12    0.91 ± 0.13\n",
       "   0.88 ± 0.13    0.88 ± 0.13    0.90 ± 0.15    0.82 ± 0.14\n",
       "   0.90 ± 0.17    0.86 ± 0.17    0.85 ± 0.16    0.89 ± 0.17\n",
       "   0.79 ± 0.15    0.88 ± 0.20    0.84 ± 0.19    0.82 ± 0.21\n",
       "   0.72 ± 0.18    0.89 ± 0.21    0.82 ± 0.20    0.88 ± 0.31\n",
       "   0.77 ± 0.25    0.84 ± 0.22    0.86 ± 0.24    0.93 ± 0.25\n",
       "   0.81 ± 0.26    0.82 ± 0.26    0.81 ± 0.26    0.89 ± 0.30]\n",
       " [  nan ±  nan     nan ±  nan    0.77 ± 0.00    0.81 ± 0.00\n",
       "   0.83 ± 0.00    0.84 ± 0.00    0.85 ± 0.00    0.85 ± 0.00\n",
       "   0.86 ± 0.00    0.86 ± 0.00    0.86 ± 0.00    0.87 ± 0.00\n",
       "   0.87 ± 0.00    0.87 ± 0.00    0.87 ± 0.00    0.87 ± 0.00\n",
       "   0.87 ± 0.00    0.87 ± 0.00    0.87 ± 0.00    0.87 ± 0.00\n",
       "   0.87 ± 0.00    0.87 ± 0.01    0.88 ± 0.01    0.87 ± 0.01\n",
       "   0.88 ± 0.01    0.87 ± 0.01    0.87 ± 0.01    0.88 ± 0.01\n",
       "   0.88 ± 0.01    0.88 ± 0.01    0.88 ± 0.01    0.87 ± 0.01\n",
       "   0.88 ± 0.01    0.88 ± 0.02    0.88 ± 0.02    0.89 ± 0.02\n",
       "   0.88 ± 0.02    0.88 ± 0.02    0.88 ± 0.02    0.88 ± 0.02\n",
       "   0.89 ± 0.02    0.88 ± 0.03    0.88 ± 0.03    0.89 ± 0.03\n",
       "   0.89 ± 0.03    0.88 ± 0.03    0.86 ± 0.03    0.88 ± 0.04\n",
       "   0.89 ± 0.04    0.89 ± 0.04    0.90 ± 0.04    0.89 ± 0.04\n",
       "   0.90 ± 0.04    0.88 ± 0.05    0.89 ± 0.05    0.89 ± 0.05\n",
       "   0.91 ± 0.05    0.91 ± 0.06    0.89 ± 0.06    0.89 ± 0.06\n",
       "   0.88 ± 0.06    0.89 ± 0.06    0.89 ± 0.07    0.87 ± 0.07\n",
       "   0.89 ± 0.07    0.86 ± 0.07    0.91 ± 0.08    0.92 ± 0.08\n",
       "   0.88 ± 0.08    0.86 ± 0.08    0.90 ± 0.09    0.88 ± 0.09\n",
       "   0.89 ± 0.10    0.87 ± 0.09    0.84 ± 0.11    0.90 ± 0.11\n",
       "   0.93 ± 0.11    0.86 ± 0.11    0.85 ± 0.10    0.89 ± 0.13\n",
       "   0.88 ± 0.14    0.93 ± 0.14    0.92 ± 0.15    0.89 ± 0.14\n",
       "   0.92 ± 0.15    0.92 ± 0.16    0.88 ± 0.16    0.89 ± 0.18\n",
       "   0.91 ± 0.18    0.79 ± 0.16    0.91 ± 0.19    0.91 ± 0.18\n",
       "   0.93 ± 0.21    0.78 ± 0.23    0.86 ± 0.21    0.83 ± 0.25\n",
       "   0.94 ± 0.24    0.87 ± 0.27    0.94 ± 0.24    0.91 ± 0.28]\n",
       " [  nan ±  nan     nan ±  nan    0.77 ± 0.00    0.80 ± 0.00\n",
       "   0.83 ± 0.00    0.84 ± 0.00    0.85 ± 0.00    0.85 ± 0.00\n",
       "   0.86 ± 0.00    0.86 ± 0.00    0.86 ± 0.00    0.86 ± 0.00\n",
       "   0.87 ± 0.00    0.87 ± 0.00    0.87 ± 0.00    0.87 ± 0.00\n",
       "   0.87 ± 0.00    0.87 ± 0.00    0.87 ± 0.00    0.87 ± 0.00\n",
       "   0.87 ± 0.00    0.87 ± 0.01    0.87 ± 0.01    0.87 ± 0.01\n",
       "   0.87 ± 0.01    0.87 ± 0.01    0.87 ± 0.01    0.87 ± 0.01\n",
       "   0.87 ± 0.01    0.87 ± 0.01    0.88 ± 0.01    0.88 ± 0.01\n",
       "   0.88 ± 0.01    0.89 ± 0.02    0.87 ± 0.02    0.87 ± 0.02\n",
       "   0.88 ± 0.02    0.88 ± 0.02    0.88 ± 0.02    0.87 ± 0.02\n",
       "   0.88 ± 0.02    0.88 ± 0.03    0.89 ± 0.03    0.87 ± 0.03\n",
       "   0.88 ± 0.03    0.88 ± 0.03    0.87 ± 0.03    0.88 ± 0.04\n",
       "   0.89 ± 0.04    0.89 ± 0.04    0.90 ± 0.04    0.88 ± 0.04\n",
       "   0.90 ± 0.05    0.89 ± 0.05    0.88 ± 0.05    0.91 ± 0.05\n",
       "   0.88 ± 0.05    0.89 ± 0.05    0.88 ± 0.06    0.90 ± 0.06\n",
       "   0.87 ± 0.06    0.91 ± 0.07    0.88 ± 0.07    0.88 ± 0.07\n",
       "   0.88 ± 0.07    0.85 ± 0.07    0.88 ± 0.07    0.84 ± 0.08\n",
       "   0.90 ± 0.08    0.92 ± 0.09    0.88 ± 0.09    0.87 ± 0.09\n",
       "   0.91 ± 0.10    0.89 ± 0.11    0.90 ± 0.11    0.93 ± 0.11\n",
       "   0.88 ± 0.11    0.89 ± 0.11    0.83 ± 0.12    0.95 ± 0.15\n",
       "   0.90 ± 0.13    0.85 ± 0.15    0.84 ± 0.13    0.86 ± 0.14\n",
       "   0.92 ± 0.17    0.82 ± 0.15    0.85 ± 0.16    0.87 ± 0.17\n",
       "   0.87 ± 0.19    0.79 ± 0.18    0.85 ± 0.18    0.95 ± 0.21\n",
       "   0.92 ± 0.22    0.85 ± 0.22    0.93 ± 0.25    0.91 ± 0.19\n",
       "   0.84 ± 0.22    0.91 ± 0.28    0.72 ± 0.26    0.94 ± 0.24]\n",
       " [  nan ±  nan     nan ±  nan    0.76 ± 0.00    0.80 ± 0.00\n",
       "   0.82 ± 0.00    0.83 ± 0.00    0.84 ± 0.00    0.85 ± 0.00\n",
       "   0.85 ± 0.00    0.86 ± 0.00    0.86 ± 0.00    0.86 ± 0.00\n",
       "   0.86 ± 0.00    0.86 ± 0.00    0.87 ± 0.00    0.87 ± 0.00\n",
       "   0.87 ± 0.00    0.87 ± 0.00    0.87 ± 0.00    0.87 ± 0.00\n",
       "   0.87 ± 0.01    0.87 ± 0.01    0.87 ± 0.01    0.87 ± 0.01\n",
       "   0.87 ± 0.01    0.87 ± 0.01    0.87 ± 0.01    0.87 ± 0.01\n",
       "   0.86 ± 0.01    0.87 ± 0.01    0.87 ± 0.01    0.86 ± 0.01\n",
       "   0.87 ± 0.02    0.87 ± 0.02    0.86 ± 0.02    0.88 ± 0.02\n",
       "   0.88 ± 0.02    0.87 ± 0.02    0.88 ± 0.02    0.88 ± 0.03\n",
       "   0.87 ± 0.03    0.88 ± 0.03    0.87 ± 0.03    0.88 ± 0.03\n",
       "   0.88 ± 0.03    0.88 ± 0.04    0.86 ± 0.04    0.87 ± 0.04\n",
       "   0.86 ± 0.04    0.87 ± 0.05    0.86 ± 0.05    0.85 ± 0.05\n",
       "   0.87 ± 0.05    0.86 ± 0.05    0.89 ± 0.06    0.89 ± 0.06\n",
       "   0.87 ± 0.06    0.87 ± 0.06    0.88 ± 0.06    0.89 ± 0.07\n",
       "   0.90 ± 0.07    0.87 ± 0.07    0.88 ± 0.08    0.86 ± 0.08\n",
       "   0.86 ± 0.08    0.90 ± 0.09    0.84 ± 0.08    0.91 ± 0.10\n",
       "   0.86 ± 0.10    0.92 ± 0.11    0.87 ± 0.10    0.89 ± 0.10\n",
       "   0.87 ± 0.12    0.91 ± 0.14    0.92 ± 0.13    0.86 ± 0.13\n",
       "   0.82 ± 0.12    0.89 ± 0.13    0.82 ± 0.13    0.87 ± 0.16\n",
       "   0.85 ± 0.15    0.85 ± 0.15    0.85 ± 0.15    0.89 ± 0.18\n",
       "   0.76 ± 0.16    0.80 ± 0.19    0.83 ± 0.17    0.83 ± 0.21\n",
       "   0.83 ± 0.19    0.89 ± 0.21    0.79 ± 0.22    0.76 ± 0.21\n",
       "   0.96 ± 0.29    0.70 ± 0.24    0.80 ± 0.31    1.00 ± 0.39\n",
       "   0.83 ± 0.26    0.75 ± 0.26    0.67 ± 0.23    0.83 ± 0.36]\n",
       " [  nan ±  nan     nan ±  nan    0.71 ± 0.00    0.75 ± 0.00\n",
       "   0.77 ± 0.00    0.79 ± 0.00    0.80 ± 0.00    0.80 ± 0.00\n",
       "   0.81 ± 0.00    0.81 ± 0.00    0.81 ± 0.00    0.82 ± 0.00\n",
       "   0.82 ± 0.00    0.82 ± 0.00    0.82 ± 0.00    0.82 ± 0.00\n",
       "   0.82 ± 0.00    0.82 ± 0.00    0.82 ± 0.00    0.82 ± 0.01\n",
       "   0.82 ± 0.01    0.82 ± 0.01    0.82 ± 0.01    0.82 ± 0.01\n",
       "   0.82 ± 0.01    0.82 ± 0.01    0.82 ± 0.01    0.81 ± 0.01\n",
       "   0.81 ± 0.01    0.82 ± 0.01    0.82 ± 0.02    0.82 ± 0.02\n",
       "   0.82 ± 0.02    0.81 ± 0.02    0.81 ± 0.02    0.80 ± 0.02\n",
       "   0.82 ± 0.03    0.82 ± 0.03    0.82 ± 0.03    0.83 ± 0.03\n",
       "   0.81 ± 0.03    0.80 ± 0.03    0.81 ± 0.04    0.82 ± 0.04\n",
       "   0.83 ± 0.04    0.82 ± 0.05    0.81 ± 0.05    0.81 ± 0.05\n",
       "   0.82 ± 0.05    0.82 ± 0.06    0.82 ± 0.06    0.81 ± 0.06\n",
       "   0.81 ± 0.06    0.83 ± 0.07    0.82 ± 0.07    0.79 ± 0.07\n",
       "   0.80 ± 0.08    0.82 ± 0.08    0.80 ± 0.08    0.77 ± 0.08\n",
       "   0.79 ± 0.09    0.84 ± 0.10    0.78 ± 0.10    0.83 ± 0.11\n",
       "   0.81 ± 0.10    0.88 ± 0.12    0.81 ± 0.12    0.77 ± 0.13\n",
       "   0.83 ± 0.13    0.88 ± 0.15    0.92 ± 0.16    0.74 ± 0.13\n",
       "   0.79 ± 0.16    0.75 ± 0.16    0.76 ± 0.16    0.83 ± 0.17\n",
       "   1.00 ± 0.26    0.81 ± 0.22    0.79 ± 0.18    0.67 ± 0.19\n",
       "   0.84 ± 0.22    0.74 ± 0.19    0.86 ± 0.24    0.79 ± 0.22\n",
       "   0.91 ± 0.28    0.76 ± 0.25    0.62 ± 0.25    0.69 ± 0.27\n",
       "   0.87 ± 0.33    0.95 ± 0.31    0.80 ± 0.31    0.75 ± 0.41\n",
       "   0.93 ± 0.36    1.00 ± 0.63    0.79 ± 0.32    1.00 ± 0.47\n",
       "   0.70 ± 0.34    1.00 ± 0.63    0.83 ± 0.50    0.62 ± 0.36]\n",
       " [  nan ±  nan     nan ±  nan    0.70 ± 0.00    0.73 ± 0.00\n",
       "   0.76 ± 0.00    0.77 ± 0.00    0.79 ± 0.00    0.79 ± 0.00\n",
       "   0.80 ± 0.00    0.80 ± 0.00    0.80 ± 0.00    0.81 ± 0.00\n",
       "   0.81 ± 0.00    0.81 ± 0.00    0.81 ± 0.00    0.81 ± 0.00\n",
       "   0.81 ± 0.00    0.81 ± 0.01    0.82 ± 0.01    0.82 ± 0.01\n",
       "   0.81 ± 0.01    0.82 ± 0.01    0.81 ± 0.01    0.82 ± 0.01\n",
       "   0.81 ± 0.01    0.81 ± 0.01    0.81 ± 0.02    0.81 ± 0.02\n",
       "   0.81 ± 0.02    0.81 ± 0.02    0.80 ± 0.02    0.81 ± 0.02\n",
       "   0.82 ± 0.03    0.82 ± 0.03    0.83 ± 0.03    0.82 ± 0.04\n",
       "   0.81 ± 0.04    0.82 ± 0.04    0.80 ± 0.04    0.80 ± 0.05\n",
       "   0.79 ± 0.05    0.82 ± 0.05    0.82 ± 0.06    0.81 ± 0.06\n",
       "   0.83 ± 0.07    0.83 ± 0.07    0.76 ± 0.07    0.85 ± 0.08\n",
       "   0.75 ± 0.08    0.82 ± 0.09    0.81 ± 0.09    0.85 ± 0.10\n",
       "   0.85 ± 0.10    0.76 ± 0.11    0.84 ± 0.12    0.79 ± 0.12\n",
       "   0.89 ± 0.15    0.82 ± 0.14    0.80 ± 0.15    0.77 ± 0.15\n",
       "   0.77 ± 0.14    0.79 ± 0.17    0.89 ± 0.19    0.85 ± 0.20\n",
       "   0.67 ± 0.19    0.83 ± 0.23    0.71 ± 0.21    0.68 ± 0.23\n",
       "   0.92 ± 0.27    0.66 ± 0.18    0.82 ± 0.30    0.73 ± 0.29\n",
       "   0.81 ± 0.23    1.00 ± 0.38    0.85 ± 0.35    0.86 ± 0.34\n",
       "   0.40 ± 0.24    0.57 ± 0.36    1.00 ± 0.41    0.86 ± 0.48\n",
       "   0.00 ± 0.00    0.75 ± 0.41    1.00 ± 0.71    0.60 ± 0.44\n",
       "   0.60 ± 0.44    0.50 ± 0.61    0.33 ± 0.38    1.00 ± 0.82\n",
       "   1.00 ± 1.00    0.67 ± 0.61    0.67 ± 0.61    0.50 ± 0.61\n",
       "   0.00 ± 0.00    1.00 ± 0.63     nan ±  nan    0.00 ± 0.00\n",
       "   1.00 ± 1.41    1.00 ± 1.41    1.00 ± 0.82    1.00 ± 1.00]\n",
       " [  nan ±  nan     nan ±  nan    0.65 ± 0.00    0.69 ± 0.00\n",
       "   0.72 ± 0.00    0.73 ± 0.00    0.74 ± 0.00    0.75 ± 0.00\n",
       "   0.75 ± 0.00    0.75 ± 0.00    0.76 ± 0.00    0.76 ± 0.00\n",
       "   0.76 ± 0.00    0.77 ± 0.00    0.77 ± 0.00    0.77 ± 0.01\n",
       "   0.77 ± 0.01    0.78 ± 0.01    0.77 ± 0.01    0.76 ± 0.01\n",
       "   0.77 ± 0.01    0.76 ± 0.01    0.76 ± 0.02    0.75 ± 0.02\n",
       "   0.77 ± 0.02    0.75 ± 0.02    0.75 ± 0.03    0.76 ± 0.03\n",
       "   0.76 ± 0.03    0.75 ± 0.04    0.74 ± 0.04    0.75 ± 0.04\n",
       "   0.77 ± 0.05    0.76 ± 0.05    0.73 ± 0.06    0.73 ± 0.06\n",
       "   0.73 ± 0.07    0.71 ± 0.08    0.75 ± 0.08    0.77 ± 0.09\n",
       "   0.77 ± 0.10    0.77 ± 0.11    0.77 ± 0.11    0.79 ± 0.13\n",
       "   0.66 ± 0.11    0.83 ± 0.17    0.73 ± 0.16    0.91 ± 0.23\n",
       "   0.76 ± 0.18    0.83 ± 0.21    0.74 ± 0.22    0.68 ± 0.21\n",
       "   0.81 ± 0.30    0.75 ± 0.29    0.84 ± 0.29    0.77 ± 0.32\n",
       "   0.85 ± 0.35    0.69 ± 0.30    0.75 ± 0.33    0.58 ± 0.28\n",
       "   0.67 ± 0.61    0.82 ± 0.37    0.75 ± 0.57    0.75 ± 0.57\n",
       "   1.00 ± 1.00    0.50 ± 0.43    1.00 ± 1.41    0.50 ± 0.61\n",
       "    nan ±  nan    1.00 ± 1.41    1.00 ± 1.41    0.83 ± 0.50\n",
       "   0.50 ± 0.61    1.00 ± 1.00     nan ±  nan     nan ±  nan\n",
       "    nan ±  nan     nan ±  nan    1.00 ± 1.41     nan ±  nan\n",
       "    nan ±  nan     nan ±  nan     nan ±  nan     nan ±  nan\n",
       "    nan ±  nan     nan ±  nan    1.00 ± 1.41     nan ±  nan\n",
       "    nan ±  nan     nan ±  nan     nan ±  nan     nan ±  nan\n",
       "    nan ±  nan     nan ±  nan     nan ±  nan     nan ±  nan\n",
       "    nan ±  nan    1.00 ± 1.41     nan ±  nan     nan ±  nan]]"
      ]
     },
     "execution_count": 52,
     "metadata": {},
     "output_type": "execute_result"
    }
   ],
   "source": [
    "h1.divide(h2)"
   ]
  },
  {
   "cell_type": "code",
   "execution_count": 53,
   "metadata": {},
   "outputs": [],
   "source": [
    "pt_bins = hist.Bin('pt', r'$p_{T} \\ (GeV)$', np.array([20,30,50,70,100,140,200,300,600]))\n",
    "\n",
    "def getNiceHist(output, name, rebin, axis):\n",
    "    tmp = output[name].copy().project(axis).rebin(axis, rebin)\n",
    "    ya_tmp = Hist1D.from_bincounts(\n",
    "        tmp.sum().values(overflow='over')[()],\n",
    "        errors = np.sqrt(tmp.sum().values(overflow='over', sumw2=True)[()][1]),\n",
    "        bins = tmp.axis(axis).edges(overflow='over')\n",
    "    )\n",
    "    return ya_tmp"
   ]
  },
  {
   "cell_type": "code",
   "execution_count": 54,
   "metadata": {},
   "outputs": [],
   "source": [
    "b_all = getNiceHist(output, 'b_all', pt_bins, 'pt')\n",
    "b_pass_deepCSV = getNiceHist(output, 'b_pass_deepCSV', pt_bins, 'pt')\n",
    "b_pass_deepJet = getNiceHist(output, 'b_pass_deepJet', pt_bins, 'pt')\n",
    "\n",
    "c_all = getNiceHist(output, 'c_all', pt_bins, 'pt')\n",
    "c_pass_deepCSV = getNiceHist(output, 'c_pass_deepCSV', pt_bins, 'pt')\n",
    "c_pass_deepJet = getNiceHist(output, 'c_pass_deepJet', pt_bins, 'pt')\n",
    "\n",
    "light_all = getNiceHist(output, 'light_all', pt_bins, 'pt')\n",
    "light_pass_deepCSV = getNiceHist(output, 'light_pass_deepCSV', pt_bins, 'pt')\n",
    "light_pass_deepJet = getNiceHist(output, 'light_pass_deepJet', pt_bins, 'pt')"
   ]
  },
  {
   "cell_type": "code",
   "execution_count": 55,
   "metadata": {},
   "outputs": [
    {
     "data": {
      "text/plain": [
       "Text(0.1, 0.995, '$\\\\bf{CMS}$ Simulation')"
      ]
     },
     "execution_count": 55,
     "metadata": {},
     "output_type": "execute_result"
    },
    {
     "data": {
      "image/png": "[encoded data removed]",
      "text/plain": [
       "<Figure size 504x504 with 1 Axes>"
      ]
     },
     "metadata": {
      "needs_background": "light"
     },
     "output_type": "display_data"
    }
   ],
   "source": [
    "%matplotlib inline\n",
    "import matplotlib\n",
    "import matplotlib.pyplot as plt\n",
    "\n",
    "import mplhep as hep\n",
    "\n",
    "plt.style.use(hep.style.CMS)  # or ATLAS/LHCb\n",
    "\n",
    "fig, ax = plt.subplots(1,1,figsize=(7,7))\n",
    "\n",
    "b_all.plot(color=\"blue\", histtype=\"step\", linewidth=2, label='All b hadrons')\n",
    "b_pass_deepJet.plot(color=\"green\", histtype=\"step\", linewidth=2, label='DeepJet')\n",
    "b_pass_deepCSV.plot(color=\"orange\", histtype=\"step\", linewidth=2, label='DeepCSV')\n",
    "\n",
    "ax.set_ylabel('Jets')\n",
    "ax.set_xlabel(r'$p_{T} (GeV)$')\n",
    "\n",
    "#ax.set_ylim(0.05,1.05)\n",
    "\n",
    "fig.text(0.10, 0.995, '$\\\\bf{CMS}$ Simulation', fontsize=20,  horizontalalignment='left', verticalalignment='bottom', transform=ax.transAxes )\n",
    "\n"
   ]
  },
  {
   "cell_type": "code",
   "execution_count": 56,
   "metadata": {},
   "outputs": [
    {
     "data": {
      "text/plain": [
       "Text(0.8, 0.995, '13 TeV')"
      ]
     },
     "execution_count": 56,
     "metadata": {},
     "output_type": "execute_result"
    },
    {
     "data": {
      "image/png": "[encoded data removed]",
      "text/plain": [
       "<Figure size 504x504 with 1 Axes>"
      ]
     },
     "metadata": {
      "needs_background": "light"
     },
     "output_type": "display_data"
    }
   ],
   "source": [
    "fig, ax = plt.subplots(1,1,figsize=(7,7))\n",
    "\n",
    "b_eff_deepJet = b_pass_deepJet.divide(b_all, binomial=True)\n",
    "b_eff_deepCSV = b_pass_deepCSV.divide(b_all, binomial=True)\n",
    "\n",
    "c_eff_deepJet = c_pass_deepJet.divide(c_all, binomial=True)\n",
    "c_eff_deepCSV = c_pass_deepCSV.divide(c_all, binomial=True)\n",
    "\n",
    "light_eff_deepJet = light_pass_deepJet.divide(light_all, binomial=True)\n",
    "light_eff_deepCSV = light_pass_deepCSV.divide(light_all, binomial=True)\n",
    "\n",
    "\n",
    "b_eff_deepJet.plot(color=\"green\", histtype=\"step\", linewidth=2, label='b DeepJet')\n",
    "b_eff_deepCSV.plot(color=\"gray\", histtype=\"step\", linewidth=2, label='b DeepCSV')\n",
    "\n",
    "c_eff_deepJet.plot(color=\"blue\", histtype=\"step\", linewidth=2, label='c DeepJet')\n",
    "c_eff_deepCSV.plot(color=\"cyan\", histtype=\"step\", linewidth=2, label='c DeepCSV')\n",
    "\n",
    "light_eff_deepJet.plot(color=\"orange\", histtype=\"step\", linewidth=2, label='udsg DeepJet')\n",
    "light_eff_deepCSV.plot(color=\"red\", histtype=\"step\", linewidth=2, label='udsg DeepCSV')\n",
    "\n",
    "ax.set_ylabel('Efficiency')\n",
    "ax.set_xlabel(r'$p_{T} (GeV)$')\n",
    "\n",
    "ax.set_ylim(0.00,1.40)\n",
    "\n",
    "plt.xscale('log')\n",
    "\n",
    "plt.legend(\n",
    "    #bbox_to_anchor=(0., 1.02, 1., .102),\n",
    "    loc='upper left',\n",
    "    ncol=2,\n",
    "    mode=\"expand\",\n",
    "    borderaxespad=0.0\n",
    ")\n",
    "\n",
    "fig.text(0.0, 0.995, '$\\\\bf{CMS}$ Simulation', fontsize=20,  horizontalalignment='left', verticalalignment='bottom', transform=ax.transAxes )\n",
    "fig.text(0.8, 0.995, '13 TeV', fontsize=20,  horizontalalignment='left', verticalalignment='bottom', transform=ax.transAxes )\n",
    "\n"
   ]
  },
  {
   "cell_type": "code",
   "execution_count": 57,
   "metadata": {},
   "outputs": [
    {
     "data": {
      "text/plain": [
       "'{\"_counts\": [0.7345300617387095, 0.7824330305524453, 0.8139207250281995, 0.8300458063946604, 0.8405382488241442, 0.8480849304560074, 0.8510051051227302, 0.8567084468420072, 0.8616420422666916], \"_edges\": [20.0, 30.0, 50.0, 70.0, 100.0, 140.0, 200.0, 300.0, 600.0, 900.0], \"_errors\": [0.00018289513771629906, 8.110909879960326e-05, 8.062664445662726e-05, 7.813530859290818e-05, 9.80537295254269e-05, 0.0001431584837833788, 0.00025689097814357575, 0.0005262033634667596, 0.002130403538702752], \"_errors_up\": [0.00018285492433733896, 8.1098185303774e-05, 8.061317404295387e-05, 7.81210295413004e-05, 9.802931349156552e-05, 0.00014310314442678163, 0.00025670847864533997, 0.000525400516633967, 0.0021167567064486192], \"_errors_down\": [0.00018293535109525916, 8.112001229543253e-05, 8.064011487030065e-05, 7.814958764451596e-05, 9.807814555928829e-05, 0.000143213823139976, 0.00025707347764181154, 0.0005270062102995521, 0.0021440503709568848], \"_metadata\": {}}'"
      ]
     },
     "execution_count": 57,
     "metadata": {},
     "output_type": "execute_result"
    }
   ],
   "source": [
    "# I can export the measurement from yahist\n",
    "\n",
    "b_eff_deepJet.to_json()"
   ]
  },
  {
   "cell_type": "code",
   "execution_count": 58,
   "metadata": {},
   "outputs": [
    {
     "data": {
      "text/plain": [
       "0.7824330305524453"
      ]
     },
     "execution_count": 58,
     "metadata": {},
     "output_type": "execute_result"
    }
   ],
   "source": [
    "# lookup is easy, but only works for np arrays (so far)\n",
    "\n",
    "b_eff_deepJet.lookup(30)"
   ]
  },
  {
   "cell_type": "code",
   "execution_count": 59,
   "metadata": {},
   "outputs": [],
   "source": [
    "b_eff_deepJet.to_json(os.path.expandvars(\"$TWHOME/data/btag/Summer20UL18_b_eff_deepJet.json\"))\n",
    "c_eff_deepJet.to_json(os.path.expandvars(\"$TWHOME/data/btag/Summer20UL18_c_eff_deepJet.json\"))\n",
    "light_eff_deepJet.to_json(os.path.expandvars(\"$TWHOME/data/btag/Summer20UL18_light_eff_deepJet.json\"))"
   ]
  },
  {
   "cell_type": "markdown",
   "metadata": {},
   "source": [
    "# Development of SF calculation\n",
    "\n",
    "The coffea tools aren't so helpful. We need to have Method 1a implemented.\n"
   ]
  },
  {
   "cell_type": "code",
   "execution_count": 6,
   "metadata": {},
   "outputs": [],
   "source": [
    "from coffea.lookup_tools import extractor\n",
    "from coffea.btag_tools import BTagScaleFactor\n",
    "\n",
    "# deal with the SFs\n",
    "SF_file = os.path.expandvars('$TWHOME/data/btag/DeepJet_102XSF_V2.csv')\n",
    "btag_sf = BTagScaleFactor(SF_file, \"medium\", keep_df=True)\n",
    "\n",
    "# and load the efficiencies\n",
    "effs = {\n",
    "    'b': Hist1D.from_json(os.path.expandvars(\"$TWHOME/data/btag/Autumn18_b_eff_deepJet.json\")),\n",
    "    'c': Hist1D.from_json(os.path.expandvars(\"$TWHOME/data/btag/Autumn18_c_eff_deepJet.json\")),\n",
    "    'light': Hist1D.from_json(os.path.expandvars(\"$TWHOME/data/btag/Autumn18_light_eff_deepJet.json\")),\n",
    "}\n"
   ]
  },
  {
   "cell_type": "code",
   "execution_count": 7,
   "metadata": {},
   "outputs": [
    {
     "data": {
      "text/html": [
       "<div>\n",
       "<style scoped>\n",
       "    .dataframe tbody tr th:only-of-type {\n",
       "        vertical-align: middle;\n",
       "    }\n",
       "\n",
       "    .dataframe tbody tr th {\n",
       "        vertical-align: top;\n",
       "    }\n",
       "\n",
       "    .dataframe thead th {\n",
       "        text-align: right;\n",
       "    }\n",
       "</style>\n",
       "<table border=\"1\" class=\"dataframe\">\n",
       "  <thead>\n",
       "    <tr style=\"text-align: right;\">\n",
       "      <th></th>\n",
       "      <th></th>\n",
       "      <th></th>\n",
       "      <th></th>\n",
       "      <th></th>\n",
       "      <th>OperatingPoint</th>\n",
       "      <th>measurementType</th>\n",
       "      <th>formula</th>\n",
       "    </tr>\n",
       "    <tr>\n",
       "      <th>sysType</th>\n",
       "      <th>jetFlavor</th>\n",
       "      <th>etaBin</th>\n",
       "      <th>ptBin</th>\n",
       "      <th>discrBin</th>\n",
       "      <th></th>\n",
       "      <th></th>\n",
       "      <th></th>\n",
       "    </tr>\n",
       "  </thead>\n",
       "  <tbody>\n",
       "    <tr>\n",
       "      <th rowspan=\"3\" valign=\"top\">central</th>\n",
       "      <th>0</th>\n",
       "      <th>(-2.5, 2.5)</th>\n",
       "      <th>(20, 1000)</th>\n",
       "      <th>(0, 1)</th>\n",
       "      <td>1</td>\n",
       "      <td>comb</td>\n",
       "      <td>1.0097+(-(2.89663e-06*(log(x+19)*(log(x+18)*(3...</td>\n",
       "    </tr>\n",
       "    <tr>\n",
       "      <th>1</th>\n",
       "      <th>(-2.5, 2.5)</th>\n",
       "      <th>(20, 1000)</th>\n",
       "      <th>(0, 1)</th>\n",
       "      <td>1</td>\n",
       "      <td>comb</td>\n",
       "      <td>1.0097+(-(2.89663e-06*(log(x+19)*(log(x+18)*(3...</td>\n",
       "    </tr>\n",
       "    <tr>\n",
       "      <th>2</th>\n",
       "      <th>(0.0, 2.5)</th>\n",
       "      <th>(20, 1000)</th>\n",
       "      <th>(0, 1)</th>\n",
       "      <td>1</td>\n",
       "      <td>incl</td>\n",
       "      <td>1.59373+-0.00113028*x+8.66631e-07*x*x+-1.10505/x</td>\n",
       "    </tr>\n",
       "    <tr>\n",
       "      <th rowspan=\"19\" valign=\"top\">down</th>\n",
       "      <th rowspan=\"9\" valign=\"top\">0</th>\n",
       "      <th rowspan=\"9\" valign=\"top\">(-2.5, 2.5)</th>\n",
       "      <th>(20, 30)</th>\n",
       "      <th>(0, 1)</th>\n",
       "      <td>1</td>\n",
       "      <td>comb</td>\n",
       "      <td>1.0097+((-(2.89663e-06*(log(x+19)*(log(x+18)*(...</td>\n",
       "    </tr>\n",
       "    <tr>\n",
       "      <th>(30, 50)</th>\n",
       "      <th>(0, 1)</th>\n",
       "      <td>1</td>\n",
       "      <td>comb</td>\n",
       "      <td>1.0097+((-(2.89663e-06*(log(x+19)*(log(x+18)*(...</td>\n",
       "    </tr>\n",
       "    <tr>\n",
       "      <th>(50, 70)</th>\n",
       "      <th>(0, 1)</th>\n",
       "      <td>1</td>\n",
       "      <td>comb</td>\n",
       "      <td>1.0097+((-(2.89663e-06*(log(x+19)*(log(x+18)*(...</td>\n",
       "    </tr>\n",
       "    <tr>\n",
       "      <th>(70, 100)</th>\n",
       "      <th>(0, 1)</th>\n",
       "      <td>1</td>\n",
       "      <td>comb</td>\n",
       "      <td>1.0097+((-(2.89663e-06*(log(x+19)*(log(x+18)*(...</td>\n",
       "    </tr>\n",
       "    <tr>\n",
       "      <th>(100, 140)</th>\n",
       "      <th>(0, 1)</th>\n",
       "      <td>1</td>\n",
       "      <td>comb</td>\n",
       "      <td>1.0097+((-(2.89663e-06*(log(x+19)*(log(x+18)*(...</td>\n",
       "    </tr>\n",
       "    <tr>\n",
       "      <th>(140, 200)</th>\n",
       "      <th>(0, 1)</th>\n",
       "      <td>1</td>\n",
       "      <td>comb</td>\n",
       "      <td>1.0097+((-(2.89663e-06*(log(x+19)*(log(x+18)*(...</td>\n",
       "    </tr>\n",
       "    <tr>\n",
       "      <th>(200, 300)</th>\n",
       "      <th>(0, 1)</th>\n",
       "      <td>1</td>\n",
       "      <td>comb</td>\n",
       "      <td>1.0097+((-(2.89663e-06*(log(x+19)*(log(x+18)*(...</td>\n",
       "    </tr>\n",
       "    <tr>\n",
       "      <th>(300, 600)</th>\n",
       "      <th>(0, 1)</th>\n",
       "      <td>1</td>\n",
       "      <td>comb</td>\n",
       "      <td>1.0097+((-(2.89663e-06*(log(x+19)*(log(x+18)*(...</td>\n",
       "    </tr>\n",
       "    <tr>\n",
       "      <th>(600, 1000)</th>\n",
       "      <th>(0, 1)</th>\n",
       "      <td>1</td>\n",
       "      <td>comb</td>\n",
       "      <td>1.0097+((-(2.89663e-06*(log(x+19)*(log(x+18)*(...</td>\n",
       "    </tr>\n",
       "    <tr>\n",
       "      <th rowspan=\"9\" valign=\"top\">1</th>\n",
       "      <th rowspan=\"9\" valign=\"top\">(-2.5, 2.5)</th>\n",
       "      <th>(20, 30)</th>\n",
       "      <th>(0, 1)</th>\n",
       "      <td>1</td>\n",
       "      <td>comb</td>\n",
       "      <td>1.0097+((-(2.89663e-06*(log(x+19)*(log(x+18)*(...</td>\n",
       "    </tr>\n",
       "    <tr>\n",
       "      <th>(30, 50)</th>\n",
       "      <th>(0, 1)</th>\n",
       "      <td>1</td>\n",
       "      <td>comb</td>\n",
       "      <td>1.0097+((-(2.89663e-06*(log(x+19)*(log(x+18)*(...</td>\n",
       "    </tr>\n",
       "    <tr>\n",
       "      <th>(50, 70)</th>\n",
       "      <th>(0, 1)</th>\n",
       "      <td>1</td>\n",
       "      <td>comb</td>\n",
       "      <td>1.0097+((-(2.89663e-06*(log(x+19)*(log(x+18)*(...</td>\n",
       "    </tr>\n",
       "    <tr>\n",
       "      <th>(70, 100)</th>\n",
       "      <th>(0, 1)</th>\n",
       "      <td>1</td>\n",
       "      <td>comb</td>\n",
       "      <td>1.0097+((-(2.89663e-06*(log(x+19)*(log(x+18)*(...</td>\n",
       "    </tr>\n",
       "    <tr>\n",
       "      <th>(100, 140)</th>\n",
       "      <th>(0, 1)</th>\n",
       "      <td>1</td>\n",
       "      <td>comb</td>\n",
       "      <td>1.0097+((-(2.89663e-06*(log(x+19)*(log(x+18)*(...</td>\n",
       "    </tr>\n",
       "    <tr>\n",
       "      <th>(140, 200)</th>\n",
       "      <th>(0, 1)</th>\n",
       "      <td>1</td>\n",
       "      <td>comb</td>\n",
       "      <td>1.0097+((-(2.89663e-06*(log(x+19)*(log(x+18)*(...</td>\n",
       "    </tr>\n",
       "    <tr>\n",
       "      <th>(200, 300)</th>\n",
       "      <th>(0, 1)</th>\n",
       "      <td>1</td>\n",
       "      <td>comb</td>\n",
       "      <td>1.0097+((-(2.89663e-06*(log(x+19)*(log(x+18)*(...</td>\n",
       "    </tr>\n",
       "    <tr>\n",
       "      <th>(300, 600)</th>\n",
       "      <th>(0, 1)</th>\n",
       "      <td>1</td>\n",
       "      <td>comb</td>\n",
       "      <td>1.0097+((-(2.89663e-06*(log(x+19)*(log(x+18)*(...</td>\n",
       "    </tr>\n",
       "    <tr>\n",
       "      <th>(600, 1000)</th>\n",
       "      <th>(0, 1)</th>\n",
       "      <td>1</td>\n",
       "      <td>comb</td>\n",
       "      <td>1.0097+((-(2.89663e-06*(log(x+19)*(log(x+18)*(...</td>\n",
       "    </tr>\n",
       "    <tr>\n",
       "      <th>2</th>\n",
       "      <th>(0.0, 2.5)</th>\n",
       "      <th>(20, 1000)</th>\n",
       "      <th>(0, 1)</th>\n",
       "      <td>1</td>\n",
       "      <td>incl</td>\n",
       "      <td>(1.59373+-0.00113028*x+8.66631e-07*x*x+-1.1050...</td>\n",
       "    </tr>\n",
       "    <tr>\n",
       "      <th>down_correlated</th>\n",
       "      <th>2</th>\n",
       "      <th>(0.0, 2.5)</th>\n",
       "      <th>(20, 1000)</th>\n",
       "      <th>(0, 1)</th>\n",
       "      <td>1</td>\n",
       "      <td>incl</td>\n",
       "      <td>(1.59373+-0.00113028*x+8.66631e-07*x*x+-1.1050...</td>\n",
       "    </tr>\n",
       "    <tr>\n",
       "      <th>down_uncorrelated</th>\n",
       "      <th>2</th>\n",
       "      <th>(0.0, 2.5)</th>\n",
       "      <th>(20, 1000)</th>\n",
       "      <th>(0, 1)</th>\n",
       "      <td>1</td>\n",
       "      <td>incl</td>\n",
       "      <td>(1.59373+-0.00113028*x+8.66631e-07*x*x+-1.1050...</td>\n",
       "    </tr>\n",
       "    <tr>\n",
       "      <th rowspan=\"19\" valign=\"top\">up</th>\n",
       "      <th rowspan=\"9\" valign=\"top\">0</th>\n",
       "      <th rowspan=\"9\" valign=\"top\">(-2.5, 2.5)</th>\n",
       "      <th>(20, 30)</th>\n",
       "      <th>(0, 1)</th>\n",
       "      <td>1</td>\n",
       "      <td>comb</td>\n",
       "      <td>(1.0097+(-(2.89663e-06*(log(x+19)*(log(x+18)*(...</td>\n",
       "    </tr>\n",
       "    <tr>\n",
       "      <th>(30, 50)</th>\n",
       "      <th>(0, 1)</th>\n",
       "      <td>1</td>\n",
       "      <td>comb</td>\n",
       "      <td>(1.0097+(-(2.89663e-06*(log(x+19)*(log(x+18)*(...</td>\n",
       "    </tr>\n",
       "    <tr>\n",
       "      <th>(50, 70)</th>\n",
       "      <th>(0, 1)</th>\n",
       "      <td>1</td>\n",
       "      <td>comb</td>\n",
       "      <td>(1.0097+(-(2.89663e-06*(log(x+19)*(log(x+18)*(...</td>\n",
       "    </tr>\n",
       "    <tr>\n",
       "      <th>(70, 100)</th>\n",
       "      <th>(0, 1)</th>\n",
       "      <td>1</td>\n",
       "      <td>comb</td>\n",
       "      <td>(1.0097+(-(2.89663e-06*(log(x+19)*(log(x+18)*(...</td>\n",
       "    </tr>\n",
       "    <tr>\n",
       "      <th>(100, 140)</th>\n",
       "      <th>(0, 1)</th>\n",
       "      <td>1</td>\n",
       "      <td>comb</td>\n",
       "      <td>(1.0097+(-(2.89663e-06*(log(x+19)*(log(x+18)*(...</td>\n",
       "    </tr>\n",
       "    <tr>\n",
       "      <th>(140, 200)</th>\n",
       "      <th>(0, 1)</th>\n",
       "      <td>1</td>\n",
       "      <td>comb</td>\n",
       "      <td>(1.0097+(-(2.89663e-06*(log(x+19)*(log(x+18)*(...</td>\n",
       "    </tr>\n",
       "    <tr>\n",
       "      <th>(200, 300)</th>\n",
       "      <th>(0, 1)</th>\n",
       "      <td>1</td>\n",
       "      <td>comb</td>\n",
       "      <td>(1.0097+(-(2.89663e-06*(log(x+19)*(log(x+18)*(...</td>\n",
       "    </tr>\n",
       "    <tr>\n",
       "      <th>(300, 600)</th>\n",
       "      <th>(0, 1)</th>\n",
       "      <td>1</td>\n",
       "      <td>comb</td>\n",
       "      <td>(1.0097+(-(2.89663e-06*(log(x+19)*(log(x+18)*(...</td>\n",
       "    </tr>\n",
       "    <tr>\n",
       "      <th>(600, 1000)</th>\n",
       "      <th>(0, 1)</th>\n",
       "      <td>1</td>\n",
       "      <td>comb</td>\n",
       "      <td>(1.0097+(-(2.89663e-06*(log(x+19)*(log(x+18)*(...</td>\n",
       "    </tr>\n",
       "    <tr>\n",
       "      <th rowspan=\"9\" valign=\"top\">1</th>\n",
       "      <th rowspan=\"9\" valign=\"top\">(-2.5, 2.5)</th>\n",
       "      <th>(20, 30)</th>\n",
       "      <th>(0, 1)</th>\n",
       "      <td>1</td>\n",
       "      <td>comb</td>\n",
       "      <td>(1.0097+(-(2.89663e-06*(log(x+19)*(log(x+18)*(...</td>\n",
       "    </tr>\n",
       "    <tr>\n",
       "      <th>(30, 50)</th>\n",
       "      <th>(0, 1)</th>\n",
       "      <td>1</td>\n",
       "      <td>comb</td>\n",
       "      <td>(1.0097+(-(2.89663e-06*(log(x+19)*(log(x+18)*(...</td>\n",
       "    </tr>\n",
       "    <tr>\n",
       "      <th>(50, 70)</th>\n",
       "      <th>(0, 1)</th>\n",
       "      <td>1</td>\n",
       "      <td>comb</td>\n",
       "      <td>(1.0097+(-(2.89663e-06*(log(x+19)*(log(x+18)*(...</td>\n",
       "    </tr>\n",
       "    <tr>\n",
       "      <th>(70, 100)</th>\n",
       "      <th>(0, 1)</th>\n",
       "      <td>1</td>\n",
       "      <td>comb</td>\n",
       "      <td>(1.0097+(-(2.89663e-06*(log(x+19)*(log(x+18)*(...</td>\n",
       "    </tr>\n",
       "    <tr>\n",
       "      <th>(100, 140)</th>\n",
       "      <th>(0, 1)</th>\n",
       "      <td>1</td>\n",
       "      <td>comb</td>\n",
       "      <td>(1.0097+(-(2.89663e-06*(log(x+19)*(log(x+18)*(...</td>\n",
       "    </tr>\n",
       "    <tr>\n",
       "      <th>(140, 200)</th>\n",
       "      <th>(0, 1)</th>\n",
       "      <td>1</td>\n",
       "      <td>comb</td>\n",
       "      <td>(1.0097+(-(2.89663e-06*(log(x+19)*(log(x+18)*(...</td>\n",
       "    </tr>\n",
       "    <tr>\n",
       "      <th>(200, 300)</th>\n",
       "      <th>(0, 1)</th>\n",
       "      <td>1</td>\n",
       "      <td>comb</td>\n",
       "      <td>(1.0097+(-(2.89663e-06*(log(x+19)*(log(x+18)*(...</td>\n",
       "    </tr>\n",
       "    <tr>\n",
       "      <th>(300, 600)</th>\n",
       "      <th>(0, 1)</th>\n",
       "      <td>1</td>\n",
       "      <td>comb</td>\n",
       "      <td>(1.0097+(-(2.89663e-06*(log(x+19)*(log(x+18)*(...</td>\n",
       "    </tr>\n",
       "    <tr>\n",
       "      <th>(600, 1000)</th>\n",
       "      <th>(0, 1)</th>\n",
       "      <td>1</td>\n",
       "      <td>comb</td>\n",
       "      <td>(1.0097+(-(2.89663e-06*(log(x+19)*(log(x+18)*(...</td>\n",
       "    </tr>\n",
       "    <tr>\n",
       "      <th>2</th>\n",
       "      <th>(0.0, 2.5)</th>\n",
       "      <th>(20, 1000)</th>\n",
       "      <th>(0, 1)</th>\n",
       "      <td>1</td>\n",
       "      <td>incl</td>\n",
       "      <td>(1.59373+-0.00113028*x+8.66631e-07*x*x+-1.1050...</td>\n",
       "    </tr>\n",
       "    <tr>\n",
       "      <th>up_correlated</th>\n",
       "      <th>2</th>\n",
       "      <th>(0.0, 2.5)</th>\n",
       "      <th>(20, 1000)</th>\n",
       "      <th>(0, 1)</th>\n",
       "      <td>1</td>\n",
       "      <td>incl</td>\n",
       "      <td>(1.59373+-0.00113028*x+8.66631e-07*x*x+-1.1050...</td>\n",
       "    </tr>\n",
       "    <tr>\n",
       "      <th>up_uncorrelated</th>\n",
       "      <th>2</th>\n",
       "      <th>(0.0, 2.5)</th>\n",
       "      <th>(20, 1000)</th>\n",
       "      <th>(0, 1)</th>\n",
       "      <td>1</td>\n",
       "      <td>incl</td>\n",
       "      <td>(1.59373+-0.00113028*x+8.66631e-07*x*x+-1.1050...</td>\n",
       "    </tr>\n",
       "  </tbody>\n",
       "</table>\n",
       "</div>"
      ],
      "text/plain": [
       "                                                              OperatingPoint  \\\n",
       "sysType           jetFlavor etaBin      ptBin       discrBin                   \n",
       "central           0         (-2.5, 2.5) (20, 1000)  (0, 1)                 1   \n",
       "                  1         (-2.5, 2.5) (20, 1000)  (0, 1)                 1   \n",
       "                  2         (0.0, 2.5)  (20, 1000)  (0, 1)                 1   \n",
       "down              0         (-2.5, 2.5) (20, 30)    (0, 1)                 1   \n",
       "                                        (30, 50)    (0, 1)                 1   \n",
       "                                        (50, 70)    (0, 1)                 1   \n",
       "                                        (70, 100)   (0, 1)                 1   \n",
       "                                        (100, 140)  (0, 1)                 1   \n",
       "                                        (140, 200)  (0, 1)                 1   \n",
       "                                        (200, 300)  (0, 1)                 1   \n",
       "                                        (300, 600)  (0, 1)                 1   \n",
       "                                        (600, 1000) (0, 1)                 1   \n",
       "                  1         (-2.5, 2.5) (20, 30)    (0, 1)                 1   \n",
       "                                        (30, 50)    (0, 1)                 1   \n",
       "                                        (50, 70)    (0, 1)                 1   \n",
       "                                        (70, 100)   (0, 1)                 1   \n",
       "                                        (100, 140)  (0, 1)                 1   \n",
       "                                        (140, 200)  (0, 1)                 1   \n",
       "                                        (200, 300)  (0, 1)                 1   \n",
       "                                        (300, 600)  (0, 1)                 1   \n",
       "                                        (600, 1000) (0, 1)                 1   \n",
       "                  2         (0.0, 2.5)  (20, 1000)  (0, 1)                 1   \n",
       "down_correlated   2         (0.0, 2.5)  (20, 1000)  (0, 1)                 1   \n",
       "down_uncorrelated 2         (0.0, 2.5)  (20, 1000)  (0, 1)                 1   \n",
       "up                0         (-2.5, 2.5) (20, 30)    (0, 1)                 1   \n",
       "                                        (30, 50)    (0, 1)                 1   \n",
       "                                        (50, 70)    (0, 1)                 1   \n",
       "                                        (70, 100)   (0, 1)                 1   \n",
       "                                        (100, 140)  (0, 1)                 1   \n",
       "                                        (140, 200)  (0, 1)                 1   \n",
       "                                        (200, 300)  (0, 1)                 1   \n",
       "                                        (300, 600)  (0, 1)                 1   \n",
       "                                        (600, 1000) (0, 1)                 1   \n",
       "                  1         (-2.5, 2.5) (20, 30)    (0, 1)                 1   \n",
       "                                        (30, 50)    (0, 1)                 1   \n",
       "                                        (50, 70)    (0, 1)                 1   \n",
       "                                        (70, 100)   (0, 1)                 1   \n",
       "                                        (100, 140)  (0, 1)                 1   \n",
       "                                        (140, 200)  (0, 1)                 1   \n",
       "                                        (200, 300)  (0, 1)                 1   \n",
       "                                        (300, 600)  (0, 1)                 1   \n",
       "                                        (600, 1000) (0, 1)                 1   \n",
       "                  2         (0.0, 2.5)  (20, 1000)  (0, 1)                 1   \n",
       "up_correlated     2         (0.0, 2.5)  (20, 1000)  (0, 1)                 1   \n",
       "up_uncorrelated   2         (0.0, 2.5)  (20, 1000)  (0, 1)                 1   \n",
       "\n",
       "                                                             measurementType  \\\n",
       "sysType           jetFlavor etaBin      ptBin       discrBin                   \n",
       "central           0         (-2.5, 2.5) (20, 1000)  (0, 1)              comb   \n",
       "                  1         (-2.5, 2.5) (20, 1000)  (0, 1)              comb   \n",
       "                  2         (0.0, 2.5)  (20, 1000)  (0, 1)              incl   \n",
       "down              0         (-2.5, 2.5) (20, 30)    (0, 1)              comb   \n",
       "                                        (30, 50)    (0, 1)              comb   \n",
       "                                        (50, 70)    (0, 1)              comb   \n",
       "                                        (70, 100)   (0, 1)              comb   \n",
       "                                        (100, 140)  (0, 1)              comb   \n",
       "                                        (140, 200)  (0, 1)              comb   \n",
       "                                        (200, 300)  (0, 1)              comb   \n",
       "                                        (300, 600)  (0, 1)              comb   \n",
       "                                        (600, 1000) (0, 1)              comb   \n",
       "                  1         (-2.5, 2.5) (20, 30)    (0, 1)              comb   \n",
       "                                        (30, 50)    (0, 1)              comb   \n",
       "                                        (50, 70)    (0, 1)              comb   \n",
       "                                        (70, 100)   (0, 1)              comb   \n",
       "                                        (100, 140)  (0, 1)              comb   \n",
       "                                        (140, 200)  (0, 1)              comb   \n",
       "                                        (200, 300)  (0, 1)              comb   \n",
       "                                        (300, 600)  (0, 1)              comb   \n",
       "                                        (600, 1000) (0, 1)              comb   \n",
       "                  2         (0.0, 2.5)  (20, 1000)  (0, 1)              incl   \n",
       "down_correlated   2         (0.0, 2.5)  (20, 1000)  (0, 1)              incl   \n",
       "down_uncorrelated 2         (0.0, 2.5)  (20, 1000)  (0, 1)              incl   \n",
       "up                0         (-2.5, 2.5) (20, 30)    (0, 1)              comb   \n",
       "                                        (30, 50)    (0, 1)              comb   \n",
       "                                        (50, 70)    (0, 1)              comb   \n",
       "                                        (70, 100)   (0, 1)              comb   \n",
       "                                        (100, 140)  (0, 1)              comb   \n",
       "                                        (140, 200)  (0, 1)              comb   \n",
       "                                        (200, 300)  (0, 1)              comb   \n",
       "                                        (300, 600)  (0, 1)              comb   \n",
       "                                        (600, 1000) (0, 1)              comb   \n",
       "                  1         (-2.5, 2.5) (20, 30)    (0, 1)              comb   \n",
       "                                        (30, 50)    (0, 1)              comb   \n",
       "                                        (50, 70)    (0, 1)              comb   \n",
       "                                        (70, 100)   (0, 1)              comb   \n",
       "                                        (100, 140)  (0, 1)              comb   \n",
       "                                        (140, 200)  (0, 1)              comb   \n",
       "                                        (200, 300)  (0, 1)              comb   \n",
       "                                        (300, 600)  (0, 1)              comb   \n",
       "                                        (600, 1000) (0, 1)              comb   \n",
       "                  2         (0.0, 2.5)  (20, 1000)  (0, 1)              incl   \n",
       "up_correlated     2         (0.0, 2.5)  (20, 1000)  (0, 1)              incl   \n",
       "up_uncorrelated   2         (0.0, 2.5)  (20, 1000)  (0, 1)              incl   \n",
       "\n",
       "                                                                                                        formula  \n",
       "sysType           jetFlavor etaBin      ptBin       discrBin                                                     \n",
       "central           0         (-2.5, 2.5) (20, 1000)  (0, 1)    1.0097+(-(2.89663e-06*(log(x+19)*(log(x+18)*(3...  \n",
       "                  1         (-2.5, 2.5) (20, 1000)  (0, 1)    1.0097+(-(2.89663e-06*(log(x+19)*(log(x+18)*(3...  \n",
       "                  2         (0.0, 2.5)  (20, 1000)  (0, 1)    1.59373+-0.00113028*x+8.66631e-07*x*x+-1.10505/x   \n",
       "down              0         (-2.5, 2.5) (20, 30)    (0, 1)    1.0097+((-(2.89663e-06*(log(x+19)*(log(x+18)*(...  \n",
       "                                        (30, 50)    (0, 1)    1.0097+((-(2.89663e-06*(log(x+19)*(log(x+18)*(...  \n",
       "                                        (50, 70)    (0, 1)    1.0097+((-(2.89663e-06*(log(x+19)*(log(x+18)*(...  \n",
       "                                        (70, 100)   (0, 1)    1.0097+((-(2.89663e-06*(log(x+19)*(log(x+18)*(...  \n",
       "                                        (100, 140)  (0, 1)    1.0097+((-(2.89663e-06*(log(x+19)*(log(x+18)*(...  \n",
       "                                        (140, 200)  (0, 1)    1.0097+((-(2.89663e-06*(log(x+19)*(log(x+18)*(...  \n",
       "                                        (200, 300)  (0, 1)    1.0097+((-(2.89663e-06*(log(x+19)*(log(x+18)*(...  \n",
       "                                        (300, 600)  (0, 1)    1.0097+((-(2.89663e-06*(log(x+19)*(log(x+18)*(...  \n",
       "                                        (600, 1000) (0, 1)    1.0097+((-(2.89663e-06*(log(x+19)*(log(x+18)*(...  \n",
       "                  1         (-2.5, 2.5) (20, 30)    (0, 1)    1.0097+((-(2.89663e-06*(log(x+19)*(log(x+18)*(...  \n",
       "                                        (30, 50)    (0, 1)    1.0097+((-(2.89663e-06*(log(x+19)*(log(x+18)*(...  \n",
       "                                        (50, 70)    (0, 1)    1.0097+((-(2.89663e-06*(log(x+19)*(log(x+18)*(...  \n",
       "                                        (70, 100)   (0, 1)    1.0097+((-(2.89663e-06*(log(x+19)*(log(x+18)*(...  \n",
       "                                        (100, 140)  (0, 1)    1.0097+((-(2.89663e-06*(log(x+19)*(log(x+18)*(...  \n",
       "                                        (140, 200)  (0, 1)    1.0097+((-(2.89663e-06*(log(x+19)*(log(x+18)*(...  \n",
       "                                        (200, 300)  (0, 1)    1.0097+((-(2.89663e-06*(log(x+19)*(log(x+18)*(...  \n",
       "                                        (300, 600)  (0, 1)    1.0097+((-(2.89663e-06*(log(x+19)*(log(x+18)*(...  \n",
       "                                        (600, 1000) (0, 1)    1.0097+((-(2.89663e-06*(log(x+19)*(log(x+18)*(...  \n",
       "                  2         (0.0, 2.5)  (20, 1000)  (0, 1)    (1.59373+-0.00113028*x+8.66631e-07*x*x+-1.1050...  \n",
       "down_correlated   2         (0.0, 2.5)  (20, 1000)  (0, 1)    (1.59373+-0.00113028*x+8.66631e-07*x*x+-1.1050...  \n",
       "down_uncorrelated 2         (0.0, 2.5)  (20, 1000)  (0, 1)    (1.59373+-0.00113028*x+8.66631e-07*x*x+-1.1050...  \n",
       "up                0         (-2.5, 2.5) (20, 30)    (0, 1)    (1.0097+(-(2.89663e-06*(log(x+19)*(log(x+18)*(...  \n",
       "                                        (30, 50)    (0, 1)    (1.0097+(-(2.89663e-06*(log(x+19)*(log(x+18)*(...  \n",
       "                                        (50, 70)    (0, 1)    (1.0097+(-(2.89663e-06*(log(x+19)*(log(x+18)*(...  \n",
       "                                        (70, 100)   (0, 1)    (1.0097+(-(2.89663e-06*(log(x+19)*(log(x+18)*(...  \n",
       "                                        (100, 140)  (0, 1)    (1.0097+(-(2.89663e-06*(log(x+19)*(log(x+18)*(...  \n",
       "                                        (140, 200)  (0, 1)    (1.0097+(-(2.89663e-06*(log(x+19)*(log(x+18)*(...  \n",
       "                                        (200, 300)  (0, 1)    (1.0097+(-(2.89663e-06*(log(x+19)*(log(x+18)*(...  \n",
       "                                        (300, 600)  (0, 1)    (1.0097+(-(2.89663e-06*(log(x+19)*(log(x+18)*(...  \n",
       "                                        (600, 1000) (0, 1)    (1.0097+(-(2.89663e-06*(log(x+19)*(log(x+18)*(...  \n",
       "                  1         (-2.5, 2.5) (20, 30)    (0, 1)    (1.0097+(-(2.89663e-06*(log(x+19)*(log(x+18)*(...  \n",
       "                                        (30, 50)    (0, 1)    (1.0097+(-(2.89663e-06*(log(x+19)*(log(x+18)*(...  \n",
       "                                        (50, 70)    (0, 1)    (1.0097+(-(2.89663e-06*(log(x+19)*(log(x+18)*(...  \n",
       "                                        (70, 100)   (0, 1)    (1.0097+(-(2.89663e-06*(log(x+19)*(log(x+18)*(...  \n",
       "                                        (100, 140)  (0, 1)    (1.0097+(-(2.89663e-06*(log(x+19)*(log(x+18)*(...  \n",
       "                                        (140, 200)  (0, 1)    (1.0097+(-(2.89663e-06*(log(x+19)*(log(x+18)*(...  \n",
       "                                        (200, 300)  (0, 1)    (1.0097+(-(2.89663e-06*(log(x+19)*(log(x+18)*(...  \n",
       "                                        (300, 600)  (0, 1)    (1.0097+(-(2.89663e-06*(log(x+19)*(log(x+18)*(...  \n",
       "                                        (600, 1000) (0, 1)    (1.0097+(-(2.89663e-06*(log(x+19)*(log(x+18)*(...  \n",
       "                  2         (0.0, 2.5)  (20, 1000)  (0, 1)    (1.59373+-0.00113028*x+8.66631e-07*x*x+-1.1050...  \n",
       "up_correlated     2         (0.0, 2.5)  (20, 1000)  (0, 1)    (1.59373+-0.00113028*x+8.66631e-07*x*x+-1.1050...  \n",
       "up_uncorrelated   2         (0.0, 2.5)  (20, 1000)  (0, 1)    (1.59373+-0.00113028*x+8.66631e-07*x*x+-1.1050...  "
      ]
     },
     "execution_count": 7,
     "metadata": {},
     "output_type": "execute_result"
    }
   ],
   "source": [
    "df = btag_sf.df\n",
    "df"
   ]
  },
  {
   "cell_type": "code",
   "execution_count": 16,
   "metadata": {},
   "outputs": [],
   "source": [
    "# load some jets\n",
    "from Tools.basic_objects import *\n",
    "\n",
    "from coffea.nanoevents import NanoEventsFactory, NanoAODSchema\n",
    "\n",
    "# the below command will change to .from_root in coffea v0.7.0\n",
    "events = NanoEventsFactory.from_root('/hadoop/cms/store/user/dspitzba/tW_scattering/tW_scattering/nanoAOD/tW_scattering_nanoAOD_123.root', schemaclass=NanoAODSchema).events()\n",
    "\n",
    "jet       = getJets(events, minPt=25, maxEta=2.5)\n",
    "\n",
    "# should have those seperately\n",
    "tagged = getBTagsDeepFlavB(jet, year=2018, invert=False)\n",
    "untagged = getBTagsDeepFlavB(jet, year=2018, invert=True)\n"
   ]
  },
  {
   "cell_type": "code",
   "execution_count": 17,
   "metadata": {},
   "outputs": [],
   "source": [
    "from Tools.btag_scalefactors import *\n",
    "btagSF = btag_scalefactor(2018, UL=True)"
   ]
  },
  {
   "cell_type": "code",
   "execution_count": 18,
   "metadata": {},
   "outputs": [
    {
     "data": {
      "text/plain": [
       "<Array [0.933, 0.833, 0.845, ... 0.863, 1.09] type='1000 * float64'>"
      ]
     },
     "execution_count": 18,
     "metadata": {},
     "output_type": "execute_result"
    }
   ],
   "source": [
    "btagSF.Method1a(tagged, untagged)"
   ]
  },
  {
   "cell_type": "code",
   "execution_count": 12,
   "metadata": {},
   "outputs": [
    {
     "data": {
      "text/plain": [
       "<Array [[30, 20], [15, 25, 30], [100]] type='3 * var * int64'>"
      ]
     },
     "execution_count": 12,
     "metadata": {},
     "output_type": "execute_result"
    }
   ],
   "source": [
    "test_array = ak.Array([[30,20], [15,25,30],[100]])\n",
    "test_array"
   ]
  },
  {
   "cell_type": "code",
   "execution_count": 14,
   "metadata": {},
   "outputs": [
    {
     "data": {
      "text/plain": [
       "<Array [[0.786, 0.738], ... 0.786], [0.839]] type='3 * var * float64'>"
      ]
     },
     "execution_count": 14,
     "metadata": {},
     "output_type": "execute_result"
    }
   ],
   "source": [
    "effs = ak.unflatten(effs['b'].lookup(ak.to_numpy(ak.flatten(test_array))), ak.num(test_array))\n",
    "effs"
   ]
  },
  {
   "cell_type": "code",
   "execution_count": 68,
   "metadata": {},
   "outputs": [],
   "source": [
    "def doAwkwardLookup(h, ar):\n",
    "    '''\n",
    "    takes a ya_hist histogram (which has a lookup function) and an awkward array.\n",
    "    '''\n",
    "    return ak.unflatten(\n",
    "        h.lookup(\n",
    "            ak.to_numpy(\n",
    "                ak.flatten(ar)\n",
    "            ) \n",
    "        ), ak.num(ar) )"
   ]
  },
  {
   "cell_type": "code",
   "execution_count": 69,
   "metadata": {},
   "outputs": [
    {
     "data": {
      "text/plain": [
       "<Array [[0.854, 0.854, ... 0.786, 0.786]] type='1000 * var * float64'>"
      ]
     },
     "execution_count": 69,
     "metadata": {},
     "output_type": "execute_result"
    }
   ],
   "source": [
    "effs = doAwkwardLookup(b_eff_deepJet, jet.pt)\n",
    "effs"
   ]
  },
  {
   "cell_type": "code",
   "execution_count": 75,
   "metadata": {},
   "outputs": [],
   "source": [
    "effs_b = doAwkwardLookup(b_eff_deepJet, jet_had_b.pt)\n",
    "effs_c = doAwkwardLookup(c_eff_deepJet, jet_had_c.pt)\n",
    "effs_udsg = doAwkwardLookup(light_eff_deepJet, jet_had_udsg.pt)"
   ]
  },
  {
   "cell_type": "code",
   "execution_count": 78,
   "metadata": {},
   "outputs": [
    {
     "data": {
      "text/plain": [
       "<Array [[0.0228, 0.0228, ... 0.786, 0.173]] type='1000 * var * float64'>"
      ]
     },
     "execution_count": 78,
     "metadata": {},
     "output_type": "execute_result"
    }
   ],
   "source": [
    "effs_b = doAwkwardLookup(b_eff_deepJet, jet.pt)*(jet.hadronFlavour==5)\n",
    "effs_c = doAwkwardLookup(c_eff_deepJet, jet.pt)*(jet.hadronFlavour==4)\n",
    "effs_light = doAwkwardLookup(light_eff_deepJet, jet.pt)*(jet.hadronFlavour==0)\n",
    "(effs_b + effs_c + effs_light)"
   ]
  },
  {
   "cell_type": "code",
   "execution_count": 70,
   "metadata": {},
   "outputs": [
    {
     "data": {
      "text/plain": [
       "<Array [[1.1, 1.13, 0.813, ... 0.776, 0.778]] type='1000 * var * float64'>"
      ]
     },
     "execution_count": 70,
     "metadata": {},
     "output_type": "execute_result"
    }
   ],
   "source": [
    "sfs * effs"
   ]
  },
  {
   "cell_type": "code",
   "execution_count": 83,
   "metadata": {},
   "outputs": [],
   "source": [
    "def Method1a(tagged, untagged, effs, btag_sf):\n",
    "    '''\n",
    "    tagged: jet collection of tagged jets\n",
    "    untagged: jet collection untagged jets\n",
    "    effs: dictionary of the tagging efficiencies (1D yahist objects)\n",
    "    btag_sf: coffea b-tag SF object\n",
    "    '''\n",
    "    tagged_b = doAwkwardLookup(effs['b'], tagged.pt)*(tagged.hadronFlavour==5)\n",
    "    tagged_c = doAwkwardLookup(effs['c'], tagged.pt)*(tagged.hadronFlavour==4)\n",
    "    tagged_light = doAwkwardLookup(effs['light'], tagged.pt)*(tagged.hadronFlavour==0)\n",
    "    \n",
    "    tagged_SFs = btag_sf.eval('central', tagged.hadronFlavour, abs(tagged.eta), tagged.pt )\n",
    "    \n",
    "    untagged_b = doAwkwardLookup(effs['b'], untagged.pt)*(untagged.hadronFlavour==5)\n",
    "    untagged_c = doAwkwardLookup(effs['c'], untagged.pt)*(untagged.hadronFlavour==4)\n",
    "    untagged_light = doAwkwardLookup(effs['light'], untagged.pt)*(untagged.hadronFlavour==0)\n",
    "    \n",
    "    untagged_SFs = btag_sf.eval('central', untagged.hadronFlavour, abs(untagged.eta), untagged.pt )\n",
    "    \n",
    "    tagged_all = (tagged_b+tagged_c+tagged_light)\n",
    "    untagged_all = (untagged_b+untagged_c+untagged_light)\n",
    "    \n",
    "    num = ak.prod(tagged_all, axis=1) * ak.prod((1-untagged_all), axis=1)\n",
    "    denom = ak.prod(tagged_all*tagged_SFs, axis=1) * ak.prod((1-untagged_all*untagged_SFs), axis=1)\n",
    "    return num/denom"
   ]
  },
  {
   "cell_type": "code",
   "execution_count": 85,
   "metadata": {},
   "outputs": [
    {
     "data": {
      "text/plain": [
       "<Array [1.1, 1.18, 1.18, ... 1.13, 0.943] type='1000 * float64'>"
      ]
     },
     "execution_count": 85,
     "metadata": {},
     "output_type": "execute_result"
    }
   ],
   "source": [
    "effs = {'b': b_eff_deepJet, 'c': c_eff_deepJet, 'light': light_eff_deepJet}\n",
    "btag_weight = Method1a(tagged, untagged, effs, btag_sf)\n",
    "btag_weight"
   ]
  },
  {
   "cell_type": "code",
   "execution_count": 87,
   "metadata": {},
   "outputs": [
    {
     "data": {
      "text/plain": [
       "<Array [2, 2, 3, 1, 2, 1, ... 2, 0, 1, 1, 2, 1] type='1000 * int64'>"
      ]
     },
     "execution_count": 87,
     "metadata": {},
     "output_type": "execute_result"
    }
   ],
   "source": [
    "ak.num(tagged)"
   ]
  },
  {
   "cell_type": "code",
   "execution_count": 89,
   "metadata": {},
   "outputs": [
    {
     "data": {
      "text/plain": [
       "1.0470282816477854"
      ]
     },
     "execution_count": 89,
     "metadata": {},
     "output_type": "execute_result"
    }
   ],
   "source": [
    "ak.sum(btag_weight)/1000"
   ]
  },
  {
   "cell_type": "code",
   "execution_count": null,
   "metadata": {},
   "outputs": [],
   "source": [
    "## This is the final outcome\n",
    "\n",
    "from Tools.btag_scalefactors import *\n",
    "\n",
    "btag = btag_scalefactor(2018)\n",
    "\n",
    "weight = btag.Method1a(tagged, untagged)\n",
    "weight"
   ]
  },
  {
   "cell_type": "code",
   "execution_count": 208,
   "metadata": {},
   "outputs": [
    {
     "data": {
      "text/html": [
       "<div>\n",
       "<style scoped>\n",
       "    .dataframe tbody tr th:only-of-type {\n",
       "        vertical-align: middle;\n",
       "    }\n",
       "\n",
       "    .dataframe tbody tr th {\n",
       "        vertical-align: top;\n",
       "    }\n",
       "\n",
       "    .dataframe thead th {\n",
       "        text-align: right;\n",
       "    }\n",
       "</style>\n",
       "<table border=\"1\" class=\"dataframe\">\n",
       "  <thead>\n",
       "    <tr style=\"text-align: right;\">\n",
       "      <th></th>\n",
       "      <th>OperatingPoint</th>\n",
       "      <th>measurementType</th>\n",
       "      <th>sysType</th>\n",
       "      <th>jetFlavor</th>\n",
       "      <th>etaMin</th>\n",
       "      <th>etaMax</th>\n",
       "      <th>ptMin</th>\n",
       "      <th>ptMax</th>\n",
       "      <th>discrMin</th>\n",
       "      <th>discrMax</th>\n",
       "      <th>formula</th>\n",
       "    </tr>\n",
       "  </thead>\n",
       "  <tbody>\n",
       "    <tr>\n",
       "      <th>0</th>\n",
       "      <td>0</td>\n",
       "      <td>comb</td>\n",
       "      <td>central</td>\n",
       "      <td>1</td>\n",
       "      <td>-2.5</td>\n",
       "      <td>2.5</td>\n",
       "      <td>20</td>\n",
       "      <td>1000</td>\n",
       "      <td>0</td>\n",
       "      <td>1</td>\n",
       "      <td>\"0.873139+(0.00420739*(log(x+19)*(log(x+18)*(...</td>\n",
       "    </tr>\n",
       "    <tr>\n",
       "      <th>1</th>\n",
       "      <td>0</td>\n",
       "      <td>comb</td>\n",
       "      <td>central</td>\n",
       "      <td>0</td>\n",
       "      <td>-2.5</td>\n",
       "      <td>2.5</td>\n",
       "      <td>20</td>\n",
       "      <td>1000</td>\n",
       "      <td>0</td>\n",
       "      <td>1</td>\n",
       "      <td>\"0.873139+(0.00420739*(log(x+19)*(log(x+18)*(...</td>\n",
       "    </tr>\n",
       "    <tr>\n",
       "      <th>2</th>\n",
       "      <td>0</td>\n",
       "      <td>comb</td>\n",
       "      <td>down</td>\n",
       "      <td>1</td>\n",
       "      <td>-2.5</td>\n",
       "      <td>2.5</td>\n",
       "      <td>20</td>\n",
       "      <td>30</td>\n",
       "      <td>0</td>\n",
       "      <td>1</td>\n",
       "      <td>\"0.873139+((0.00420739*(log(x+19)*(log(x+18)*...</td>\n",
       "    </tr>\n",
       "    <tr>\n",
       "      <th>3</th>\n",
       "      <td>0</td>\n",
       "      <td>comb</td>\n",
       "      <td>down</td>\n",
       "      <td>1</td>\n",
       "      <td>-2.5</td>\n",
       "      <td>2.5</td>\n",
       "      <td>30</td>\n",
       "      <td>50</td>\n",
       "      <td>0</td>\n",
       "      <td>1</td>\n",
       "      <td>\"0.873139+((0.00420739*(log(x+19)*(log(x+18)*...</td>\n",
       "    </tr>\n",
       "    <tr>\n",
       "      <th>4</th>\n",
       "      <td>0</td>\n",
       "      <td>comb</td>\n",
       "      <td>down</td>\n",
       "      <td>1</td>\n",
       "      <td>-2.5</td>\n",
       "      <td>2.5</td>\n",
       "      <td>50</td>\n",
       "      <td>70</td>\n",
       "      <td>0</td>\n",
       "      <td>1</td>\n",
       "      <td>\"0.873139+((0.00420739*(log(x+19)*(log(x+18)*...</td>\n",
       "    </tr>\n",
       "    <tr>\n",
       "      <th>...</th>\n",
       "      <td>...</td>\n",
       "      <td>...</td>\n",
       "      <td>...</td>\n",
       "      <td>...</td>\n",
       "      <td>...</td>\n",
       "      <td>...</td>\n",
       "      <td>...</td>\n",
       "      <td>...</td>\n",
       "      <td>...</td>\n",
       "      <td>...</td>\n",
       "      <td>...</td>\n",
       "    </tr>\n",
       "    <tr>\n",
       "      <th>244</th>\n",
       "      <td>2</td>\n",
       "      <td>incl</td>\n",
       "      <td>down_correlated</td>\n",
       "      <td>2</td>\n",
       "      <td>0.0</td>\n",
       "      <td>2.5</td>\n",
       "      <td>20</td>\n",
       "      <td>1000</td>\n",
       "      <td>0</td>\n",
       "      <td>1</td>\n",
       "      <td>\"(1.77088+-0.00371551*x+5.86489e-06*x*x+-3.01...</td>\n",
       "    </tr>\n",
       "    <tr>\n",
       "      <th>245</th>\n",
       "      <td>2</td>\n",
       "      <td>incl</td>\n",
       "      <td>down_uncorrelated</td>\n",
       "      <td>2</td>\n",
       "      <td>0.0</td>\n",
       "      <td>2.5</td>\n",
       "      <td>20</td>\n",
       "      <td>1000</td>\n",
       "      <td>0</td>\n",
       "      <td>1</td>\n",
       "      <td>\"(1.77088+-0.00371551*x+5.86489e-06*x*x+-3.01...</td>\n",
       "    </tr>\n",
       "    <tr>\n",
       "      <th>246</th>\n",
       "      <td>2</td>\n",
       "      <td>incl</td>\n",
       "      <td>up</td>\n",
       "      <td>2</td>\n",
       "      <td>0.0</td>\n",
       "      <td>2.5</td>\n",
       "      <td>20</td>\n",
       "      <td>1000</td>\n",
       "      <td>0</td>\n",
       "      <td>1</td>\n",
       "      <td>\"(1.77088+-0.00371551*x+5.86489e-06*x*x+-3.01...</td>\n",
       "    </tr>\n",
       "    <tr>\n",
       "      <th>247</th>\n",
       "      <td>2</td>\n",
       "      <td>incl</td>\n",
       "      <td>up_correlated</td>\n",
       "      <td>2</td>\n",
       "      <td>0.0</td>\n",
       "      <td>2.5</td>\n",
       "      <td>20</td>\n",
       "      <td>1000</td>\n",
       "      <td>0</td>\n",
       "      <td>1</td>\n",
       "      <td>\"(1.77088+-0.00371551*x+5.86489e-06*x*x+-3.01...</td>\n",
       "    </tr>\n",
       "    <tr>\n",
       "      <th>248</th>\n",
       "      <td>2</td>\n",
       "      <td>incl</td>\n",
       "      <td>up_uncorrelated</td>\n",
       "      <td>2</td>\n",
       "      <td>0.0</td>\n",
       "      <td>2.5</td>\n",
       "      <td>20</td>\n",
       "      <td>1000</td>\n",
       "      <td>0</td>\n",
       "      <td>1</td>\n",
       "      <td>\"(1.77088+-0.00371551*x+5.86489e-06*x*x+-3.01...</td>\n",
       "    </tr>\n",
       "  </tbody>\n",
       "</table>\n",
       "<p>249 rows × 11 columns</p>\n",
       "</div>"
      ],
      "text/plain": [
       "     OperatingPoint  measurementType             sysType   jetFlavor   etaMin  \\\n",
       "0                 0             comb             central           1     -2.5   \n",
       "1                 0             comb             central           0     -2.5   \n",
       "2                 0             comb                down           1     -2.5   \n",
       "3                 0             comb                down           1     -2.5   \n",
       "4                 0             comb                down           1     -2.5   \n",
       "..              ...              ...                 ...         ...      ...   \n",
       "244               2             incl     down_correlated           2      0.0   \n",
       "245               2             incl   down_uncorrelated           2      0.0   \n",
       "246               2             incl                  up           2      0.0   \n",
       "247               2             incl       up_correlated           2      0.0   \n",
       "248               2             incl     up_uncorrelated           2      0.0   \n",
       "\n",
       "      etaMax   ptMin   ptMax   discrMin   discrMax  \\\n",
       "0        2.5      20    1000          0          1   \n",
       "1        2.5      20    1000          0          1   \n",
       "2        2.5      20      30          0          1   \n",
       "3        2.5      30      50          0          1   \n",
       "4        2.5      50      70          0          1   \n",
       "..       ...     ...     ...        ...        ...   \n",
       "244      2.5      20    1000          0          1   \n",
       "245      2.5      20    1000          0          1   \n",
       "246      2.5      20    1000          0          1   \n",
       "247      2.5      20    1000          0          1   \n",
       "248      2.5      20    1000          0          1   \n",
       "\n",
       "                                              formula   \n",
       "0     \"0.873139+(0.00420739*(log(x+19)*(log(x+18)*(...  \n",
       "1     \"0.873139+(0.00420739*(log(x+19)*(log(x+18)*(...  \n",
       "2     \"0.873139+((0.00420739*(log(x+19)*(log(x+18)*...  \n",
       "3     \"0.873139+((0.00420739*(log(x+19)*(log(x+18)*...  \n",
       "4     \"0.873139+((0.00420739*(log(x+19)*(log(x+18)*...  \n",
       "..                                                 ...  \n",
       "244   \"(1.77088+-0.00371551*x+5.86489e-06*x*x+-3.01...  \n",
       "245   \"(1.77088+-0.00371551*x+5.86489e-06*x*x+-3.01...  \n",
       "246   \"(1.77088+-0.00371551*x+5.86489e-06*x*x+-3.01...  \n",
       "247   \"(1.77088+-0.00371551*x+5.86489e-06*x*x+-3.01...  \n",
       "248   \"(1.77088+-0.00371551*x+5.86489e-06*x*x+-3.01...  \n",
       "\n",
       "[249 rows x 11 columns]"
      ]
     },
     "execution_count": 208,
     "metadata": {},
     "output_type": "execute_result"
    }
   ],
   "source": [
    "import pandas as pd\n",
    "sf_df = pd.read_csv(SF_file)\n",
    "sf_df"
   ]
  },
  {
   "cell_type": "code",
   "execution_count": 211,
   "metadata": {},
   "outputs": [
    {
     "data": {
      "text/html": [
       "<div>\n",
       "<style scoped>\n",
       "    .dataframe tbody tr th:only-of-type {\n",
       "        vertical-align: middle;\n",
       "    }\n",
       "\n",
       "    .dataframe tbody tr th {\n",
       "        vertical-align: top;\n",
       "    }\n",
       "\n",
       "    .dataframe thead th {\n",
       "        text-align: right;\n",
       "    }\n",
       "</style>\n",
       "<table border=\"1\" class=\"dataframe\">\n",
       "  <thead>\n",
       "    <tr style=\"text-align: right;\">\n",
       "      <th></th>\n",
       "      <th>formula</th>\n",
       "    </tr>\n",
       "  </thead>\n",
       "  <tbody>\n",
       "    <tr>\n",
       "      <th>0</th>\n",
       "      <td>\"0.873139+(0.00420739*(log(x+19)*(log(x+18)*(...</td>\n",
       "    </tr>\n",
       "    <tr>\n",
       "      <th>1</th>\n",
       "      <td>\"0.873139+(0.00420739*(log(x+19)*(log(x+18)*(...</td>\n",
       "    </tr>\n",
       "    <tr>\n",
       "      <th>2</th>\n",
       "      <td>\"0.873139+((0.00420739*(log(x+19)*(log(x+18)*...</td>\n",
       "    </tr>\n",
       "    <tr>\n",
       "      <th>3</th>\n",
       "      <td>\"0.873139+((0.00420739*(log(x+19)*(log(x+18)*...</td>\n",
       "    </tr>\n",
       "    <tr>\n",
       "      <th>4</th>\n",
       "      <td>\"0.873139+((0.00420739*(log(x+19)*(log(x+18)*...</td>\n",
       "    </tr>\n",
       "    <tr>\n",
       "      <th>...</th>\n",
       "      <td>...</td>\n",
       "    </tr>\n",
       "    <tr>\n",
       "      <th>244</th>\n",
       "      <td>\"(1.77088+-0.00371551*x+5.86489e-06*x*x+-3.01...</td>\n",
       "    </tr>\n",
       "    <tr>\n",
       "      <th>245</th>\n",
       "      <td>\"(1.77088+-0.00371551*x+5.86489e-06*x*x+-3.01...</td>\n",
       "    </tr>\n",
       "    <tr>\n",
       "      <th>246</th>\n",
       "      <td>\"(1.77088+-0.00371551*x+5.86489e-06*x*x+-3.01...</td>\n",
       "    </tr>\n",
       "    <tr>\n",
       "      <th>247</th>\n",
       "      <td>\"(1.77088+-0.00371551*x+5.86489e-06*x*x+-3.01...</td>\n",
       "    </tr>\n",
       "    <tr>\n",
       "      <th>248</th>\n",
       "      <td>\"(1.77088+-0.00371551*x+5.86489e-06*x*x+-3.01...</td>\n",
       "    </tr>\n",
       "  </tbody>\n",
       "</table>\n",
       "<p>249 rows × 1 columns</p>\n",
       "</div>"
      ],
      "text/plain": [
       "                                              formula \n",
       "0     \"0.873139+(0.00420739*(log(x+19)*(log(x+18)*(...\n",
       "1     \"0.873139+(0.00420739*(log(x+19)*(log(x+18)*(...\n",
       "2     \"0.873139+((0.00420739*(log(x+19)*(log(x+18)*...\n",
       "3     \"0.873139+((0.00420739*(log(x+19)*(log(x+18)*...\n",
       "4     \"0.873139+((0.00420739*(log(x+19)*(log(x+18)*...\n",
       "..                                                 ...\n",
       "244   \"(1.77088+-0.00371551*x+5.86489e-06*x*x+-3.01...\n",
       "245   \"(1.77088+-0.00371551*x+5.86489e-06*x*x+-3.01...\n",
       "246   \"(1.77088+-0.00371551*x+5.86489e-06*x*x+-3.01...\n",
       "247   \"(1.77088+-0.00371551*x+5.86489e-06*x*x+-3.01...\n",
       "248   \"(1.77088+-0.00371551*x+5.86489e-06*x*x+-3.01...\n",
       "\n",
       "[249 rows x 1 columns]"
      ]
     },
     "execution_count": 211,
     "metadata": {},
     "output_type": "execute_result"
    }
   ],
   "source": [
    "formulae = sf_df[[' formula ']]\n",
    "formulae"
   ]
  },
  {
   "cell_type": "code",
   "execution_count": 221,
   "metadata": {},
   "outputs": [
    {
     "data": {
      "text/plain": [
       "' \"0.873139+(0.00420739*(log(x+19)*(log(x+18)*(3-(0.380932*log(x+18))))))\" '"
      ]
     },
     "execution_count": 221,
     "metadata": {},
     "output_type": "execute_result"
    }
   ],
   "source": [
    "formula = formulae.to_numpy()[0][0]\n",
    "formula"
   ]
  },
  {
   "cell_type": "code",
   "execution_count": 230,
   "metadata": {},
   "outputs": [
    {
     "data": {
      "text/plain": [
       "'0.873139+(0.00420739*(log(x+19)*(log(x+18)*(3-(0.380932*log(x+18))))))'"
      ]
     },
     "execution_count": 230,
     "metadata": {},
     "output_type": "execute_result"
    }
   ],
   "source": [
    "eval(formula)"
   ]
  },
  {
   "cell_type": "code",
   "execution_count": 231,
   "metadata": {},
   "outputs": [],
   "source": [
    "feval = eval(\n",
    "                        \"lambda x: \" + eval(formula), {\"log\": np.log, \"sqrt\": np.sqrt}\n",
    "                    )"
   ]
  },
  {
   "cell_type": "code",
   "execution_count": 236,
   "metadata": {},
   "outputs": [
    {
     "data": {
      "text/plain": [
       "0.9636541095209529"
      ]
     },
     "execution_count": 236,
     "metadata": {},
     "output_type": "execute_result"
    }
   ],
   "source": [
    "feval(20)"
   ]
  },
  {
   "cell_type": "code",
   "execution_count": 233,
   "metadata": {},
   "outputs": [],
   "source": [
    "import numba"
   ]
  },
  {
   "cell_type": "code",
   "execution_count": 234,
   "metadata": {},
   "outputs": [],
   "source": [
    "out = numba.jit()(feval)"
   ]
  },
  {
   "cell_type": "code",
   "execution_count": 235,
   "metadata": {},
   "outputs": [
    {
     "data": {
      "text/plain": [
       "0.9548417381747321"
      ]
     },
     "execution_count": 235,
     "metadata": {},
     "output_type": "execute_result"
    }
   ],
   "source": [
    "out(10)"
   ]
  },
  {
   "cell_type": "markdown",
   "metadata": {},
   "source": [
    "# Read the b-tag efficiencies with common coffea tools\n",
    "\n",
    "Retired this idea..."
   ]
  },
  {
   "cell_type": "code",
   "execution_count": 32,
   "metadata": {},
   "outputs": [],
   "source": [
    "ext = extractor()"
   ]
  },
  {
   "cell_type": "code",
   "execution_count": 33,
   "metadata": {},
   "outputs": [
    {
     "ename": "Exception",
     "evalue": "\"test test2.json\" not formatted as \"<local name> <name> <weights file>\"",
     "output_type": "error",
     "traceback": [
      "\u001b[0;31m---------------------------------------------------------------------------\u001b[0m",
      "\u001b[0;31mException\u001b[0m                                 Traceback (most recent call last)",
      "\u001b[0;32m<ipython-input-33-60afd65c18f5>\u001b[0m in \u001b[0;36m<module>\u001b[0;34m\u001b[0m\n\u001b[0;32m----> 1\u001b[0;31m \u001b[0mext\u001b[0m\u001b[0;34m.\u001b[0m\u001b[0madd_weight_sets\u001b[0m\u001b[0;34m(\u001b[0m\u001b[0;34m[\u001b[0m\u001b[0;34m\"test test2.json\"\u001b[0m\u001b[0;34m]\u001b[0m\u001b[0;34m)\u001b[0m\u001b[0;34m\u001b[0m\u001b[0;34m\u001b[0m\u001b[0m\n\u001b[0m",
      "\u001b[0;32m~/miniconda3/envs/coffeadev/lib/python3.8/site-packages/coffea/lookup_tools/extractor.py\u001b[0m in \u001b[0;36madd_weight_sets\u001b[0;34m(self, weightsdescs)\u001b[0m\n\u001b[1;32m     80\u001b[0m             \u001b[0mtemp\u001b[0m \u001b[0;34m=\u001b[0m \u001b[0mweightdesc\u001b[0m\u001b[0;34m.\u001b[0m\u001b[0mstrip\u001b[0m\u001b[0;34m(\u001b[0m\u001b[0;34m)\u001b[0m\u001b[0;34m.\u001b[0m\u001b[0msplit\u001b[0m\u001b[0;34m(\u001b[0m\u001b[0;34m\" \"\u001b[0m\u001b[0;34m)\u001b[0m\u001b[0;34m\u001b[0m\u001b[0;34m\u001b[0m\u001b[0m\n\u001b[1;32m     81\u001b[0m             \u001b[0;32mif\u001b[0m \u001b[0mlen\u001b[0m\u001b[0;34m(\u001b[0m\u001b[0mtemp\u001b[0m\u001b[0;34m)\u001b[0m \u001b[0;34m!=\u001b[0m \u001b[0;36m3\u001b[0m\u001b[0;34m:\u001b[0m\u001b[0;34m\u001b[0m\u001b[0;34m\u001b[0m\u001b[0m\n\u001b[0;32m---> 82\u001b[0;31m                 raise Exception(\n\u001b[0m\u001b[1;32m     83\u001b[0m                     '\"{}\" not formatted as \"<local name> <name> <weights file>\"'.format(\n\u001b[1;32m     84\u001b[0m                         \u001b[0mweightdesc\u001b[0m\u001b[0;34m\u001b[0m\u001b[0;34m\u001b[0m\u001b[0m\n",
      "\u001b[0;31mException\u001b[0m: \"test test2.json\" not formatted as \"<local name> <name> <weights file>\""
     ]
    }
   ],
   "source": [
    "ext.add_weight_sets([\"test test2.json\"])"
   ]
  },
  {
   "cell_type": "code",
   "execution_count": 34,
   "metadata": {},
   "outputs": [
    {
     "data": {
      "text/plain": [
       "'\\n{\\n        \"EIDISO_WH\" : {\\n                \"eta_pt_ratio\" : {\\n                        \"eta:[ 0.00, 0.80]\":{\\n                                \"pt:[25.00,27.00]\":{\\n                                        \"value\":0.903,\\n                                        \"error\":0.051\\n                                },\\n                                \"pt:[27.00,30.00]\":{\\n                                        \"value\":0.921,\\n'"
      ]
     },
     "execution_count": 34,
     "metadata": {},
     "output_type": "execute_result"
    }
   ],
   "source": [
    "'''\n",
    "{\n",
    "        \"EIDISO_WH\" : {\n",
    "                \"eta_pt_ratio\" : {\n",
    "                        \"eta:[ 0.00, 0.80]\":{\n",
    "                                \"pt:[25.00,27.00]\":{\n",
    "                                        \"value\":0.903,\n",
    "                                        \"error\":0.051\n",
    "                                },\n",
    "                                \"pt:[27.00,30.00]\":{\n",
    "                                        \"value\":0.921,\n",
    "'''\n",
    "\n",
    "# this is the structure coffea expects"
   ]
  },
  {
   "cell_type": "code",
   "execution_count": 37,
   "metadata": {},
   "outputs": [
    {
     "data": {
      "text/plain": [
       "array([ 20.,  30.,  50.,  70., 100., 140., 200., 300., 600., 900.])"
      ]
     },
     "execution_count": 37,
     "metadata": {},
     "output_type": "execute_result"
    }
   ],
   "source": [
    "b_eff_deepJet.edges"
   ]
  },
  {
   "cell_type": "code",
   "execution_count": 48,
   "metadata": {},
   "outputs": [],
   "source": [
    "btag_eff_dict = {'b': {'eta_pt_ratio': {'eta:[ 0.00, 2.50]': {'pt:[20.0,30.0]': {'value:': 0.8, 'error': 0.2}}}}}"
   ]
  },
  {
   "cell_type": "code",
   "execution_count": 49,
   "metadata": {},
   "outputs": [],
   "source": [
    "with open('test3.json', 'w') as out:\n",
    "    json.dump(btag_eff_dict, out)"
   ]
  },
  {
   "cell_type": "code",
   "execution_count": null,
   "metadata": {},
   "outputs": [],
   "source": []
  }
 ],
 "metadata": {
  "kernelspec": {
   "display_name": "coffeadev4",
   "language": "python",
   "name": "coffeadev4"
  },
  "language_info": {
   "codemirror_mode": {
    "name": "ipython",
    "version": 3
   },
   "file_extension": ".py",
   "mimetype": "text/x-python",
   "name": "python",
   "nbconvert_exporter": "python",
   "pygments_lexer": "ipython3",
   "version": "3.9.4"
  }
 },
 "nbformat": 4,
 "nbformat_minor": 4
}
