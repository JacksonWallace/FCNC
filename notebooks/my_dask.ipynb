{
 "cells": [
  {
   "cell_type": "code",
   "execution_count": 1,
   "metadata": {},
   "outputs": [],
   "source": [
    "%matplotlib inline\n",
    "import numpy as np\n",
    "import pandas as pd\n",
    "\n",
    "from dask.distributed import Client\n",
    "import distributed\n",
    "\n",
    "from Tools.condor_utils import make_htcondor_cluster\n",
    "from Tools.objects import Collections\n",
    "from Tools.cutflow import Cutflow\n",
    "\n",
    "from dask.distributed import Client, progress\n",
    "\n",
    "import Tools.utils\n",
    "import glob\n",
    "import uproot4\n",
    "import awkward1 as ak\n",
    "\n",
    "import matplotlib.pyplot as plt"
   ]
  },
  {
   "cell_type": "code",
   "execution_count": 2,
   "metadata": {
    "scrolled": false
   },
   "outputs": [
    {
     "data": {
      "application/vnd.jupyter.widget-view+json": {
       "model_id": "1e97ed73ad54414f9795cc8aebc7ece7",
       "version_major": 2,
       "version_minor": 0
      },
      "text/plain": [
       "VBox(children=(HTML(value='<h2>UCSDHTCondorCluster</h2>'), HBox(children=(HTML(value='\\n<div>\\n  <style scoped…"
      ]
     },
     "metadata": {},
     "output_type": "display_data"
    }
   ],
   "source": [
    "cluster = make_htcondor_cluster(local=False, dashboard_address=13349, disk = \"4GB\", memory = \"3GB\",)\n",
    "cluster"
   ]
  },
  {
   "cell_type": "code",
   "execution_count": 3,
   "metadata": {},
   "outputs": [],
   "source": [
    "cluster.scale(50)"
   ]
  },
  {
   "cell_type": "code",
   "execution_count": 35,
   "metadata": {},
   "outputs": [
    {
     "data": {
      "text/html": [
       "<table style=\"border: 2px solid white;\">\n",
       "<tr>\n",
       "<td style=\"vertical-align: top; border: 0px solid white\">\n",
       "<h3 style=\"text-align: left;\">Client</h3>\n",
       "<ul style=\"text-align: left; list-style: none; margin: 0; padding: 0;\">\n",
       "  <li><b>Scheduler: </b>tcp://169.228.130.5:22611</li>\n",
       "  <li><b>Dashboard: </b><a href='http://169.228.130.5:13349/status' target='_blank'>http://169.228.130.5:13349/status</a></li>\n",
       "</ul>\n",
       "</td>\n",
       "<td style=\"vertical-align: top; border: 0px solid white\">\n",
       "<h3 style=\"text-align: left;\">Cluster</h3>\n",
       "<ul style=\"text-align: left; list-style:none; margin: 0; padding: 0;\">\n",
       "  <li><b>Workers: </b>32</li>\n",
       "  <li><b>Cores: </b>32</li>\n",
       "  <li><b>Memory: </b>128.00 GB</li>\n",
       "</ul>\n",
       "</td>\n",
       "</tr>\n",
       "</table>"
      ],
      "text/plain": [
       "<Client: 'tcp://169.228.130.5:22611' processes=32 threads=32, memory=128.00 GB>"
      ]
     },
     "execution_count": 35,
     "metadata": {},
     "output_type": "execute_result"
    }
   ],
   "source": [
    "c = Client(cluster)\n",
    "c"
   ]
  },
  {
   "cell_type": "code",
   "execution_count": 5,
   "metadata": {},
   "outputs": [],
   "source": [
    "# load samples\n",
    "import yaml\n",
    "from yaml import Loader, Dumper\n",
    "import os\n",
    "\n",
    "\n",
    "data_path = os.path.expandvars('$TWHOME/data/')\n",
    "with open(data_path+'samples.yaml') as f:\n",
    "    samples = yaml.load(f, Loader=Loader)"
   ]
  },
  {
   "cell_type": "code",
   "execution_count": 6,
   "metadata": {},
   "outputs": [],
   "source": [
    "# these are all samples, but for now let's just use a subset\n",
    "\n",
    "sample_list = samples.keys()"
   ]
  },
  {
   "cell_type": "code",
   "execution_count": 7,
   "metadata": {},
   "outputs": [],
   "source": [
    "small = False\n",
    "\n",
    "fileset = {}\n",
    "\n",
    "sample_list = [\n",
    "    '/TTWJetsToLNu_TuneCP5_13TeV-amcatnloFXFX-madspin-pythia8/RunIIAutumn18NanoAODv6-Nano25Oct2019_102X_upgrade2018_realistic_v20_ext1-v1/NANOAODSIM',\n",
    "    '/TTWJetsToQQ_TuneCP5_13TeV-amcatnloFXFX-madspin-pythia8/RunIIAutumn18NanoAODv6-Nano25Oct2019_102X_upgrade2018_realistic_v20-v1/NANOAODSIM',\n",
    "    '/TTJets_DiLept_TuneCP5_13TeV-madgraphMLM-pythia8/RunIIAutumn18NanoAODv6-Nano25Oct2019_102X_upgrade2018_realistic_v20-v1/NANOAODSIM',\n",
    "    '/DYJetsToLL_M-50_TuneCP5_13TeV-madgraphMLM-pythia8/RunIIAutumn18NanoAODv6-Nano25Oct2019_102X_upgrade2018_realistic_v20-v1/NANOAODSIM',\n",
    "    '/DoubleMuon/Run2018C-02Apr2020-v1/NANOAOD',\n",
    "]\n",
    "\n",
    "\n",
    "for sample in sample_list:\n",
    "    #if sample.count('Run201'): continue # can't handle data yet (missing GoldenJson support)\n",
    "    if not samples[sample]['files'][0].startswith('/hadoop/'):\n",
    "        if small:\n",
    "            fileset.update({sample: [ 'root://xrootd.t2.ucsd.edu:2040/%s'%x for x in samples[sample]['files'][:1] ]})\n",
    "        else:\n",
    "            fileset.update({sample: [ 'root://xrootd.t2.ucsd.edu:2040/%s'%x for x in samples[sample]['files'] ]})\n",
    "    else:\n",
    "        fileset.update({sample: samples[sample]['files']})\n",
    "\n"
   ]
  },
  {
   "cell_type": "code",
   "execution_count": 8,
   "metadata": {},
   "outputs": [],
   "source": [
    "#fileset = {\n",
    "#    #'topW': samples['/hadoop/cms/store/user/dspitzba/tW_scattering/tW_scattering/nanoAOD/']['files'],\n",
    "#    'DY': ['root://xrootd.t2.ucsd.edu:2040//store/mc/RunIIAutumn18NanoAODv6/ST_t-channel_4f_leptonDecays_TuneCP5_PSweights_13TeV-amcatnlo-pythia8/NANOAODSIM/Nano25Oct2019_102X_upgrade2018_realistic_v20-v1/130000/BD88080F-534D-4541-A036-5B4A76A62C55.root']\n",
    "#}\n"
   ]
  },
  {
   "cell_type": "code",
   "execution_count": 9,
   "metadata": {},
   "outputs": [],
   "source": [
    "from yaml import load, dump\n",
    "try:\n",
    "    from yaml import CLoader as Loader, CDumper as Dumper\n",
    "except ImportError:\n",
    "    from yaml import Loader, Dumper\n",
    "\n",
    "\n",
    "with open('../data/objects.yaml') as f:\n",
    "    obj_def = load(f, Loader=Loader)\n",
    "\n",
    "class Collections:\n",
    "    def __init__(self, df, obj, wp, skim, isData=False, verbose=0):\n",
    "        self.obj = obj\n",
    "        self.wp = wp\n",
    "        self.selection_dict = obj_def[self.obj][self.wp]\n",
    "\n",
    "        self.v = verbose\n",
    "        #self.year = df['year'][0] ## to be implemented in next verison of babies\n",
    "        self.year = 2018\n",
    "        \n",
    "        # jets for cross-object quantities\n",
    "        jets = JaggedCandidateArray.candidatesfromcounts(\n",
    "            df['nJet'][skim],\n",
    "            pt=df['Jet_pt'][skim].content,\n",
    "            eta=df['Jet_eta'][skim].content,\n",
    "            phi=df['Jet_phi'][skim].content,\n",
    "            mass=df['Jet_mass'][skim].content,\n",
    "            btagDeepFlavB=df['Jet_btagDeepFlavB'][skim].content,\n",
    "            btagDeepB=df['Jet_btagDeepB'][skim].content,\n",
    "        )\n",
    "        \n",
    "        if self.obj == \"Muon\":\n",
    "            self.cand = JaggedCandidateArray.candidatesfromcounts(\n",
    "                df['nMuon'][skim],\n",
    "                pt               = df['Muon_pt'][skim].content,\n",
    "                eta              = df['Muon_eta'][skim].content,\n",
    "                phi              = df['Muon_phi'][skim].content,\n",
    "                mass             = df['Muon_mass'][skim].content,\n",
    "                charge           = df['Muon_charge'][skim].content,\n",
    "                pdgId            = df['Muon_pdgId'][skim].content,\n",
    "                mediumId         = df['Muon_mediumId'][skim].content,\n",
    "                looseId          = df['Muon_looseId'][skim].content,\n",
    "                dxy              = df['Muon_dxy'][skim].content,\n",
    "                dz               = df['Muon_dz'][skim].content,\n",
    "                sip3d            = df['Muon_sip3d'][skim].content,\n",
    "                miniPFRelIso_all = df['Muon_miniPFRelIso_all'][skim].content,\n",
    "                ptErrRel         = (df['Muon_ptErr'][skim]/df['Muon_pt'][skim]).content,\n",
    "                absMiniIso       = (df['Muon_miniPFRelIso_all'][skim]*df['Muon_pt'][skim]).content,\n",
    "                mvaTTH           = df['Muon_mvaTTH'][skim].content,\n",
    "                genPartIdx       = df['Muon_genPartIdx'][skim].content if not isData else df['Muon_pt'][skim].content<0,\n",
    "                jetRelIso        = df['Muon_jetRelIso'][skim].content,\n",
    "                jetPtRelv2       = df['Muon_jetPtRelv2'][skim].content,\n",
    "                jetIdx           = df['Muon_jetIdx'][skim].content,\n",
    "                #deepJet          = jets[df['Muon_jetIdx']].btagDeepFlavB.content,\n",
    "            )\n",
    "            \n",
    "            #self.cand.deepJet = \n",
    "        \n",
    "        elif self.obj == \"Electron\":\n",
    "            self.cand = JaggedCandidateArray.candidatesfromcounts(\n",
    "                df['nElectron'][skim],\n",
    "                pt               = df['Electron_pt'][skim].content,\n",
    "                #conePt           = df[]\n",
    "                eta              = df['Electron_eta'][skim].content,\n",
    "                phi              = df['Electron_phi'][skim].content,\n",
    "                mass             = df['Electron_mass'][skim].content,\n",
    "                charge           = df['Electron_charge'][skim].content,\n",
    "                pdgId            = df['Electron_pdgId'][skim].content,\n",
    "                dxy              = df['Electron_dxy'][skim].content,\n",
    "                dz               = df['Electron_dz'][skim].content,\n",
    "                sip3d            = df['Electron_sip3d'][skim].content,\n",
    "                miniPFRelIso_all = df['Electron_miniPFRelIso_all'][skim].content,\n",
    "                absMiniIso       = (df['Electron_miniPFRelIso_all'][skim]*df['Electron_pt'][skim]).content,\n",
    "                mvaFall17V2noIso = df['Electron_mvaFall17V2noIso'][skim].content,\n",
    "                mvaTTH           = df['Electron_mvaTTH'][skim].content,\n",
    "                genPartIdx       = df['Electron_genPartIdx'][skim].content if not isData else df['Muon_pt'][skim].content<0,\n",
    "                etaSC            = (df['Electron_eta'][skim] + df['Electron_deltaEtaSC'][skim]).content, # verify this\n",
    "                jetRelIso        = df['Electron_jetRelIso'][skim].content,\n",
    "                jetPtRelv2       = df['Electron_jetPtRelv2'][skim].content,\n",
    "                convVeto         = df['Electron_convVeto'][skim].content,\n",
    "                lostHits         = df['Electron_lostHits'][skim].content,\n",
    "                tightCharge      = df['Electron_tightCharge'][skim].content,\n",
    "                sieie            = df['Electron_sieie'][skim].content,\n",
    "                hoe              = df['Electron_hoe'][skim].content,\n",
    "                eInvMinusPInv    = df['Electron_eInvMinusPInv'][skim].content,\n",
    "                mvaFall17V2noIso_WPL = df['Electron_mvaFall17V2noIso_WPL'][skim].content,\n",
    "                jetIdx           = df['Electron_jetIdx'][skim].content,\n",
    "                #deepJet          = jets[df['Electron_jetIdx']].btagDeepFlavB.content,\n",
    "            )\n",
    "            \n",
    "        self.getSelection()\n",
    "        \n",
    "        if self.obj == \"Electron\" and self.wp == \"tight\":\n",
    "            self.selection = self.selection & self.getElectronMVAID() & self.getIsolation(0.07, 0.78, 8.0)\n",
    "        if self.obj == \"Muon\" and self.wp == \"tight\":\n",
    "            self.selection = self.selection & self.getIsolation(0.11, 0.74, 6.8)\n",
    "        if self.obj == \"Electron\" and self.wp == \"tightTTH\":\n",
    "            self.selection = self.selection & self.getSigmaIEtaIEta()\n",
    "        \n",
    "    def getValue(self, var):\n",
    "        #return np.nan_to_num(getattr(self.cand, var), -999)\n",
    "        return getattr(self.cand, var)\n",
    "    \n",
    "    def getSelection(self):\n",
    "        self.selection = (self.cand.pt>0)\n",
    "        if self.v>0: print (\"## %s selection for WP %s ##\"%(self.obj, self.wp))\n",
    "        for var in obj_def[self.obj][self.wp].keys():\n",
    "            #print (var)\n",
    "            if type(obj_def[self.obj][self.wp][var]) == type(1):\n",
    "                if self.v>0: print (\" - %s == %s\"%(var, obj_def[self.obj][self.wp][var]))\n",
    "                self.selection = self.selection & ( self.getValue(var) == obj_def[self.obj][self.wp][var])\n",
    "            else:\n",
    "                extra = obj_def[self.obj][self.wp][var].get('extra')\n",
    "                if extra=='abs':\n",
    "                    try:\n",
    "                        self.selection = self.selection & (abs(self.getValue(var)) >= obj_def[self.obj][self.wp][var][self.year]['min'])\n",
    "                        if self.v>0: print (\" - abs(%s) >= %s\"%(var, obj_def[self.obj][self.wp][var][self.year]['min']))\n",
    "                    except:\n",
    "                        pass\n",
    "                    try:\n",
    "                        self.selection = self.selection & (abs(self.getValue(var)) >= obj_def[self.obj][self.wp][var]['min'])\n",
    "                        if self.v>0: print (\" - abs(%s) >= %s\"%(var, obj_def[self.obj][self.wp][var]['min']))\n",
    "                    except:\n",
    "                        pass\n",
    "                    try:\n",
    "                        self.selection = self.selection & (abs(self.getValue(var)) <= obj_def[self.obj][self.wp][var][self.year]['max'])\n",
    "                        if self.v>0: print (\" - abs(%s) <= %s\"%(var, obj_def[self.obj][self.wp][var][self.year]['max']))\n",
    "                    except:\n",
    "                        pass\n",
    "                    try:\n",
    "                        self.selection = self.selection & (abs(self.getValue(var)) <= obj_def[self.obj][self.wp][var]['max'])\n",
    "                        if self.v>0: print (\" - abs(%s) <= %s\"%(var, obj_def[self.obj][self.wp][var]['max']))\n",
    "                    except:\n",
    "                        pass\n",
    "                else:\n",
    "                    try:\n",
    "                        self.selection = self.selection & (self.getValue(var) >= obj_def[self.obj][self.wp][var][self.year]['min'])\n",
    "                        if self.v>0: print (\" - %s >= %s\"%(var, obj_def[self.obj][self.wp][var][self.year]['min']))\n",
    "                    except:\n",
    "                        pass\n",
    "                    try:\n",
    "                        self.selection = self.selection & (self.getValue(var) >= obj_def[self.obj][self.wp][var]['min'])\n",
    "                        if self.v>0: print (\" - %s >= %s\"%(var, obj_def[self.obj][self.wp][var]['min']))\n",
    "                    except:\n",
    "                        pass\n",
    "                    try:\n",
    "                        self.selection = self.selection & (self.getValue(var) <= obj_def[self.obj][self.wp][var][self.year]['max'])\n",
    "                        if self.v>0: print (\" - %s <= %s\"%(var, obj_def[self.obj][self.wp][var][self.year]['max']))\n",
    "                    except:\n",
    "                        pass\n",
    "                    try:\n",
    "                        self.selection = self.selection & (self.getValue(var) <= obj_def[self.obj][self.wp][var]['max'])\n",
    "                        if self.v>0: print (\" - %s <= %s\"%(var, obj_def[self.obj][self.wp][var]['max']))\n",
    "                    except:\n",
    "                        pass\n",
    "                    \n",
    "        if self.v>0: print ()\n",
    "                    \n",
    "    def get(self):\n",
    "        return self.cand[self.selection]\n",
    "        #return selection\n",
    "        \n",
    "    #def getCuts(self, etaSC, pt):\n",
    "    #    if etaSC<0.8: return 2.597\n",
    "    \n",
    "    def getSigmaIEtaIEta(self):\n",
    "        return ((abs(self.cand.etaSC)<=1.479) & (self.cand.sieie<0.011)) | ((abs(self.cand.etaSC)>1.479) & (self.cand.sieie<0.030))\n",
    "    \n",
    "    def getMVAscore(self):\n",
    "        MVA = np.minimum(np.maximum(self.cand.mvaFall17V2noIso, -1.0 + 1.e-6), 1.0 - 1.e-6)\n",
    "        return -0.5*np.log(2/(MVA+1)-1)\n",
    "    \n",
    "    ## some more involved cuts from SS analysis\n",
    "    def getElectronMVAID(self):\n",
    "        # this should be year specific, only 2018 for now\n",
    "        lowEtaCuts  = 2.597, 4.277, 2.597\n",
    "        midEtaCuts  = 2.252, 3.152, 2.252\n",
    "        highEtaCuts = 1.054, 2.359, 1.054\n",
    "        lowEta      = ( abs(self.cand.etaSC) < 0.8 )\n",
    "        midEta      = ( (abs(self.cand.etaSC) <= 1.479) & (abs(self.cand.etaSC) >= 0.8) )\n",
    "        highEta     = ( abs(self.cand.etaSC) > 1.479 )\n",
    "        lowPt       = ( self.cand.pt < 10 )\n",
    "        midPt       = ( (self.cand.pt <= 25) & (self.cand.pt >= 10) )\n",
    "        highPt      = (self.cand.pt > 25)\n",
    "        \n",
    "        MVA = self.getMVAscore()\n",
    "        \n",
    "        ll = ( lowEta & lowPt & (MVA > lowEtaCuts[2] ) )\n",
    "        lm = ( lowEta & midPt & (MVA > (lowEtaCuts[0]+(lowEtaCuts[1]-lowEtaCuts[0])/15*(self.cand.pt-10)) ) )\n",
    "        lh = ( lowEta & highPt & (MVA > lowEtaCuts[1] ) )\n",
    "\n",
    "        ml = ( midEta & lowPt & (MVA > midEtaCuts[2] ) )\n",
    "        mm = ( midEta & midPt & (MVA > (midEtaCuts[0]+(midEtaCuts[1]-midEtaCuts[0])/15*(self.cand.pt-10)) ) )\n",
    "        mh = ( midEta & highPt & (MVA > midEtaCuts[1] ) )\n",
    "\n",
    "        hl = ( highEta & lowPt & (MVA > highEtaCuts[2] ) )\n",
    "        hm = ( highEta & midPt & (MVA > (highEtaCuts[0]+(highEtaCuts[1]-highEtaCuts[0])/15*(self.cand.pt-10)) ) )\n",
    "        hh = ( highEta & highPt & (MVA > highEtaCuts[1] ) )\n",
    "        \n",
    "        return ( ll | lm | lh | ml | mm | mh | hl | hm | hh )\n",
    "    \n",
    "    ## SS isolation\n",
    "    def getIsolation(self, mini, jet, jetv2 ):\n",
    "        # again, this is only for 2018 so far\n",
    "        jetRelIso = 1/(self.cand.jetRelIso+1)\n",
    "        return ( (self.cand.miniPFRelIso_all < mini) & ( (jetRelIso>jet) | (self.cand.jetPtRelv2>jetv2) ) )\n",
    "        "
   ]
  },
  {
   "cell_type": "code",
   "execution_count": 42,
   "metadata": {},
   "outputs": [],
   "source": [
    "import numpy as np\n",
    "import pandas as pd\n",
    "import matplotlib.pyplot as plt\n",
    "from tqdm.auto import tqdm\n",
    "\n",
    "#import uproot\n",
    "import uproot_methods\n",
    "import awkward\n",
    "from awkward import JaggedArray\n",
    "\n",
    "from coffea import hist\n",
    "from coffea.analysis_objects import JaggedCandidateArray\n",
    "from coffea.processor import LazyDataFrame\n",
    "from coffea.lumi_tools import LumiData, LumiMask, LumiList\n",
    "\n",
    "import coffea.processor as processor\n",
    "\n",
    "class SimpleProcessor(processor.ProcessorABC):\n",
    "    def __init__(self):\n",
    "        dataset_axis = hist.Cat(\"dataset\", \"Primary dataset\")\n",
    "        pt_axis = hist.Bin(\"pt\", r\"$p_{T,\\mu}$ [GeV]\", 1000, 0, 500)\n",
    "        mass_axis = hist.Bin(\"mass\", r\"$M$ [GeV]\", 1000, 0, 1000)\n",
    "        \n",
    "        self._accumulator = processor.dict_accumulator({\n",
    "            'MET_pt': hist.Hist(\"Counts\", dataset_axis, pt_axis),\n",
    "            'lead_mu_pt': hist.Hist(\"Counts\", dataset_axis, pt_axis),\n",
    "            'sublead_mu_pt': hist.Hist(\"Counts\", dataset_axis, pt_axis),\n",
    "            'dimuon_mass': hist.Hist(\"Counts\", dataset_axis, mass_axis),\n",
    "            'cutflow': processor.defaultdict_accumulator(int),\n",
    "            'workers': processor.set_accumulator(),\n",
    "            'entries': processor.defaultdict_accumulator(int),\n",
    "        })\n",
    "        \n",
    "    @property\n",
    "    def accumulator(self):\n",
    "        return self._accumulator\n",
    "    \n",
    "    def process(self, df):\n",
    "        output = self.accumulator.identity()\n",
    "        \n",
    "        try:\n",
    "            from dask.distributed import get_worker\n",
    "            output[\"workers\"].add(get_worker().name)\n",
    "        except:\n",
    "            pass\n",
    "\n",
    "        dataset = df['dataset']\n",
    "\n",
    "        preskim = (df['nJet']>0) # ask for at least one jet - we need that for our lepton ID to work\n",
    "        \n",
    "        trigger = (df['HLT_Mu17_TrkIsoVVL_Mu8_TrkIsoVVL_DZ_Mass3p8'][preskim]>0)\n",
    "        \n",
    "        if dataset.count(\"Run201\"):\n",
    "            # this needs to be shipped to the worker, too.\n",
    "            # right now I download the file in the job queue executable\n",
    "            # it should better be included in the tarball --> up next on the to do I guess\n",
    "            lumimask = LumiMask(\"Cert_314472-325175_13TeV_17SeptEarlyReReco2018ABC_PromptEraD_Collisions18_JSON.txt\")\n",
    "            runs = df['run'][preskim]\n",
    "            lumis = df['luminosityBlock'][preskim]\n",
    "            mask = lumimask(runs, lumis)\n",
    "        else:\n",
    "            #mask = (np.ones(len(df['MET_pt'][preskim]))>0)\n",
    "            mask = trigger # can just use the same mask again\n",
    "        \n",
    "        output['entries']['all'] += len(df['MET_pt'])\n",
    "\n",
    "        ## Muon selection. We might need to ship the Tools to the workers, too...\n",
    "        muon = Collections(df, \"Muon\", \"tight\", skim=preskim, isData=(dataset.count(\"Run\")>0)).get()\n",
    "        #vetomuon = Collections(df, \"Muon\", \"veto\").get()\n",
    "        dimuon = muon.choose(2)\n",
    "        lead_muon = muon[muon.pt.argmax()]\n",
    "        trail_muon = muon[muon.pt.argmin()]\n",
    "        \n",
    "        ## preselection of events. take only off-Z events with no fake\n",
    "        #selection = ( (muon.counts==2) & (vetomuon.count==2) & (abs(dimuon.mass-91.2)>10).any() )\n",
    "\n",
    "        met_pt = df['MET_pt'][preskim]\n",
    "        \n",
    "        # ask for two muons, passing triggers and the lumi mask, and als requiring the muon pt>25 GeV (for trigger)\n",
    "        selection = ( (muon.counts==2)  & (trigger)  & (mask) & (muon[(muon.pt>25)].counts==2) )\n",
    "        \n",
    "        # And fill the histograms\n",
    "        if dataset.count(\"Run201\"):\n",
    "            weight = (df['MET_pt'][preskim] >= 0) * 1\n",
    "        else:\n",
    "            weight = df['genWeight'][preskim]\n",
    "            \n",
    "        output['MET_pt'].fill(dataset=dataset, pt=met_pt[selection].flatten(), weight=weight[selection])\n",
    "        output['dimuon_mass'].fill(dataset=dataset, mass=dimuon[selection].mass.flatten(), weight=weight[selection])\n",
    "        output['lead_mu_pt'].fill(dataset=dataset, pt=lead_muon[selection].pt.flatten(), weight=weight[selection])\n",
    "        output['sublead_mu_pt'].fill(dataset=dataset, pt=trail_muon[selection].pt.flatten(), weight=weight[selection])\n",
    "\n",
    "\n",
    "        return output\n",
    "\n",
    "    def postprocess(self, accumulator):\n",
    "        return accumulator"
   ]
  },
  {
   "cell_type": "code",
   "execution_count": 43,
   "metadata": {
    "scrolled": true
   },
   "outputs": [
    {
     "name": "stdout",
     "output_type": "stream",
     "text": [
      "[####################################### ] | 99% Completed | 22min 25.4s"
     ]
    },
    {
     "ename": "KeyboardInterrupt",
     "evalue": "",
     "output_type": "error",
     "traceback": [
      "\u001b[0;31m---------------------------------------------------------------------------\u001b[0m",
      "\u001b[0;31mKeyboardInterrupt\u001b[0m                         Traceback (most recent call last)",
      "\u001b[0;32m<ipython-input-43-26e6ab8de9e1>\u001b[0m in \u001b[0;36m<module>\u001b[0;34m\u001b[0m\n\u001b[1;32m     23\u001b[0m \u001b[0;34m\u001b[0m\u001b[0m\n\u001b[1;32m     24\u001b[0m \u001b[0;34m\u001b[0m\u001b[0m\n\u001b[0;32m---> 25\u001b[0;31m output = processor.run_uproot_job(fileset,\n\u001b[0m\u001b[1;32m     26\u001b[0m                                 \u001b[0mtreename\u001b[0m \u001b[0;34m=\u001b[0m \u001b[0;34m'Events'\u001b[0m\u001b[0;34m,\u001b[0m\u001b[0;34m\u001b[0m\u001b[0;34m\u001b[0m\u001b[0m\n\u001b[1;32m     27\u001b[0m                                 \u001b[0mprocessor_instance\u001b[0m \u001b[0;34m=\u001b[0m \u001b[0mSimpleProcessor\u001b[0m\u001b[0;34m(\u001b[0m\u001b[0;34m)\u001b[0m\u001b[0;34m,\u001b[0m\u001b[0;34m\u001b[0m\u001b[0;34m\u001b[0m\u001b[0m\n",
      "\u001b[0;32m~/miniconda3/envs/daskanalysisenv/lib/python3.8/site-packages/coffea/processor/executor.py\u001b[0m in \u001b[0;36mrun_uproot_job\u001b[0;34m(fileset, treename, processor_instance, executor, executor_args, pre_executor, pre_args, chunksize, maxchunks, metadata_cache)\u001b[0m\n\u001b[1;32m   1128\u001b[0m     }\n\u001b[1;32m   1129\u001b[0m     \u001b[0mexe_args\u001b[0m\u001b[0;34m.\u001b[0m\u001b[0mupdate\u001b[0m\u001b[0;34m(\u001b[0m\u001b[0mexecutor_args\u001b[0m\u001b[0;34m)\u001b[0m\u001b[0;34m\u001b[0m\u001b[0;34m\u001b[0m\u001b[0m\n\u001b[0;32m-> 1130\u001b[0;31m     \u001b[0mexecutor\u001b[0m\u001b[0;34m(\u001b[0m\u001b[0mchunks\u001b[0m\u001b[0;34m,\u001b[0m \u001b[0mclosure\u001b[0m\u001b[0;34m,\u001b[0m \u001b[0mwrapped_out\u001b[0m\u001b[0;34m,\u001b[0m \u001b[0;34m**\u001b[0m\u001b[0mexe_args\u001b[0m\u001b[0;34m)\u001b[0m\u001b[0;34m\u001b[0m\u001b[0;34m\u001b[0m\u001b[0m\n\u001b[0m\u001b[1;32m   1131\u001b[0m \u001b[0;34m\u001b[0m\u001b[0m\n\u001b[1;32m   1132\u001b[0m     \u001b[0mwrapped_out\u001b[0m\u001b[0;34m[\u001b[0m\u001b[0;34m'metrics'\u001b[0m\u001b[0;34m]\u001b[0m\u001b[0;34m[\u001b[0m\u001b[0;34m'chunks'\u001b[0m\u001b[0;34m]\u001b[0m \u001b[0;34m=\u001b[0m \u001b[0mvalue_accumulator\u001b[0m\u001b[0;34m(\u001b[0m\u001b[0mint\u001b[0m\u001b[0;34m,\u001b[0m \u001b[0mlen\u001b[0m\u001b[0;34m(\u001b[0m\u001b[0mchunks\u001b[0m\u001b[0;34m)\u001b[0m\u001b[0;34m)\u001b[0m\u001b[0;34m\u001b[0m\u001b[0;34m\u001b[0m\u001b[0m\n",
      "\u001b[0;32m~/miniconda3/envs/daskanalysisenv/lib/python3.8/site-packages/coffea/processor/executor.py\u001b[0m in \u001b[0;36mdask_executor\u001b[0;34m(items, function, accumulator, **kwargs)\u001b[0m\n\u001b[1;32m    657\u001b[0m         \u001b[0;32mfrom\u001b[0m \u001b[0mdistributed\u001b[0m \u001b[0;32mimport\u001b[0m \u001b[0mprogress\u001b[0m\u001b[0;34m\u001b[0m\u001b[0;34m\u001b[0m\u001b[0m\n\u001b[1;32m    658\u001b[0m         \u001b[0;31m# FIXME: fancy widget doesn't appear, have to live with boring pbar\u001b[0m\u001b[0;34m\u001b[0m\u001b[0;34m\u001b[0m\u001b[0;34m\u001b[0m\u001b[0m\n\u001b[0;32m--> 659\u001b[0;31m         \u001b[0mprogress\u001b[0m\u001b[0;34m(\u001b[0m\u001b[0mwork\u001b[0m\u001b[0;34m,\u001b[0m \u001b[0mmulti\u001b[0m\u001b[0;34m=\u001b[0m\u001b[0;32mTrue\u001b[0m\u001b[0;34m,\u001b[0m \u001b[0mnotebook\u001b[0m\u001b[0;34m=\u001b[0m\u001b[0;32mFalse\u001b[0m\u001b[0;34m)\u001b[0m\u001b[0;34m\u001b[0m\u001b[0;34m\u001b[0m\u001b[0m\n\u001b[0m\u001b[1;32m    660\u001b[0m     \u001b[0maccumulator\u001b[0m \u001b[0;34m+=\u001b[0m \u001b[0m_maybe_decompress\u001b[0m\u001b[0;34m(\u001b[0m\u001b[0mwork\u001b[0m\u001b[0;34m.\u001b[0m\u001b[0mresult\u001b[0m\u001b[0;34m(\u001b[0m\u001b[0;34m)\u001b[0m\u001b[0;34m)\u001b[0m\u001b[0;34m\u001b[0m\u001b[0;34m\u001b[0m\u001b[0m\n\u001b[1;32m    661\u001b[0m     \u001b[0;32mreturn\u001b[0m \u001b[0maccumulator\u001b[0m\u001b[0;34m\u001b[0m\u001b[0;34m\u001b[0m\u001b[0m\n",
      "\u001b[0;32m~/miniconda3/envs/daskanalysisenv/lib/python3.8/site-packages/distributed/diagnostics/progressbar.py\u001b[0m in \u001b[0;36mprogress\u001b[0;34m(notebook, multi, complete, *futures, **kwargs)\u001b[0m\n\u001b[1;32m    439\u001b[0m         \u001b[0;32mreturn\u001b[0m \u001b[0mbar\u001b[0m\u001b[0;34m\u001b[0m\u001b[0;34m\u001b[0m\u001b[0m\n\u001b[1;32m    440\u001b[0m     \u001b[0;32melse\u001b[0m\u001b[0;34m:\u001b[0m\u001b[0;34m\u001b[0m\u001b[0;34m\u001b[0m\u001b[0m\n\u001b[0;32m--> 441\u001b[0;31m         \u001b[0mTextProgressBar\u001b[0m\u001b[0;34m(\u001b[0m\u001b[0mfutures\u001b[0m\u001b[0;34m,\u001b[0m \u001b[0mcomplete\u001b[0m\u001b[0;34m=\u001b[0m\u001b[0mcomplete\u001b[0m\u001b[0;34m,\u001b[0m \u001b[0;34m**\u001b[0m\u001b[0mkwargs\u001b[0m\u001b[0;34m)\u001b[0m\u001b[0;34m\u001b[0m\u001b[0;34m\u001b[0m\u001b[0m\n\u001b[0m",
      "\u001b[0;32m~/miniconda3/envs/daskanalysisenv/lib/python3.8/site-packages/distributed/diagnostics/progressbar.py\u001b[0m in \u001b[0;36m__init__\u001b[0;34m(self, keys, scheduler, interval, width, loop, complete, start, **kwargs)\u001b[0m\n\u001b[1;32m    122\u001b[0m         \u001b[0;32mif\u001b[0m \u001b[0mstart\u001b[0m\u001b[0;34m:\u001b[0m\u001b[0;34m\u001b[0m\u001b[0;34m\u001b[0m\u001b[0m\n\u001b[1;32m    123\u001b[0m             \u001b[0mloop_runner\u001b[0m \u001b[0;34m=\u001b[0m \u001b[0mLoopRunner\u001b[0m\u001b[0;34m(\u001b[0m\u001b[0mself\u001b[0m\u001b[0;34m.\u001b[0m\u001b[0mloop\u001b[0m\u001b[0;34m)\u001b[0m\u001b[0;34m\u001b[0m\u001b[0;34m\u001b[0m\u001b[0m\n\u001b[0;32m--> 124\u001b[0;31m             \u001b[0mloop_runner\u001b[0m\u001b[0;34m.\u001b[0m\u001b[0mrun_sync\u001b[0m\u001b[0;34m(\u001b[0m\u001b[0mself\u001b[0m\u001b[0;34m.\u001b[0m\u001b[0mlisten\u001b[0m\u001b[0;34m)\u001b[0m\u001b[0;34m\u001b[0m\u001b[0;34m\u001b[0m\u001b[0m\n\u001b[0m\u001b[1;32m    125\u001b[0m \u001b[0;34m\u001b[0m\u001b[0m\n\u001b[1;32m    126\u001b[0m     \u001b[0;32mdef\u001b[0m \u001b[0m_draw_bar\u001b[0m\u001b[0;34m(\u001b[0m\u001b[0mself\u001b[0m\u001b[0;34m,\u001b[0m \u001b[0mremaining\u001b[0m\u001b[0;34m,\u001b[0m \u001b[0mall\u001b[0m\u001b[0;34m,\u001b[0m \u001b[0;34m**\u001b[0m\u001b[0mkwargs\u001b[0m\u001b[0;34m)\u001b[0m\u001b[0;34m:\u001b[0m\u001b[0;34m\u001b[0m\u001b[0;34m\u001b[0m\u001b[0m\n",
      "\u001b[0;32m~/miniconda3/envs/daskanalysisenv/lib/python3.8/site-packages/distributed/utils.py\u001b[0m in \u001b[0;36mrun_sync\u001b[0;34m(self, func, *args, **kwargs)\u001b[0m\n\u001b[1;32m    494\u001b[0m             \u001b[0mself\u001b[0m\u001b[0;34m.\u001b[0m\u001b[0mstart\u001b[0m\u001b[0;34m(\u001b[0m\u001b[0;34m)\u001b[0m\u001b[0;34m\u001b[0m\u001b[0;34m\u001b[0m\u001b[0m\n\u001b[1;32m    495\u001b[0m             \u001b[0;32mtry\u001b[0m\u001b[0;34m:\u001b[0m\u001b[0;34m\u001b[0m\u001b[0;34m\u001b[0m\u001b[0m\n\u001b[0;32m--> 496\u001b[0;31m                 \u001b[0;32mreturn\u001b[0m \u001b[0msync\u001b[0m\u001b[0;34m(\u001b[0m\u001b[0mself\u001b[0m\u001b[0;34m.\u001b[0m\u001b[0mloop\u001b[0m\u001b[0;34m,\u001b[0m \u001b[0mfunc\u001b[0m\u001b[0;34m,\u001b[0m \u001b[0;34m*\u001b[0m\u001b[0margs\u001b[0m\u001b[0;34m,\u001b[0m \u001b[0;34m**\u001b[0m\u001b[0mkwargs\u001b[0m\u001b[0;34m)\u001b[0m\u001b[0;34m\u001b[0m\u001b[0;34m\u001b[0m\u001b[0m\n\u001b[0m\u001b[1;32m    497\u001b[0m             \u001b[0;32mfinally\u001b[0m\u001b[0;34m:\u001b[0m\u001b[0;34m\u001b[0m\u001b[0;34m\u001b[0m\u001b[0m\n\u001b[1;32m    498\u001b[0m                 \u001b[0mself\u001b[0m\u001b[0;34m.\u001b[0m\u001b[0mstop\u001b[0m\u001b[0;34m(\u001b[0m\u001b[0;34m)\u001b[0m\u001b[0;34m\u001b[0m\u001b[0;34m\u001b[0m\u001b[0m\n",
      "\u001b[0;32m~/miniconda3/envs/daskanalysisenv/lib/python3.8/site-packages/distributed/utils.py\u001b[0m in \u001b[0;36msync\u001b[0;34m(loop, func, callback_timeout, *args, **kwargs)\u001b[0m\n\u001b[1;32m    335\u001b[0m     \u001b[0;32melse\u001b[0m\u001b[0;34m:\u001b[0m\u001b[0;34m\u001b[0m\u001b[0;34m\u001b[0m\u001b[0m\n\u001b[1;32m    336\u001b[0m         \u001b[0;32mwhile\u001b[0m \u001b[0;32mnot\u001b[0m \u001b[0me\u001b[0m\u001b[0;34m.\u001b[0m\u001b[0mis_set\u001b[0m\u001b[0;34m(\u001b[0m\u001b[0;34m)\u001b[0m\u001b[0;34m:\u001b[0m\u001b[0;34m\u001b[0m\u001b[0;34m\u001b[0m\u001b[0m\n\u001b[0;32m--> 337\u001b[0;31m             \u001b[0me\u001b[0m\u001b[0;34m.\u001b[0m\u001b[0mwait\u001b[0m\u001b[0;34m(\u001b[0m\u001b[0;36m10\u001b[0m\u001b[0;34m)\u001b[0m\u001b[0;34m\u001b[0m\u001b[0;34m\u001b[0m\u001b[0m\n\u001b[0m\u001b[1;32m    338\u001b[0m     \u001b[0;32mif\u001b[0m \u001b[0merror\u001b[0m\u001b[0;34m[\u001b[0m\u001b[0;36m0\u001b[0m\u001b[0;34m]\u001b[0m\u001b[0;34m:\u001b[0m\u001b[0;34m\u001b[0m\u001b[0;34m\u001b[0m\u001b[0m\n\u001b[1;32m    339\u001b[0m         \u001b[0mtyp\u001b[0m\u001b[0;34m,\u001b[0m \u001b[0mexc\u001b[0m\u001b[0;34m,\u001b[0m \u001b[0mtb\u001b[0m \u001b[0;34m=\u001b[0m \u001b[0merror\u001b[0m\u001b[0;34m[\u001b[0m\u001b[0;36m0\u001b[0m\u001b[0;34m]\u001b[0m\u001b[0;34m\u001b[0m\u001b[0;34m\u001b[0m\u001b[0m\n",
      "\u001b[0;32m~/miniconda3/envs/daskanalysisenv/lib/python3.8/threading.py\u001b[0m in \u001b[0;36mwait\u001b[0;34m(self, timeout)\u001b[0m\n\u001b[1;32m    556\u001b[0m             \u001b[0msignaled\u001b[0m \u001b[0;34m=\u001b[0m \u001b[0mself\u001b[0m\u001b[0;34m.\u001b[0m\u001b[0m_flag\u001b[0m\u001b[0;34m\u001b[0m\u001b[0;34m\u001b[0m\u001b[0m\n\u001b[1;32m    557\u001b[0m             \u001b[0;32mif\u001b[0m \u001b[0;32mnot\u001b[0m \u001b[0msignaled\u001b[0m\u001b[0;34m:\u001b[0m\u001b[0;34m\u001b[0m\u001b[0;34m\u001b[0m\u001b[0m\n\u001b[0;32m--> 558\u001b[0;31m                 \u001b[0msignaled\u001b[0m \u001b[0;34m=\u001b[0m \u001b[0mself\u001b[0m\u001b[0;34m.\u001b[0m\u001b[0m_cond\u001b[0m\u001b[0;34m.\u001b[0m\u001b[0mwait\u001b[0m\u001b[0;34m(\u001b[0m\u001b[0mtimeout\u001b[0m\u001b[0;34m)\u001b[0m\u001b[0;34m\u001b[0m\u001b[0;34m\u001b[0m\u001b[0m\n\u001b[0m\u001b[1;32m    559\u001b[0m             \u001b[0;32mreturn\u001b[0m \u001b[0msignaled\u001b[0m\u001b[0;34m\u001b[0m\u001b[0;34m\u001b[0m\u001b[0m\n\u001b[1;32m    560\u001b[0m \u001b[0;34m\u001b[0m\u001b[0m\n",
      "\u001b[0;32m~/miniconda3/envs/daskanalysisenv/lib/python3.8/threading.py\u001b[0m in \u001b[0;36mwait\u001b[0;34m(self, timeout)\u001b[0m\n\u001b[1;32m    304\u001b[0m             \u001b[0;32melse\u001b[0m\u001b[0;34m:\u001b[0m\u001b[0;34m\u001b[0m\u001b[0;34m\u001b[0m\u001b[0m\n\u001b[1;32m    305\u001b[0m                 \u001b[0;32mif\u001b[0m \u001b[0mtimeout\u001b[0m \u001b[0;34m>\u001b[0m \u001b[0;36m0\u001b[0m\u001b[0;34m:\u001b[0m\u001b[0;34m\u001b[0m\u001b[0;34m\u001b[0m\u001b[0m\n\u001b[0;32m--> 306\u001b[0;31m                     \u001b[0mgotit\u001b[0m \u001b[0;34m=\u001b[0m \u001b[0mwaiter\u001b[0m\u001b[0;34m.\u001b[0m\u001b[0macquire\u001b[0m\u001b[0;34m(\u001b[0m\u001b[0;32mTrue\u001b[0m\u001b[0;34m,\u001b[0m \u001b[0mtimeout\u001b[0m\u001b[0;34m)\u001b[0m\u001b[0;34m\u001b[0m\u001b[0;34m\u001b[0m\u001b[0m\n\u001b[0m\u001b[1;32m    307\u001b[0m                 \u001b[0;32melse\u001b[0m\u001b[0;34m:\u001b[0m\u001b[0;34m\u001b[0m\u001b[0;34m\u001b[0m\u001b[0m\n\u001b[1;32m    308\u001b[0m                     \u001b[0mgotit\u001b[0m \u001b[0;34m=\u001b[0m \u001b[0mwaiter\u001b[0m\u001b[0;34m.\u001b[0m\u001b[0macquire\u001b[0m\u001b[0;34m(\u001b[0m\u001b[0;32mFalse\u001b[0m\u001b[0;34m)\u001b[0m\u001b[0;34m\u001b[0m\u001b[0;34m\u001b[0m\u001b[0m\n",
      "\u001b[0;31mKeyboardInterrupt\u001b[0m: "
     ]
    }
   ],
   "source": [
    "import time\n",
    "\n",
    "tstart = time.time()\n",
    "\n",
    "runLocal = False\n",
    "\n",
    "\n",
    "if not runLocal:\n",
    "    ## for dask\n",
    "    exe_args = {\n",
    "        'client': c,\n",
    "        #'savemetrics': True,\n",
    "    }\n",
    "    exe = processor.dask_executor\n",
    "\n",
    "else:\n",
    "    ## for local\n",
    "    exe_args = {\n",
    "        'workers': 4,\n",
    "        'function_args': {'flatten': False}\n",
    "    }\n",
    "    exe = processor.futures_executor\n",
    "\n",
    "\n",
    "output = processor.run_uproot_job(fileset,\n",
    "                                treename = 'Events',\n",
    "                                processor_instance = SimpleProcessor(),\n",
    "                                chunksize=250000, #500000,\n",
    "                                executor = exe,\n",
    "                                executor_args = exe_args\n",
    "                                )\n",
    "\n",
    "elapsed = time.time() - tstart\n"
   ]
  },
  {
   "cell_type": "markdown",
   "metadata": {},
   "source": [
    "What to do with the tail?? 99% of jobs finish in time, but some just get stuck."
   ]
  },
  {
   "cell_type": "code",
   "execution_count": 38,
   "metadata": {},
   "outputs": [
    {
     "name": "stdout",
     "output_type": "stream",
     "text": [
      "31 total workers\n",
      "1.69209e+08 events in 2371.1s @ 71.4kHz, including chunking\n"
     ]
    }
   ],
   "source": [
    "print(\"{nworkers} total workers\".format(nworkers=len(output[\"workers\"])))\n",
    "print(\"{events:g} events in {dt:.1f}s @ {rate:.1f}kHz, including chunking\".format(\n",
    "    events=output[\"entries\"][\"all\"],\n",
    "    dt=elapsed,\n",
    "    rate=output[\"entries\"][\"all\"]/elapsed/1e3,\n",
    "))\n",
    "\n",
    "## This does not yet work because metrics fail...\n",
    "#print(\"Event rate per worker, excluding chunking and file/tree open: {rate:.1f}kHz\".format(\n",
    "#    rate=output[1][\"entries\"].value/output[1][\"processtime\"].value/1e3,\n",
    "#))\n",
    "\n"
   ]
  },
  {
   "cell_type": "markdown",
   "metadata": {},
   "source": [
    "That's a pretty impressive through put (in my opinion).\n",
    "Now, we should proceed as follows:\n",
    "- Scale the histograms with lumi weight\n",
    "- Rebin to a reasonable binning for each variable\n",
    "- Merge some data sets into categories"
   ]
  },
  {
   "cell_type": "code",
   "execution_count": 39,
   "metadata": {
    "scrolled": true
   },
   "outputs": [
    {
     "name": "stdout",
     "output_type": "stream",
     "text": [
      "{'MET_pt': <Hist (dataset,pt) instance at 0x7f0ae8554be0>, 'dimuon_mass': <Hist (dataset,mass) instance at 0x7f0c01271400>, 'cutflow': defaultdict_accumulator(<class 'int'>, {}), 'workers': set_accumulator({0, 1, 2, 3, 4, 5, 6, 8, 9, 11, 13, 14, 16, 17, 20, 22, 26, 27, 29, 30, 31, 33, 35, 37, 40, 41, 43, 45, 47, 48, 49}), 'entries': defaultdict_accumulator(<class 'int'>, {'all': 169209063})}\n"
     ]
    }
   ],
   "source": [
    "print (output)"
   ]
  },
  {
   "cell_type": "code",
   "execution_count": 41,
   "metadata": {},
   "outputs": [
    {
     "ename": "KeyError",
     "evalue": "'lead_mu_pt'",
     "output_type": "error",
     "traceback": [
      "\u001b[0;31m---------------------------------------------------------------------------\u001b[0m",
      "\u001b[0;31mKeyError\u001b[0m                                  Traceback (most recent call last)",
      "\u001b[0;32m<ipython-input-41-8f8f7bf2818a>\u001b[0m in \u001b[0;36m<module>\u001b[0;34m\u001b[0m\n\u001b[1;32m      1\u001b[0m \u001b[0;31m## This is what comes out of the box from coffea. Clearly, proper weights are missing.\u001b[0m\u001b[0;34m\u001b[0m\u001b[0;34m\u001b[0m\u001b[0;34m\u001b[0m\u001b[0m\n\u001b[1;32m      2\u001b[0m \u001b[0;34m\u001b[0m\u001b[0m\n\u001b[0;32m----> 3\u001b[0;31m \u001b[0mhistogram\u001b[0m \u001b[0;34m=\u001b[0m \u001b[0moutput\u001b[0m\u001b[0;34m[\u001b[0m\u001b[0;34m'lead_mu_pt'\u001b[0m\u001b[0;34m]\u001b[0m\u001b[0;34m\u001b[0m\u001b[0;34m\u001b[0m\u001b[0m\n\u001b[0m\u001b[1;32m      4\u001b[0m \u001b[0;34m\u001b[0m\u001b[0m\n\u001b[1;32m      5\u001b[0m \u001b[0max\u001b[0m \u001b[0;34m=\u001b[0m \u001b[0mhist\u001b[0m\u001b[0;34m.\u001b[0m\u001b[0mplot1d\u001b[0m\u001b[0;34m(\u001b[0m\u001b[0mhistogram\u001b[0m\u001b[0;34m,\u001b[0m\u001b[0moverlay\u001b[0m\u001b[0;34m=\u001b[0m\u001b[0;34m\"dataset\"\u001b[0m\u001b[0;34m,\u001b[0m \u001b[0mstack\u001b[0m\u001b[0;34m=\u001b[0m\u001b[0;32mFalse\u001b[0m\u001b[0;34m)\u001b[0m\u001b[0;34m\u001b[0m\u001b[0;34m\u001b[0m\u001b[0m\n",
      "\u001b[0;31mKeyError\u001b[0m: 'lead_mu_pt'"
     ]
    }
   ],
   "source": [
    "## This is what comes out of the box from coffea. Clearly, proper weights are missing.\n",
    "\n",
    "histogram = output['lead_mu_pt']\n",
    "\n",
    "ax = hist.plot1d(histogram,overlay=\"dataset\", stack=False)"
   ]
  },
  {
   "cell_type": "code",
   "execution_count": 16,
   "metadata": {
    "scrolled": true
   },
   "outputs": [
    {
     "data": {
      "image/png": "[encoded data removed]",
      "text/plain": [
       "<Figure size 432x288 with 1 Axes>"
      ]
     },
     "metadata": {
      "needs_background": "light"
     },
     "output_type": "display_data"
    }
   ],
   "source": [
    "## This is what comes out of the box from coffea. Clearly, proper weights are missing.\n",
    "\n",
    "histogram = output['MET_pt']\n",
    "\n",
    "ax = hist.plot1d(histogram,overlay=\"dataset\", stack=False)\n"
   ]
  },
  {
   "cell_type": "code",
   "execution_count": 19,
   "metadata": {},
   "outputs": [],
   "source": [
    "# load the config and the cache\n",
    "from Tools.config_helpers import *\n",
    "cfg = loadConfig()"
   ]
  },
  {
   "cell_type": "code",
   "execution_count": 31,
   "metadata": {},
   "outputs": [],
   "source": [
    "## Define categories. Should make that regex at some point\n",
    "categories = {\n",
    "    'DY': [ sample for sample in sample_list if sample.count('DYJets')>0 ],\n",
    "    'TT': [ sample for sample in sample_list if sample.count('TTJets')>0 ],\n",
    "    'TTW': [ sample for sample in sample_list if sample.count('TTWJets')>0 ],\n",
    "    'DoubleMuon': [ sample for sample in sample_list if sample.count('DoubleMuon')>0 ],\n",
    "}\n",
    "\n",
    "my_labels = {\n",
    "    categories['DY'][0]: 'Drell-Yan',\n",
    "    categories['TT'][0]: r'$t\\bar{t}$',\n",
    "    categories['TTW'][0]: r'$t\\bar{t}W$',\n",
    "    categories['TTW'][1]: r'$t\\bar{t}W$',\n",
    "    categories['DoubleMuon'][0]: 'Data',\n",
    "}\n",
    "\n",
    "def saveFig( fig, ax, rax, path, name, scale='linear', shape=False, y_max=-1 ):\n",
    "    outdir = os.path.join(path,scale)\n",
    "    finalizePlotDir(outdir)\n",
    "    ax.set_yscale(scale)\n",
    "    ax.set_ylabel('Events')\n",
    "\n",
    "    if scale == 'linear':\n",
    "        if y_max<0 or True:\n",
    "            pass\n",
    "        else:\n",
    "            ax.set_ylim(0, 1 if shape else 1.2*y_max)\n",
    "    else:\n",
    "        if y_max<0 and not shape:\n",
    "            pass\n",
    "        else:\n",
    "            ax.set_ylim(0.000005 if shape else 0.05, 3 if shape else 300*y_max)\n",
    "\n",
    "    handles, labels = ax.get_legend_handles_labels()\n",
    "    new_labels = []\n",
    "    for handle, label in zip(handles, labels):\n",
    "        #print (handle, label)\n",
    "        try:\n",
    "            new_labels.append(my_labels[label])\n",
    "            if not label=='pseudodata':\n",
    "                handle.set_color(colors[label])\n",
    "        except:\n",
    "            pass\n",
    "\n",
    "    if rax:\n",
    "        plt.subplots_adjust(hspace=0)\n",
    "        rax.set_ylabel('Obs./Pred.')\n",
    "        rax.set_ylim(0.5,1.5)\n",
    "\n",
    "    ax.legend(title='',ncol=2,handles=handles, labels=new_labels, frameon=False)\n",
    "\n",
    "    fig.text(0., 0.995, '$\\\\bf{CMS}$', fontsize=20,  horizontalalignment='left', verticalalignment='bottom', transform=ax.transAxes )\n",
    "    fig.text(0.15, 1., '$\\\\it{Private}$', fontsize=14, horizontalalignment='left', verticalalignment='bottom', transform=ax.transAxes )\n",
    "    fig.text(0.8, 1., '13 TeV', fontsize=14, horizontalalignment='left', verticalalignment='bottom', transform=ax.transAxes )\n",
    "\n",
    "    fig.savefig(os.path.join(outdir, \"{}.pdf\".format(name)))\n",
    "    fig.savefig(os.path.join(outdir, \"{}.png\".format(name)))\n",
    "    #ax.clear()\n",
    "\n",
    "data_err_opts = {\n",
    "    'linestyle': 'none',\n",
    "    'marker': '.',\n",
    "    'markersize': 10.,\n",
    "    'color': 'k',\n",
    "    'elinewidth': 1,\n",
    "}\n",
    "\n",
    "signal_err_opts = {\n",
    "    'linestyle':'-',\n",
    "    'color':'crimson',\n",
    "    'elinewidth': 1,\n",
    "}\n",
    "\n",
    "error_opts = {\n",
    "    'label': 'uncertainty',\n",
    "    'hatch': '///',\n",
    "    'facecolor': 'none',\n",
    "    'edgecolor': (0,0,0,.5),\n",
    "    'linewidth': 0\n",
    "}\n",
    "\n",
    "fill_opts = {\n",
    "    'edgecolor': (0,0,0,0.3),\n",
    "    'alpha': 1.0\n",
    "}"
   ]
  },
  {
   "cell_type": "code",
   "execution_count": 34,
   "metadata": {},
   "outputs": [
    {
     "name": "stdout",
     "output_type": "stream",
     "text": [
      "DY\n",
      "TT\n",
      "TTW\n",
      "DoubleMuon\n"
     ]
    },
    {
     "data": {
      "image/png": "[encoded data removed]",
      "text/plain": [
       "<Figure size 504x504 with 1 Axes>"
      ]
     },
     "metadata": {
      "needs_background": "light"
     },
     "output_type": "display_data"
    }
   ],
   "source": [
    "#from plots.helpers import *\n",
    "bins = {\\\n",
    "    'MET_pt':   {'axis': 'pt',            'overflow':'over',  'bins': hist.Bin('pt', r'$p_T^{miss} \\ (GeV)$', 20, 0, 200)},\n",
    "    'dimuon_mass':   {'axis': 'mass',     'overflow':'over',  'bins': hist.Bin('mass', r'$M_{\\mu\\mu} \\ (GeV)$', 100, 50, 150)},\n",
    "    'lead_mu_pt':   {'axis': 'pt',     'overflow':'over',  'bins': hist.Bin('pt', r'$p_{T} (leading muon) \\ (GeV)$', 25, 0, 250)},\n",
    "    'sublead_mu_pt':   {'axis': 'pt',     'overflow':'over',  'bins': hist.Bin('pt', r'$p_{T} (subleading muon) \\ (GeV)$', 200, 0, 200)},\n",
    "    }\n",
    "\n",
    "plotDir = os.path.expandvars(cfg['meta']['plots']) + '/dump/'\n",
    "finalizePlotDir(plotDir)\n",
    "\n",
    "name = 'MET_pt'\n",
    "\n",
    "import copy\n",
    "\n",
    "histogram = copy.deepcopy(output[name])\n",
    "\n",
    "## Scale\n",
    "data_lumi = 6.9 # this is just for 2018C, and that's what we're currently looking at\n",
    "\n",
    "scales = { sample: data_lumi*1000*samples[sample]['xsec']/samples[sample]['sumWeight'] for sample in sample_list if not 'Run201' in sample }\n",
    "histogram.scale(scales, axis='dataset')\n",
    "\n",
    "## Rebin\n",
    "axis = bins[name]['axis']\n",
    "histogram = histogram.rebin(axis, bins[name]['bins'])\n",
    "\n",
    "## Merge. This is still rather stupid, but ok.\n",
    "for cat in categories:\n",
    "    print (cat)\n",
    "    if len(categories[cat])>1:\n",
    "        for sample in categories[cat][1:]:\n",
    "            histogram[categories[cat][0]].add(histogram[sample])\n",
    "            histogram = histogram.remove([sample], 'dataset')\n",
    "\n",
    "#histogram = histogram.remove(['/DoubleMuon/Run2018C-02Apr2020-v1/NANOAOD'], 'dataset')\n",
    "            \n",
    "fig, ax = plt.subplots(1,1,figsize=(7,7))\n",
    "\n",
    "import re\n",
    "notdata = re.compile('(?![/]DoubleMuon[/]Run2018C[-]02Apr2020[-]v1[/]NANOAOD)')\n",
    "\n",
    "# get axes\n",
    "hist.plot1d(histogram[notdata],overlay=\"dataset\", ax=ax, stack=False, overflow=bins[name]['overflow'], clear=False, line_opts=None, fill_opts=fill_opts, error_opts=error_opts, order=sample_list.reverse()) #error_opts??\n",
    "hist.plot1d(histogram['/DoubleMuon/Run2018C-02Apr2020-v1/NANOAOD'], overlay=\"dataset\", ax=ax, overflow=bins[name]['overflow'], error_opts=data_err_opts, clear=False)\n",
    "\n",
    "saveFig(fig, ax, None, plotDir, name, scale='log', shape=False, y_max=100000)"
   ]
  },
  {
   "cell_type": "code",
   "execution_count": 44,
   "metadata": {},
   "outputs": [
    {
     "name": "stderr",
     "output_type": "stream",
     "text": [
      "distributed.client - ERROR - Failed to reconnect to scheduler after 10.00 seconds, closing client\n",
      "distributed.client - ERROR - Failed to reconnect to scheduler after 10.00 seconds, closing client\n",
      "distributed.client - ERROR - Failed to reconnect to scheduler after 10.00 seconds, closing client\n",
      "_GatheringFuture exception was never retrieved\n",
      "future: <_GatheringFuture finished exception=CancelledError()>\n",
      "asyncio.exceptions.CancelledError\n",
      "_GatheringFuture exception was never retrieved\n",
      "future: <_GatheringFuture finished exception=CancelledError()>\n",
      "asyncio.exceptions.CancelledError\n",
      "_GatheringFuture exception was never retrieved\n",
      "future: <_GatheringFuture finished exception=CancelledError()>\n",
      "asyncio.exceptions.CancelledError\n"
     ]
    }
   ],
   "source": [
    "cluster.close()"
   ]
  },
  {
   "cell_type": "code",
   "execution_count": null,
   "metadata": {},
   "outputs": [],
   "source": []
  }
 ],
 "metadata": {
  "kernelspec": {
   "display_name": "daskanalysisenv",
   "language": "python",
   "name": "daskanalysisenv"
  },
  "language_info": {
   "codemirror_mode": {
    "name": "ipython",
    "version": 3
   },
   "file_extension": ".py",
   "mimetype": "text/x-python",
   "name": "python",
   "nbconvert_exporter": "python",
   "pygments_lexer": "ipython3",
   "version": "3.8.6"
  }
 },
 "nbformat": 4,
 "nbformat_minor": 4
}
