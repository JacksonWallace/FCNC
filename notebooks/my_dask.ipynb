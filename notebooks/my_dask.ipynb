{
 "cells": [
  {
   "cell_type": "code",
   "execution_count": 1,
   "metadata": {},
   "outputs": [],
   "source": [
    "%matplotlib inline\n",
    "import numpy as np\n",
    "import pandas as pd\n",
    "\n",
    "from dask.distributed import Client\n",
    "import distributed\n",
    "\n",
    "from Tools.condor_utils import make_htcondor_cluster\n",
    "from Tools.objects import Collections\n",
    "from Tools.cutflow import Cutflow\n",
    "\n",
    "from dask.distributed import Client, progress\n",
    "\n",
    "import Tools.utils\n",
    "import glob\n",
    "import uproot4\n",
    "import awkward1 as ak\n",
    "\n",
    "import matplotlib.pyplot as plt"
   ]
  },
  {
   "cell_type": "code",
   "execution_count": 2,
   "metadata": {
    "scrolled": false
   },
   "outputs": [
    {
     "data": {
      "application/vnd.jupyter.widget-view+json": {
       "model_id": "5a7249363ed34ea4b601214ef50fa0bb",
       "version_major": 2,
       "version_minor": 0
      },
      "text/plain": [
       "VBox(children=(HTML(value='<h2>UCSDHTCondorCluster</h2>'), HBox(children=(HTML(value='\\n<div>\\n  <style scoped…"
      ]
     },
     "metadata": {},
     "output_type": "display_data"
    }
   ],
   "source": [
    "cluster = make_htcondor_cluster(local=False, dashboard_address=13349)\n",
    "cluster"
   ]
  },
  {
   "cell_type": "code",
   "execution_count": 3,
   "metadata": {},
   "outputs": [],
   "source": [
    "cluster.scale(20)"
   ]
  },
  {
   "cell_type": "code",
   "execution_count": 4,
   "metadata": {},
   "outputs": [
    {
     "data": {
      "text/html": [
       "<table style=\"border: 2px solid white;\">\n",
       "<tr>\n",
       "<td style=\"vertical-align: top; border: 0px solid white\">\n",
       "<h3 style=\"text-align: left;\">Client</h3>\n",
       "<ul style=\"text-align: left; list-style: none; margin: 0; padding: 0;\">\n",
       "  <li><b>Scheduler: </b>tcp://169.228.130.5:2040</li>\n",
       "  <li><b>Dashboard: </b><a href='http://169.228.130.5:13349/status' target='_blank'>http://169.228.130.5:13349/status</a></li>\n",
       "</ul>\n",
       "</td>\n",
       "<td style=\"vertical-align: top; border: 0px solid white\">\n",
       "<h3 style=\"text-align: left;\">Cluster</h3>\n",
       "<ul style=\"text-align: left; list-style:none; margin: 0; padding: 0;\">\n",
       "  <li><b>Workers: </b>20</li>\n",
       "  <li><b>Cores: </b>20</li>\n",
       "  <li><b>Memory: </b>80.00 GB</li>\n",
       "</ul>\n",
       "</td>\n",
       "</tr>\n",
       "</table>"
      ],
      "text/plain": [
       "<Client: 'tcp://169.228.130.5:2040' processes=20 threads=20, memory=80.00 GB>"
      ]
     },
     "execution_count": 4,
     "metadata": {},
     "output_type": "execute_result"
    }
   ],
   "source": [
    "c = Client(cluster)\n",
    "c"
   ]
  },
  {
   "cell_type": "code",
   "execution_count": 5,
   "metadata": {},
   "outputs": [],
   "source": [
    "# load samples\n",
    "import yaml\n",
    "from yaml import Loader, Dumper\n",
    "import os\n",
    "\n",
    "\n",
    "data_path = os.path.expandvars('$TWHOME/data/')\n",
    "with open(data_path+'samples.yaml') as f:\n",
    "    samples = yaml.load(f, Loader=Loader)"
   ]
  },
  {
   "cell_type": "code",
   "execution_count": 6,
   "metadata": {},
   "outputs": [],
   "source": [
    "# these are all samples, but for now let's just use a subset\n",
    "\n",
    "sample_list = samples.keys()"
   ]
  },
  {
   "cell_type": "code",
   "execution_count": 166,
   "metadata": {},
   "outputs": [],
   "source": [
    "fileset = {}\n",
    "\n",
    "sample_list = [\n",
    "    '/TTWJetsToLNu_TuneCP5_13TeV-amcatnloFXFX-madspin-pythia8/RunIIAutumn18NanoAODv6-Nano25Oct2019_102X_upgrade2018_realistic_v20_ext1-v1/NANOAODSIM',\n",
    "    '/TTWJetsToQQ_TuneCP5_13TeV-amcatnloFXFX-madspin-pythia8/RunIIAutumn18NanoAODv6-Nano25Oct2019_102X_upgrade2018_realistic_v20-v1/NANOAODSIM',\n",
    "    '/TTJets_DiLept_TuneCP5_13TeV-madgraphMLM-pythia8/RunIIAutumn18NanoAODv6-Nano25Oct2019_102X_upgrade2018_realistic_v20-v1/NANOAODSIM',\n",
    "    '/DYJetsToLL_M-50_TuneCP5_13TeV-madgraphMLM-pythia8/RunIIAutumn18NanoAODv6-Nano25Oct2019_102X_upgrade2018_realistic_v20-v1/NANOAODSIM',\n",
    "]\n",
    "\n",
    "sample_list = [\n",
    "    '/DoubleMuon/Run2018C-02Apr2020-v1/NANOAOD',\n",
    "]\n",
    "\n",
    "\n",
    "for sample in sample_list:\n",
    "    #if sample.count('Run201'): continue # can't handle data yet (missing GoldenJson support)\n",
    "    if not samples[sample]['files'][0].startswith('/hadoop/'):\n",
    "        fileset.update({sample: [ 'root://xrootd.t2.ucsd.edu:2040/%s'%x for x in samples[sample]['files'] ]})\n",
    "    else:\n",
    "        fileset.update({sample: samples[sample]['files']})\n",
    "\n"
   ]
  },
  {
   "cell_type": "code",
   "execution_count": 152,
   "metadata": {},
   "outputs": [
    {
     "name": "stdout",
     "output_type": "stream",
     "text": [
      "CPU times: user 7 µs, sys: 1e+03 ns, total: 8 µs\n",
      "Wall time: 13.6 µs\n"
     ]
    }
   ],
   "source": [
    "%%time\n",
    "\n",
    "small = False\n",
    "\n",
    "if small:\n",
    "\n",
    "    fileset = {\n",
    "        #'topW': samples['/hadoop/cms/store/user/dspitzba/tW_scattering/tW_scattering/nanoAOD/']['files'],\n",
    "        'DY': ['root://xrootd.t2.ucsd.edu:2040//store/mc/RunIIAutumn18NanoAODv6/ST_t-channel_4f_leptonDecays_TuneCP5_PSweights_13TeV-amcatnlo-pythia8/NANOAODSIM/Nano25Oct2019_102X_upgrade2018_realistic_v20-v1/130000/BD88080F-534D-4541-A036-5B4A76A62C55.root']\n",
    "    }\n"
   ]
  },
  {
   "cell_type": "code",
   "execution_count": 167,
   "metadata": {},
   "outputs": [],
   "source": [
    "from yaml import load, dump\n",
    "try:\n",
    "    from yaml import CLoader as Loader, CDumper as Dumper\n",
    "except ImportError:\n",
    "    from yaml import Loader, Dumper\n",
    "\n",
    "\n",
    "with open('../data/objects.yaml') as f:\n",
    "    obj_def = load(f, Loader=Loader)\n",
    "\n",
    "class Collections:\n",
    "    def __init__(self, df, obj, wp, verbose=0):\n",
    "        self.obj = obj\n",
    "        self.wp = wp\n",
    "        self.selection_dict = obj_def[self.obj][self.wp]\n",
    "\n",
    "        self.v = verbose\n",
    "        #self.year = df['year'][0] ## to be implemented in next verison of babies\n",
    "        self.year = 2018\n",
    "        \n",
    "        # jets for cross-object quantities\n",
    "        jets = JaggedCandidateArray.candidatesfromcounts(\n",
    "            df['nJet'],\n",
    "            pt=df['Jet_pt'].content,\n",
    "            eta=df['Jet_eta'].content,\n",
    "            phi=df['Jet_phi'].content,\n",
    "            mass=df['Jet_mass'].content,\n",
    "            btagDeepFlavB=df['Jet_btagDeepFlavB'].content,\n",
    "            btagDeepB=df['Jet_btagDeepB'].content,\n",
    "        )\n",
    "        \n",
    "        if self.obj == \"Muon\":\n",
    "            self.cand = JaggedCandidateArray.candidatesfromcounts(\n",
    "                df['nMuon'],\n",
    "                pt               = df['Muon_pt'].content,\n",
    "                eta              = df['Muon_eta'].content,\n",
    "                phi              = df['Muon_phi'].content,\n",
    "                mass             = df['Muon_mass'].content,\n",
    "                charge           = df['Muon_charge'].content,\n",
    "                pdgId            = df['Muon_pdgId'].content,\n",
    "                mediumId         = df['Muon_mediumId'].content,\n",
    "                looseId          = df['Muon_looseId'].content,\n",
    "                dxy              = df['Muon_dxy'].content,\n",
    "                dz               = df['Muon_dz'].content,\n",
    "                sip3d            = df['Muon_sip3d'].content,\n",
    "                miniPFRelIso_all = df['Muon_miniPFRelIso_all'].content,\n",
    "                ptErrRel         = (df['Muon_ptErr']/df['Muon_pt']).content,\n",
    "                absMiniIso       = (df['Muon_miniPFRelIso_all']*df['Muon_pt']).content,\n",
    "                mvaTTH           = df['Muon_mvaTTH'].content,\n",
    "                genPartIdx       = df['Muon_genPartIdx'].content,\n",
    "                jetRelIso        = df['Muon_jetRelIso'].content,\n",
    "                jetPtRelv2       = df['Muon_jetPtRelv2'].content,\n",
    "                jetIdx           = df['Muon_jetIdx'].content,\n",
    "                #deepJet          = jets[df['Muon_jetIdx']].btagDeepFlavB.content,\n",
    "            )\n",
    "            \n",
    "            #self.cand.deepJet = \n",
    "        \n",
    "        elif self.obj == \"Electron\":\n",
    "            self.cand = JaggedCandidateArray.candidatesfromcounts(\n",
    "                df['nElectron'],\n",
    "                pt               = df['Electron_pt'].content,\n",
    "                #conePt           = df[]\n",
    "                eta              = df['Electron_eta'].content,\n",
    "                phi              = df['Electron_phi'].content,\n",
    "                mass             = df['Electron_mass'].content,\n",
    "                charge           = df['Electron_charge'].content,\n",
    "                pdgId            = df['Electron_pdgId'].content,\n",
    "                dxy              = df['Electron_dxy'].content,\n",
    "                dz               = df['Electron_dz'].content,\n",
    "                sip3d            = df['Electron_sip3d'].content,\n",
    "                miniPFRelIso_all = df['Electron_miniPFRelIso_all'].content,\n",
    "                absMiniIso       = (df['Electron_miniPFRelIso_all']*df['Electron_pt']).content,\n",
    "                mvaFall17V2noIso = df['Electron_mvaFall17V2noIso'].content,\n",
    "                mvaTTH           = df['Electron_mvaTTH'].content,\n",
    "                genPartIdx       = df['Electron_genPartIdx'].content,\n",
    "                etaSC            = (df['Electron_eta'] + df['Electron_deltaEtaSC']).content, # verify this\n",
    "                jetRelIso        = df['Electron_jetRelIso'].content,\n",
    "                jetPtRelv2       = df['Electron_jetPtRelv2'].content,\n",
    "                convVeto         = df['Electron_convVeto'].content,\n",
    "                lostHits         = df['Electron_lostHits'].content,\n",
    "                tightCharge      = df['Electron_tightCharge'].content,\n",
    "                sieie            = df['Electron_sieie'].content,\n",
    "                hoe              = df['Electron_hoe'].content,\n",
    "                eInvMinusPInv    = df['Electron_eInvMinusPInv'].content,\n",
    "                mvaFall17V2noIso_WPL = df['Electron_mvaFall17V2noIso_WPL'].content,\n",
    "                jetIdx           = df['Electron_jetIdx'].content,\n",
    "                #deepJet          = jets[df['Electron_jetIdx']].btagDeepFlavB.content,\n",
    "            )\n",
    "            \n",
    "        self.getSelection()\n",
    "        \n",
    "        if self.obj == \"Electron\" and self.wp == \"tight\":\n",
    "            self.selection = self.selection & self.getElectronMVAID() & self.getIsolation(0.07, 0.78, 8.0)\n",
    "        if self.obj == \"Muon\" and self.wp == \"tight\":\n",
    "            self.selection = self.selection & self.getIsolation(0.11, 0.74, 6.8)\n",
    "        if self.obj == \"Electron\" and self.wp == \"tightTTH\":\n",
    "            self.selection = self.selection & self.getSigmaIEtaIEta()\n",
    "        \n",
    "    def getValue(self, var):\n",
    "        #return np.nan_to_num(getattr(self.cand, var), -999)\n",
    "        return getattr(self.cand, var)\n",
    "    \n",
    "    def getSelection(self):\n",
    "        self.selection = (self.cand.pt>0)\n",
    "        if self.v>0: print (\"## %s selection for WP %s ##\"%(self.obj, self.wp))\n",
    "        for var in obj_def[self.obj][self.wp].keys():\n",
    "            #print (var)\n",
    "            if type(obj_def[self.obj][self.wp][var]) == type(1):\n",
    "                if self.v>0: print (\" - %s == %s\"%(var, obj_def[self.obj][self.wp][var]))\n",
    "                self.selection = self.selection & ( self.getValue(var) == obj_def[self.obj][self.wp][var])\n",
    "            else:\n",
    "                extra = obj_def[self.obj][self.wp][var].get('extra')\n",
    "                if extra=='abs':\n",
    "                    try:\n",
    "                        self.selection = self.selection & (abs(self.getValue(var)) >= obj_def[self.obj][self.wp][var][self.year]['min'])\n",
    "                        if self.v>0: print (\" - abs(%s) >= %s\"%(var, obj_def[self.obj][self.wp][var][self.year]['min']))\n",
    "                    except:\n",
    "                        pass\n",
    "                    try:\n",
    "                        self.selection = self.selection & (abs(self.getValue(var)) >= obj_def[self.obj][self.wp][var]['min'])\n",
    "                        if self.v>0: print (\" - abs(%s) >= %s\"%(var, obj_def[self.obj][self.wp][var]['min']))\n",
    "                    except:\n",
    "                        pass\n",
    "                    try:\n",
    "                        self.selection = self.selection & (abs(self.getValue(var)) <= obj_def[self.obj][self.wp][var][self.year]['max'])\n",
    "                        if self.v>0: print (\" - abs(%s) <= %s\"%(var, obj_def[self.obj][self.wp][var][self.year]['max']))\n",
    "                    except:\n",
    "                        pass\n",
    "                    try:\n",
    "                        self.selection = self.selection & (abs(self.getValue(var)) <= obj_def[self.obj][self.wp][var]['max'])\n",
    "                        if self.v>0: print (\" - abs(%s) <= %s\"%(var, obj_def[self.obj][self.wp][var]['max']))\n",
    "                    except:\n",
    "                        pass\n",
    "                else:\n",
    "                    try:\n",
    "                        self.selection = self.selection & (self.getValue(var) >= obj_def[self.obj][self.wp][var][self.year]['min'])\n",
    "                        if self.v>0: print (\" - %s >= %s\"%(var, obj_def[self.obj][self.wp][var][self.year]['min']))\n",
    "                    except:\n",
    "                        pass\n",
    "                    try:\n",
    "                        self.selection = self.selection & (self.getValue(var) >= obj_def[self.obj][self.wp][var]['min'])\n",
    "                        if self.v>0: print (\" - %s >= %s\"%(var, obj_def[self.obj][self.wp][var]['min']))\n",
    "                    except:\n",
    "                        pass\n",
    "                    try:\n",
    "                        self.selection = self.selection & (self.getValue(var) <= obj_def[self.obj][self.wp][var][self.year]['max'])\n",
    "                        if self.v>0: print (\" - %s <= %s\"%(var, obj_def[self.obj][self.wp][var][self.year]['max']))\n",
    "                    except:\n",
    "                        pass\n",
    "                    try:\n",
    "                        self.selection = self.selection & (self.getValue(var) <= obj_def[self.obj][self.wp][var]['max'])\n",
    "                        if self.v>0: print (\" - %s <= %s\"%(var, obj_def[self.obj][self.wp][var]['max']))\n",
    "                    except:\n",
    "                        pass\n",
    "                    \n",
    "        if self.v>0: print ()\n",
    "                    \n",
    "    def get(self):\n",
    "        return self.cand[self.selection]\n",
    "        #return selection\n",
    "        \n",
    "    #def getCuts(self, etaSC, pt):\n",
    "    #    if etaSC<0.8: return 2.597\n",
    "    \n",
    "    def getSigmaIEtaIEta(self):\n",
    "        return ((abs(self.cand.etaSC)<=1.479) & (self.cand.sieie<0.011)) | ((abs(self.cand.etaSC)>1.479) & (self.cand.sieie<0.030))\n",
    "    \n",
    "    def getMVAscore(self):\n",
    "        MVA = np.minimum(np.maximum(self.cand.mvaFall17V2noIso, -1.0 + 1.e-6), 1.0 - 1.e-6)\n",
    "        return -0.5*np.log(2/(MVA+1)-1)\n",
    "    \n",
    "    ## some more involved cuts from SS analysis\n",
    "    def getElectronMVAID(self):\n",
    "        # this should be year specific, only 2018 for now\n",
    "        lowEtaCuts  = 2.597, 4.277, 2.597\n",
    "        midEtaCuts  = 2.252, 3.152, 2.252\n",
    "        highEtaCuts = 1.054, 2.359, 1.054\n",
    "        lowEta      = ( abs(self.cand.etaSC) < 0.8 )\n",
    "        midEta      = ( (abs(self.cand.etaSC) <= 1.479) & (abs(self.cand.etaSC) >= 0.8) )\n",
    "        highEta     = ( abs(self.cand.etaSC) > 1.479 )\n",
    "        lowPt       = ( self.cand.pt < 10 )\n",
    "        midPt       = ( (self.cand.pt <= 25) & (self.cand.pt >= 10) )\n",
    "        highPt      = (self.cand.pt > 25)\n",
    "        \n",
    "        MVA = self.getMVAscore()\n",
    "        \n",
    "        ll = ( lowEta & lowPt & (MVA > lowEtaCuts[2] ) )\n",
    "        lm = ( lowEta & midPt & (MVA > (lowEtaCuts[0]+(lowEtaCuts[1]-lowEtaCuts[0])/15*(self.cand.pt-10)) ) )\n",
    "        lh = ( lowEta & highPt & (MVA > lowEtaCuts[1] ) )\n",
    "\n",
    "        ml = ( midEta & lowPt & (MVA > midEtaCuts[2] ) )\n",
    "        mm = ( midEta & midPt & (MVA > (midEtaCuts[0]+(midEtaCuts[1]-midEtaCuts[0])/15*(self.cand.pt-10)) ) )\n",
    "        mh = ( midEta & highPt & (MVA > midEtaCuts[1] ) )\n",
    "\n",
    "        hl = ( highEta & lowPt & (MVA > highEtaCuts[2] ) )\n",
    "        hm = ( highEta & midPt & (MVA > (highEtaCuts[0]+(highEtaCuts[1]-highEtaCuts[0])/15*(self.cand.pt-10)) ) )\n",
    "        hh = ( highEta & highPt & (MVA > highEtaCuts[1] ) )\n",
    "        \n",
    "        return ( ll | lm | lh | ml | mm | mh | hl | hm | hh )\n",
    "    \n",
    "    ## SS isolation\n",
    "    def getIsolation(self, mini, jet, jetv2 ):\n",
    "        # again, this is only for 2018 so far\n",
    "        jetRelIso = 1/(self.cand.jetRelIso+1)\n",
    "        return ( (self.cand.miniPFRelIso_all < mini) & ( (jetRelIso>jet) | (self.cand.jetPtRelv2>jetv2) ) )\n",
    "        "
   ]
  },
  {
   "cell_type": "code",
   "execution_count": 176,
   "metadata": {},
   "outputs": [],
   "source": [
    "import numpy as np\n",
    "import pandas as pd\n",
    "import matplotlib.pyplot as plt\n",
    "from tqdm.auto import tqdm\n",
    "\n",
    "#import uproot\n",
    "import uproot_methods\n",
    "import awkward\n",
    "from awkward import JaggedArray\n",
    "\n",
    "from coffea import hist\n",
    "from coffea.analysis_objects import JaggedCandidateArray\n",
    "from coffea.processor import LazyDataFrame\n",
    "from coffea.lumi_tools import LumiData, LumiMask, LumiList\n",
    "\n",
    "import coffea.processor as processor\n",
    "\n",
    "class SimpleProcessor(processor.ProcessorABC):\n",
    "    def __init__(self):\n",
    "        dataset_axis = hist.Cat(\"dataset\", \"Primary dataset\")\n",
    "        pt_axis = hist.Bin(\"pt\", r\"$p_{T,\\mu}$ [GeV]\", 1000, 0, 500)\n",
    "        \n",
    "        self._accumulator = processor.dict_accumulator({\n",
    "            'MET_pt': hist.Hist(\"Counts\", dataset_axis, pt_axis),\n",
    "            'cutflow': processor.defaultdict_accumulator(int),\n",
    "            'workers': processor.set_accumulator(),\n",
    "            'entries': processor.defaultdict_accumulator(int),\n",
    "        })\n",
    "        \n",
    "    @property\n",
    "    def accumulator(self):\n",
    "        return self._accumulator\n",
    "    \n",
    "    def process(self, df):\n",
    "        output = self.accumulator.identity()\n",
    "        \n",
    "        try:\n",
    "            from dask.distributed import get_worker\n",
    "            output[\"workers\"].add(get_worker().name)\n",
    "        except:\n",
    "            pass\n",
    "\n",
    "        dataset = df['dataset']\n",
    "        \n",
    "        # this needs to be shipped to the worker, too\n",
    "        self.lumimask = LumiMask(\"Cert_314472-325175_13TeV_17SeptEarlyReReco2018ABC_PromptEraD_Collisions18_JSON.txt\")\n",
    "\n",
    "        runs = df['run']\n",
    "        lumis = df['luminosityBlock']\n",
    "        if dataset.count(\"Run\"):\n",
    "            mask = self.lumimask(runs, lumis)\n",
    "        else:\n",
    "            mask = np.ones(len(df['MET_pt']))\n",
    "            \n",
    "        trigger = df['HLT_Mu17_TrkIsoVVL_Mu8_TrkIsoVVL_DZ_Mass3p8']\n",
    "        \n",
    "        output['entries']['all'] += len(df['MET_pt'])\n",
    "\n",
    "        ## Muon selection. We might need to ship the Tools to the workers, too...\n",
    "        #muon = Collections(df, \"Muon\", \"tight\").get()\n",
    "        #vetomuon = Collections(df, \"Muon\", \"veto\").get()\n",
    "        #dimuon = muon.choose(2)\n",
    "        \n",
    "        ## preselection of events. take only off-Z events with no fake\n",
    "        #selection = ( (muon.counts==2) & (vetomuon.count==2) & (abs(dimuon.mass-91.2)>10).any() )\n",
    "\n",
    "        selection = (df['nMuon']>=1) & trigger & mask\n",
    "        \n",
    "        # And fill the histograms\n",
    "        if dataset.count(\"Run\"):\n",
    "            output['MET_pt'].fill(dataset=dataset, pt=df[\"MET_pt\"][selection].flatten())\n",
    "        else:\n",
    "            output['MET_pt'].fill(dataset=dataset, pt=df[\"MET_pt\"][selection].flatten(), weight=df['genWeight'][selection])\n",
    "\n",
    "        return output\n",
    "\n",
    "    def postprocess(self, accumulator):\n",
    "        return accumulator"
   ]
  },
  {
   "cell_type": "code",
   "execution_count": 178,
   "metadata": {
    "scrolled": false
   },
   "outputs": [
    {
     "name": "stdout",
     "output_type": "stream",
     "text": [
      "[                                        ] | 0% Completed | 12.5s\r"
     ]
    },
    {
     "ename": "Exception",
     "evalue": "Failed processing file: root://xrootd.t2.ucsd.edu:2040//store/data/Run2018C/DoubleMuon/NANOAOD/02Apr2020-v1/240000/84E9DE74-6034-7E4C-B249-D01354BA1338.root (0-228306)",
     "output_type": "error",
     "traceback": [
      "\u001b[0;31m---------------------------------------------------------------------------\u001b[0m",
      "\u001b[0;31mFileNotFoundError\u001b[0m                         Traceback (most recent call last)",
      "\u001b[0;32m/srv/temp/daskworkerenv/lib/python3.8/site-packages/coffea/processor/executor.py\u001b[0m in \u001b[0;36m_work_function\u001b[0;34m()\u001b[0m\n",
      "\u001b[0;32m<ipython-input-176-ba94f1cb519b>\u001b[0m in \u001b[0;36mprocess\u001b[0;34m()\u001b[0m\n\u001b[1;32m     44\u001b[0m \u001b[0;34m\u001b[0m\u001b[0m\n\u001b[0;32m---> 45\u001b[0;31m         \u001b[0mself\u001b[0m\u001b[0;34m.\u001b[0m\u001b[0mlumimask\u001b[0m \u001b[0;34m=\u001b[0m \u001b[0mLumiMask\u001b[0m\u001b[0;34m(\u001b[0m\u001b[0;34m\"Cert_314472-325175_13TeV_17SeptEarlyReReco2018ABC_PromptEraD_Collisions18_JSON.txt\"\u001b[0m\u001b[0;34m)\u001b[0m\u001b[0;34m\u001b[0m\u001b[0;34m\u001b[0m\u001b[0m\n\u001b[0m\u001b[1;32m     46\u001b[0m \u001b[0;34m\u001b[0m\u001b[0m\n",
      "\u001b[0;32m/srv/temp/daskworkerenv/lib/python3.8/site-packages/coffea/lumi_tools/lumi_tools.py\u001b[0m in \u001b[0;36m__init__\u001b[0;34m()\u001b[0m\n",
      "\u001b[0;31mFileNotFoundError\u001b[0m: [Errno 2] No such file or directory: 'Cert_314472-325175_13TeV_17SeptEarlyReReco2018ABC_PromptEraD_Collisions18_JSON.txt'",
      "\nThe above exception was the direct cause of the following exception:\n",
      "\u001b[0;31mException\u001b[0m                                 Traceback (most recent call last)",
      "\u001b[0;32m<ipython-input-178-26e6ab8de9e1>\u001b[0m in \u001b[0;36m<module>\u001b[0;34m\u001b[0m\n\u001b[1;32m     23\u001b[0m \u001b[0;34m\u001b[0m\u001b[0m\n\u001b[1;32m     24\u001b[0m \u001b[0;34m\u001b[0m\u001b[0m\n\u001b[0;32m---> 25\u001b[0;31m output = processor.run_uproot_job(fileset,\n\u001b[0m\u001b[1;32m     26\u001b[0m                                 \u001b[0mtreename\u001b[0m \u001b[0;34m=\u001b[0m \u001b[0;34m'Events'\u001b[0m\u001b[0;34m,\u001b[0m\u001b[0;34m\u001b[0m\u001b[0;34m\u001b[0m\u001b[0m\n\u001b[1;32m     27\u001b[0m                                 \u001b[0mprocessor_instance\u001b[0m \u001b[0;34m=\u001b[0m \u001b[0mSimpleProcessor\u001b[0m\u001b[0;34m(\u001b[0m\u001b[0;34m)\u001b[0m\u001b[0;34m,\u001b[0m\u001b[0;34m\u001b[0m\u001b[0;34m\u001b[0m\u001b[0m\n",
      "\u001b[0;32m~/miniconda3/envs/daskanalysisenv/lib/python3.8/site-packages/coffea/processor/executor.py\u001b[0m in \u001b[0;36mrun_uproot_job\u001b[0;34m(fileset, treename, processor_instance, executor, executor_args, pre_executor, pre_args, chunksize, maxchunks, metadata_cache)\u001b[0m\n\u001b[1;32m   1128\u001b[0m     }\n\u001b[1;32m   1129\u001b[0m     \u001b[0mexe_args\u001b[0m\u001b[0;34m.\u001b[0m\u001b[0mupdate\u001b[0m\u001b[0;34m(\u001b[0m\u001b[0mexecutor_args\u001b[0m\u001b[0;34m)\u001b[0m\u001b[0;34m\u001b[0m\u001b[0;34m\u001b[0m\u001b[0m\n\u001b[0;32m-> 1130\u001b[0;31m     \u001b[0mexecutor\u001b[0m\u001b[0;34m(\u001b[0m\u001b[0mchunks\u001b[0m\u001b[0;34m,\u001b[0m \u001b[0mclosure\u001b[0m\u001b[0;34m,\u001b[0m \u001b[0mwrapped_out\u001b[0m\u001b[0;34m,\u001b[0m \u001b[0;34m**\u001b[0m\u001b[0mexe_args\u001b[0m\u001b[0;34m)\u001b[0m\u001b[0;34m\u001b[0m\u001b[0;34m\u001b[0m\u001b[0m\n\u001b[0m\u001b[1;32m   1131\u001b[0m \u001b[0;34m\u001b[0m\u001b[0m\n\u001b[1;32m   1132\u001b[0m     \u001b[0mwrapped_out\u001b[0m\u001b[0;34m[\u001b[0m\u001b[0;34m'metrics'\u001b[0m\u001b[0;34m]\u001b[0m\u001b[0;34m[\u001b[0m\u001b[0;34m'chunks'\u001b[0m\u001b[0;34m]\u001b[0m \u001b[0;34m=\u001b[0m \u001b[0mvalue_accumulator\u001b[0m\u001b[0;34m(\u001b[0m\u001b[0mint\u001b[0m\u001b[0;34m,\u001b[0m \u001b[0mlen\u001b[0m\u001b[0;34m(\u001b[0m\u001b[0mchunks\u001b[0m\u001b[0;34m)\u001b[0m\u001b[0;34m)\u001b[0m\u001b[0;34m\u001b[0m\u001b[0;34m\u001b[0m\u001b[0m\n",
      "\u001b[0;32m~/miniconda3/envs/daskanalysisenv/lib/python3.8/site-packages/coffea/processor/executor.py\u001b[0m in \u001b[0;36mdask_executor\u001b[0;34m(items, function, accumulator, **kwargs)\u001b[0m\n\u001b[1;32m    658\u001b[0m         \u001b[0;31m# FIXME: fancy widget doesn't appear, have to live with boring pbar\u001b[0m\u001b[0;34m\u001b[0m\u001b[0;34m\u001b[0m\u001b[0;34m\u001b[0m\u001b[0m\n\u001b[1;32m    659\u001b[0m         \u001b[0mprogress\u001b[0m\u001b[0;34m(\u001b[0m\u001b[0mwork\u001b[0m\u001b[0;34m,\u001b[0m \u001b[0mmulti\u001b[0m\u001b[0;34m=\u001b[0m\u001b[0;32mTrue\u001b[0m\u001b[0;34m,\u001b[0m \u001b[0mnotebook\u001b[0m\u001b[0;34m=\u001b[0m\u001b[0;32mFalse\u001b[0m\u001b[0;34m)\u001b[0m\u001b[0;34m\u001b[0m\u001b[0;34m\u001b[0m\u001b[0m\n\u001b[0;32m--> 660\u001b[0;31m     \u001b[0maccumulator\u001b[0m \u001b[0;34m+=\u001b[0m \u001b[0m_maybe_decompress\u001b[0m\u001b[0;34m(\u001b[0m\u001b[0mwork\u001b[0m\u001b[0;34m.\u001b[0m\u001b[0mresult\u001b[0m\u001b[0;34m(\u001b[0m\u001b[0;34m)\u001b[0m\u001b[0;34m)\u001b[0m\u001b[0;34m\u001b[0m\u001b[0;34m\u001b[0m\u001b[0m\n\u001b[0m\u001b[1;32m    661\u001b[0m     \u001b[0;32mreturn\u001b[0m \u001b[0maccumulator\u001b[0m\u001b[0;34m\u001b[0m\u001b[0;34m\u001b[0m\u001b[0m\n\u001b[1;32m    662\u001b[0m \u001b[0;34m\u001b[0m\u001b[0m\n",
      "\u001b[0;32m~/miniconda3/envs/daskanalysisenv/lib/python3.8/site-packages/distributed/client.py\u001b[0m in \u001b[0;36mresult\u001b[0;34m(self, timeout)\u001b[0m\n\u001b[1;32m    223\u001b[0m         \u001b[0;32mif\u001b[0m \u001b[0mself\u001b[0m\u001b[0;34m.\u001b[0m\u001b[0mstatus\u001b[0m \u001b[0;34m==\u001b[0m \u001b[0;34m\"error\"\u001b[0m\u001b[0;34m:\u001b[0m\u001b[0;34m\u001b[0m\u001b[0;34m\u001b[0m\u001b[0m\n\u001b[1;32m    224\u001b[0m             \u001b[0mtyp\u001b[0m\u001b[0;34m,\u001b[0m \u001b[0mexc\u001b[0m\u001b[0;34m,\u001b[0m \u001b[0mtb\u001b[0m \u001b[0;34m=\u001b[0m \u001b[0mresult\u001b[0m\u001b[0;34m\u001b[0m\u001b[0;34m\u001b[0m\u001b[0m\n\u001b[0;32m--> 225\u001b[0;31m             \u001b[0;32mraise\u001b[0m \u001b[0mexc\u001b[0m\u001b[0;34m.\u001b[0m\u001b[0mwith_traceback\u001b[0m\u001b[0;34m(\u001b[0m\u001b[0mtb\u001b[0m\u001b[0;34m)\u001b[0m\u001b[0;34m\u001b[0m\u001b[0;34m\u001b[0m\u001b[0m\n\u001b[0m\u001b[1;32m    226\u001b[0m         \u001b[0;32melif\u001b[0m \u001b[0mself\u001b[0m\u001b[0;34m.\u001b[0m\u001b[0mstatus\u001b[0m \u001b[0;34m==\u001b[0m \u001b[0;34m\"cancelled\"\u001b[0m\u001b[0;34m:\u001b[0m\u001b[0;34m\u001b[0m\u001b[0;34m\u001b[0m\u001b[0m\n\u001b[1;32m    227\u001b[0m             \u001b[0;32mraise\u001b[0m \u001b[0mresult\u001b[0m\u001b[0;34m\u001b[0m\u001b[0;34m\u001b[0m\u001b[0m\n",
      "\u001b[0;32m/srv/temp/daskworkerenv/lib/python3.8/site-packages/coffea/processor/executor.py\u001b[0m in \u001b[0;36m__call__\u001b[0;34m()\u001b[0m\n",
      "\u001b[0;32m/srv/temp/daskworkerenv/lib/python3.8/site-packages/coffea/processor/executor.py\u001b[0m in \u001b[0;36m_work_function\u001b[0;34m()\u001b[0m\n",
      "\u001b[0;32m/srv/temp/daskworkerenv/lib/python3.8/site-packages/coffea/processor/executor.py\u001b[0m in \u001b[0;36m_work_function\u001b[0;34m()\u001b[0m\n",
      "\u001b[0;31mException\u001b[0m: Failed processing file: root://xrootd.t2.ucsd.edu:2040//store/data/Run2018C/DoubleMuon/NANOAOD/02Apr2020-v1/240000/84E9DE74-6034-7E4C-B249-D01354BA1338.root (0-228306)"
     ]
    }
   ],
   "source": [
    "import time\n",
    "\n",
    "tstart = time.time()\n",
    "\n",
    "runLocal = False\n",
    "\n",
    "\n",
    "if not runLocal:\n",
    "    ## for dask\n",
    "    exe_args = {\n",
    "        'client': c,\n",
    "        #'savemetrics': True,\n",
    "    }\n",
    "    exe = processor.dask_executor\n",
    "\n",
    "else:\n",
    "    ## for local\n",
    "    exe_args = {\n",
    "        'workers': 4,\n",
    "        'function_args': {'flatten': False}\n",
    "    }\n",
    "    exe = processor.futures_executor\n",
    "\n",
    "\n",
    "output = processor.run_uproot_job(fileset,\n",
    "                                treename = 'Events',\n",
    "                                processor_instance = SimpleProcessor(),\n",
    "                                chunksize=250000, #500000,\n",
    "                                executor = exe,\n",
    "                                executor_args = exe_args\n",
    "                                )\n",
    "\n",
    "elapsed = time.time() - tstart\n"
   ]
  },
  {
   "cell_type": "code",
   "execution_count": 110,
   "metadata": {},
   "outputs": [
    {
     "ename": "IndexError",
     "evalue": "jagged array used as index contains out-of-bounds values",
     "output_type": "error",
     "traceback": [
      "\u001b[0;31m---------------------------------------------------------------------------\u001b[0m",
      "\u001b[0;31mIndexError\u001b[0m                                Traceback (most recent call last)",
      "\u001b[0;32m<ipython-input-110-cdd7f169106b>\u001b[0m in \u001b[0;36m<module>\u001b[0;34m\u001b[0m\n\u001b[1;32m      2\u001b[0m \u001b[0;31m# if we do it like this, it is clearly wrong, but it could work\u001b[0m\u001b[0;34m\u001b[0m\u001b[0;34m\u001b[0m\u001b[0;34m\u001b[0m\u001b[0m\n\u001b[1;32m      3\u001b[0m \u001b[0mmyIndex\u001b[0m \u001b[0;34m=\u001b[0m \u001b[0;34m(\u001b[0m\u001b[0;34m(\u001b[0m\u001b[0mmuon\u001b[0m\u001b[0;34m.\u001b[0m\u001b[0mjetIdx\u001b[0m\u001b[0;34m)\u001b[0m\u001b[0;34m<\u001b[0m\u001b[0;36m0\u001b[0m\u001b[0;34m)\u001b[0m\u001b[0;34m*\u001b[0m\u001b[0;36m1\u001b[0m \u001b[0;34m+\u001b[0m \u001b[0mmuon\u001b[0m\u001b[0;34m.\u001b[0m\u001b[0mjetIdx\u001b[0m\u001b[0;34m\u001b[0m\u001b[0;34m\u001b[0m\u001b[0m\n\u001b[0;32m----> 4\u001b[0;31m \u001b[0mjets\u001b[0m\u001b[0;34m[\u001b[0m\u001b[0mmyIndex\u001b[0m\u001b[0;34m]\u001b[0m\u001b[0;34m\u001b[0m\u001b[0;34m\u001b[0m\u001b[0m\n\u001b[0m",
      "\u001b[0;32m~/miniconda3/envs/daskanalysisenv/lib/python3.8/site-packages/awkward/array/jagged.py\u001b[0m in \u001b[0;36m__getitem__\u001b[0;34m(self, where)\u001b[0m\n\u001b[1;32m    554\u001b[0m \u001b[0;34m\u001b[0m\u001b[0m\n\u001b[1;32m    555\u001b[0m                 \u001b[0;32mif\u001b[0m \u001b[0;32mnot\u001b[0m \u001b[0mself\u001b[0m\u001b[0;34m.\u001b[0m\u001b[0mnumpy\u001b[0m\u001b[0;34m.\u001b[0m\u001b[0mbitwise_and\u001b[0m\u001b[0;34m(\u001b[0m\u001b[0;36m0\u001b[0m \u001b[0;34m<=\u001b[0m \u001b[0mindexes\u001b[0m\u001b[0;34m,\u001b[0m \u001b[0mindexes\u001b[0m \u001b[0;34m<\u001b[0m \u001b[0mcounts\u001b[0m\u001b[0;34m)\u001b[0m\u001b[0;34m.\u001b[0m\u001b[0mall\u001b[0m\u001b[0;34m(\u001b[0m\u001b[0;34m)\u001b[0m\u001b[0;34m:\u001b[0m\u001b[0;34m\u001b[0m\u001b[0;34m\u001b[0m\u001b[0m\n\u001b[0;32m--> 556\u001b[0;31m                     \u001b[0;32mraise\u001b[0m \u001b[0mIndexError\u001b[0m\u001b[0;34m(\u001b[0m\u001b[0;34m\"jagged array used as index contains out-of-bounds values\"\u001b[0m\u001b[0;34m)\u001b[0m\u001b[0;34m\u001b[0m\u001b[0;34m\u001b[0m\u001b[0m\n\u001b[0m\u001b[1;32m    557\u001b[0m \u001b[0;34m\u001b[0m\u001b[0m\n\u001b[1;32m    558\u001b[0m                 \u001b[0mindexes\u001b[0m \u001b[0;34m+=\u001b[0m \u001b[0mhead\u001b[0m\u001b[0;34m.\u001b[0m\u001b[0mtojagged\u001b[0m\u001b[0;34m(\u001b[0m\u001b[0mself\u001b[0m\u001b[0;34m.\u001b[0m\u001b[0m_starts\u001b[0m\u001b[0;34m)\u001b[0m\u001b[0;34m.\u001b[0m\u001b[0m_content\u001b[0m\u001b[0;34m\u001b[0m\u001b[0;34m\u001b[0m\u001b[0m\n",
      "\u001b[0;31mIndexError\u001b[0m: jagged array used as index contains out-of-bounds values"
     ]
    }
   ],
   "source": [
    "# define my own index where we use the 0th jet instead of the -1th\n",
    "# if we do it like this, it is clearly wrong, but it could work\n",
    "myIndex = ((muon.jetIdx)<0)*1 + muon.jetIdx\n",
    "jets[myIndex]"
   ]
  },
  {
   "cell_type": "code",
   "execution_count": 156,
   "metadata": {},
   "outputs": [
    {
     "name": "stdout",
     "output_type": "stream",
     "text": [
      "20 total workers\n",
      "1.34643e+08 events in 887.5s @ 151.7kHz, including chunking\n"
     ]
    }
   ],
   "source": [
    "print(\"{nworkers} total workers\".format(nworkers=len(output[\"workers\"])))\n",
    "print(\"{events:g} events in {dt:.1f}s @ {rate:.1f}kHz, including chunking\".format(\n",
    "    events=output[\"entries\"][\"all\"],\n",
    "    dt=elapsed,\n",
    "    rate=output[\"entries\"][\"all\"]/elapsed/1e3,\n",
    "))\n",
    "\n",
    "## This does not yet work because metrics fail...\n",
    "#print(\"Event rate per worker, excluding chunking and file/tree open: {rate:.1f}kHz\".format(\n",
    "#    rate=output[1][\"entries\"].value/output[1][\"processtime\"].value/1e3,\n",
    "#))\n",
    "\n"
   ]
  },
  {
   "cell_type": "markdown",
   "metadata": {},
   "source": [
    "That's a pretty impressive through put (in my opinion).\n",
    "Now, we should proceed as follows:\n",
    "- Scale the histograms with lumi weight\n",
    "- Rebin to a reasonable binning for each variable\n",
    "- Merge some data sets into categories"
   ]
  },
  {
   "cell_type": "code",
   "execution_count": 157,
   "metadata": {},
   "outputs": [
    {
     "data": {
      "text/plain": [
       "{'MET_pt': <Hist (dataset,pt) instance at 0x7ff2ecfbea30>,\n",
       " 'cutflow': defaultdict_accumulator(int, {}),\n",
       " 'workers': {0,\n",
       "  1,\n",
       "  2,\n",
       "  3,\n",
       "  4,\n",
       "  5,\n",
       "  6,\n",
       "  7,\n",
       "  8,\n",
       "  9,\n",
       "  10,\n",
       "  11,\n",
       "  12,\n",
       "  13,\n",
       "  14,\n",
       "  15,\n",
       "  16,\n",
       "  17,\n",
       "  18,\n",
       "  19},\n",
       " 'entries': defaultdict_accumulator(int, {'all': 134643194})}"
      ]
     },
     "execution_count": 157,
     "metadata": {},
     "output_type": "execute_result"
    }
   ],
   "source": [
    "output"
   ]
  },
  {
   "cell_type": "code",
   "execution_count": 158,
   "metadata": {
    "scrolled": true
   },
   "outputs": [
    {
     "data": {
      "image/png": "[encoded data removed]",
      "text/plain": [
       "<Figure size 432x288 with 1 Axes>"
      ]
     },
     "metadata": {
      "needs_background": "light"
     },
     "output_type": "display_data"
    }
   ],
   "source": [
    "## This is what comes out of the box from coffea. Clearly, proper weights are missing.\n",
    "\n",
    "histogram = output['MET_pt']\n",
    "\n",
    "ax = hist.plot1d(histogram,overlay=\"dataset\", stack=False)\n"
   ]
  },
  {
   "cell_type": "code",
   "execution_count": 159,
   "metadata": {},
   "outputs": [],
   "source": [
    "# load the config and the cache\n",
    "from Tools.config_helpers import *\n",
    "cfg = loadConfig()"
   ]
  },
  {
   "cell_type": "code",
   "execution_count": 160,
   "metadata": {},
   "outputs": [],
   "source": [
    "## Define categories. Should make that regex at some point\n",
    "categories = {\n",
    "    'DY': [ sample for sample in sample_list if sample.count('DYJets')>0 ],\n",
    "    'TT': [ sample for sample in sample_list if sample.count('TTJets')>0 ],\n",
    "    'TTW': [ sample for sample in sample_list if sample.count('TTWJets')>0 ],\n",
    "}\n",
    "\n",
    "my_labels = {\n",
    "    categories['DY'][0]: 'Drell-Yan',\n",
    "    categories['TT'][0]: r'$t\\bar{t}$',\n",
    "    categories['TTW'][0]: r'$t\\bar{t}W$',\n",
    "    categories['TTW'][1]: r'$t\\bar{t}W$',\n",
    "}\n",
    "\n",
    "def saveFig( fig, ax, rax, path, name, scale='linear', shape=False, y_max=-1 ):\n",
    "    outdir = os.path.join(path,scale)\n",
    "    finalizePlotDir(outdir)\n",
    "    ax.set_yscale(scale)\n",
    "    ax.set_ylabel('Events')\n",
    "\n",
    "    if scale == 'linear':\n",
    "        if y_max<0 or True:\n",
    "            pass\n",
    "        else:\n",
    "            ax.set_ylim(0, 1 if shape else 1.2*y_max)\n",
    "    else:\n",
    "        if y_max<0 and not shape:\n",
    "            pass\n",
    "        else:\n",
    "            ax.set_ylim(0.000005 if shape else 0.05, 3 if shape else 300*y_max)\n",
    "\n",
    "    handles, labels = ax.get_legend_handles_labels()\n",
    "    new_labels = []\n",
    "    for handle, label in zip(handles, labels):\n",
    "        #print (handle, label)\n",
    "        try:\n",
    "            new_labels.append(my_labels[label])\n",
    "            if not label=='pseudodata':\n",
    "                handle.set_color(colors[label])\n",
    "        except:\n",
    "            pass\n",
    "\n",
    "    if rax:\n",
    "        plt.subplots_adjust(hspace=0)\n",
    "        rax.set_ylabel('Obs./Pred.')\n",
    "        rax.set_ylim(0.5,1.5)\n",
    "\n",
    "    ax.legend(title='',ncol=2,handles=handles, labels=new_labels, frameon=False)\n",
    "\n",
    "    fig.text(0., 0.995, '$\\\\bf{CMS}$', fontsize=20,  horizontalalignment='left', verticalalignment='bottom', transform=ax.transAxes )\n",
    "    fig.text(0.15, 1., '$\\\\it{Simulation}$', fontsize=14, horizontalalignment='left', verticalalignment='bottom', transform=ax.transAxes )\n",
    "    fig.text(0.8, 1., '13 TeV', fontsize=14, horizontalalignment='left', verticalalignment='bottom', transform=ax.transAxes )\n",
    "\n",
    "    fig.savefig(os.path.join(outdir, \"{}.pdf\".format(name)))\n",
    "    fig.savefig(os.path.join(outdir, \"{}.png\".format(name)))\n",
    "    #ax.clear()\n",
    "\n",
    "data_err_opts = {\n",
    "    'linestyle': 'none',\n",
    "    'marker': '.',\n",
    "    'markersize': 10.,\n",
    "    'color': 'k',\n",
    "    'elinewidth': 1,\n",
    "}\n",
    "\n",
    "signal_err_opts = {\n",
    "    'linestyle':'-',\n",
    "    'color':'crimson',\n",
    "    'elinewidth': 1,\n",
    "}\n",
    "\n",
    "error_opts = {\n",
    "    'label': 'uncertainty',\n",
    "    'hatch': '///',\n",
    "    'facecolor': 'none',\n",
    "    'edgecolor': (0,0,0,.5),\n",
    "    'linewidth': 0\n",
    "}\n",
    "\n",
    "fill_opts = {\n",
    "    'edgecolor': (0,0,0,0.3),\n",
    "    'alpha': 1.0\n",
    "}"
   ]
  },
  {
   "cell_type": "code",
   "execution_count": 161,
   "metadata": {},
   "outputs": [
    {
     "name": "stdout",
     "output_type": "stream",
     "text": [
      "DY\n",
      "TT\n",
      "TTW\n"
     ]
    },
    {
     "data": {
      "image/png": "[encoded data removed]",
      "text/plain": [
       "<Figure size 504x504 with 1 Axes>"
      ]
     },
     "metadata": {
      "needs_background": "light"
     },
     "output_type": "display_data"
    }
   ],
   "source": [
    "#from plots.helpers import *\n",
    "bins = {\\\n",
    "    'MET_pt':   {'axis': 'pt',            'overflow':'over',  'bins': hist.Bin('pt', r'$p_T^{miss} \\ (GeV)$', 20, 0, 200)},\n",
    "    }\n",
    "\n",
    "plotDir = os.path.expandvars(cfg['meta']['plots']) + '/dump/'\n",
    "finalizePlotDir(plotDir)\n",
    "\n",
    "name = 'MET_pt'\n",
    "\n",
    "import copy\n",
    "\n",
    "histogram = copy.deepcopy(output[name])\n",
    "\n",
    "## Scale\n",
    "scales = { sample: 137*1000*samples[sample]['xsec']/samples[sample]['sumWeight'] for sample in sample_list }\n",
    "histogram.scale(scales, axis='dataset')\n",
    "\n",
    "## Rebin\n",
    "axis = bins[name]['axis']\n",
    "histogram = histogram.rebin(axis, bins[name]['bins'])\n",
    "\n",
    "## Merge. This is still rather stupid, but ok.\n",
    "for cat in categories:\n",
    "    print (cat)\n",
    "    if len(categories[cat])>1:\n",
    "        for sample in categories[cat][1:]:\n",
    "            histogram[categories[cat][0]].add(histogram[sample])\n",
    "            histogram = histogram.remove([sample], 'dataset')\n",
    "\n",
    "fig, ax = plt.subplots(1,1,figsize=(7,7))\n",
    "\n",
    "# get axes\n",
    "hist.plot1d(histogram,overlay=\"dataset\", ax=ax, stack=False, overflow=bins[name]['overflow'], clear=False, line_opts=None, fill_opts=fill_opts, error_opts=error_opts, order=sample_list.reverse()) #error_opts??\n",
    "\n",
    "saveFig(fig, ax, None, plotDir, name, scale='log', shape=False, y_max=100000000)"
   ]
  },
  {
   "cell_type": "code",
   "execution_count": 189,
   "metadata": {},
   "outputs": [],
   "source": [
    "cluster.close()"
   ]
  },
  {
   "cell_type": "code",
   "execution_count": null,
   "metadata": {},
   "outputs": [],
   "source": []
  }
 ],
 "metadata": {
  "kernelspec": {
   "display_name": "daskanalysisenv",
   "language": "python",
   "name": "daskanalysisenv"
  },
  "language_info": {
   "codemirror_mode": {
    "name": "ipython",
    "version": 3
   },
   "file_extension": ".py",
   "mimetype": "text/x-python",
   "name": "python",
   "nbconvert_exporter": "python",
   "pygments_lexer": "ipython3",
   "version": "3.8.6"
  }
 },
 "nbformat": 4,
 "nbformat_minor": 4
}
