{
 "cells": [
  {
   "cell_type": "markdown",
   "metadata": {},
   "source": [
    "# Example for analysis of NanoAOD samples\n",
    "\n",
    "In this example we don't need any pre-processing of NanoAOD samples and can still use several tools of the tW_scattering repository.\n",
    "\n",
    "- Get the proper normalization for samples\n",
    "- Categorize different samples into process categories\n",
    "- Use coffea processors for the map-reduce step\n",
    "- Make \"nice\" histograms\n"
   ]
  },
  {
   "cell_type": "code",
   "execution_count": 1,
   "metadata": {},
   "outputs": [],
   "source": [
    "%load_ext autoreload\n",
    "%autoreload 2\n",
    "\n",
    "import os\n",
    "\n",
    "import warnings\n",
    "warnings.filterwarnings('ignore')"
   ]
  },
  {
   "cell_type": "code",
   "execution_count": 2,
   "metadata": {},
   "outputs": [],
   "source": [
    "from coffea.nanoevents import NanoEventsFactory, NanoAODSchema\n",
    "from coffea import processor, hist\n",
    "\n",
    "from processor.charge_flip_ss import charge_flip_ss\n",
    "from Tools.config_helpers import loadConfig\n",
    "from klepto.archives import dir_archive"
   ]
  },
  {
   "cell_type": "code",
   "execution_count": null,
   "metadata": {},
   "outputs": [
    {
     "name": "stdout",
     "output_type": "stream",
     "text": [
      "samples_2018.yaml\n",
      "/home/users/ewallace/CMSSW_10_2_9/src/tW_scattering3/data/nano_mapping_2018.yaml\n",
      "I'm running now\n"
     ]
    },
    {
     "data": {
      "application/vnd.jupyter.widget-view+json": {
       "model_id": "802e32cbfaed4403b53e2d374411fdcb",
       "version_major": 2,
       "version_minor": 0
      },
      "text/plain": [
       "Processing:   0%|          | 0/658 [00:00<?, ?chunk/s]"
      ]
     },
     "metadata": {},
     "output_type": "display_data"
    }
   ],
   "source": [
    "from processor.default_accumulators import desired_output, add_processes_to_output\n",
    "\n",
    "from Tools.helpers import get_samples\n",
    "from Tools.config_helpers import redirector_ucsd, redirector_fnal\n",
    "from Tools.nano_mapping import make_fileset, nano_mapping\n",
    "\n",
    "from processor.meta_processor import get_sample_meta\n",
    "\n",
    "overwrite = True\n",
    "local = True\n",
    "\n",
    "# load the config and the cache\n",
    "cfg = loadConfig()\n",
    "\n",
    "cacheName = 'charge_flip_ss'\n",
    "cache = dir_archive(os.path.join(os.path.expandvars(cfg['caches']['base']), cacheName), serialized=True)\n",
    "\n",
    "year = 2018\n",
    "\n",
    "# get a python dictionary of all NanoAOD samples\n",
    "# The samples definitions can be found in data/samples.yaml\n",
    "samples = get_samples(year)\n",
    "\n",
    "# make a fileset, taking the definitions in Tools/nano_mapping.py\n",
    "fileset = make_fileset(['DY', 'top',], year, redirector=redirector_ucsd, small=False)\n",
    "#fileset = {'/TTTo2L2Nu_TuneCP5_13TeV-powheg-pythia8/RunIIAutumn18NanoAODv7-Nano02Apr2020_102X_upgrade2018_realistic_v21-v1/NANOAODSIM': ['022107FA-F567-1B44-B139-A18ADC996FCF.root']}\n",
    "# in order for cutflows to work we need to add every process to the output accumulator\n",
    "add_processes_to_output(fileset, desired_output)\n",
    "\n",
    "histograms = sorted(list(desired_output.keys()))\n",
    "\n",
    "#meta = get_sample_meta(fileset, samples)\n",
    "\n",
    "if local:\n",
    "\n",
    "    exe_args = {\n",
    "        'workers': 16,\n",
    "        'function_args': {'flatten': False},\n",
    "        \"schema\": NanoAODSchema,\n",
    "        \"skipbadfiles\": True,\n",
    "    }\n",
    "    exe = processor.futures_executor\n",
    "\n",
    "else:\n",
    "    from Tools.helpers import get_scheduler_address\n",
    "    from dask.distributed import Client, progress\n",
    "\n",
    "    scheduler_address = get_scheduler_address()\n",
    "    c = Client(scheduler_address)\n",
    "\n",
    "    exe_args = {\n",
    "        'client': c,\n",
    "        'function_args': {'flatten': False},\n",
    "        \"schema\": NanoAODSchema,\n",
    "        \"skipbadfiles\": True,\n",
    "    }\n",
    "    exe = processor.dask_executor\n",
    "\n",
    "if not overwrite:\n",
    "    cache.load()\n",
    "\n",
    "if cfg == cache.get('cfg') and histograms == cache.get('histograms') and cache.get('simple_output'):\n",
    "    output = cache.get('simple_output')\n",
    "\n",
    "else:\n",
    "    print (\"I'm running now\")\n",
    "\n",
    "    output = processor.run_uproot_job(\n",
    "        fileset,\n",
    "        \"Events\",\n",
    "        charge_flip_ss(year=year, variations=[], accumulator=desired_output),\n",
    "        exe,\n",
    "        exe_args,\n",
    "        chunksize=250000,\n",
    "    )\n",
    "\n",
    "    cache['fileset']        = fileset\n",
    "    cache['cfg']            = cfg\n",
    "    cache['histograms']     = histograms\n",
    "    cache['simple_output']  = output\n",
    "    cache.dump()\n",
    "    "
   ]
  },
  {
   "cell_type": "code",
   "execution_count": 39,
   "metadata": {},
   "outputs": [
    {
     "data": {
      "text/plain": [
       "0.0"
      ]
     },
     "execution_count": 39,
     "metadata": {},
     "output_type": "execute_result"
    }
   ],
   "source": [
    "output['totalEvents']['all']/1e6"
   ]
  },
  {
   "cell_type": "markdown",
   "metadata": {},
   "source": [
    "Full fileset is 180M events, and that's basically just DY and ttbar."
   ]
  },
  {
   "cell_type": "code",
   "execution_count": 34,
   "metadata": {},
   "outputs": [
    {
     "name": "stdout",
     "output_type": "stream",
     "text": [
      "/home/users/ewallace/CMSSW_10_2_9/src/tW_scattering3/data/nano_mapping_2016.yaml\n"
     ]
    }
   ],
   "source": [
    "# import the plotting libararies: matplotlib and mplhep\n",
    "\n",
    "import matplotlib.pyplot as plt\n",
    "import mplhep as hep\n",
    "plt.style.use(hep.style.CMS)\n",
    "\n",
    "import numpy as np\n",
    "\n",
    "\n",
    "# load the functions to make a nice plot from the output histograms\n",
    "# and the scale_and_merge function that scales the individual histograms\n",
    "# to match the physical cross section\n",
    "\n",
    "from plots.helpers import makePlot, scale_and_merge\n",
    "\n",
    "# define a few axes that we can use to rebin our output histograms\n",
    "\n",
    "N_bins         = hist.Bin('multiplicity', r'$N$', 10, -0.5, 9.5)\n",
    "N_bins_red     = hist.Bin('multiplicity', r'$N$', 5, -0.5, 4.5)\n",
    "pt_bins        = hist.Bin('pt', r'$p_{T}\\ (GeV)$', np.array([15, 40, 60, 80, 100, 200, 300]))\n",
    "eta_bins       = hist.Bin('eta', r'$\\eta $', np.array([0, 0.8, 1.479, 2.5]))\n",
    "phi_bins       = hist.Bin('phi', r'$\\phi $', 16, -3.2, 3.2)\n",
    "\n",
    "\n",
    "# define nicer labels and colors\n",
    "\n",
    "nano_mappings = nano_mapping(year)\n",
    "\n",
    "\n",
    "my_labels = {\n",
    "    nano_mappings['TTW'][0]: 'all',\n",
    "    nano_mappings['TTZ'][0]: 'ttZ',\n",
    "    nano_mappings['DY'][0]: 'DY',\n",
    "    nano_mappings['top'][0]: 't/tt+jets',\n",
    "}\n",
    "\n",
    "my_colors = {\n",
    "    nano_mappings['TTW'][0]: '#8AC926',\n",
    "    nano_mappings['TTZ'][0]: '#FFCA3A',\n",
    "    nano_mappings['DY'][0]: '#6A4C93',\n",
    "    nano_mappings['top'][0]: '#1982C4',\n",
    "}\n"
   ]
  },
  {
   "cell_type": "markdown",
   "metadata": {},
   "source": [
    "# 1D Histograms"
   ]
  },
  {
   "cell_type": "code",
   "execution_count": 35,
   "metadata": {},
   "outputs": [],
   "source": [
    "from yahist import Hist1D, Hist2D"
   ]
  },
  {
   "cell_type": "code",
   "execution_count": 36,
   "metadata": {},
   "outputs": [
    {
     "ename": "KeyError",
     "evalue": "()",
     "output_type": "error",
     "traceback": [
      "\u001b[0;31m---------------------------------------------------------------------------\u001b[0m",
      "\u001b[0;31mKeyError\u001b[0m                                  Traceback (most recent call last)",
      "\u001b[0;32m<ipython-input-36-dcbe6c7463bf>\u001b[0m in \u001b[0;36m<module>\u001b[0;34m\u001b[0m\n\u001b[1;32m      7\u001b[0m \u001b[0;34m\u001b[0m\u001b[0m\n\u001b[1;32m      8\u001b[0m h1 = Hist1D.from_bincounts(\n\u001b[0;32m----> 9\u001b[0;31m     \u001b[0mtmp1\u001b[0m\u001b[0;34m.\u001b[0m\u001b[0msum\u001b[0m\u001b[0;34m(\u001b[0m\u001b[0;34m'dataset'\u001b[0m\u001b[0;34m)\u001b[0m\u001b[0;34m.\u001b[0m\u001b[0mvalues\u001b[0m\u001b[0;34m(\u001b[0m\u001b[0;34m)\u001b[0m\u001b[0;34m[\u001b[0m\u001b[0;34m(\u001b[0m\u001b[0;34m)\u001b[0m\u001b[0;34m]\u001b[0m\u001b[0;34m.\u001b[0m\u001b[0mT\u001b[0m\u001b[0;34m,\u001b[0m\u001b[0;34m\u001b[0m\u001b[0;34m\u001b[0m\u001b[0m\n\u001b[0m\u001b[1;32m     10\u001b[0m     \u001b[0;34m(\u001b[0m\u001b[0mtmp1\u001b[0m\u001b[0;34m.\u001b[0m\u001b[0maxis\u001b[0m\u001b[0;34m(\u001b[0m\u001b[0;34m'multiplicity'\u001b[0m\u001b[0;34m)\u001b[0m\u001b[0;34m.\u001b[0m\u001b[0medges\u001b[0m\u001b[0;34m(\u001b[0m\u001b[0;34m)\u001b[0m\u001b[0;34m)\u001b[0m\u001b[0;34m,\u001b[0m\u001b[0;34m\u001b[0m\u001b[0;34m\u001b[0m\u001b[0m\n\u001b[1;32m     11\u001b[0m )\n",
      "\u001b[0;31mKeyError\u001b[0m: ()"
     ]
    }
   ],
   "source": [
    "tmp1 = output['N_ele'].copy()\n",
    "tmp1 = tmp1.rebin('multiplicity', N_bins_red)\n",
    "\n",
    "\n",
    "tmp2 = output['N_ele2'].copy()\n",
    "tmp2 = tmp2.rebin('multiplicity', N_bins_red)\n",
    "\n",
    "h1 = Hist1D.from_bincounts(\n",
    "    tmp1.sum('dataset').values()[()].T,\n",
    "    (tmp1.axis('multiplicity').edges()),\n",
    ")\n",
    "\n",
    "h2 = Hist1D.from_bincounts(\n",
    "    tmp2.sum('dataset').values()[()].T,\n",
    "    (tmp2.axis('multiplicity').edges()),\n",
    ")\n",
    "\n",
    "fig, (ax1,ax2) = plt.subplots(2, sharex=True, figsize=(10,10), gridspec_kw=dict(height_ratios=[3, 1]))\n",
    "h2.plot(ax=ax1, alpha=1, color=\"C0\")\n",
    "h1.plot(ax=ax1, alpha=1, color=\"C3\")\n",
    "\n",
    "ax1.set_yscale(\"log\")\n",
    "ax1.set_xlabel(r'$N_{lepton}\\ $')\n",
    "ax1.set_ylabel(r'Events')\n",
    "\n",
    "fig.legend([\"weighted OS\", \"SS\"])\n",
    "\n",
    "# Gaussian errors\n",
    "#    (num/den).plot(ax=ax2,show_errors=True,label=\"ratio\")\n",
    "# Asymmetric Clopper-Pearson errors\n",
    "h1.divide(h2, binomial=True).plot(ax=ax2, errors=True, label=\"ratio\")"
   ]
  },
  {
   "cell_type": "code",
   "execution_count": 37,
   "metadata": {},
   "outputs": [
    {
     "ename": "KeyError",
     "evalue": "()",
     "output_type": "error",
     "traceback": [
      "\u001b[0;31m---------------------------------------------------------------------------\u001b[0m",
      "\u001b[0;31mKeyError\u001b[0m                                  Traceback (most recent call last)",
      "\u001b[0;32m<ipython-input-37-f4bce20f52ab>\u001b[0m in \u001b[0;36m<module>\u001b[0;34m\u001b[0m\n\u001b[1;32m      9\u001b[0m \u001b[0;34m\u001b[0m\u001b[0m\n\u001b[1;32m     10\u001b[0m h1 = Hist2D.from_bincounts(\n\u001b[0;32m---> 11\u001b[0;31m     \u001b[0mtmp1\u001b[0m\u001b[0;34m.\u001b[0m\u001b[0msum\u001b[0m\u001b[0;34m(\u001b[0m\u001b[0;34m'dataset'\u001b[0m\u001b[0;34m)\u001b[0m\u001b[0;34m.\u001b[0m\u001b[0mvalues\u001b[0m\u001b[0;34m(\u001b[0m\u001b[0;34m)\u001b[0m\u001b[0;34m[\u001b[0m\u001b[0;34m(\u001b[0m\u001b[0;34m)\u001b[0m\u001b[0;34m]\u001b[0m\u001b[0;34m.\u001b[0m\u001b[0mT\u001b[0m\u001b[0;34m,\u001b[0m\u001b[0;34m\u001b[0m\u001b[0;34m\u001b[0m\u001b[0m\n\u001b[0m\u001b[1;32m     12\u001b[0m     \u001b[0;34m(\u001b[0m\u001b[0mtmp1\u001b[0m\u001b[0;34m.\u001b[0m\u001b[0maxis\u001b[0m\u001b[0;34m(\u001b[0m\u001b[0;34m'pt'\u001b[0m\u001b[0;34m)\u001b[0m\u001b[0;34m.\u001b[0m\u001b[0medges\u001b[0m\u001b[0;34m(\u001b[0m\u001b[0;34m)\u001b[0m\u001b[0;34m,\u001b[0m \u001b[0mtmp1\u001b[0m\u001b[0;34m.\u001b[0m\u001b[0maxis\u001b[0m\u001b[0;34m(\u001b[0m\u001b[0;34m'eta'\u001b[0m\u001b[0;34m)\u001b[0m\u001b[0;34m.\u001b[0m\u001b[0medges\u001b[0m\u001b[0;34m(\u001b[0m\u001b[0;34m)\u001b[0m\u001b[0;34m)\u001b[0m\u001b[0;34m,\u001b[0m\u001b[0;34m\u001b[0m\u001b[0;34m\u001b[0m\u001b[0m\n\u001b[1;32m     13\u001b[0m )\n",
      "\u001b[0;31mKeyError\u001b[0m: ()"
     ]
    }
   ],
   "source": [
    "tmp1 = output['electron'].copy()\n",
    "tmp1 = tmp1.rebin('pt', pt_bins)\n",
    "tmp1 = tmp1.rebin('eta', eta_bins)\n",
    "\n",
    "\n",
    "tmp2 = output['electron2'].copy()\n",
    "tmp2 = tmp2.rebin('pt', pt_bins)\n",
    "tmp2 = tmp2.rebin('eta', eta_bins)\n",
    "\n",
    "h1 = Hist2D.from_bincounts(\n",
    "    tmp1.sum('dataset').values()[()].T,\n",
    "    (tmp1.axis('pt').edges(), tmp1.axis('eta').edges()),\n",
    ")\n",
    "\n",
    "h2 = Hist2D.from_bincounts(\n",
    "    tmp2.sum('dataset').values()[()].T,\n",
    "    (tmp2.axis('pt').edges(), tmp2.axis('eta').edges()),\n",
    ")\n",
    "\n",
    "fig, (ax1,ax2) = plt.subplots(2, sharex=True, figsize=(10,10), gridspec_kw=dict(height_ratios=[3, 1]))\n",
    "h2.projection('x').plot(ax=ax1, alpha=0.8, color=\"C0\")\n",
    "h1.projection('x').plot(ax=ax1, alpha=0.8, color=\"C3\")\n",
    "h2.projection('x').plot(ax=ax1, alpha=0.8, color=\"C0\", show_errors=True)\n",
    "h1.projection('x').plot(ax=ax1, alpha=0.8, color=\"C3\", show_errors=True)\n",
    "\n",
    "fig.legend([\"weighted OS\", \"SS\"])\n",
    "\n",
    "ax1.set_xlabel(r'$p_{T}\\ (GeV) $')\n",
    "ax1.set_ylabel(r'Events')\n",
    "\n",
    "h1.projection('x').divide(h2.projection('x'), binomial=True).plot(ax=ax2, errors=True, label=\"ratio\")\n",
    "#ax2.set_ylim([0.90,1.10])"
   ]
  },
  {
   "cell_type": "code",
   "execution_count": 9,
   "metadata": {},
   "outputs": [
    {
     "data": {
      "text/plain": [
       "<AxesSubplot:>"
      ]
     },
     "execution_count": 9,
     "metadata": {},
     "output_type": "execute_result"
    },
    {
     "data": {
      "image/png": "[encoded data removed]",
      "text/plain": [
       "<Figure size 720x720 with 2 Axes>"
      ]
     },
     "metadata": {
      "needs_background": "light"
     },
     "output_type": "display_data"
    }
   ],
   "source": [
    "tmp1 = output['electron'].copy()\n",
    "tmp1 = tmp1.rebin('pt', pt_bins)\n",
    "tmp1 = tmp1.rebin('eta', eta_bins)\n",
    "\n",
    "\n",
    "tmp2 = output['electron2'].copy()\n",
    "tmp2 = tmp2.rebin('pt', pt_bins)\n",
    "tmp2 = tmp2.rebin('eta', eta_bins)\n",
    "\n",
    "h1 = Hist2D.from_bincounts(\n",
    "    tmp1.sum('dataset').values()[()].T,\n",
    "    (tmp1.axis('pt').edges(), tmp1.axis('eta').edges()),\n",
    ")\n",
    "\n",
    "h2 = Hist2D.from_bincounts(\n",
    "    tmp2.sum('dataset').values()[()].T,\n",
    "    (tmp2.axis('pt').edges(), tmp2.axis('eta').edges()),\n",
    ")\n",
    "\n",
    "fig, (ax1,ax2) = plt.subplots(2, sharex=True, figsize=(10,10), gridspec_kw=dict(height_ratios=[3, 1]))\n",
    "h2.projection('y').plot(ax=ax1, alpha=0.8, color=\"C0\")\n",
    "h1.projection('y').plot(ax=ax1, alpha=0.8, color=\"C3\", )\n",
    "h2.projection('y').plot(ax=ax1, alpha=0.8, color=\"C0\", show_errors=True)\n",
    "h1.projection('y').plot(ax=ax1, alpha=0.8, color=\"C3\", show_errors=True)\n",
    "\n",
    "fig.legend([\"weighted OS\", \"SS\"])\n",
    "\n",
    "ax1.set_xlabel(r'$|\\eta|$')\n",
    "ax1.set_ylabel(r'Events')\n",
    "\n",
    "h1.projection('y').divide(h2.projection('y'), binomial=True).plot(ax=ax2, errors=True, label=\"ratio\")\n",
    "#ax2.set_ylim([0.9,1.1])"
   ]
  },
  {
   "cell_type": "code",
   "execution_count": 10,
   "metadata": {},
   "outputs": [
    {
     "data": {
      "text/plain": [
       "array([[ 50.68785251,  82.58747802,  84.30075564,  71.02175752,\n",
       "         93.52396695,  31.6966993 ],\n",
       "       [ 48.74082216,  82.94621013,  90.11960304,  77.59566281,\n",
       "        101.05612056,  35.71919423],\n",
       "       [ 69.69875461, 123.84840584, 137.16717969, 121.67635752,\n",
       "        157.61048121,  49.97841153]])"
      ]
     },
     "execution_count": 10,
     "metadata": {},
     "output_type": "execute_result"
    }
   ],
   "source": [
    "h2.errors"
   ]
  },
  {
   "cell_type": "code",
   "execution_count": 11,
   "metadata": {},
   "outputs": [
    {
     "name": "stdout",
     "output_type": "stream",
     "text": [
      "695.0452237486797\n",
      "Data: 0 MC: 695.1\n"
     ]
    },
    {
     "name": "stderr",
     "output_type": "stream",
     "text": [
      "'texgyreheros-bold.otf' can not be subsetted into a Type 3 font. The entire font will be embedded in the output.\n",
      "'texgyreheros-regular.otf' can not be subsetted into a Type 3 font. The entire font will be embedded in the output.\n"
     ]
    },
    {
     "name": "stdout",
     "output_type": "stream",
     "text": [
      "Figure saved in: /home/users/ewallace/public_html/tW_scattering/histos/N_ele_comp\n"
     ]
    },
    {
     "data": {
      "image/png": "[encoded data removed]",
      "text/plain": [
       "<Figure size 720x720 with 1 Axes>"
      ]
     },
     "metadata": {
      "needs_background": "light"
     },
     "output_type": "display_data"
    }
   ],
   "source": [
    "# take the N_ele histogram out of the output, apply the x-secs from samples to the samples in fileset\n",
    "# then merge the histograms into the categories defined in nano_mapping\n",
    "\n",
    "\n",
    "my_hist = scale_and_merge(output['N_ele'], meta, nano_mappings)\n",
    "\n",
    "\n",
    "# Now make a nice plot of the electron multiplicity.\n",
    "# You can have a look at all the \"magic\" (and hard coded monstrosities) that happens in makePlot\n",
    "# in plots/helpers.py\n",
    "\n",
    "makePlot(my_hist, None, 'multiplicity',\n",
    "         bins=N_bins_red, log=True, normalize=False, axis_label=r'$N_{electron}\\ $',\n",
    "         new_colors=my_colors, new_labels=my_labels,\n",
    "         order=[nano_mappings['TTZ'][0], nano_mappings['top'][0], nano_mappings['DY'][0]],\n",
    "         save=os.path.expandvars(cfg['meta']['plots'])+'histos/N_ele_comp'\n",
    "        )\n"
   ]
  },
  {
   "cell_type": "code",
   "execution_count": 12,
   "metadata": {},
   "outputs": [
    {
     "name": "stdout",
     "output_type": "stream",
     "text": [
      "5578622.409222259\n",
      "Data: 0 MC: 8549565.94\n"
     ]
    },
    {
     "name": "stderr",
     "output_type": "stream",
     "text": [
      "'texgyreheros-bold.otf' can not be subsetted into a Type 3 font. The entire font will be embedded in the output.\n",
      "'texgyreheros-regular.otf' can not be subsetted into a Type 3 font. The entire font will be embedded in the output.\n"
     ]
    },
    {
     "name": "stdout",
     "output_type": "stream",
     "text": [
      "Figure saved in: /home/users/ewallace/public_html/tW_scattering/histos/ss/N_jet_ss\n"
     ]
    },
    {
     "data": {
      "image/png": "[encoded data removed]",
      "text/plain": [
       "<Figure size 720x720 with 1 Axes>"
      ]
     },
     "metadata": {
      "needs_background": "light"
     },
     "output_type": "display_data"
    }
   ],
   "source": [
    "# take the N_ele histogram out of the output, apply the x-secs from samples to the samples in fileset\n",
    "# then merge the histograms into the categories defined in nano_mapping\n",
    "\n",
    "\n",
    "my_hist = scale_and_merge(output['N_jet'], meta, nano_mappings)\n",
    "\n",
    "\n",
    "# Now make a nice plot of the electron multiplicity.\n",
    "# You can have a look at all the \"magic\" (and hard coded monstrosities) that happens in makePlot\n",
    "# in plots/helpers.py\n",
    "\n",
    "makePlot(my_hist, None, 'multiplicity',\n",
    "         bins=N_bins_red, log=True, normalize=False, axis_label=r'$N_{electron}\\ $',\n",
    "         new_colors=my_colors, new_labels=my_labels,\n",
    "         order=[nano_mappings['TTZ'][0], nano_mappings['top'][0], nano_mappings['DY'][0]],\n",
    "         save=os.path.expandvars(cfg['meta']['plots'])+'histos/ss/N_jet_ss'\n",
    "        )\n"
   ]
  },
  {
   "cell_type": "code",
   "execution_count": null,
   "metadata": {},
   "outputs": [],
   "source": [
    "# take the N_ele histogram out of the output, apply the x-secs from samples to the samples in fileset\n",
    "# then merge the histograms into the categories defined in nano_mapping\n",
    "\n",
    "\n",
    "my_hist = scale_and_merge(output['N_ele2'], meta, nano_mappings)\n",
    "\n",
    "# Now make a nice plot of the electron multiplicity.\n",
    "# You can have a look at all the \"magic\" (and hard coded monstrosities) that happens in makePlot\n",
    "# in plots/helpers.py\n",
    "\n",
    "makePlot(my_hist, None, 'multiplicity',\n",
    "         bins=N_bins_red, log=True, normalize=False, axis_label=r'$N_{electron}\\ (ratio)$',\n",
    "         new_colors=my_colors, new_labels=my_labels,\n",
    "         omit=[nano_mappings['TTZ'][0], nano_mappings['top'][0], nano_mappings['DY'][0]],\n",
    "         save=os.path.expandvars(cfg['meta']['plots'])+'histos/N_ele_ratio'\n",
    "        )\n"
   ]
  },
  {
   "cell_type": "code",
   "execution_count": null,
   "metadata": {},
   "outputs": [],
   "source": [
    "my_hist = scale_and_merge(output['electron_flips'], meta, nano_mappings)\n",
    "\n",
    "makePlot(my_hist, None, 'multiplicity',\n",
    "         bins=N_bins_red, log=True, normalize=False, axis_label=r'$N_{flipped\\ electron}\\ (SS)$',\n",
    "         new_colors=my_colors, new_labels=my_labels,\n",
    "         order=[nano_mappings['TTZ'][0], nano_mappings['top'][0], nano_mappings['DY'][0]],\n",
    "         save=os.path.expandvars(cfg['meta']['plots'])+'histos/N_flips_truth'\n",
    "        )"
   ]
  },
  {
   "cell_type": "code",
   "execution_count": null,
   "metadata": {},
   "outputs": [],
   "source": [
    "my_hist = scale_and_merge(output['electron_flips2'], meta, nano_mappings)\n",
    "\n",
    "makePlot(my_hist, None, 'multiplicity',\n",
    "         bins=N_bins_red, log=True, normalize=False, axis_label=r'$N_{flipped\\ electron}\\ (ratio)$',\n",
    "         new_colors=my_colors, new_labels=my_labels,\n",
    "         order=[nano_mappings['top'][0], nano_mappings['TTZ'][0], nano_mappings['DY'][0]],\n",
    "         save=os.path.expandvars(cfg['meta']['plots'])+'histos/N_flips_ratio'\n",
    "        )"
   ]
  },
  {
   "cell_type": "code",
   "execution_count": null,
   "metadata": {},
   "outputs": [],
   "source": [
    "my_hist = scale_and_merge(output['electron'], meta, nano_mappings)\n",
    "\n",
    "makePlot(my_hist, None, 'pt',\n",
    "         bins=pt_bins, log=True, normalize=False, axis_label=r'$p_{T}\\ (leading\\ electron)\\ (flipped)\\ (GeV)$',\n",
    "         new_colors=my_colors, new_labels=my_labels,\n",
    "         order=[nano_mappings['TTZ'][0], nano_mappings['top'][0], nano_mappings['DY'][0]],\n",
    "         save=os.path.expandvars(cfg['meta']['plots'])+'histos/pt_truth'\n",
    "        )"
   ]
  },
  {
   "cell_type": "code",
   "execution_count": null,
   "metadata": {},
   "outputs": [],
   "source": [
    "my_hist = scale_and_merge(output['electron2'], meta, nano_mappings)\n",
    "\n",
    "makePlot(my_hist, None, 'pt',\n",
    "         bins=pt_bins, log=True, normalize=False, axis_label=r'$p_{T}\\ (leading\\ electron)\\ (weighted)\\ (GeV)$',\n",
    "         new_colors=my_colors, new_labels=my_labels,\n",
    "         order=[nano_mappings['TTZ'][0], nano_mappings['top'][0], nano_mappings['DY'][0]],\n",
    "         save=os.path.expandvars(cfg['meta']['plots'])+'histos/pt_ratio'\n",
    "        )"
   ]
  },
  {
   "cell_type": "code",
   "execution_count": null,
   "metadata": {},
   "outputs": [],
   "source": [
    "my_hist = scale_and_merge(output['electron'], meta, nano_mappings)\n",
    "\n",
    "makePlot(my_hist, None, 'eta',\n",
    "         bins=eta_bins, log=True, normalize=False, axis_label=r'$\\eta\\ (leading\\ electron)\\ (flipped)$',\n",
    "         new_colors=my_colors, new_labels=my_labels,\n",
    "         order=[nano_mappings['TTZ'][0], nano_mappings['top'][0], nano_mappings['DY'][0]],\n",
    "         save=os.path.expandvars(cfg['meta']['plots'])+'histos/eta_truth'\n",
    "        )"
   ]
  },
  {
   "cell_type": "code",
   "execution_count": null,
   "metadata": {},
   "outputs": [],
   "source": [
    "my_hist = scale_and_merge(output['electron2'], meta, nano_mappings)\n",
    "\n",
    "makePlot(my_hist, None, 'eta',\n",
    "         bins=eta_bins, log=True, normalize=False, axis_label=r'$\\eta\\ (leading\\ electron)\\ (weighted)$',\n",
    "         new_colors=my_colors, new_labels=my_labels,\n",
    "         order=[nano_mappings['TTZ'][0], nano_mappings['top'][0], nano_mappings['DY'][0]],\n",
    "         save=os.path.expandvars(cfg['meta']['plots'])+'histos/eta_ratio'\n",
    "        )"
   ]
  },
  {
   "cell_type": "code",
   "execution_count": null,
   "metadata": {},
   "outputs": [],
   "source": [
    "from yahist import Hist1D, Hist2D\n",
    "import numpy as np"
   ]
  },
  {
   "cell_type": "code",
   "execution_count": null,
   "metadata": {},
   "outputs": [],
   "source": [
    "tmp1 = output['electron'].copy()\n",
    "tmp1 = tmp1.rebin('eta', eta_bins)\n",
    "tmp1 = tmp1.rebin('pt', pt_bins)\n",
    "\n",
    "\n",
    "tmp2 = output['electron2'].copy()\n",
    "tmp2 = tmp2.rebin('eta', eta_bins)\n",
    "tmp2 = tmp2.rebin('pt', pt_bins)\n",
    "\n",
    "h1 = Hist2D.from_bincounts(\n",
    "    tmp1.sum('dataset').values()[()].T,\n",
    "    (tmp1.axis('pt').edges(), tmp1.axis('eta').edges()),\n",
    ")\n",
    "\n",
    "\n",
    "h2 = Hist2D.from_bincounts(\n",
    "    tmp2.sum('dataset').values()[()].T,\n",
    "    (tmp2.axis('pt').edges(), tmp2.axis('eta').edges()),\n",
    ")"
   ]
  },
  {
   "cell_type": "code",
   "execution_count": null,
   "metadata": {},
   "outputs": [],
   "source": [
    "fig, ax  = plt.subplots(1, 1,figsize=(10,10) )\n",
    "h1.plot(show_counts=True, equidistant='xy')\n",
    "ax.set_xlabel(r'$p_{T}\\ (GeV)$')\n",
    "ax.set_ylabel(r'$\\eta$')"
   ]
  },
  {
   "cell_type": "code",
   "execution_count": null,
   "metadata": {},
   "outputs": [],
   "source": [
    "fig, ax  = plt.subplots(1, 1,figsize=(10,10) )\n",
    "h2.plot(show_counts=True, equidistant='xy')\n",
    "ax.set_xlabel(r'$p_{T}\\ (GeV)$')\n",
    "ax.set_ylabel(r'$\\eta$')"
   ]
  },
  {
   "cell_type": "code",
   "execution_count": null,
   "metadata": {},
   "outputs": [],
   "source": []
  }
 ],
 "metadata": {
  "kernelspec": {
   "display_name": "daskanalysisenv",
   "language": "python",
   "name": "daskanalysisenv"
  },
  "language_info": {
   "codemirror_mode": {
    "name": "ipython",
    "version": 3
   },
   "file_extension": ".py",
   "mimetype": "text/x-python",
   "name": "python",
   "nbconvert_exporter": "python",
   "pygments_lexer": "ipython3",
   "version": "3.8.8"
  }
 },
 "nbformat": 4,
 "nbformat_minor": 4
}
