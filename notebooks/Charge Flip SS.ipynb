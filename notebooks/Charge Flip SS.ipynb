{
 "cells": [
  {
   "cell_type": "markdown",
   "metadata": {},
   "source": [
    "# Example for analysis of NanoAOD samples\n",
    "\n",
    "In this example we don't need any pre-processing of NanoAOD samples and can still use several tools of the tW_scattering repository.\n",
    "\n",
    "- Get the proper normalization for samples\n",
    "- Categorize different samples into process categories\n",
    "- Use coffea processors for the map-reduce step\n",
    "- Make \"nice\" histograms\n"
   ]
  },
  {
   "cell_type": "code",
   "execution_count": 6,
   "metadata": {},
   "outputs": [
    {
     "name": "stdout",
     "output_type": "stream",
     "text": [
      "The autoreload extension is already loaded. To reload it, use:\n",
      "  %reload_ext autoreload\n"
     ]
    }
   ],
   "source": [
    "%load_ext autoreload\n",
    "%autoreload 2\n",
    "\n",
    "import os\n",
    "\n",
    "import warnings\n",
    "warnings.filterwarnings('ignore')"
   ]
  },
  {
   "cell_type": "code",
   "execution_count": 7,
   "metadata": {},
   "outputs": [],
   "source": [
    "from coffea.nanoevents import NanoEventsFactory, NanoAODSchema\n",
    "from coffea import processor, hist\n",
    "\n",
    "from processor.charge_flip_ss import charge_flip_ss\n",
    "from Tools.config_helpers import loadConfig\n",
    "from klepto.archives import dir_archive"
   ]
  },
  {
   "cell_type": "code",
   "execution_count": 9,
   "metadata": {
    "scrolled": true
   },
   "outputs": [
    {
     "name": "stdout",
     "output_type": "stream",
     "text": [
      "samples_2018.yaml\n",
      "I'm running now\n"
     ]
    },
    {
     "data": {
      "application/vnd.jupyter.widget-view+json": {
       "model_id": "",
       "version_major": 2,
       "version_minor": 0
      },
      "text/plain": [
       "Processing:   0%|          | 0/658 [00:00<?, ?chunk/s]"
      ]
     },
     "metadata": {},
     "output_type": "display_data"
    },
    {
     "ename": "ValueError",
     "evalue": "in ListOffsetArray64, cannot convert to RegularArray because subarray lengths are not regular\n\n(https://github.com/scikit-hep/awkward-1.0/blob/1.1.2/src/cpu-kernels/awkward_ListOffsetArray_toRegularArray.cpp#L22)\n\nFailed processing file: root://xcache-redirector.t2.ucsd.edu:2040//store/mc/RunIIAutumn18NanoAODv7/TTTo2L2Nu_TuneCP5_13TeV-powheg-pythia8/NANOAODSIM/Nano02Apr2020_102X_upgrade2018_realistic_v21-v1/60000/DE852D8A-8F01-194F-8D2E-D4F964DF97C7.root (0-261250)",
     "output_type": "error",
     "traceback": [
      "\u001b[0;31m---------------------------------------------------------------------------\u001b[0m",
      "\u001b[0;31m_RemoteTraceback\u001b[0m                          Traceback (most recent call last)",
      "\u001b[0;31m_RemoteTraceback\u001b[0m: \n\"\"\"\nTraceback (most recent call last):\n  File \"/home/users/ewallace/miniconda3/envs/daskanalysisenv/lib/python3.8/concurrent/futures/process.py\", line 239, in _process_worker\n    r = call_item.fn(*call_item.args, **call_item.kwargs)\n  File \"/home/users/ewallace/miniconda3/envs/daskanalysisenv/lib/python3.8/site-packages/coffea/processor/executor.py\", line 129, in __call__\n    out = self.function(*args, **kwargs)\n  File \"/home/users/ewallace/miniconda3/envs/daskanalysisenv/lib/python3.8/site-packages/coffea/processor/executor.py\", line 949, in _work_function\n    raise e\n  File \"/home/users/ewallace/miniconda3/envs/daskanalysisenv/lib/python3.8/site-packages/coffea/processor/executor.py\", line 902, in _work_function\n    raise type(e)(str(e) + file_trace).with_traceback(sys.exc_info()[2]) from None\n  File \"/home/users/ewallace/miniconda3/envs/daskanalysisenv/lib/python3.8/site-packages/coffea/processor/executor.py\", line 899, in _work_function\n    out = processor_instance.process(events)\n  File \"/home/users/ewallace/CMSSW_10_2_9/src/tW_scattering3/processor/charge_flip_ss.py\", line 233, in process\n    output[\"lepton_parent\"].fill(\n  File \"/home/users/ewallace/miniconda3/envs/daskanalysisenv/lib/python3.8/site-packages/coffea/hist/hist_tools.py\", line 975, in fill\n    dense_indices = tuple(d.index(values[d.name]) for d in self._axes if isinstance(d, DenseAxis))\n  File \"/home/users/ewallace/miniconda3/envs/daskanalysisenv/lib/python3.8/site-packages/coffea/hist/hist_tools.py\", line 975, in <genexpr>\n    dense_indices = tuple(d.index(values[d.name]) for d in self._axes if isinstance(d, DenseAxis))\n  File \"/home/users/ewallace/miniconda3/envs/daskanalysisenv/lib/python3.8/site-packages/coffea/hist/hist_tools.py\", line 505, in index\n    identifier = numpy.asarray(identifier)\n  File \"/home/users/ewallace/miniconda3/envs/daskanalysisenv/lib/python3.8/site-packages/numpy/core/_asarray.py\", line 102, in asarray\n    return array(a, dtype, copy=False, order=order)\n  File \"/home/users/ewallace/miniconda3/envs/daskanalysisenv/lib/python3.8/site-packages/awkward/highlevel.py\", line 1353, in __array__\n    return ak._connect._numpy.convert_to_array(self._layout, args, kwargs)\n  File \"/home/users/ewallace/miniconda3/envs/daskanalysisenv/lib/python3.8/site-packages/awkward/_connect/_numpy.py\", line 13, in convert_to_array\n    out = ak.operations.convert.to_numpy(layout, allow_missing=False)\n  File \"/home/users/ewallace/miniconda3/envs/daskanalysisenv/lib/python3.8/site-packages/awkward/operations/convert.py\", line 329, in to_numpy\n    return to_numpy(array.toRegularArray(), allow_missing=allow_missing)\nValueError: in ListOffsetArray64, cannot convert to RegularArray because subarray lengths are not regular\n\n(https://github.com/scikit-hep/awkward-1.0/blob/1.1.2/src/cpu-kernels/awkward_ListOffsetArray_toRegularArray.cpp#L22)\n\nFailed processing file: root://xcache-redirector.t2.ucsd.edu:2040//store/mc/RunIIAutumn18NanoAODv7/TTTo2L2Nu_TuneCP5_13TeV-powheg-pythia8/NANOAODSIM/Nano02Apr2020_102X_upgrade2018_realistic_v21-v1/60000/DE852D8A-8F01-194F-8D2E-D4F964DF97C7.root (0-261250)\n\"\"\"",
      "\nThe above exception was the direct cause of the following exception:\n",
      "\u001b[0;31mValueError\u001b[0m                                Traceback (most recent call last)",
      "\u001b[0;32m<ipython-input-9-dfdbfc491704>\u001b[0m in \u001b[0;36m<module>\u001b[0;34m\u001b[0m\n\u001b[1;32m     66\u001b[0m     \u001b[0mprint\u001b[0m \u001b[0;34m(\u001b[0m\u001b[0;34m\"I'm running now\"\u001b[0m\u001b[0;34m)\u001b[0m\u001b[0;34m\u001b[0m\u001b[0;34m\u001b[0m\u001b[0m\n\u001b[1;32m     67\u001b[0m \u001b[0;34m\u001b[0m\u001b[0m\n\u001b[0;32m---> 68\u001b[0;31m     output = processor.run_uproot_job(\n\u001b[0m\u001b[1;32m     69\u001b[0m         \u001b[0mfileset\u001b[0m\u001b[0;34m,\u001b[0m\u001b[0;34m\u001b[0m\u001b[0;34m\u001b[0m\u001b[0m\n\u001b[1;32m     70\u001b[0m         \u001b[0;34m\"Events\"\u001b[0m\u001b[0;34m,\u001b[0m\u001b[0;34m\u001b[0m\u001b[0;34m\u001b[0m\u001b[0m\n",
      "\u001b[0;32m~/miniconda3/envs/daskanalysisenv/lib/python3.8/site-packages/coffea/processor/executor.py\u001b[0m in \u001b[0;36mrun_uproot_job\u001b[0;34m(fileset, treename, processor_instance, executor, executor_args, pre_executor, pre_args, chunksize, maxchunks, metadata_cache)\u001b[0m\n\u001b[1;32m   1215\u001b[0m     }\n\u001b[1;32m   1216\u001b[0m     \u001b[0mexe_args\u001b[0m\u001b[0;34m.\u001b[0m\u001b[0mupdate\u001b[0m\u001b[0;34m(\u001b[0m\u001b[0mexecutor_args\u001b[0m\u001b[0;34m)\u001b[0m\u001b[0;34m\u001b[0m\u001b[0;34m\u001b[0m\u001b[0m\n\u001b[0;32m-> 1217\u001b[0;31m     \u001b[0mexecutor\u001b[0m\u001b[0;34m(\u001b[0m\u001b[0mchunks\u001b[0m\u001b[0;34m,\u001b[0m \u001b[0mclosure\u001b[0m\u001b[0;34m,\u001b[0m \u001b[0mwrapped_out\u001b[0m\u001b[0;34m,\u001b[0m \u001b[0;34m**\u001b[0m\u001b[0mexe_args\u001b[0m\u001b[0;34m)\u001b[0m\u001b[0;34m\u001b[0m\u001b[0;34m\u001b[0m\u001b[0m\n\u001b[0m\u001b[1;32m   1218\u001b[0m \u001b[0;34m\u001b[0m\u001b[0m\n\u001b[1;32m   1219\u001b[0m     \u001b[0;32mif\u001b[0m \u001b[0;32mnot\u001b[0m \u001b[0muse_dataframes\u001b[0m\u001b[0;34m:\u001b[0m\u001b[0;34m\u001b[0m\u001b[0;34m\u001b[0m\u001b[0m\n",
      "\u001b[0;32m~/miniconda3/envs/daskanalysisenv/lib/python3.8/site-packages/coffea/processor/executor.py\u001b[0m in \u001b[0;36mfutures_executor\u001b[0;34m(items, function, accumulator, **kwargs)\u001b[0m\n\u001b[1;32m    637\u001b[0m         \u001b[0;32mwith\u001b[0m \u001b[0mpool\u001b[0m\u001b[0;34m(\u001b[0m\u001b[0mmax_workers\u001b[0m\u001b[0;34m=\u001b[0m\u001b[0mworkers\u001b[0m\u001b[0;34m)\u001b[0m \u001b[0;32mas\u001b[0m \u001b[0mexecutor\u001b[0m\u001b[0;34m:\u001b[0m\u001b[0;34m\u001b[0m\u001b[0;34m\u001b[0m\u001b[0m\n\u001b[1;32m    638\u001b[0m             \u001b[0mfutures\u001b[0m \u001b[0;34m=\u001b[0m \u001b[0mset\u001b[0m\u001b[0;34m(\u001b[0m\u001b[0mexecutor\u001b[0m\u001b[0;34m.\u001b[0m\u001b[0msubmit\u001b[0m\u001b[0;34m(\u001b[0m\u001b[0mfunction\u001b[0m\u001b[0;34m,\u001b[0m \u001b[0mitem\u001b[0m\u001b[0;34m)\u001b[0m \u001b[0;32mfor\u001b[0m \u001b[0mitem\u001b[0m \u001b[0;32min\u001b[0m \u001b[0mitems\u001b[0m\u001b[0;34m)\u001b[0m\u001b[0;34m\u001b[0m\u001b[0;34m\u001b[0m\u001b[0m\n\u001b[0;32m--> 639\u001b[0;31m             \u001b[0m_futures_handler\u001b[0m\u001b[0;34m(\u001b[0m\u001b[0mfutures\u001b[0m\u001b[0;34m,\u001b[0m \u001b[0maccumulator\u001b[0m\u001b[0;34m,\u001b[0m \u001b[0mstatus\u001b[0m\u001b[0;34m,\u001b[0m \u001b[0munit\u001b[0m\u001b[0;34m,\u001b[0m \u001b[0mdesc\u001b[0m\u001b[0;34m,\u001b[0m \u001b[0madd_fn\u001b[0m\u001b[0;34m,\u001b[0m \u001b[0mtailtimeout\u001b[0m\u001b[0;34m)\u001b[0m\u001b[0;34m\u001b[0m\u001b[0;34m\u001b[0m\u001b[0m\n\u001b[0m\u001b[1;32m    640\u001b[0m     \u001b[0;32mreturn\u001b[0m \u001b[0maccumulator\u001b[0m\u001b[0;34m\u001b[0m\u001b[0;34m\u001b[0m\u001b[0m\n\u001b[1;32m    641\u001b[0m \u001b[0;34m\u001b[0m\u001b[0m\n",
      "\u001b[0;32m~/miniconda3/envs/daskanalysisenv/lib/python3.8/site-packages/coffea/processor/executor.py\u001b[0m in \u001b[0;36m_futures_handler\u001b[0;34m(futures_set, output, status, unit, desc, add_fn, tailtimeout)\u001b[0m\n\u001b[1;32m    187\u001b[0m                 \u001b[0mfutures_set\u001b[0m\u001b[0;34m.\u001b[0m\u001b[0mdifference_update\u001b[0m\u001b[0;34m(\u001b[0m\u001b[0mfinished\u001b[0m\u001b[0;34m)\u001b[0m\u001b[0;34m\u001b[0m\u001b[0;34m\u001b[0m\u001b[0m\n\u001b[1;32m    188\u001b[0m                 \u001b[0;32mwhile\u001b[0m \u001b[0mfinished\u001b[0m\u001b[0;34m:\u001b[0m\u001b[0;34m\u001b[0m\u001b[0;34m\u001b[0m\u001b[0m\n\u001b[0;32m--> 189\u001b[0;31m                     \u001b[0madd_fn\u001b[0m\u001b[0;34m(\u001b[0m\u001b[0moutput\u001b[0m\u001b[0;34m,\u001b[0m \u001b[0mfinished\u001b[0m\u001b[0;34m.\u001b[0m\u001b[0mpop\u001b[0m\u001b[0;34m(\u001b[0m\u001b[0;34m)\u001b[0m\u001b[0;34m.\u001b[0m\u001b[0mresult\u001b[0m\u001b[0;34m(\u001b[0m\u001b[0;34m)\u001b[0m\u001b[0;34m)\u001b[0m\u001b[0;34m\u001b[0m\u001b[0;34m\u001b[0m\u001b[0m\n\u001b[0m\u001b[1;32m    190\u001b[0m                     \u001b[0mpbar\u001b[0m\u001b[0;34m.\u001b[0m\u001b[0mupdate\u001b[0m\u001b[0;34m(\u001b[0m\u001b[0;36m1\u001b[0m\u001b[0;34m)\u001b[0m\u001b[0;34m\u001b[0m\u001b[0;34m\u001b[0m\u001b[0m\n\u001b[1;32m    191\u001b[0m                     \u001b[0mlast_job\u001b[0m \u001b[0;34m=\u001b[0m \u001b[0mtime\u001b[0m\u001b[0;34m.\u001b[0m\u001b[0mtime\u001b[0m\u001b[0;34m(\u001b[0m\u001b[0;34m)\u001b[0m\u001b[0;34m\u001b[0m\u001b[0;34m\u001b[0m\u001b[0m\n",
      "\u001b[0;32m~/miniconda3/envs/daskanalysisenv/lib/python3.8/concurrent/futures/_base.py\u001b[0m in \u001b[0;36mresult\u001b[0;34m(self, timeout)\u001b[0m\n\u001b[1;32m    430\u001b[0m                 \u001b[0;32mraise\u001b[0m \u001b[0mCancelledError\u001b[0m\u001b[0;34m(\u001b[0m\u001b[0;34m)\u001b[0m\u001b[0;34m\u001b[0m\u001b[0;34m\u001b[0m\u001b[0m\n\u001b[1;32m    431\u001b[0m             \u001b[0;32melif\u001b[0m \u001b[0mself\u001b[0m\u001b[0;34m.\u001b[0m\u001b[0m_state\u001b[0m \u001b[0;34m==\u001b[0m \u001b[0mFINISHED\u001b[0m\u001b[0;34m:\u001b[0m\u001b[0;34m\u001b[0m\u001b[0;34m\u001b[0m\u001b[0m\n\u001b[0;32m--> 432\u001b[0;31m                 \u001b[0;32mreturn\u001b[0m \u001b[0mself\u001b[0m\u001b[0;34m.\u001b[0m\u001b[0m__get_result\u001b[0m\u001b[0;34m(\u001b[0m\u001b[0;34m)\u001b[0m\u001b[0;34m\u001b[0m\u001b[0;34m\u001b[0m\u001b[0m\n\u001b[0m\u001b[1;32m    433\u001b[0m \u001b[0;34m\u001b[0m\u001b[0m\n\u001b[1;32m    434\u001b[0m             \u001b[0mself\u001b[0m\u001b[0;34m.\u001b[0m\u001b[0m_condition\u001b[0m\u001b[0;34m.\u001b[0m\u001b[0mwait\u001b[0m\u001b[0;34m(\u001b[0m\u001b[0mtimeout\u001b[0m\u001b[0;34m)\u001b[0m\u001b[0;34m\u001b[0m\u001b[0;34m\u001b[0m\u001b[0m\n",
      "\u001b[0;32m~/miniconda3/envs/daskanalysisenv/lib/python3.8/concurrent/futures/_base.py\u001b[0m in \u001b[0;36m__get_result\u001b[0;34m(self)\u001b[0m\n\u001b[1;32m    386\u001b[0m     \u001b[0;32mdef\u001b[0m \u001b[0m__get_result\u001b[0m\u001b[0;34m(\u001b[0m\u001b[0mself\u001b[0m\u001b[0;34m)\u001b[0m\u001b[0;34m:\u001b[0m\u001b[0;34m\u001b[0m\u001b[0;34m\u001b[0m\u001b[0m\n\u001b[1;32m    387\u001b[0m         \u001b[0;32mif\u001b[0m \u001b[0mself\u001b[0m\u001b[0;34m.\u001b[0m\u001b[0m_exception\u001b[0m\u001b[0;34m:\u001b[0m\u001b[0;34m\u001b[0m\u001b[0;34m\u001b[0m\u001b[0m\n\u001b[0;32m--> 388\u001b[0;31m             \u001b[0;32mraise\u001b[0m \u001b[0mself\u001b[0m\u001b[0;34m.\u001b[0m\u001b[0m_exception\u001b[0m\u001b[0;34m\u001b[0m\u001b[0;34m\u001b[0m\u001b[0m\n\u001b[0m\u001b[1;32m    389\u001b[0m         \u001b[0;32melse\u001b[0m\u001b[0;34m:\u001b[0m\u001b[0;34m\u001b[0m\u001b[0;34m\u001b[0m\u001b[0m\n\u001b[1;32m    390\u001b[0m             \u001b[0;32mreturn\u001b[0m \u001b[0mself\u001b[0m\u001b[0;34m.\u001b[0m\u001b[0m_result\u001b[0m\u001b[0;34m\u001b[0m\u001b[0;34m\u001b[0m\u001b[0m\n",
      "\u001b[0;31mValueError\u001b[0m: in ListOffsetArray64, cannot convert to RegularArray because subarray lengths are not regular\n\n(https://github.com/scikit-hep/awkward-1.0/blob/1.1.2/src/cpu-kernels/awkward_ListOffsetArray_toRegularArray.cpp#L22)\n\nFailed processing file: root://xcache-redirector.t2.ucsd.edu:2040//store/mc/RunIIAutumn18NanoAODv7/TTTo2L2Nu_TuneCP5_13TeV-powheg-pythia8/NANOAODSIM/Nano02Apr2020_102X_upgrade2018_realistic_v21-v1/60000/DE852D8A-8F01-194F-8D2E-D4F964DF97C7.root (0-261250)"
     ]
    }
   ],
   "source": [
    "from processor.default_accumulators import desired_output, add_processes_to_output\n",
    "\n",
    "from Tools.helpers import get_samples\n",
    "from Tools.config_helpers import redirector_ucsd, redirector_fnal\n",
    "from Tools.nano_mapping import make_fileset, nano_mapping\n",
    "\n",
    "from processor.meta_processor import get_sample_meta\n",
    "\n",
    "overwrite = False\n",
    "local = True\n",
    "\n",
    "# load the config and the cache\n",
    "cfg = loadConfig()\n",
    "\n",
    "cacheName = 'charge_flip_ss'\n",
    "cache = dir_archive(os.path.join(os.path.expandvars(cfg['caches']['base']), cacheName), serialized=True)\n",
    "\n",
    "year = 2018\n",
    "\n",
    "# get a python dictionary of all NanoAOD samples\n",
    "# The samples definitions can be found in data/samples.yaml\n",
    "samples = get_samples(year)\n",
    "\n",
    "# make a fileset, taking the definitions in Tools/nano_mapping.py\n",
    "fileset = make_fileset(['DY', 'top',], year, redirector=redirector_ucsd, small=False)\n",
    "#fileset = {'/TTTo2L2Nu_TuneCP5_13TeV-powheg-pythia8/RunIIAutumn18NanoAODv7-Nano02Apr2020_102X_upgrade2018_realistic_v21-v1/NANOAODSIM': ['022107FA-F567-1B44-B139-A18ADC996FCF.root']}\n",
    "# in order for cutflows to work we need to add every process to the output accumulator\n",
    "add_processes_to_output(fileset, desired_output)\n",
    "\n",
    "histograms = sorted(list(desired_output.keys()))\n",
    "\n",
    "#meta = get_sample_meta(fileset, samples)\n",
    "\n",
    "if local:\n",
    "\n",
    "    exe_args = {\n",
    "        'workers': 16,\n",
    "        'function_args': {'flatten': False},\n",
    "        \"schema\": NanoAODSchema,\n",
    "        \"skipbadfiles\": True,\n",
    "    }\n",
    "    exe = processor.futures_executor\n",
    "\n",
    "else:\n",
    "    from Tools.helpers import get_scheduler_address\n",
    "    from dask.distributed import Client, progress\n",
    "\n",
    "    scheduler_address = get_scheduler_address()\n",
    "    c = Client(scheduler_address)\n",
    "\n",
    "    exe_args = {\n",
    "        'client': c,\n",
    "        'function_args': {'flatten': False},\n",
    "        \"schema\": NanoAODSchema,\n",
    "        \"skipbadfiles\": True,\n",
    "    }\n",
    "    exe = processor.dask_executor\n",
    "\n",
    "if not overwrite:\n",
    "    cache.load()\n",
    "\n",
    "if cfg == cache.get('cfg') and histograms == cache.get('histograms') and cache.get('simple_output'):\n",
    "    output = cache.get('simple_output')\n",
    "\n",
    "else:\n",
    "    print (\"I'm running now\")\n",
    "\n",
    "    output = processor.run_uproot_job(\n",
    "        fileset,\n",
    "        \"Events\",\n",
    "        charge_flip_ss(year=year, variations=[], accumulator=desired_output),\n",
    "        exe,\n",
    "        exe_args,\n",
    "        chunksize=250000,\n",
    "    )\n",
    "\n",
    "    cache['fileset']        = fileset\n",
    "    cache['cfg']            = cfg\n",
    "    cache['histograms']     = histograms\n",
    "    cache['simple_output']  = output\n",
    "    cache.dump()\n",
    "    "
   ]
  },
  {
   "cell_type": "code",
   "execution_count": null,
   "metadata": {},
   "outputs": [],
   "source": [
    "output['totalEvents']['all']/1e6"
   ]
  },
  {
   "cell_type": "markdown",
   "metadata": {},
   "source": [
    "Full fileset is 180M events, and that's basically just DY and ttbar."
   ]
  },
  {
   "cell_type": "code",
   "execution_count": null,
   "metadata": {},
   "outputs": [],
   "source": [
    "# import the plotting libararies: matplotlib and mplhep\n",
    "\n",
    "import matplotlib.pyplot as plt\n",
    "import mplhep as hep\n",
    "plt.style.use(hep.style.CMS)\n",
    "\n",
    "import numpy as np\n",
    "\n",
    "\n",
    "# load the functions to make a nice plot from the output histograms\n",
    "# and the scale_and_merge function that scales the individual histograms\n",
    "# to match the physical cross section\n",
    "\n",
    "from plots.helpers import makePlot, scale_and_merge\n",
    "\n",
    "# define a few axes that we can use to rebin our output histograms\n",
    "\n",
    "N_bins         = hist.Bin('multiplicity', r'$N$', 10, -0.5, 9.5)\n",
    "N_bins_red     = hist.Bin('multiplicity', r'$N$', 5, -0.5, 4.5)\n",
    "pt_bins        = hist.Bin('pt', r'$p_{T}\\ (GeV)$', np.array([15, 40, 60, 80, 100, 200, 300]))\n",
    "eta_bins       = hist.Bin('eta', r'$\\eta $', np.array([0, 0.8, 1.479, 2.5]))\n",
    "phi_bins       = hist.Bin('phi', r'$\\phi $', 16, -3.2, 3.2)\n",
    "\n",
    "\n",
    "# define nicer labels and colors\n",
    "\n",
    "nano_mappings = nano_mapping(year)\n",
    "\n",
    "\n",
    "my_labels = {\n",
    "    nano_mappings['TTW'][0]: 'all',\n",
    "    nano_mappings['TTZ'][0]: 'ttZ',\n",
    "    nano_mappings['DY'][0]: 'DY',\n",
    "    nano_mappings['top'][0]: 't/tt+jets',\n",
    "}\n",
    "\n",
    "my_colors = {\n",
    "    nano_mappings['TTW'][0]: '#8AC926',\n",
    "    nano_mappings['TTZ'][0]: '#FFCA3A',\n",
    "    nano_mappings['DY'][0]: '#6A4C93',\n",
    "    nano_mappings['top'][0]: '#1982C4',\n",
    "}\n"
   ]
  },
  {
   "cell_type": "markdown",
   "metadata": {},
   "source": [
    "# 1D Histograms"
   ]
  },
  {
   "cell_type": "code",
   "execution_count": null,
   "metadata": {},
   "outputs": [],
   "source": [
    "from yahist import Hist1D, Hist2D"
   ]
  },
  {
   "cell_type": "code",
   "execution_count": 7,
   "metadata": {},
   "outputs": [
    {
     "data": {
      "text/plain": [
       "<matplotlib.legend.Legend at 0x7fe7da2eec70>"
      ]
     },
     "execution_count": 7,
     "metadata": {},
     "output_type": "execute_result"
    },
    {
     "data": {
      "image/png": "[encoded data removed]",
      "text/plain": [
       "<Figure size 720x720 with 2 Axes>"
      ]
     },
     "metadata": {
      "needs_background": "light"
     },
     "output_type": "display_data"
    },
    {
     "data": {
      "image/png": "[encoded data removed]",
      "text/plain": [
       "<Figure size 720x720 with 2 Axes>"
      ]
     },
     "metadata": {
      "needs_background": "light"
     },
     "output_type": "display_data"
    }
   ],
   "source": [
    "tmp1 = output['N_ele'].copy()\n",
    "tmp1 = tmp1.rebin('multiplicity', N_bins_red)\n",
    "\n",
    "\n",
    "tmp2 = output['N_ele2'].copy()\n",
    "tmp2 = tmp2.rebin('multiplicity', N_bins_red)\n",
    "\n",
    "tmp3 = output['electron_flips'].copy()\n",
    "tmp3 = tmp3.rebin('multiplicity', N_bins_red)\n",
    "\n",
    "tmp4 = output['electron_flips2'].copy()\n",
    "tmp4 = tmp4.rebin('multiplicity', N_bins_red)\n",
    "\n",
    "h1 = Hist1D.from_bincounts(\n",
    "    tmp1.sum('dataset').values()[()].T,\n",
    "    (tmp1.axis('multiplicity').edges()),\n",
    ")\n",
    "\n",
    "h2 = Hist1D.from_bincounts(\n",
    "    tmp2.sum('dataset').values()[()].T,\n",
    "    (tmp2.axis('multiplicity').edges()),\n",
    ")\n",
    "\n",
    "h3 = Hist1D.from_bincounts(\n",
    "    tmp3.sum('dataset').values()[()].T,\n",
    "    (tmp3.axis('multiplicity').edges()),\n",
    ")\n",
    "\n",
    "h4 = Hist1D.from_bincounts(\n",
    "    tmp4.sum('dataset').values()[()].T,\n",
    "    (tmp4.axis('multiplicity').edges()),\n",
    ")\n",
    "\n",
    "h1_TT = Hist1D.from_bincounts(\n",
    "    tmp1.values()[('/TTTo2L2Nu_TuneCP5_13TeV-powheg-pythia8/RunIIAutumn18NanoAODv7-Nano02Apr2020_102X_upgrade2018_realistic_v21-v1/NANOAODSIM',)].T,\n",
    "    (tmp1.axis('multiplicity').edges()),\n",
    ")\n",
    "\n",
    "h2_TT = Hist1D.from_bincounts(\n",
    "    tmp2.values()[('/TTTo2L2Nu_TuneCP5_13TeV-powheg-pythia8/RunIIAutumn18NanoAODv7-Nano02Apr2020_102X_upgrade2018_realistic_v21-v1/NANOAODSIM',)].T,\n",
    "    (tmp2.axis('multiplicity').edges()),\n",
    ")\n",
    "\n",
    "h1_DY = Hist1D.from_bincounts(\n",
    "    tmp1.values()[('/DYJetsToLL_M-50_TuneCP5_13TeV-madgraphMLM-pythia8/RunIIAutumn18NanoAODv7-Nano02Apr2020_102X_upgrade2018_realistic_v21-v1/NANOAODSIM',)].T,\n",
    "    (tmp1.axis('multiplicity').edges()),\n",
    ")\n",
    "\n",
    "h2_DY = Hist1D.from_bincounts(\n",
    "    tmp2.values()[('/DYJetsToLL_M-50_TuneCP5_13TeV-madgraphMLM-pythia8/RunIIAutumn18NanoAODv7-Nano02Apr2020_102X_upgrade2018_realistic_v21-v1/NANOAODSIM',)].T,\n",
    "    (tmp2.axis('multiplicity').edges()),\n",
    ")\n",
    "\n",
    "h3_TT = Hist1D.from_bincounts(\n",
    "    tmp3.values()[('/TTTo2L2Nu_TuneCP5_13TeV-powheg-pythia8/RunIIAutumn18NanoAODv7-Nano02Apr2020_102X_upgrade2018_realistic_v21-v1/NANOAODSIM',)].T,\n",
    "    (tmp3.axis('multiplicity').edges()),\n",
    ")\n",
    "\n",
    "\n",
    "fig, (ax1,ax2) = plt.subplots(2, sharex=True, figsize=(10,10), gridspec_kw=dict(height_ratios=[3, 1]))\n",
    "h2.plot(ax=ax1, alpha=1, color=\"C0\")\n",
    "h1.plot(ax=ax1, alpha=1, color=\"C3\")\n",
    "\n",
    "\n",
    "ax1.set_xlabel(r'$N_{lepton}\\ $')\n",
    "ax1.set_ylabel(r'Events')\n",
    "\n",
    "fig.legend([\"weighted OS (emu)\", \"SS (emu)\"])\n",
    "\n",
    "# Gaussian errors\n",
    "#    (num/den).plot(ax=ax2,show_errors=True,label=\"ratio\")\n",
    "# Asymmetric Clopper-Pearson errors\n",
    "h1.divide(h2, binomial=True).plot(ax=ax2, errors=True, label=\"ratio\")\n",
    "\n",
    "\n",
    "\n",
    "fig, (ax1,ax2) = plt.subplots(2, sharex=True, figsize=(10,10), gridspec_kw=dict(height_ratios=[3, 1]))\n",
    "h4.plot(ax=ax1, alpha=1, color=\"C2\")\n",
    "h3.plot(ax=ax1, alpha=1, color=\"C1\")\n",
    "\n",
    "\n",
    "ax1.set_xlabel(r'$N_{flips}\\ $')\n",
    "ax1.set_ylabel(r'Events')\n",
    "\n",
    "fig.legend([\"OS (emu)\", \"SS (emu)\",])\n",
    "\n",
    "# Gaussian errors\n",
    "#    (num/den).plot(ax=ax2,show_errors=True,label=\"ratio\")\n",
    "# Asymmetric Clopper-Pearson errors"
   ]
  },
  {
   "cell_type": "code",
   "execution_count": 9,
   "metadata": {},
   "outputs": [
    {
     "name": "stdout",
     "output_type": "stream",
     "text": [
      "[5.04494164e+04 1.81793694e-01 0.00000000e+00 0.00000000e+00\n",
      " 0.00000000e+00]\n",
      "[110795.97032595  50578.39031982      0.              0.\n",
      "      0.        ]\n"
     ]
    }
   ],
   "source": [
    "print(tmp4.sum('dataset').values()[()].T)\n",
    "print(tmp3.sum('dataset').values()[()].T)"
   ]
  },
  {
   "cell_type": "code",
   "execution_count": null,
   "metadata": {},
   "outputs": [],
   "source": [
    "tmp1 = output['N_jet'].copy()\n",
    "tmp1 = tmp1.rebin('multiplicity', N_bins_red)\n",
    "\n",
    "\n",
    "\n",
    "h1 = Hist1D.from_bincounts(\n",
    "    tmp1.sum('dataset').values()[()].T,\n",
    "    (tmp1.axis('multiplicity').edges()),\n",
    ")\n",
    "\n",
    "\n",
    "h1_TT = Hist1D.from_bincounts(\n",
    "    tmp1.values()[('/TTTo2L2Nu_TuneCP5_13TeV-powheg-pythia8/RunIIAutumn18NanoAODv7-Nano02Apr2020_102X_upgrade2018_realistic_v21-v1/NANOAODSIM',)].T,\n",
    "    (tmp1.axis('multiplicity').edges()),\n",
    ")\n",
    "\n",
    "\n",
    "h1_DY = Hist1D.from_bincounts(\n",
    "    tmp1.values()[('/DYJetsToLL_M-50_TuneCP5_13TeV-madgraphMLM-pythia8/RunIIAutumn18NanoAODv7-Nano02Apr2020_102X_upgrade2018_realistic_v21-v1/NANOAODSIM',)].T,\n",
    "    (tmp1.axis('multiplicity').edges()),\n",
    ")\n",
    "\n",
    "\n",
    "fig, (ax1) = plt.subplots(1, figsize=(10,10))\n",
    "h1.plot(ax=ax1, alpha=1, color=\"C3\")\n",
    "\n",
    "ax1.set_yscale(\"log\")\n",
    "ax1.set_xlabel(r'$N_{lepton}\\ $')\n",
    "ax1.set_ylabel(r'Events')\n",
    "\n",
    "fig.legend([\"jets\"])\n",
    "\n",
    "\n",
    "fig, (ax1) = plt.subplots(1, figsize=(10,10))\n",
    "h1_DY.plot(ax=ax1, alpha=1, color=\"C3\")\n",
    "\n",
    "ax1.set_yscale(\"log\")\n",
    "ax1.set_xlabel(r'$N_{lepton}\\ $')\n",
    "ax1.set_ylabel(r'Events')\n",
    "\n",
    "fig.legend([\"jets\"])\n",
    "\n",
    "fig, (ax1) = plt.subplots(1,  figsize=(10,10))\n",
    "h1_TT.plot(ax=ax1, alpha=1, color=\"C3\")\n",
    "\n",
    "ax1.set_yscale(\"log\")\n",
    "ax1.set_xlabel(r'$N_{lepton}\\ $')\n",
    "ax1.set_ylabel(r'Events')\n",
    "\n",
    "fig.legend([\"jets\"])\n"
   ]
  },
  {
   "cell_type": "code",
   "execution_count": 3,
   "metadata": {},
   "outputs": [
    {
     "ename": "NameError",
     "evalue": "name 'output' is not defined",
     "output_type": "error",
     "traceback": [
      "\u001b[0;31m---------------------------------------------------------------------------\u001b[0m",
      "\u001b[0;31mNameError\u001b[0m                                 Traceback (most recent call last)",
      "\u001b[0;32m<ipython-input-3-a6d9d747003b>\u001b[0m in \u001b[0;36m<module>\u001b[0;34m\u001b[0m\n\u001b[0;32m----> 1\u001b[0;31m \u001b[0mtmp1\u001b[0m \u001b[0;34m=\u001b[0m \u001b[0moutput\u001b[0m\u001b[0;34m[\u001b[0m\u001b[0;34m'electron'\u001b[0m\u001b[0;34m]\u001b[0m\u001b[0;34m.\u001b[0m\u001b[0mcopy\u001b[0m\u001b[0;34m(\u001b[0m\u001b[0;34m)\u001b[0m\u001b[0;34m\u001b[0m\u001b[0;34m\u001b[0m\u001b[0m\n\u001b[0m\u001b[1;32m      2\u001b[0m \u001b[0mtmp1\u001b[0m \u001b[0;34m=\u001b[0m \u001b[0mtmp1\u001b[0m\u001b[0;34m.\u001b[0m\u001b[0mrebin\u001b[0m\u001b[0;34m(\u001b[0m\u001b[0;34m'pt'\u001b[0m\u001b[0;34m,\u001b[0m \u001b[0mpt_bins\u001b[0m\u001b[0;34m)\u001b[0m\u001b[0;34m\u001b[0m\u001b[0;34m\u001b[0m\u001b[0m\n\u001b[1;32m      3\u001b[0m \u001b[0mtmp1\u001b[0m \u001b[0;34m=\u001b[0m \u001b[0mtmp1\u001b[0m\u001b[0;34m.\u001b[0m\u001b[0mrebin\u001b[0m\u001b[0;34m(\u001b[0m\u001b[0;34m'eta'\u001b[0m\u001b[0;34m,\u001b[0m \u001b[0meta_bins\u001b[0m\u001b[0;34m)\u001b[0m\u001b[0;34m\u001b[0m\u001b[0;34m\u001b[0m\u001b[0m\n\u001b[1;32m      4\u001b[0m \u001b[0;34m\u001b[0m\u001b[0m\n\u001b[1;32m      5\u001b[0m \u001b[0;34m\u001b[0m\u001b[0m\n",
      "\u001b[0;31mNameError\u001b[0m: name 'output' is not defined"
     ]
    }
   ],
   "source": [
    "tmp1 = output['electron'].copy()\n",
    "tmp1 = tmp1.rebin('pt', pt_bins)\n",
    "tmp1 = tmp1.rebin('eta', eta_bins)\n",
    "\n",
    "\n",
    "tmp2 = output['electron2'].copy()\n",
    "tmp2 = tmp2.rebin('pt', pt_bins)\n",
    "tmp2 = tmp2.rebin('eta', eta_bins)\n",
    "\n",
    "tmp3 = output['flipped_electron'].copy()\n",
    "tmp3 = tmp3.rebin('pt', pt_bins)\n",
    "tmp3 = tmp3.rebin('eta', eta_bins)\n",
    "\n",
    "tmp4 = output['flipped_electron2'].copy()\n",
    "tmp4 = tmp4.rebin('pt', pt_bins)\n",
    "tmp4 = tmp4.rebin('eta', eta_bins)\n",
    "\n",
    "h1 = Hist2D.from_bincounts(\n",
    "    tmp1.sum('dataset').values()[()].T,\n",
    "    (tmp1.axis('pt').edges(), tmp1.axis('eta').edges()),\n",
    ")\n",
    "\n",
    "h2 = Hist2D.from_bincounts(\n",
    "    tmp2.sum('dataset').values()[()].T,\n",
    "    (tmp2.axis('pt').edges(), tmp2.axis('eta').edges()),\n",
    ")\n",
    "\n",
    "h3 = Hist2D.from_bincounts(\n",
    "    tmp3.sum('dataset').values()[()].T,\n",
    "    (tmp3.axis('pt').edges(), tmp3.axis('eta').edges()),\n",
    ")\n",
    "\n",
    "h4 = Hist2D.from_bincounts(\n",
    "    tmp4.sum('dataset').values()[()].T,\n",
    "    (tmp4.axis('pt').edges(), tmp4.axis('eta').edges()),\n",
    ")\n",
    "\n",
    "h1_TT = Hist2D.from_bincounts(\n",
    "    tmp1.values()[('/TTTo2L2Nu_TuneCP5_13TeV-powheg-pythia8/RunIIAutumn18NanoAODv7-Nano02Apr2020_102X_upgrade2018_realistic_v21-v1/NANOAODSIM',)].T,\n",
    "    (tmp1.axis('pt').edges(), tmp1.axis('eta').edges()),)\n",
    "\n",
    "h2_TT = Hist2D.from_bincounts(\n",
    "    tmp2.values()[('/TTTo2L2Nu_TuneCP5_13TeV-powheg-pythia8/RunIIAutumn18NanoAODv7-Nano02Apr2020_102X_upgrade2018_realistic_v21-v1/NANOAODSIM',)].T,\n",
    "    (tmp2.axis('pt').edges(), tmp2.axis('eta').edges()),\n",
    ")\n",
    "\n",
    "h1_DY = Hist2D.from_bincounts(\n",
    "    tmp1.values()[('/DYJetsToLL_M-50_TuneCP5_13TeV-madgraphMLM-pythia8/RunIIAutumn18NanoAODv7-Nano02Apr2020_102X_upgrade2018_realistic_v21-v1/NANOAODSIM',)].T,\n",
    "    (tmp1.axis('pt').edges(), tmp1.axis('eta').edges()),\n",
    ")\n",
    "\n",
    "h2_DY = Hist2D.from_bincounts(\n",
    "    tmp2.values()[('/DYJetsToLL_M-50_TuneCP5_13TeV-madgraphMLM-pythia8/RunIIAutumn18NanoAODv7-Nano02Apr2020_102X_upgrade2018_realistic_v21-v1/NANOAODSIM',)].T,\n",
    "    (tmp2.axis('pt').edges(), tmp2.axis('eta').edges()),\n",
    ")\n",
    "\n",
    "\n",
    "fig, (ax1,ax2) = plt.subplots(2, sharex=True, figsize=(10,10), gridspec_kw=dict(height_ratios=[3, 1]))\n",
    "h2.projection('x').plot(ax=ax1, alpha=0.8, color=\"C0\")\n",
    "h4.projection('x').plot(ax=ax1, alpha=0.8, color=\"C1\")\n",
    "\n",
    "\n",
    "\n",
    "fig.legend([\"weighted OS (emu)\", \"weighted no flips (emu)\"])\n",
    "\n",
    "ax1.set_xlabel(r'$p_{T}\\ (GeV) $')\n",
    "ax1.set_ylabel(r'Events')\n",
    "\n",
    "h2.projection('x').divide(h4.projection('x'), binomial=True).plot(ax=ax2, errors=True, label=\"ratio\")\n",
    "#ax2.set_ylim([0.90,1.10])\n",
    "\n",
    "fig, (ax1,ax2) = plt.subplots(2, sharex=True, figsize=(10,10), gridspec_kw=dict(height_ratios=[3, 1]))\n",
    "h1.projection('x').plot(ax=ax1, alpha=0.8, color=\"C3\")\n",
    "h3.projection('x').plot(ax=ax1, alpha=0.8, color=\"C2\")\n",
    "\n",
    "fig.legend([\"SS\", \"flips\"])\n",
    "\n",
    "ax1.set_xlabel(r'$p_{T}\\ (GeV) $')\n",
    "ax1.set_ylabel(r'Events')\n",
    "\n",
    "h1.projection('x').divide(h3.projection('x'), binomial=True).plot(ax=ax2, errors=True, label=\"ratio\")\n",
    "\n",
    "fig, (ax1,ax2) = plt.subplots(2, sharex=True, figsize=(10,10), gridspec_kw=dict(height_ratios=[3, 1]))\n",
    "h4.projection('x').plot(ax=ax1, alpha=0.8, color=\"C3\")\n",
    "h3.projection('x').plot(ax=ax1, alpha=0.8, color=\"C2\")\n",
    "\n",
    "fig.legend([\"SS\", \"flips\"])\n",
    "\n",
    "ax1.set_xlabel(r'$p_{T}\\ (GeV) $')\n",
    "ax1.set_ylabel(r'Events')\n",
    "\n",
    "h1.projection('x').divide(h3.projection('x'), binomial=True).plot(ax=ax2, errors=True, label=\"ratio\")"
   ]
  },
  {
   "cell_type": "code",
   "execution_count": 13,
   "metadata": {},
   "outputs": [
    {
     "name": "stdout",
     "output_type": "stream",
     "text": [
      "[3607.99 ± 60.07   10083.30 ± 100.42   11389.33 ± 106.72   8512.53 ± 92.26\n",
      " 14791.45 ± 121.62   1795.28 ± 42.37]\n",
      "[3611.36 ± 60.09   10089.08 ± 100.44   11394.71 ± 106.75   8516.87 ± 92.29\n",
      " 14797.48 ± 121.64   1796.43 ± 42.38]\n"
     ]
    }
   ],
   "source": [
    "print(h2.projection('x'))\n",
    "print(h4.projection('x'))"
   ]
  },
  {
   "cell_type": "code",
   "execution_count": 14,
   "metadata": {},
   "outputs": [
    {
     "data": {
      "text/plain": [
       "<AxesSubplot:>"
      ]
     },
     "execution_count": 14,
     "metadata": {},
     "output_type": "execute_result"
    },
    {
     "data": {
      "image/png": "[encoded data removed]",
      "text/plain": [
       "<Figure size 720x720 with 2 Axes>"
      ]
     },
     "metadata": {
      "needs_background": "light"
     },
     "output_type": "display_data"
    },
    {
     "data": {
      "image/png": "[encoded data removed]",
      "text/plain": [
       "<Figure size 720x720 with 2 Axes>"
      ]
     },
     "metadata": {
      "needs_background": "light"
     },
     "output_type": "display_data"
    }
   ],
   "source": [
    "tmp1 = output['electron'].copy()\n",
    "tmp1 = tmp1.rebin('pt', pt_bins)\n",
    "tmp1 = tmp1.rebin('eta', eta_bins)\n",
    "\n",
    "\n",
    "tmp2 = output['electron2'].copy()\n",
    "tmp2 = tmp2.rebin('pt', pt_bins)\n",
    "tmp2 = tmp2.rebin('eta', eta_bins)\n",
    "\n",
    "tmp3 = output['flipped_electron'].copy()\n",
    "tmp3 = tmp3.rebin('pt', pt_bins)\n",
    "tmp3 = tmp3.rebin('eta', eta_bins)\n",
    "\n",
    "tmp4 = output['flipped_electron2'].copy()\n",
    "tmp4 = tmp4.rebin('pt', pt_bins)\n",
    "tmp4 = tmp4.rebin('eta', eta_bins)\n",
    "\n",
    "h1 = Hist2D.from_bincounts(\n",
    "    tmp1.sum('dataset').values()[()].T,\n",
    "    (tmp1.axis('pt').edges(), tmp1.axis('eta').edges()),\n",
    ")\n",
    "\n",
    "h2 = Hist2D.from_bincounts(\n",
    "    tmp2.sum('dataset').values()[()].T,\n",
    "    (tmp2.axis('pt').edges(), tmp2.axis('eta').edges()),\n",
    ")\n",
    "\n",
    "h3 = Hist2D.from_bincounts(\n",
    "    tmp3.sum('dataset').values()[()].T,\n",
    "    (tmp3.axis('pt').edges(), tmp3.axis('eta').edges()),\n",
    ")\n",
    "\n",
    "h4 = Hist2D.from_bincounts(\n",
    "    tmp4.sum('dataset').values()[()].T,\n",
    "    (tmp4.axis('pt').edges(), tmp4.axis('eta').edges()),\n",
    ")\n",
    "\n",
    "h1_TT = Hist2D.from_bincounts(\n",
    "    tmp1.values()[('/TTTo2L2Nu_TuneCP5_13TeV-powheg-pythia8/RunIIAutumn18NanoAODv7-Nano02Apr2020_102X_upgrade2018_realistic_v21-v1/NANOAODSIM',)].T,\n",
    "    (tmp1.axis('pt').edges(), tmp1.axis('eta').edges()),)\n",
    "\n",
    "h2_TT = Hist2D.from_bincounts(\n",
    "    tmp2.values()[('/TTTo2L2Nu_TuneCP5_13TeV-powheg-pythia8/RunIIAutumn18NanoAODv7-Nano02Apr2020_102X_upgrade2018_realistic_v21-v1/NANOAODSIM',)].T,\n",
    "    (tmp2.axis('pt').edges(), tmp2.axis('eta').edges()),\n",
    ")\n",
    "\n",
    "h1_DY = Hist2D.from_bincounts(\n",
    "    tmp1.values()[('/DYJetsToLL_M-50_TuneCP5_13TeV-madgraphMLM-pythia8/RunIIAutumn18NanoAODv7-Nano02Apr2020_102X_upgrade2018_realistic_v21-v1/NANOAODSIM',)].T,\n",
    "    (tmp1.axis('pt').edges(), tmp1.axis('eta').edges()),\n",
    ")\n",
    "\n",
    "h2_DY = Hist2D.from_bincounts(\n",
    "    tmp2.values()[('/DYJetsToLL_M-50_TuneCP5_13TeV-madgraphMLM-pythia8/RunIIAutumn18NanoAODv7-Nano02Apr2020_102X_upgrade2018_realistic_v21-v1/NANOAODSIM',)].T,\n",
    "    (tmp2.axis('pt').edges(), tmp2.axis('eta').edges()),\n",
    ")\n",
    "\n",
    "\n",
    "fig, (ax1,ax2) = plt.subplots(2, sharex=True, figsize=(10,10), gridspec_kw=dict(height_ratios=[3, 1]))\n",
    "h2.projection('y').plot(ax=ax1, alpha=0.8, color=\"C0\")\n",
    "h4.projection('y').plot(ax=ax1, alpha=0.8, color=\"C1\")\n",
    "\n",
    "\n",
    "\n",
    "fig.legend([\"weighted OS\", \"weighted no flips\"])\n",
    "\n",
    "ax1.set_xlabel(r'$p_{T}\\ (GeV) $')\n",
    "ax1.set_ylabel(r'Events')\n",
    "\n",
    "h2.projection('y').divide(h4.projection('y'), binomial=True).plot(ax=ax2, errors=True, label=\"ratio\")\n",
    "#ax2.set_ylim([0.90,1.10])\n",
    "\n",
    "fig, (ax1,ax2) = plt.subplots(2, sharex=True, figsize=(10,10), gridspec_kw=dict(height_ratios=[3, 1]))\n",
    "h1.projection('y').plot(ax=ax1, alpha=0.8, color=\"C3\")\n",
    "h3.projection('y').plot(ax=ax1, alpha=0.8, color=\"C2\")\n",
    "\n",
    "fig.legend([\"SS\", \"flips\"])\n",
    "\n",
    "ax1.set_xlabel(r'$p_{T}\\ (GeV) $')\n",
    "ax1.set_ylabel(r'Events')\n",
    "\n",
    "h1.projection('y').divide(h3.projection('y'), binomial=True).plot(ax=ax2, errors=True, label=\"ratio\")"
   ]
  },
  {
   "cell_type": "code",
   "execution_count": 11,
   "metadata": {},
   "outputs": [
    {
     "name": "stdout",
     "output_type": "stream",
     "text": [
      "695.0452237486797\n",
      "Data: 0 MC: 695.1\n"
     ]
    },
    {
     "name": "stderr",
     "output_type": "stream",
     "text": [
      "'texgyreheros-bold.otf' can not be subsetted into a Type 3 font. The entire font will be embedded in the output.\n",
      "'texgyreheros-regular.otf' can not be subsetted into a Type 3 font. The entire font will be embedded in the output.\n"
     ]
    },
    {
     "name": "stdout",
     "output_type": "stream",
     "text": [
      "Figure saved in: /home/users/ewallace/public_html/tW_scattering/histos/N_ele_comp\n"
     ]
    },
    {
     "data": {
      "image/png": "[encoded data removed]",
      "text/plain": [
       "<Figure size 720x720 with 1 Axes>"
      ]
     },
     "metadata": {
      "needs_background": "light"
     },
     "output_type": "display_data"
    }
   ],
   "source": [
    "# take the N_ele histogram out of the output, apply the x-secs from samples to the samples in fileset\n",
    "# then merge the histograms into the categories defined in nano_mapping\n",
    "\n",
    "\n",
    "my_hist = scale_and_merge(output['N_ele'], meta, nano_mappings)\n",
    "\n",
    "\n",
    "# Now make a nice plot of the electron multiplicity.\n",
    "# You can have a look at all the \"magic\" (and hard coded monstrosities) that happens in makePlot\n",
    "# in plots/helpers.py\n",
    "\n",
    "makePlot(my_hist, None, 'multiplicity',\n",
    "         bins=N_bins_red, log=True, normalize=False, axis_label=r'$N_{electron}\\ $',\n",
    "         new_colors=my_colors, new_labels=my_labels,\n",
    "         order=[nano_mappings['TTZ'][0], nano_mappings['top'][0], nano_mappings['DY'][0]],\n",
    "         save=os.path.expandvars(cfg['meta']['plots'])+'histos/N_ele_comp'\n",
    "        )\n"
   ]
  },
  {
   "cell_type": "code",
   "execution_count": 12,
   "metadata": {},
   "outputs": [
    {
     "name": "stdout",
     "output_type": "stream",
     "text": [
      "18901956.340254407\n",
      "Data: 0 MC: 24354678.17\n"
     ]
    },
    {
     "ename": "KeyError",
     "evalue": "()",
     "output_type": "error",
     "traceback": [
      "\u001b[0;31m---------------------------------------------------------------------------\u001b[0m",
      "\u001b[0;31mKeyError\u001b[0m                                  Traceback (most recent call last)",
      "\u001b[0;32m<ipython-input-12-ff76bee249ce>\u001b[0m in \u001b[0;36m<module>\u001b[0;34m\u001b[0m\n\u001b[1;32m     10\u001b[0m \u001b[0;31m# in plots/helpers.py\u001b[0m\u001b[0;34m\u001b[0m\u001b[0;34m\u001b[0m\u001b[0;34m\u001b[0m\u001b[0m\n\u001b[1;32m     11\u001b[0m \u001b[0;34m\u001b[0m\u001b[0m\n\u001b[0;32m---> 12\u001b[0;31m makePlot(my_hist, None, 'multiplicity',\n\u001b[0m\u001b[1;32m     13\u001b[0m          \u001b[0mbins\u001b[0m\u001b[0;34m=\u001b[0m\u001b[0mN_bins_red\u001b[0m\u001b[0;34m,\u001b[0m \u001b[0mlog\u001b[0m\u001b[0;34m=\u001b[0m\u001b[0;32mTrue\u001b[0m\u001b[0;34m,\u001b[0m \u001b[0mnormalize\u001b[0m\u001b[0;34m=\u001b[0m\u001b[0;32mFalse\u001b[0m\u001b[0;34m,\u001b[0m \u001b[0maxis_label\u001b[0m\u001b[0;34m=\u001b[0m\u001b[0;34mr'$N_{electron}\\ $'\u001b[0m\u001b[0;34m,\u001b[0m\u001b[0;34m\u001b[0m\u001b[0;34m\u001b[0m\u001b[0m\n\u001b[1;32m     14\u001b[0m          \u001b[0mnew_colors\u001b[0m\u001b[0;34m=\u001b[0m\u001b[0mmy_colors\u001b[0m\u001b[0;34m,\u001b[0m \u001b[0mnew_labels\u001b[0m\u001b[0;34m=\u001b[0m\u001b[0mmy_labels\u001b[0m\u001b[0;34m,\u001b[0m\u001b[0;34m\u001b[0m\u001b[0;34m\u001b[0m\u001b[0m\n",
      "\u001b[0;32m~/CMSSW_10_2_9/src/tW_scattering3/plots/helpers.py\u001b[0m in \u001b[0;36mmakePlot\u001b[0;34m(output, histo, axis, bins, data, normalize, log, save, axis_label, ratio_range, upHists, downHists, shape, ymax, new_colors, new_labels, order, signals, omit, lumi, binwnorm, overlay, use_label, y_axis_label)\u001b[0m\n\u001b[1;32m    180\u001b[0m         \u001b[0max\u001b[0m \u001b[0;34m=\u001b[0m \u001b[0mhist\u001b[0m\u001b[0;34m.\u001b[0m\u001b[0mplot1d\u001b[0m\u001b[0;34m(\u001b[0m\u001b[0mhistogram\u001b[0m\u001b[0;34m[\u001b[0m\u001b[0mbkg_sel\u001b[0m\u001b[0;34m]\u001b[0m\u001b[0;34m,\u001b[0m \u001b[0moverlay\u001b[0m\u001b[0;34m=\u001b[0m\u001b[0;34m\"dataset\"\u001b[0m\u001b[0;34m,\u001b[0m \u001b[0max\u001b[0m\u001b[0;34m=\u001b[0m\u001b[0max\u001b[0m\u001b[0;34m,\u001b[0m \u001b[0mstack\u001b[0m\u001b[0;34m=\u001b[0m\u001b[0;32mFalse\u001b[0m\u001b[0;34m,\u001b[0m \u001b[0moverflow\u001b[0m\u001b[0;34m=\u001b[0m\u001b[0;34m'over'\u001b[0m\u001b[0;34m,\u001b[0m \u001b[0mclear\u001b[0m\u001b[0;34m=\u001b[0m\u001b[0;32mFalse\u001b[0m\u001b[0;34m,\u001b[0m \u001b[0mline_opts\u001b[0m\u001b[0;34m=\u001b[0m\u001b[0mline_opts\u001b[0m\u001b[0;34m,\u001b[0m \u001b[0mfill_opts\u001b[0m\u001b[0;34m=\u001b[0m\u001b[0;32mNone\u001b[0m\u001b[0;34m,\u001b[0m \u001b[0mbinwnorm\u001b[0m\u001b[0;34m=\u001b[0m\u001b[0mbinwnorm\u001b[0m\u001b[0;34m)\u001b[0m\u001b[0;34m\u001b[0m\u001b[0;34m\u001b[0m\u001b[0m\n\u001b[1;32m    181\u001b[0m     \u001b[0;32melse\u001b[0m\u001b[0;34m:\u001b[0m\u001b[0;34m\u001b[0m\u001b[0;34m\u001b[0m\u001b[0m\n\u001b[0;32m--> 182\u001b[0;31m         \u001b[0max\u001b[0m \u001b[0;34m=\u001b[0m \u001b[0mhist\u001b[0m\u001b[0;34m.\u001b[0m\u001b[0mplot1d\u001b[0m\u001b[0;34m(\u001b[0m\u001b[0mhistogram\u001b[0m\u001b[0;34m[\u001b[0m\u001b[0mbkg_sel\u001b[0m\u001b[0;34m]\u001b[0m\u001b[0;34m,\u001b[0m \u001b[0moverlay\u001b[0m\u001b[0;34m=\u001b[0m\u001b[0;34m\"dataset\"\u001b[0m\u001b[0;34m,\u001b[0m \u001b[0max\u001b[0m\u001b[0;34m=\u001b[0m\u001b[0max\u001b[0m\u001b[0;34m,\u001b[0m \u001b[0mstack\u001b[0m\u001b[0;34m=\u001b[0m\u001b[0;32mTrue\u001b[0m\u001b[0;34m,\u001b[0m \u001b[0moverflow\u001b[0m\u001b[0;34m=\u001b[0m\u001b[0;34m'over'\u001b[0m\u001b[0;34m,\u001b[0m \u001b[0mclear\u001b[0m\u001b[0;34m=\u001b[0m\u001b[0;32mFalse\u001b[0m\u001b[0;34m,\u001b[0m \u001b[0mline_opts\u001b[0m\u001b[0;34m=\u001b[0m\u001b[0;32mNone\u001b[0m\u001b[0;34m,\u001b[0m \u001b[0mfill_opts\u001b[0m\u001b[0;34m=\u001b[0m\u001b[0mfill_opts\u001b[0m\u001b[0;34m,\u001b[0m \u001b[0morder\u001b[0m\u001b[0;34m=\u001b[0m\u001b[0;34m(\u001b[0m\u001b[0morder\u001b[0m \u001b[0;32mif\u001b[0m \u001b[0morder\u001b[0m \u001b[0;32melse\u001b[0m \u001b[0mprocesses\u001b[0m\u001b[0;34m)\u001b[0m\u001b[0;34m,\u001b[0m \u001b[0mbinwnorm\u001b[0m\u001b[0;34m=\u001b[0m\u001b[0mbinwnorm\u001b[0m\u001b[0;34m)\u001b[0m\u001b[0;34m\u001b[0m\u001b[0;34m\u001b[0m\u001b[0m\n\u001b[0m\u001b[1;32m    183\u001b[0m     \u001b[0;32mif\u001b[0m \u001b[0mdata\u001b[0m\u001b[0;34m:\u001b[0m\u001b[0;34m\u001b[0m\u001b[0;34m\u001b[0m\u001b[0m\n\u001b[1;32m    184\u001b[0m         \u001b[0max\u001b[0m \u001b[0;34m=\u001b[0m \u001b[0mhist\u001b[0m\u001b[0;34m.\u001b[0m\u001b[0mplot1d\u001b[0m\u001b[0;34m(\u001b[0m\u001b[0mhistogram\u001b[0m\u001b[0;34m[\u001b[0m\u001b[0mdata_sel\u001b[0m\u001b[0;34m]\u001b[0m\u001b[0;34m.\u001b[0m\u001b[0msum\u001b[0m\u001b[0;34m(\u001b[0m\u001b[0;34m\"dataset\"\u001b[0m\u001b[0;34m)\u001b[0m\u001b[0;34m,\u001b[0m \u001b[0max\u001b[0m\u001b[0;34m=\u001b[0m\u001b[0max\u001b[0m\u001b[0;34m,\u001b[0m \u001b[0moverflow\u001b[0m\u001b[0;34m=\u001b[0m\u001b[0;34m'over'\u001b[0m\u001b[0;34m,\u001b[0m \u001b[0merror_opts\u001b[0m\u001b[0;34m=\u001b[0m\u001b[0mdata_err_opts\u001b[0m\u001b[0;34m,\u001b[0m \u001b[0mclear\u001b[0m\u001b[0;34m=\u001b[0m\u001b[0;32mFalse\u001b[0m\u001b[0;34m,\u001b[0m \u001b[0mbinwnorm\u001b[0m\u001b[0;34m=\u001b[0m\u001b[0mbinwnorm\u001b[0m\u001b[0;34m)\u001b[0m\u001b[0;34m\u001b[0m\u001b[0;34m\u001b[0m\u001b[0m\n",
      "\u001b[0;32m~/miniconda3/envs/daskanalysisenv/lib/python3.8/site-packages/coffea/hist/plot.py\u001b[0m in \u001b[0;36mplot1d\u001b[0;34m(hist, ax, clear, overlay, stack, overflow, line_opts, fill_opts, error_opts, legend_opts, overlay_overflow, density, binwnorm, order)\u001b[0m\n\u001b[1;32m    221\u001b[0m                 \u001b[0msumw\u001b[0m\u001b[0;34m,\u001b[0m \u001b[0msumw2\u001b[0m \u001b[0;34m=\u001b[0m \u001b[0mhist\u001b[0m\u001b[0;34m.\u001b[0m\u001b[0mvalues\u001b[0m\u001b[0;34m(\u001b[0m\u001b[0msumw2\u001b[0m\u001b[0;34m=\u001b[0m\u001b[0;32mTrue\u001b[0m\u001b[0;34m,\u001b[0m \u001b[0moverflow\u001b[0m\u001b[0;34m=\u001b[0m\u001b[0moverflow\u001b[0m\u001b[0;34m)\u001b[0m\u001b[0;34m[\u001b[0m\u001b[0;34m(\u001b[0m\u001b[0;34m)\u001b[0m\u001b[0;34m]\u001b[0m\u001b[0;34m\u001b[0m\u001b[0;34m\u001b[0m\u001b[0m\n\u001b[1;32m    222\u001b[0m             \u001b[0;32melif\u001b[0m \u001b[0misinstance\u001b[0m\u001b[0;34m(\u001b[0m\u001b[0moverlay\u001b[0m\u001b[0;34m,\u001b[0m \u001b[0mSparseAxis\u001b[0m\u001b[0;34m)\u001b[0m\u001b[0;34m:\u001b[0m\u001b[0;34m\u001b[0m\u001b[0;34m\u001b[0m\u001b[0m\n\u001b[0;32m--> 223\u001b[0;31m                 \u001b[0msumw\u001b[0m\u001b[0;34m,\u001b[0m \u001b[0msumw2\u001b[0m \u001b[0;34m=\u001b[0m \u001b[0mhist\u001b[0m\u001b[0;34m.\u001b[0m\u001b[0mintegrate\u001b[0m\u001b[0;34m(\u001b[0m\u001b[0moverlay\u001b[0m\u001b[0;34m,\u001b[0m \u001b[0midentifier\u001b[0m\u001b[0;34m)\u001b[0m\u001b[0;34m.\u001b[0m\u001b[0mvalues\u001b[0m\u001b[0;34m(\u001b[0m\u001b[0msumw2\u001b[0m\u001b[0;34m=\u001b[0m\u001b[0;32mTrue\u001b[0m\u001b[0;34m,\u001b[0m \u001b[0moverflow\u001b[0m\u001b[0;34m=\u001b[0m\u001b[0moverflow\u001b[0m\u001b[0;34m)\u001b[0m\u001b[0;34m[\u001b[0m\u001b[0;34m(\u001b[0m\u001b[0;34m)\u001b[0m\u001b[0;34m]\u001b[0m\u001b[0;34m\u001b[0m\u001b[0;34m\u001b[0m\u001b[0m\n\u001b[0m\u001b[1;32m    224\u001b[0m             \u001b[0;32melse\u001b[0m\u001b[0;34m:\u001b[0m\u001b[0;34m\u001b[0m\u001b[0;34m\u001b[0m\u001b[0m\n\u001b[1;32m    225\u001b[0m                 \u001b[0msumw\u001b[0m\u001b[0;34m,\u001b[0m \u001b[0msumw2\u001b[0m \u001b[0;34m=\u001b[0m \u001b[0mhist\u001b[0m\u001b[0;34m.\u001b[0m\u001b[0mvalues\u001b[0m\u001b[0;34m(\u001b[0m\u001b[0msumw2\u001b[0m\u001b[0;34m=\u001b[0m\u001b[0;32mTrue\u001b[0m\u001b[0;34m,\u001b[0m \u001b[0moverflow\u001b[0m\u001b[0;34m=\u001b[0m\u001b[0;34m'allnan'\u001b[0m\u001b[0;34m)\u001b[0m\u001b[0;34m[\u001b[0m\u001b[0;34m(\u001b[0m\u001b[0;34m)\u001b[0m\u001b[0;34m]\u001b[0m\u001b[0;34m\u001b[0m\u001b[0;34m\u001b[0m\u001b[0m\n",
      "\u001b[0;31mKeyError\u001b[0m: ()"
     ]
    },
    {
     "data": {
      "image/png": "[encoded data removed]",
      "text/plain": [
       "<Figure size 720x720 with 1 Axes>"
      ]
     },
     "metadata": {
      "needs_background": "light"
     },
     "output_type": "display_data"
    }
   ],
   "source": [
    "# take the N_ele histogram out of the output, apply the x-secs from samples to the samples in fileset\n",
    "# then merge the histograms into the categories defined in nano_mapping\n",
    "\n",
    "\n",
    "my_hist = scale_and_merge(output['N_jet'], samples, fileset, nano_mappings)\n",
    "\n",
    "\n",
    "# Now make a nice plot of the electron multiplicity.\n",
    "# You can have a look at all the \"magic\" (and hard coded monstrosities) that happens in makePlot\n",
    "# in plots/helpers.py\n",
    "\n",
    "makePlot(my_hist, None, 'multiplicity',\n",
    "         bins=N_bins_red, log=True, normalize=False, axis_label=r'$N_{electron}\\ $',\n",
    "         new_colors=my_colors, new_labels=my_labels,\n",
    "         order=[nano_mappings['TTZ'][0], nano_mappings['top'][0], nano_mappings['DY'][0]],\n",
    "         save=os.path.expandvars(cfg['meta']['plots'])+'histos/ss/N_jet_ss'\n",
    "        )\n"
   ]
  },
  {
   "cell_type": "code",
   "execution_count": null,
   "metadata": {},
   "outputs": [],
   "source": [
    "# take the N_ele histogram out of the output, apply the x-secs from samples to the samples in fileset\n",
    "# then merge the histograms into the categories defined in nano_mapping\n",
    "\n",
    "\n",
    "my_hist = scale_and_merge(output['N_ele2'], meta, nano_mappings)\n",
    "\n",
    "# Now make a nice plot of the electron multiplicity.\n",
    "# You can have a look at all the \"magic\" (and hard coded monstrosities) that happens in makePlot\n",
    "# in plots/helpers.py\n",
    "\n",
    "makePlot(my_hist, None, 'multiplicity',\n",
    "         bins=N_bins_red, log=True, normalize=False, axis_label=r'$N_{electron}\\ (ratio)$',\n",
    "         new_colors=my_colors, new_labels=my_labels,\n",
    "         omit=[nano_mappings['TTZ'][0], nano_mappings['top'][0], nano_mappings['DY'][0]],\n",
    "         save=os.path.expandvars(cfg['meta']['plots'])+'histos/N_ele_ratio'\n",
    "        )\n"
   ]
  },
  {
   "cell_type": "code",
   "execution_count": null,
   "metadata": {},
   "outputs": [],
   "source": [
    "my_hist = scale_and_merge(output['electron_flips'], meta, nano_mappings)\n",
    "\n",
    "makePlot(my_hist, None, 'multiplicity',\n",
    "         bins=N_bins_red, log=True, normalize=False, axis_label=r'$N_{flipped\\ electron}\\ (SS)$',\n",
    "         new_colors=my_colors, new_labels=my_labels,\n",
    "         order=[nano_mappings['TTZ'][0], nano_mappings['top'][0], nano_mappings['DY'][0]],\n",
    "         save=os.path.expandvars(cfg['meta']['plots'])+'histos/N_flips_truth'\n",
    "        )"
   ]
  },
  {
   "cell_type": "code",
   "execution_count": null,
   "metadata": {},
   "outputs": [],
   "source": [
    "my_hist = scale_and_merge(output['electron_flips2'], meta, nano_mappings)\n",
    "\n",
    "makePlot(my_hist, None, 'multiplicity',\n",
    "         bins=N_bins_red, log=True, normalize=False, axis_label=r'$N_{flipped\\ electron}\\ (ratio)$',\n",
    "         new_colors=my_colors, new_labels=my_labels,\n",
    "         order=[nano_mappings['top'][0], nano_mappings['TTZ'][0], nano_mappings['DY'][0]],\n",
    "         save=os.path.expandvars(cfg['meta']['plots'])+'histos/N_flips_ratio'\n",
    "        )"
   ]
  },
  {
   "cell_type": "code",
   "execution_count": null,
   "metadata": {},
   "outputs": [],
   "source": [
    "my_hist = scale_and_merge(output['electron'], meta, nano_mappings)\n",
    "\n",
    "makePlot(my_hist, None, 'pt',\n",
    "         bins=pt_bins, log=True, normalize=False, axis_label=r'$p_{T}\\ (leading\\ electron)\\ (flipped)\\ (GeV)$',\n",
    "         new_colors=my_colors, new_labels=my_labels,\n",
    "         order=[nano_mappings['TTZ'][0], nano_mappings['top'][0], nano_mappings['DY'][0]],\n",
    "         save=os.path.expandvars(cfg['meta']['plots'])+'histos/pt_truth'\n",
    "        )"
   ]
  },
  {
   "cell_type": "code",
   "execution_count": null,
   "metadata": {},
   "outputs": [],
   "source": [
    "my_hist = scale_and_merge(output['electron2'], meta, nano_mappings)\n",
    "\n",
    "makePlot(my_hist, None, 'pt',\n",
    "         bins=pt_bins, log=True, normalize=False, axis_label=r'$p_{T}\\ (leading\\ electron)\\ (weighted)\\ (GeV)$',\n",
    "         new_colors=my_colors, new_labels=my_labels,\n",
    "         order=[nano_mappings['TTZ'][0], nano_mappings['top'][0], nano_mappings['DY'][0]],\n",
    "         save=os.path.expandvars(cfg['meta']['plots'])+'histos/pt_ratio'\n",
    "        )"
   ]
  },
  {
   "cell_type": "code",
   "execution_count": null,
   "metadata": {},
   "outputs": [],
   "source": [
    "my_hist = scale_and_merge(output['electron'], meta, nano_mappings)\n",
    "\n",
    "makePlot(my_hist, None, 'eta',\n",
    "         bins=eta_bins, log=True, normalize=False, axis_label=r'$\\eta\\ (leading\\ electron)\\ (flipped)$',\n",
    "         new_colors=my_colors, new_labels=my_labels,\n",
    "         order=[nano_mappings['TTZ'][0], nano_mappings['top'][0], nano_mappings['DY'][0]],\n",
    "         save=os.path.expandvars(cfg['meta']['plots'])+'histos/eta_truth'\n",
    "        )"
   ]
  },
  {
   "cell_type": "code",
   "execution_count": null,
   "metadata": {},
   "outputs": [],
   "source": [
    "my_hist = scale_and_merge(output['electron2'], meta, nano_mappings)\n",
    "\n",
    "makePlot(my_hist, None, 'eta',\n",
    "         bins=eta_bins, log=True, normalize=False, axis_label=r'$\\eta\\ (leading\\ electron)\\ (weighted)$',\n",
    "         new_colors=my_colors, new_labels=my_labels,\n",
    "         order=[nano_mappings['TTZ'][0], nano_mappings['top'][0], nano_mappings['DY'][0]],\n",
    "         save=os.path.expandvars(cfg['meta']['plots'])+'histos/eta_ratio'\n",
    "        )"
   ]
  },
  {
   "cell_type": "code",
   "execution_count": null,
   "metadata": {},
   "outputs": [],
   "source": [
    "from yahist import Hist1D, Hist2D\n",
    "import numpy as np"
   ]
  },
  {
   "cell_type": "code",
   "execution_count": null,
   "metadata": {},
   "outputs": [],
   "source": [
    "tmp1 = output['electron'].copy()\n",
    "tmp1 = tmp1.rebin('eta', eta_bins)\n",
    "tmp1 = tmp1.rebin('pt', pt_bins)\n",
    "\n",
    "\n",
    "tmp2 = output['electron2'].copy()\n",
    "tmp2 = tmp2.rebin('eta', eta_bins)\n",
    "tmp2 = tmp2.rebin('pt', pt_bins)\n",
    "\n",
    "h1 = Hist2D.from_bincounts(\n",
    "    tmp1.sum('dataset').values()[()].T,\n",
    "    (tmp1.axis('pt').edges(), tmp1.axis('eta').edges()),\n",
    ")\n",
    "\n",
    "\n",
    "h2 = Hist2D.from_bincounts(\n",
    "    tmp2.sum('dataset').values()[()].T,\n",
    "    (tmp2.axis('pt').edges(), tmp2.axis('eta').edges()),\n",
    ")"
   ]
  },
  {
   "cell_type": "code",
   "execution_count": null,
   "metadata": {},
   "outputs": [],
   "source": [
    "fig, ax  = plt.subplots(1, 1,figsize=(10,10) )\n",
    "h1.plot(show_counts=True, equidistant='xy')\n",
    "ax.set_xlabel(r'$p_{T}\\ (GeV)$')\n",
    "ax.set_ylabel(r'$\\eta$')"
   ]
  },
  {
   "cell_type": "code",
   "execution_count": null,
   "metadata": {},
   "outputs": [],
   "source": [
    "fig, ax  = plt.subplots(1, 1,figsize=(10,10) )\n",
    "h2.plot(show_counts=True, equidistant='xy')\n",
    "ax.set_xlabel(r'$p_{T}\\ (GeV)$')\n",
    "ax.set_ylabel(r'$\\eta$')"
   ]
  },
  {
   "cell_type": "code",
   "execution_count": null,
   "metadata": {},
   "outputs": [],
   "source": []
  }
 ],
 "metadata": {
  "kernelspec": {
   "display_name": "daskanalysisenv",
   "language": "python",
   "name": "daskanalysisenv"
  },
  "language_info": {
   "codemirror_mode": {
    "name": "ipython",
    "version": 3
   },
   "file_extension": ".py",
   "mimetype": "text/x-python",
   "name": "python",
   "nbconvert_exporter": "python",
   "pygments_lexer": "ipython3",
   "version": "3.8.8"
  }
 },
 "nbformat": 4,
 "nbformat_minor": 4
}
