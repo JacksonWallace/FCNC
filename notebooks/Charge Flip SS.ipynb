{
 "cells": [
  {
   "cell_type": "markdown",
   "metadata": {},
   "source": [
    "# Example for analysis of NanoAOD samples\n",
    "\n",
    "In this example we don't need any pre-processing of NanoAOD samples and can still use several tools of the tW_scattering repository.\n",
    "\n",
    "- Get the proper normalization for samples\n",
    "- Categorize different samples into process categories\n",
    "- Use coffea processors for the map-reduce step\n",
    "- Make \"nice\" histograms\n"
   ]
  },
  {
   "cell_type": "code",
   "execution_count": 1,
   "metadata": {},
   "outputs": [],
   "source": [
    "%load_ext autoreload\n",
    "%autoreload 2\n",
    "\n",
    "import os\n",
    "\n",
    "import warnings\n",
    "warnings.filterwarnings('ignore')"
   ]
  },
  {
   "cell_type": "code",
   "execution_count": 5,
   "metadata": {},
   "outputs": [],
   "source": [
    "from coffea.nanoevents import NanoEventsFactory, NanoAODSchema\n",
    "from coffea import processor, hist\n",
    "\n",
    "from processor.charge_flip_ss import charge_flip_ss\n",
    "from Tools.config_helpers import loadConfig\n",
    "from klepto.archives import dir_archive"
   ]
  },
  {
   "cell_type": "code",
   "execution_count": 9,
   "metadata": {},
   "outputs": [
    {
     "name": "stdout",
     "output_type": "stream",
     "text": [
      "samples_2018.yaml\n",
      "/home/users/ewallace/CMSSW_10_2_9/src/tW_scattering3/data/nano_mapping_2018.yaml\n"
     ]
    },
    {
     "data": {
      "application/vnd.jupyter.widget-view+json": {
       "model_id": "8e1e0f6af0684afdb0c11dd59d025f98",
       "version_major": 2,
       "version_minor": 0
      },
      "text/plain": [
       "Preprocessing:   0%|          | 0/73 [00:00<?, ?file/s]"
      ]
     },
     "metadata": {},
     "output_type": "display_data"
    },
    {
     "data": {
      "application/vnd.jupyter.widget-view+json": {
       "model_id": "75ac874d40974ba29e0553031e2db28c",
       "version_major": 2,
       "version_minor": 0
      },
      "text/plain": [
       "Processing:   0%|          | 0/76 [00:00<?, ?chunk/s]"
      ]
     },
     "metadata": {},
     "output_type": "display_data"
    },
    {
     "name": "stdout",
     "output_type": "stream",
     "text": [
      "I'm running now\n"
     ]
    },
    {
     "data": {
      "application/vnd.jupyter.widget-view+json": {
       "model_id": "d6b2175e87c8464baf579f4679bdb66c",
       "version_major": 2,
       "version_minor": 0
      },
      "text/plain": [
       "Preprocessing:   0%|          | 0/73 [00:00<?, ?file/s]"
      ]
     },
     "metadata": {},
     "output_type": "display_data"
    },
    {
     "data": {
      "application/vnd.jupyter.widget-view+json": {
       "model_id": "8fb3fe78788649b1ac89304bd7b847fe",
       "version_major": 2,
       "version_minor": 0
      },
      "text/plain": [
       "Processing:   0%|          | 0/400 [00:00<?, ?chunk/s]"
      ]
     },
     "metadata": {},
     "output_type": "display_data"
    },
    {
     "ename": "UnboundLocalError",
     "evalue": "local variable 'numoutputs' referenced before assignment\n\nFailed processing file: root://xcache-redirector.t2.ucsd.edu:2040//store/mc/RunIIAutumn18NanoAODv7/DYJetsToLL_M-50_TuneCP5_13TeV-madgraphMLM-pythia8/NANOAODSIM/Nano02Apr2020_102X_upgrade2018_realistic_v21-v1/70000/F024C872-6B4C-2A48-AEB6-389CF255BE48.root (243785-487570)",
     "output_type": "error",
     "traceback": [
      "\u001b[0;31m---------------------------------------------------------------------------\u001b[0m",
      "\u001b[0;31m_RemoteTraceback\u001b[0m                          Traceback (most recent call last)",
      "\u001b[0;31m_RemoteTraceback\u001b[0m: \n\"\"\"\nTraceback (most recent call last):\n  File \"/home/users/ewallace/miniconda3/envs/daskanalysisenv/lib/python3.8/concurrent/futures/process.py\", line 239, in _process_worker\n    r = call_item.fn(*call_item.args, **call_item.kwargs)\n  File \"/home/users/ewallace/miniconda3/envs/daskanalysisenv/lib/python3.8/site-packages/coffea/processor/executor.py\", line 129, in __call__\n    out = self.function(*args, **kwargs)\n  File \"/home/users/ewallace/miniconda3/envs/daskanalysisenv/lib/python3.8/site-packages/coffea/processor/executor.py\", line 949, in _work_function\n    raise e\n  File \"/home/users/ewallace/miniconda3/envs/daskanalysisenv/lib/python3.8/site-packages/coffea/processor/executor.py\", line 902, in _work_function\n    raise type(e)(str(e) + file_trace).with_traceback(sys.exc_info()[2]) from None\n  File \"/home/users/ewallace/miniconda3/envs/daskanalysisenv/lib/python3.8/site-packages/coffea/processor/executor.py\", line 899, in _work_function\n    out = processor_instance.process(events)\n  File \"/home/users/ewallace/CMSSW_10_2_9/src/tW_scattering3/processor/charge_flip_ss.py\", line 142, in process\n    eta = ak.to_numpy(ak.flatten(abs(leading_lepton[ss_sel].eta))),\n  File \"/home/users/ewallace/miniconda3/envs/daskanalysisenv/lib/python3.8/site-packages/numpy/lib/mixins.py\", line 54, in func\n    return ufunc(self)\n  File \"/home/users/ewallace/miniconda3/envs/daskanalysisenv/lib/python3.8/site-packages/awkward/highlevel.py\", line 1412, in __array_ufunc__\n    return ak._connect._numpy.array_ufunc(ufunc, method, inputs, kwargs)\n  File \"/home/users/ewallace/miniconda3/envs/daskanalysisenv/lib/python3.8/site-packages/awkward/_connect/_numpy.py\", line 200, in array_ufunc\n    out = ak._util.broadcast_and_apply(\n  File \"/home/users/ewallace/miniconda3/envs/daskanalysisenv/lib/python3.8/site-packages/awkward/_util.py\", line 1026, in broadcast_and_apply\n    out = apply(broadcast_pack(inputs, isscalar), 0, user)\n  File \"/home/users/ewallace/miniconda3/envs/daskanalysisenv/lib/python3.8/site-packages/awkward/_util.py\", line 786, in apply\n    outcontent = apply(nextinputs, depth + 1, user)\n  File \"/home/users/ewallace/miniconda3/envs/daskanalysisenv/lib/python3.8/site-packages/awkward/_util.py\", line 880, in apply\n    outcontent = apply(nextinputs, depth + 1, user)\n  File \"/home/users/ewallace/miniconda3/envs/daskanalysisenv/lib/python3.8/site-packages/awkward/_util.py\", line 704, in apply\n    for i in range(numoutputs)\nUnboundLocalError: local variable 'numoutputs' referenced before assignment\n\nFailed processing file: root://xcache-redirector.t2.ucsd.edu:2040//store/mc/RunIIAutumn18NanoAODv7/DYJetsToLL_M-50_TuneCP5_13TeV-madgraphMLM-pythia8/NANOAODSIM/Nano02Apr2020_102X_upgrade2018_realistic_v21-v1/70000/F024C872-6B4C-2A48-AEB6-389CF255BE48.root (243785-487570)\n\"\"\"",
      "\nThe above exception was the direct cause of the following exception:\n",
      "\u001b[0;31mUnboundLocalError\u001b[0m                         Traceback (most recent call last)",
      "\u001b[0;32m<ipython-input-9-7482cef85d32>\u001b[0m in \u001b[0;36m<module>\u001b[0;34m\u001b[0m\n\u001b[1;32m     67\u001b[0m     \u001b[0mprint\u001b[0m \u001b[0;34m(\u001b[0m\u001b[0;34m\"I'm running now\"\u001b[0m\u001b[0;34m)\u001b[0m\u001b[0;34m\u001b[0m\u001b[0;34m\u001b[0m\u001b[0m\n\u001b[1;32m     68\u001b[0m \u001b[0;34m\u001b[0m\u001b[0m\n\u001b[0;32m---> 69\u001b[0;31m     output = processor.run_uproot_job(\n\u001b[0m\u001b[1;32m     70\u001b[0m         \u001b[0mfileset\u001b[0m\u001b[0;34m,\u001b[0m\u001b[0;34m\u001b[0m\u001b[0;34m\u001b[0m\u001b[0m\n\u001b[1;32m     71\u001b[0m         \u001b[0;34m\"Events\"\u001b[0m\u001b[0;34m,\u001b[0m\u001b[0;34m\u001b[0m\u001b[0;34m\u001b[0m\u001b[0m\n",
      "\u001b[0;32m~/miniconda3/envs/daskanalysisenv/lib/python3.8/site-packages/coffea/processor/executor.py\u001b[0m in \u001b[0;36mrun_uproot_job\u001b[0;34m(fileset, treename, processor_instance, executor, executor_args, pre_executor, pre_args, chunksize, maxchunks, metadata_cache)\u001b[0m\n\u001b[1;32m   1215\u001b[0m     }\n\u001b[1;32m   1216\u001b[0m     \u001b[0mexe_args\u001b[0m\u001b[0;34m.\u001b[0m\u001b[0mupdate\u001b[0m\u001b[0;34m(\u001b[0m\u001b[0mexecutor_args\u001b[0m\u001b[0;34m)\u001b[0m\u001b[0;34m\u001b[0m\u001b[0;34m\u001b[0m\u001b[0m\n\u001b[0;32m-> 1217\u001b[0;31m     \u001b[0mexecutor\u001b[0m\u001b[0;34m(\u001b[0m\u001b[0mchunks\u001b[0m\u001b[0;34m,\u001b[0m \u001b[0mclosure\u001b[0m\u001b[0;34m,\u001b[0m \u001b[0mwrapped_out\u001b[0m\u001b[0;34m,\u001b[0m \u001b[0;34m**\u001b[0m\u001b[0mexe_args\u001b[0m\u001b[0;34m)\u001b[0m\u001b[0;34m\u001b[0m\u001b[0;34m\u001b[0m\u001b[0m\n\u001b[0m\u001b[1;32m   1218\u001b[0m \u001b[0;34m\u001b[0m\u001b[0m\n\u001b[1;32m   1219\u001b[0m     \u001b[0;32mif\u001b[0m \u001b[0;32mnot\u001b[0m \u001b[0muse_dataframes\u001b[0m\u001b[0;34m:\u001b[0m\u001b[0;34m\u001b[0m\u001b[0;34m\u001b[0m\u001b[0m\n",
      "\u001b[0;32m~/miniconda3/envs/daskanalysisenv/lib/python3.8/site-packages/coffea/processor/executor.py\u001b[0m in \u001b[0;36mfutures_executor\u001b[0;34m(items, function, accumulator, **kwargs)\u001b[0m\n\u001b[1;32m    637\u001b[0m         \u001b[0;32mwith\u001b[0m \u001b[0mpool\u001b[0m\u001b[0;34m(\u001b[0m\u001b[0mmax_workers\u001b[0m\u001b[0;34m=\u001b[0m\u001b[0mworkers\u001b[0m\u001b[0;34m)\u001b[0m \u001b[0;32mas\u001b[0m \u001b[0mexecutor\u001b[0m\u001b[0;34m:\u001b[0m\u001b[0;34m\u001b[0m\u001b[0;34m\u001b[0m\u001b[0m\n\u001b[1;32m    638\u001b[0m             \u001b[0mfutures\u001b[0m \u001b[0;34m=\u001b[0m \u001b[0mset\u001b[0m\u001b[0;34m(\u001b[0m\u001b[0mexecutor\u001b[0m\u001b[0;34m.\u001b[0m\u001b[0msubmit\u001b[0m\u001b[0;34m(\u001b[0m\u001b[0mfunction\u001b[0m\u001b[0;34m,\u001b[0m \u001b[0mitem\u001b[0m\u001b[0;34m)\u001b[0m \u001b[0;32mfor\u001b[0m \u001b[0mitem\u001b[0m \u001b[0;32min\u001b[0m \u001b[0mitems\u001b[0m\u001b[0;34m)\u001b[0m\u001b[0;34m\u001b[0m\u001b[0;34m\u001b[0m\u001b[0m\n\u001b[0;32m--> 639\u001b[0;31m             \u001b[0m_futures_handler\u001b[0m\u001b[0;34m(\u001b[0m\u001b[0mfutures\u001b[0m\u001b[0;34m,\u001b[0m \u001b[0maccumulator\u001b[0m\u001b[0;34m,\u001b[0m \u001b[0mstatus\u001b[0m\u001b[0;34m,\u001b[0m \u001b[0munit\u001b[0m\u001b[0;34m,\u001b[0m \u001b[0mdesc\u001b[0m\u001b[0;34m,\u001b[0m \u001b[0madd_fn\u001b[0m\u001b[0;34m,\u001b[0m \u001b[0mtailtimeout\u001b[0m\u001b[0;34m)\u001b[0m\u001b[0;34m\u001b[0m\u001b[0;34m\u001b[0m\u001b[0m\n\u001b[0m\u001b[1;32m    640\u001b[0m     \u001b[0;32mreturn\u001b[0m \u001b[0maccumulator\u001b[0m\u001b[0;34m\u001b[0m\u001b[0;34m\u001b[0m\u001b[0m\n\u001b[1;32m    641\u001b[0m \u001b[0;34m\u001b[0m\u001b[0m\n",
      "\u001b[0;32m~/miniconda3/envs/daskanalysisenv/lib/python3.8/site-packages/coffea/processor/executor.py\u001b[0m in \u001b[0;36m_futures_handler\u001b[0;34m(futures_set, output, status, unit, desc, add_fn, tailtimeout)\u001b[0m\n\u001b[1;32m    187\u001b[0m                 \u001b[0mfutures_set\u001b[0m\u001b[0;34m.\u001b[0m\u001b[0mdifference_update\u001b[0m\u001b[0;34m(\u001b[0m\u001b[0mfinished\u001b[0m\u001b[0;34m)\u001b[0m\u001b[0;34m\u001b[0m\u001b[0;34m\u001b[0m\u001b[0m\n\u001b[1;32m    188\u001b[0m                 \u001b[0;32mwhile\u001b[0m \u001b[0mfinished\u001b[0m\u001b[0;34m:\u001b[0m\u001b[0;34m\u001b[0m\u001b[0;34m\u001b[0m\u001b[0m\n\u001b[0;32m--> 189\u001b[0;31m                     \u001b[0madd_fn\u001b[0m\u001b[0;34m(\u001b[0m\u001b[0moutput\u001b[0m\u001b[0;34m,\u001b[0m \u001b[0mfinished\u001b[0m\u001b[0;34m.\u001b[0m\u001b[0mpop\u001b[0m\u001b[0;34m(\u001b[0m\u001b[0;34m)\u001b[0m\u001b[0;34m.\u001b[0m\u001b[0mresult\u001b[0m\u001b[0;34m(\u001b[0m\u001b[0;34m)\u001b[0m\u001b[0;34m)\u001b[0m\u001b[0;34m\u001b[0m\u001b[0;34m\u001b[0m\u001b[0m\n\u001b[0m\u001b[1;32m    190\u001b[0m                     \u001b[0mpbar\u001b[0m\u001b[0;34m.\u001b[0m\u001b[0mupdate\u001b[0m\u001b[0;34m(\u001b[0m\u001b[0;36m1\u001b[0m\u001b[0;34m)\u001b[0m\u001b[0;34m\u001b[0m\u001b[0;34m\u001b[0m\u001b[0m\n\u001b[1;32m    191\u001b[0m                     \u001b[0mlast_job\u001b[0m \u001b[0;34m=\u001b[0m \u001b[0mtime\u001b[0m\u001b[0;34m.\u001b[0m\u001b[0mtime\u001b[0m\u001b[0;34m(\u001b[0m\u001b[0;34m)\u001b[0m\u001b[0;34m\u001b[0m\u001b[0;34m\u001b[0m\u001b[0m\n",
      "\u001b[0;32m~/miniconda3/envs/daskanalysisenv/lib/python3.8/concurrent/futures/_base.py\u001b[0m in \u001b[0;36mresult\u001b[0;34m(self, timeout)\u001b[0m\n\u001b[1;32m    430\u001b[0m                 \u001b[0;32mraise\u001b[0m \u001b[0mCancelledError\u001b[0m\u001b[0;34m(\u001b[0m\u001b[0;34m)\u001b[0m\u001b[0;34m\u001b[0m\u001b[0;34m\u001b[0m\u001b[0m\n\u001b[1;32m    431\u001b[0m             \u001b[0;32melif\u001b[0m \u001b[0mself\u001b[0m\u001b[0;34m.\u001b[0m\u001b[0m_state\u001b[0m \u001b[0;34m==\u001b[0m \u001b[0mFINISHED\u001b[0m\u001b[0;34m:\u001b[0m\u001b[0;34m\u001b[0m\u001b[0;34m\u001b[0m\u001b[0m\n\u001b[0;32m--> 432\u001b[0;31m                 \u001b[0;32mreturn\u001b[0m \u001b[0mself\u001b[0m\u001b[0;34m.\u001b[0m\u001b[0m__get_result\u001b[0m\u001b[0;34m(\u001b[0m\u001b[0;34m)\u001b[0m\u001b[0;34m\u001b[0m\u001b[0;34m\u001b[0m\u001b[0m\n\u001b[0m\u001b[1;32m    433\u001b[0m \u001b[0;34m\u001b[0m\u001b[0m\n\u001b[1;32m    434\u001b[0m             \u001b[0mself\u001b[0m\u001b[0;34m.\u001b[0m\u001b[0m_condition\u001b[0m\u001b[0;34m.\u001b[0m\u001b[0mwait\u001b[0m\u001b[0;34m(\u001b[0m\u001b[0mtimeout\u001b[0m\u001b[0;34m)\u001b[0m\u001b[0;34m\u001b[0m\u001b[0;34m\u001b[0m\u001b[0m\n",
      "\u001b[0;32m~/miniconda3/envs/daskanalysisenv/lib/python3.8/concurrent/futures/_base.py\u001b[0m in \u001b[0;36m__get_result\u001b[0;34m(self)\u001b[0m\n\u001b[1;32m    386\u001b[0m     \u001b[0;32mdef\u001b[0m \u001b[0m__get_result\u001b[0m\u001b[0;34m(\u001b[0m\u001b[0mself\u001b[0m\u001b[0;34m)\u001b[0m\u001b[0;34m:\u001b[0m\u001b[0;34m\u001b[0m\u001b[0;34m\u001b[0m\u001b[0m\n\u001b[1;32m    387\u001b[0m         \u001b[0;32mif\u001b[0m \u001b[0mself\u001b[0m\u001b[0;34m.\u001b[0m\u001b[0m_exception\u001b[0m\u001b[0;34m:\u001b[0m\u001b[0;34m\u001b[0m\u001b[0;34m\u001b[0m\u001b[0m\n\u001b[0;32m--> 388\u001b[0;31m             \u001b[0;32mraise\u001b[0m \u001b[0mself\u001b[0m\u001b[0;34m.\u001b[0m\u001b[0m_exception\u001b[0m\u001b[0;34m\u001b[0m\u001b[0;34m\u001b[0m\u001b[0m\n\u001b[0m\u001b[1;32m    389\u001b[0m         \u001b[0;32melse\u001b[0m\u001b[0;34m:\u001b[0m\u001b[0;34m\u001b[0m\u001b[0;34m\u001b[0m\u001b[0m\n\u001b[1;32m    390\u001b[0m             \u001b[0;32mreturn\u001b[0m \u001b[0mself\u001b[0m\u001b[0;34m.\u001b[0m\u001b[0m_result\u001b[0m\u001b[0;34m\u001b[0m\u001b[0;34m\u001b[0m\u001b[0m\n",
      "\u001b[0;31mUnboundLocalError\u001b[0m: local variable 'numoutputs' referenced before assignment\n\nFailed processing file: root://xcache-redirector.t2.ucsd.edu:2040//store/mc/RunIIAutumn18NanoAODv7/DYJetsToLL_M-50_TuneCP5_13TeV-madgraphMLM-pythia8/NANOAODSIM/Nano02Apr2020_102X_upgrade2018_realistic_v21-v1/70000/F024C872-6B4C-2A48-AEB6-389CF255BE48.root (243785-487570)"
     ]
    }
   ],
   "source": [
    "from processor.default_accumulators import desired_output, add_processes_to_output\n",
    "\n",
    "from Tools.helpers import get_samples\n",
    "from Tools.config_helpers import redirector_ucsd, redirector_fnal\n",
    "from Tools.nano_mapping import make_fileset, nano_mapping\n",
    "\n",
    "from processor.meta_processor import get_sample_meta\n",
    "\n",
    "overwrite = True\n",
    "local = True\n",
    "\n",
    "# load the config and the cache\n",
    "cfg = loadConfig()\n",
    "\n",
    "cacheName = 'charge_flip_ss'\n",
    "cache = dir_archive(os.path.join(os.path.expandvars(cfg['caches']['base']), cacheName), serialized=True)\n",
    "\n",
    "year = 2018\n",
    "\n",
    "# get a python dictionary of all NanoAOD samples\n",
    "# The samples definitions can be found in data/samples.yaml\n",
    "samples = get_samples(year)\n",
    "\n",
    "# make a fileset, taking the definitions in Tools/nano_mapping.py\n",
    "fileset = make_fileset(['DY', 'TTZ', 'top',], samples, year, redirector=redirector_ucsd, small=False)\n",
    "#add back in:  \n",
    "\n",
    "# in order for cutflows to work we need to add every process to the output accumulator\n",
    "add_processes_to_output(fileset, desired_output)\n",
    "\n",
    "histograms = sorted(list(desired_output.keys()))\n",
    "\n",
    "meta = get_sample_meta(fileset, samples)\n",
    "\n",
    "if local:\n",
    "\n",
    "    exe_args = {\n",
    "        'workers': 16,\n",
    "        'function_args': {'flatten': False},\n",
    "        \"schema\": NanoAODSchema,\n",
    "        \"skipbadfiles\": True,\n",
    "    }\n",
    "    exe = processor.futures_executor\n",
    "\n",
    "else:\n",
    "    from Tools.helpers import get_scheduler_address\n",
    "    from dask.distributed import Client, progress\n",
    "\n",
    "    scheduler_address = get_scheduler_address()\n",
    "    c = Client(scheduler_address)\n",
    "\n",
    "    exe_args = {\n",
    "        'client': c,\n",
    "        'function_args': {'flatten': False},\n",
    "        \"schema\": NanoAODSchema,\n",
    "        \"skipbadfiles\": True,\n",
    "    }\n",
    "    exe = processor.dask_executor\n",
    "\n",
    "if not overwrite:\n",
    "    cache.load()\n",
    "\n",
    "if cfg == cache.get('cfg') and histograms == cache.get('histograms') and cache.get('simple_output'):\n",
    "    output = cache.get('simple_output')\n",
    "\n",
    "else:\n",
    "    print (\"I'm running now\")\n",
    "\n",
    "    output = processor.run_uproot_job(\n",
    "        fileset,\n",
    "        \"Events\",\n",
    "        charge_flip_ss(year=year, variations=[], accumulator=desired_output),\n",
    "        exe,\n",
    "        exe_args,\n",
    "        chunksize=250000,\n",
    "    )\n",
    "\n",
    "    cache['fileset']        = fileset\n",
    "    cache['cfg']            = cfg\n",
    "    cache['histograms']     = histograms\n",
    "    cache['simple_output']  = output\n",
    "    cache.dump()"
   ]
  },
  {
   "cell_type": "code",
   "execution_count": 4,
   "metadata": {},
   "outputs": [
    {
     "data": {
      "text/plain": [
       "178.034597"
      ]
     },
     "execution_count": 4,
     "metadata": {},
     "output_type": "execute_result"
    }
   ],
   "source": [
    "output['totalEvents']['all']/1e6"
   ]
  },
  {
   "cell_type": "markdown",
   "metadata": {},
   "source": [
    "Full fileset is 180M events, and that's basically just DY and ttbar."
   ]
  },
  {
   "cell_type": "code",
   "execution_count": 5,
   "metadata": {},
   "outputs": [
    {
     "name": "stdout",
     "output_type": "stream",
     "text": [
      "/home/users/ewallace/CMSSW_10_2_9/src/tW_scattering3/data/nano_mapping_2018.yaml\n"
     ]
    }
   ],
   "source": [
    "# import the plotting libararies: matplotlib and mplhep\n",
    "\n",
    "import matplotlib.pyplot as plt\n",
    "import mplhep as hep\n",
    "plt.style.use(hep.style.CMS)\n",
    "\n",
    "import numpy as np\n",
    "\n",
    "\n",
    "# load the functions to make a nice plot from the output histograms\n",
    "# and the scale_and_merge function that scales the individual histograms\n",
    "# to match the physical cross section\n",
    "\n",
    "from plots.helpers import makePlot, scale_and_merge\n",
    "\n",
    "# define a few axes that we can use to rebin our output histograms\n",
    "\n",
    "N_bins         = hist.Bin('multiplicity', r'$N$', 10, -0.5, 9.5)\n",
    "N_bins_red     = hist.Bin('multiplicity', r'$N$', 5, -0.5, 4.5)\n",
    "pt_bins        = hist.Bin('pt', r'$p_{T}\\ (GeV)$', np.array([15, 40, 60, 80, 100, 200, 300]))\n",
    "eta_bins       = hist.Bin('eta', r'$\\eta $', np.array([0, 0.8, 1.479, 2.5]))\n",
    "phi_bins       = hist.Bin('phi', r'$\\phi $', 16, -3.2, 3.2)\n",
    "\n",
    "\n",
    "# define nicer labels and colors\n",
    "\n",
    "nano_mappings = nano_mapping(year)\n",
    "\n",
    "\n",
    "my_labels = {\n",
    "    nano_mappings['TTW'][0]: 'all',\n",
    "    nano_mappings['TTZ'][0]: 'ttZ',\n",
    "    nano_mappings['DY'][0]: 'DY',\n",
    "    nano_mappings['top'][0]: 't/tt+jets',\n",
    "}\n",
    "\n",
    "my_colors = {\n",
    "    nano_mappings['TTW'][0]: '#8AC926',\n",
    "    nano_mappings['TTZ'][0]: '#FFCA3A',\n",
    "    nano_mappings['DY'][0]: '#6A4C93',\n",
    "    nano_mappings['top'][0]: '#1982C4',\n",
    "}\n"
   ]
  },
  {
   "cell_type": "markdown",
   "metadata": {},
   "source": [
    "# 1D Histograms"
   ]
  },
  {
   "cell_type": "code",
   "execution_count": 6,
   "metadata": {},
   "outputs": [],
   "source": [
    "from yahist import Hist1D, Hist2D"
   ]
  },
  {
   "cell_type": "code",
   "execution_count": null,
   "metadata": {},
   "outputs": [],
   "source": [
    "tmp1 = output['N_ele'].copy()\n",
    "tmp1 = tmp1.rebin('multiplicity', N_bins_red)\n",
    "\n",
    "\n",
    "tmp2 = output['N_ele2'].copy()\n",
    "tmp2 = tmp2.rebin('multiplicity', N_bins_red)\n",
    "\n",
    "h1 = Hist1D.from_bincounts(\n",
    "    tmp1.sum('dataset').values()[()].T,\n",
    "    (tmp1.axis('multiplicity').edges()),\n",
    ")\n",
    "\n",
    "h2 = Hist1D.from_bincounts(\n",
    "    tmp2.sum('dataset').values()[()].T,\n",
    "    (tmp2.axis('multiplicity').edges()),\n",
    ")\n",
    "\n",
    "fig, (ax1,ax2) = plt.subplots(2, sharex=True, figsize=(10,10), gridspec_kw=dict(height_ratios=[3, 1]))\n",
    "h2.plot(ax=ax1, alpha=1, color=\"C0\")\n",
    "h1.plot(ax=ax1, alpha=1, color=\"C3\")\n",
    "\n",
    "ax1.set_yscale(\"log\")\n",
    "ax1.set_xlabel(r'$N_{electron}\\ $')\n",
    "ax1.set_ylabel(r'Events')\n",
    "\n",
    "fig.legend([\"flipped\", \"weighted\"])\n",
    "\n",
    "# Gaussian errors\n",
    "#    (num/den).plot(ax=ax2,show_errors=True,label=\"ratio\")\n",
    "# Asymmetric Clopper-Pearson errors\n",
    "h1.divide(h2, binomial=True).plot(ax=ax2, errors=True, label=\"ratio\")"
   ]
  },
  {
   "cell_type": "code",
   "execution_count": null,
   "metadata": {},
   "outputs": [],
   "source": [
    "tmp1 = output['electron_flips'].copy()\n",
    "tmp1 = tmp1.rebin('multiplicity', N_bins_red)\n",
    "\n",
    "\n",
    "tmp2 = output['electron_flips2'].copy()\n",
    "tmp2 = tmp2.rebin('multiplicity', N_bins_red)\n",
    "\n",
    "h1 = Hist1D.from_bincounts(\n",
    "    tmp1.sum('dataset').values()[()].T,\n",
    "    (tmp1.axis('multiplicity').edges()),\n",
    ")\n",
    "\n",
    "h2 = Hist1D.from_bincounts(\n",
    "    tmp2.sum('dataset').values()[()].T,\n",
    "    (tmp2.axis('multiplicity').edges()),\n",
    ")\n",
    "\n",
    "\n",
    "fig, (ax1,ax2) = plt.subplots(2, sharex=True, figsize=(10,10), gridspec_kw=dict(height_ratios=[3, 1]))\n",
    "h2.plot(ax=ax1, alpha=0.8, color=\"C0\")\n",
    "h1.plot(ax=ax1, alpha=0.8, color=\"C3\")\n",
    "\n",
    "ax1.set_xlabel(r'$N_{electron}\\ $')\n",
    "ax1.set_ylabel(r'Events')\n",
    "\n",
    "fig.legend([\"flipped\", \"weighted\"])\n",
    "\n",
    "h1.divide(h2, binomial=True).plot(ax=ax2, errors=True, label=\"ratio\")"
   ]
  },
  {
   "cell_type": "code",
   "execution_count": 36,
   "metadata": {},
   "outputs": [
    {
     "data": {
      "text/plain": [
       "(0.9, 1.1)"
      ]
     },
     "execution_count": 36,
     "metadata": {},
     "output_type": "execute_result"
    },
    {
     "data": {
      "image/png": "[encoded data removed]",
      "text/plain": [
       "<Figure size 720x720 with 2 Axes>"
      ]
     },
     "metadata": {
      "needs_background": "light"
     },
     "output_type": "display_data"
    }
   ],
   "source": [
    "tmp1 = output['electron'].copy()\n",
    "tmp1 = tmp1.rebin('pt', pt_bins)\n",
    "tmp1 = tmp1.rebin('eta', eta_bins)\n",
    "\n",
    "\n",
    "tmp2 = output['electron2'].copy()\n",
    "tmp2 = tmp2.rebin('pt', pt_bins)\n",
    "tmp2 = tmp2.rebin('eta', eta_bins)\n",
    "\n",
    "h1 = Hist2D.from_bincounts(\n",
    "    tmp1.sum('dataset').values()[()].T,\n",
    "    (tmp1.axis('pt').edges(), tmp1.axis('eta').edges()),\n",
    ")\n",
    "\n",
    "h2 = Hist2D.from_bincounts(\n",
    "    tmp2.sum('dataset').values()[()].T,\n",
    "    (tmp2.axis('pt').edges(), tmp2.axis('eta').edges()),\n",
    ")\n",
    "\n",
    "fig, (ax1,ax2) = plt.subplots(2, sharex=True, figsize=(10,10), gridspec_kw=dict(height_ratios=[3, 1]))\n",
    "h2.projection('x').plot(ax=ax1, alpha=0.8, color=\"C0\")\n",
    "h1.projection('x').plot(ax=ax1, alpha=0.8, color=\"C3\")\n",
    "h2.projection('x').plot(ax=ax1, alpha=0.8, color=\"C0\", show_errors=True)\n",
    "h1.projection('x').plot(ax=ax1, alpha=0.8, color=\"C3\", show_errors=True)\n",
    "\n",
    "fig.legend([\"weighted\", \"flipped\"])\n",
    "\n",
    "ax1.set_xlabel(r'$p_{T}\\ (GeV) $')\n",
    "ax1.set_ylabel(r'Events')\n",
    "\n",
    "h1.projection('x').divide(h2.projection('x'), binomial=True).plot(ax=ax2, errors=True, label=\"ratio\")\n",
    "ax2.set_ylim([0.90,1.10])"
   ]
  },
  {
   "cell_type": "code",
   "execution_count": 34,
   "metadata": {},
   "outputs": [
    {
     "data": {
      "text/plain": [
       "(0.9, 1.1)"
      ]
     },
     "execution_count": 34,
     "metadata": {},
     "output_type": "execute_result"
    },
    {
     "data": {
      "image/png": "[encoded data removed]",
      "text/plain": [
       "<Figure size 720x720 with 2 Axes>"
      ]
     },
     "metadata": {
      "needs_background": "light"
     },
     "output_type": "display_data"
    }
   ],
   "source": [
    "tmp1 = output['electron'].copy()\n",
    "tmp1 = tmp1.rebin('pt', pt_bins)\n",
    "tmp1 = tmp1.rebin('eta', eta_bins)\n",
    "\n",
    "\n",
    "tmp2 = output['electron2'].copy()\n",
    "tmp2 = tmp2.rebin('pt', pt_bins)\n",
    "tmp2 = tmp2.rebin('eta', eta_bins)\n",
    "\n",
    "h1 = Hist2D.from_bincounts(\n",
    "    tmp1.sum('dataset').values()[()].T,\n",
    "    (tmp1.axis('pt').edges(), tmp1.axis('eta').edges()),\n",
    ")\n",
    "\n",
    "h2 = Hist2D.from_bincounts(\n",
    "    tmp2.sum('dataset').values()[()].T,\n",
    "    (tmp2.axis('pt').edges(), tmp2.axis('eta').edges()),\n",
    ")\n",
    "\n",
    "fig, (ax1,ax2) = plt.subplots(2, sharex=True, figsize=(10,10), gridspec_kw=dict(height_ratios=[3, 1]))\n",
    "h2.projection('y').plot(ax=ax1, alpha=0.8, color=\"C0\")\n",
    "h1.projection('y').plot(ax=ax1, alpha=0.8, color=\"C3\", )\n",
    "h2.projection('y').plot(ax=ax1, alpha=0.8, color=\"C0\", show_errors=True)\n",
    "h1.projection('y').plot(ax=ax1, alpha=0.8, color=\"C3\", show_errors=True)\n",
    "\n",
    "fig.legend([\"weighted\", \"flipped\"])\n",
    "\n",
    "ax1.set_xlabel(r'$|\\eta|$')\n",
    "ax1.set_ylabel(r'Events')\n",
    "\n",
    "h1.projection('y').divide(h2.projection('y'), binomial=True).plot(ax=ax2, errors=True, label=\"ratio\")\n",
    "ax2.set_ylim([0.9,1.1])"
   ]
  },
  {
   "cell_type": "code",
   "execution_count": 16,
   "metadata": {},
   "outputs": [
    {
     "data": {
      "text/plain": [
       "array([[ 65.4333743 ,  75.84530331,  76.15599753,  60.3821648 ,\n",
       "         84.18934452,  29.22417857],\n",
       "       [110.72671522, 128.11642787, 129.9979785 , 106.83347524,\n",
       "        135.99024493,  46.83901415],\n",
       "       [225.54003182, 257.02602393, 247.52998761, 208.76257697,\n",
       "        258.97394467,  76.43464283]])"
      ]
     },
     "execution_count": 16,
     "metadata": {},
     "output_type": "execute_result"
    }
   ],
   "source": [
    "h2.errors"
   ]
  },
  {
   "cell_type": "code",
   "execution_count": null,
   "metadata": {},
   "outputs": [],
   "source": [
    "# take the N_ele histogram out of the output, apply the x-secs from samples to the samples in fileset\n",
    "# then merge the histograms into the categories defined in nano_mapping\n",
    "\n",
    "\n",
    "my_hist = scale_and_merge(output['N_ele'], meta, fileset, nano_mappings)\n",
    "my_hist2 = scale_and_merge(output['N_ele2'], meta, fileset, nano_mappings)\n",
    "\n",
    "\n",
    "# Now make a nice plot of the electron multiplicity.\n",
    "# You can have a look at all the \"magic\" (and hard coded monstrosities) that happens in makePlot\n",
    "# in plots/helpers.py\n",
    "\n",
    "makePlot(my_hist, None, 'multiplicity',\n",
    "         bins=N_bins_red, log=True, normalize=False, axis_label=r'$N_{electron}\\ $',\n",
    "         new_colors=my_colors, new_labels=my_labels,\n",
    "         order=[nano_mappings['TTZ'][0], nano_mappings['top'][0], nano_mappings['DY'][0]],\n",
    "         omit = [],\n",
    "         overlay = my_hist2,\n",
    "         save=os.path.expandvars(cfg['meta']['plots'])+'histos/N_ele_comp'\n",
    "        )\n"
   ]
  },
  {
   "cell_type": "code",
   "execution_count": null,
   "metadata": {},
   "outputs": [],
   "source": [
    "# take the N_ele histogram out of the output, apply the x-secs from samples to the samples in fileset\n",
    "# then merge the histograms into the categories defined in nano_mapping\n",
    "\n",
    "\n",
    "my_hist = scale_and_merge(output['N_ele2'], meta, fileset, nano_mappings)\n",
    "\n",
    "# Now make a nice plot of the electron multiplicity.\n",
    "# You can have a look at all the \"magic\" (and hard coded monstrosities) that happens in makePlot\n",
    "# in plots/helpers.py\n",
    "\n",
    "makePlot(my_hist, None, 'multiplicity',\n",
    "         bins=N_bins_red, log=True, normalize=False, axis_label=r'$N_{electron}\\ (ratio)$',\n",
    "         new_colors=my_colors, new_labels=my_labels,\n",
    "         omit=[nano_mappings['TTZ'][0], nano_mappings['top'][0], nano_mappings['DY'][0]],\n",
    "         save=os.path.expandvars(cfg['meta']['plots'])+'histos/N_ele_ratio'\n",
    "        )\n"
   ]
  },
  {
   "cell_type": "code",
   "execution_count": null,
   "metadata": {},
   "outputs": [],
   "source": [
    "my_hist = scale_and_merge(output['electron_flips'], meta, fileset, nano_mappings)\n",
    "\n",
    "makePlot(my_hist, None, 'multiplicity',\n",
    "         bins=N_bins_red, log=True, normalize=False, axis_label=r'$N_{flipped\\ electron}\\ (SS)$',\n",
    "         new_colors=my_colors, new_labels=my_labels,\n",
    "         order=[nano_mappings['TTZ'][0], nano_mappings['top'][0], nano_mappings['DY'][0]],\n",
    "         save=os.path.expandvars(cfg['meta']['plots'])+'histos/N_flips_truth'\n",
    "        )"
   ]
  },
  {
   "cell_type": "code",
   "execution_count": null,
   "metadata": {},
   "outputs": [],
   "source": [
    "my_hist = scale_and_merge(output['electron_flips2'], meta, fileset, nano_mappings)\n",
    "\n",
    "makePlot(my_hist, None, 'multiplicity',\n",
    "         bins=N_bins_red, log=True, normalize=False, axis_label=r'$N_{flipped\\ electron}\\ (ratio)$',\n",
    "         new_colors=my_colors, new_labels=my_labels,\n",
    "         order=[nano_mappings['top'][0], nano_mappings['TTZ'][0], nano_mappings['DY'][0]],\n",
    "         save=os.path.expandvars(cfg['meta']['plots'])+'histos/N_flips_ratio'\n",
    "        )"
   ]
  },
  {
   "cell_type": "code",
   "execution_count": null,
   "metadata": {},
   "outputs": [],
   "source": [
    "my_hist = scale_and_merge(output['electron'], meta, fileset, nano_mappings)\n",
    "\n",
    "makePlot(my_hist, None, 'pt',\n",
    "         bins=pt_bins, log=True, normalize=False, axis_label=r'$p_{T}\\ (leading\\ electron)\\ (flipped)\\ (GeV)$',\n",
    "         new_colors=my_colors, new_labels=my_labels,\n",
    "         order=[nano_mappings['TTZ'][0], nano_mappings['top'][0], nano_mappings['DY'][0]],\n",
    "         save=os.path.expandvars(cfg['meta']['plots'])+'histos/pt_truth'\n",
    "        )"
   ]
  },
  {
   "cell_type": "code",
   "execution_count": null,
   "metadata": {},
   "outputs": [],
   "source": [
    "my_hist = scale_and_merge(output['electron2'], meta, fileset, nano_mappings)\n",
    "\n",
    "makePlot(my_hist, None, 'pt',\n",
    "         bins=pt_bins, log=True, normalize=False, axis_label=r'$p_{T}\\ (leading\\ electron)\\ (weighted)\\ (GeV)$',\n",
    "         new_colors=my_colors, new_labels=my_labels,\n",
    "         order=[nano_mappings['TTZ'][0], nano_mappings['top'][0], nano_mappings['DY'][0]],\n",
    "         save=os.path.expandvars(cfg['meta']['plots'])+'histos/pt_ratio'\n",
    "        )"
   ]
  },
  {
   "cell_type": "code",
   "execution_count": null,
   "metadata": {},
   "outputs": [],
   "source": [
    "my_hist = scale_and_merge(output['electron'], meta, fileset, nano_mappings)\n",
    "\n",
    "makePlot(my_hist, None, 'eta',\n",
    "         bins=eta_bins, log=True, normalize=False, axis_label=r'$\\eta\\ (leading\\ electron)\\ (flipped)$',\n",
    "         new_colors=my_colors, new_labels=my_labels,\n",
    "         order=[nano_mappings['TTZ'][0], nano_mappings['top'][0], nano_mappings['DY'][0]],\n",
    "         save=os.path.expandvars(cfg['meta']['plots'])+'histos/eta_truth'\n",
    "        )"
   ]
  },
  {
   "cell_type": "code",
   "execution_count": null,
   "metadata": {},
   "outputs": [],
   "source": [
    "my_hist = scale_and_merge(output['electron2'], meta, fileset, nano_mappings)\n",
    "\n",
    "makePlot(my_hist, None, 'eta',\n",
    "         bins=eta_bins, log=True, normalize=False, axis_label=r'$\\eta\\ (leading\\ electron)\\ (weighted)$',\n",
    "         new_colors=my_colors, new_labels=my_labels,\n",
    "         order=[nano_mappings['TTZ'][0], nano_mappings['top'][0], nano_mappings['DY'][0]],\n",
    "         save=os.path.expandvars(cfg['meta']['plots'])+'histos/eta_ratio'\n",
    "        )"
   ]
  },
  {
   "cell_type": "code",
   "execution_count": null,
   "metadata": {},
   "outputs": [],
   "source": [
    "from yahist import Hist1D, Hist2D\n",
    "import numpy as np"
   ]
  },
  {
   "cell_type": "code",
   "execution_count": null,
   "metadata": {},
   "outputs": [],
   "source": [
    "tmp1 = output['electron'].copy()\n",
    "tmp1 = tmp1.rebin('eta', eta_bins)\n",
    "tmp1 = tmp1.rebin('pt', pt_bins)\n",
    "\n",
    "\n",
    "tmp2 = output['electron2'].copy()\n",
    "tmp2 = tmp2.rebin('eta', eta_bins)\n",
    "tmp2 = tmp2.rebin('pt', pt_bins)\n",
    "\n",
    "h1 = Hist2D.from_bincounts(\n",
    "    tmp1.sum('dataset').values()[()].T,\n",
    "    (tmp1.axis('pt').edges(), tmp1.axis('eta').edges()),\n",
    ")\n",
    "\n",
    "\n",
    "h2 = Hist2D.from_bincounts(\n",
    "    tmp2.sum('dataset').values()[()].T,\n",
    "    (tmp2.axis('pt').edges(), tmp2.axis('eta').edges()),\n",
    ")"
   ]
  },
  {
   "cell_type": "code",
   "execution_count": null,
   "metadata": {},
   "outputs": [],
   "source": [
    "fig, ax  = plt.subplots(1, 1,figsize=(10,10) )\n",
    "h1.plot(show_counts=True, equidistant='xy')\n",
    "ax.set_xlabel(r'$p_{T}\\ (GeV)$')\n",
    "ax.set_ylabel(r'$\\eta$')"
   ]
  },
  {
   "cell_type": "code",
   "execution_count": null,
   "metadata": {},
   "outputs": [],
   "source": [
    "fig, ax  = plt.subplots(1, 1,figsize=(10,10) )\n",
    "h2.plot(show_counts=True, equidistant='xy')\n",
    "ax.set_xlabel(r'$p_{T}\\ (GeV)$')\n",
    "ax.set_ylabel(r'$\\eta$')"
   ]
  },
  {
   "cell_type": "code",
   "execution_count": null,
   "metadata": {},
   "outputs": [],
   "source": []
  }
 ],
 "metadata": {
  "kernelspec": {
   "display_name": "daskanalysisenv",
   "language": "python",
   "name": "daskanalysisenv"
  },
  "language_info": {
   "codemirror_mode": {
    "name": "ipython",
    "version": 3
   },
   "file_extension": ".py",
   "mimetype": "text/x-python",
   "name": "python",
   "nbconvert_exporter": "python",
   "pygments_lexer": "ipython3",
   "version": "3.8.8"
  }
 },
 "nbformat": 4,
 "nbformat_minor": 4
}
